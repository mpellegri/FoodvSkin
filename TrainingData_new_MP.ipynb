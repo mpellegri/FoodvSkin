{
 "metadata": {
  "name": "",
  "signature": "sha256:0e02895ecdf832767ec0c64ae50c56346aa5eed806890d43f5619213ea955d09"
 },
 "nbformat": 3,
 "nbformat_minor": 0,
 "worksheets": [
  {
   "cells": [
    {
     "cell_type": "heading",
     "level": 1,
     "metadata": {},
     "source": [
      "Purpose: To build the training data set"
     ]
    },
    {
     "cell_type": "raw",
     "metadata": {},
     "source": [
      "HOW TO RUN IT\n",
      "=============\n",
      "\n",
      "Creating the Training Data Set\n",
      "=========\n",
      "find: SortManually(f,ax,train.A16.urlList[0:10])\n",
      "\n",
      "SortManually() launches the interactive session. \n",
      "give it your url list:   train.<yourRestaurantName>.urlList\n",
      "in addition to figure, axes objects\n",
      "the images will be plotted and you enter keyboard letters\n",
      "\n",
      "Type: \n",
      "       p: people (skin pixels) but NO food \n",
      "       f: food with OR without people (skin pixels) \n",
      "       r: reject image from sample\n",
      "       u: undo (replots previous image, replaces old p,f,r with new p,f,r you enter)\n",
      "       q: quit\n",
      "       other key stroke: nothing will happen\n",
      "\n",
      "Careful:\n",
      "        1. try not to type too fast, wait a second after each image loads at fastest. \n",
      "        2. typing unrecognized keys does nothing, but the python plotting window has a few \"hot keys\" (e.g., k) and typing one of those may do something unexpected\n",
      "\n",
      "Adding your own restaurants\n",
      "=============\n",
      "find: class TrainData()\n",
      "delete foursquareIDs and restaurant names, and replace with just the 5 you will use\n",
      "\n",
      "Number of images to look at\n",
      "find: Nurls=150 \n",
      "set this number to how many you want to look at, 100 per category per restaurant of good images\n",
      "\n",
      "Location ID\n",
      "=======\n",
      "automatic, no longer hard coded!\n",
      "\n",
      "Check no duplicates\n",
      "==========\n",
      "once you have list of Nurls, type: set(train.A16.urlList)\n",
      "using <yourRestaurantName> instead of <A16>\n",
      "the length of that set is the number of unique urls\n",
      "\n",
      "Saving the Data Set urls\n",
      "==========\n",
      "see: Save Data   \n",
      "for writing urls to files or saving entire numpy object in one go"
     ]
    },
    {
     "cell_type": "heading",
     "level": 4,
     "metadata": {},
     "source": [
      "Sudeep said ~ 1000 images per image type (with poeple, without people) and ~ 20 restaurants, so ~ 100 images per restaurant. 4 on team so 5 DIFFERENT restaurants or 500 different images each "
     ]
    },
    {
     "cell_type": "code",
     "collapsed": false,
     "input": [
      "%matplotlib\n",
      "import matplotlib.pyplot as plt\n",
      "from matplotlib import cm\n",
      "import matplotlib.patches\n",
      "from matplotlib.path import Path\n",
      "import numpy as np\n",
      "import sys\n",
      "import numpy.ma as ma\n",
      "\n",
      "from instagram.client import InstagramAPI\n",
      "import time\n",
      "import matplotlib.pyplot as plt\n",
      "import numpy as np\n",
      "import urllib2, cStringIO\n",
      "from PIL import Image"
     ],
     "language": "python",
     "metadata": {},
     "outputs": [
      {
       "output_type": "stream",
       "stream": "stdout",
       "text": [
        "Using matplotlib backend: WXAgg\n"
       ]
      }
     ],
     "prompt_number": 1
    },
    {
     "cell_type": "heading",
     "level": 1,
     "metadata": {},
     "source": [
      "Class Objects to hold restaurant info: foursquare IDs, url List, sorted url Lists, etc"
     ]
    },
    {
     "cell_type": "heading",
     "level": 4,
     "metadata": {},
     "source": [
      "Sudeep said ~ 1000 images per image type (with poeple, without people) and ~ 20 restaurants, so ~ 100 images per restaurant"
     ]
    },
    {
     "cell_type": "code",
     "collapsed": false,
     "input": [
      "foursquareIDs = {}\n",
      "foursquareIDs['The_Stinking_Rose'] = '3fd66200f964a520a9ed1ee3'\n",
      "foursquareIDs['Foreign_Cinema'] = '3fd66200f964a520a0ec1ee3'\n",
      "foursquareIDs['Kuletos'] = '43d9e87ff964a520732e1fe3'\n",
      "foursquareIDs['Redd'] = '4a98aee3f964a520112d20e3'\n",
      "\n",
      "class Restaurant():\n",
      "    def __init__(self,foursquareID):\n",
      "        self.foursquareID= foursquareID\n",
      "        self.urlList=[]\n",
      "        self.People=[]\n",
      "        self.NoPeople=[]\n",
      "        self.Blurry=[]\n",
      "\n",
      "class TrainData():\n",
      "    def __init__(self,foursquareIDs):\n",
      "        self.The_Stinking_Rose= Restaurant( foursquareIDs['The_Stinking_Rose'] )\n",
      "        self.Foreign_Cinema= Restaurant( foursquareIDs['Foreign_Cinema'] )\n",
      "        self.Kuletos= Restaurant( foursquareIDs['Kuletos'] )\n",
      "        self.Redd= Restaurant( foursquareIDs['Redd'] )\n",
      "\n",
      "train= TrainData(foursquareIDs)\n"
     ],
     "language": "python",
     "metadata": {},
     "outputs": [],
     "prompt_number": 2
    },
    {
     "cell_type": "code",
     "collapsed": false,
     "input": [
      "train.AdHoc.foursquareID"
     ],
     "language": "python",
     "metadata": {},
     "outputs": [
      {
       "metadata": {},
       "output_type": "pyout",
       "prompt_number": 10,
       "text": [
        "'4a0474bcf964a520fd711fe3'"
       ]
      }
     ],
     "prompt_number": 10
    },
    {
     "cell_type": "heading",
     "level": 1,
     "metadata": {},
     "source": [
      "Instagram API to get ~ 100 image url's per restaurant"
     ]
    },
    {
     "cell_type": "heading",
     "level": 4,
     "metadata": {},
     "source": [
      "done for A16 below"
     ]
    },
    {
     "cell_type": "code",
     "collapsed": false,
     "input": [
      "time.sleep(1.5)\n",
      "api= InstagramAPI(client_id=\"c36fd41581cb4040a6be9a1e43f96e76\",\\\n",
      "                  client_secret=\"7091310e62f346038651ecacc55ef943\")"
     ],
     "language": "python",
     "metadata": {},
     "outputs": [],
     "prompt_number": 3
    },
    {
     "cell_type": "code",
     "collapsed": false,
     "input": [
      "Nurls=300\n",
      "\n",
      "def maxId(apiNext):\n",
      "    beg=apiNext.find(\"max_id=\")+len(\"max_id=\")\n",
      "    end=apiNext.find(\"&\",beg)\n",
      "    return int(apiNext[beg:end])\n",
      "\n",
      "def GetUrlList(foursquareID):\n",
      "    List=[]\n",
      "    LocId= api.location_search(foursquare_v2_id=foursquareID)[0].id\n",
      "    mm, nextStr = api.location_recent_media(location_id= LocId) #tag=\"Food\"  if want include that tag\n",
      "    while len(List) <= Nurls:\n",
      "        for m in mm:\n",
      "            List.append( m.images['standard_resolution'].url )\n",
      "        mid= maxId(nextStr)\n",
      "        mm, nextStr = api.location_recent_media(location_id= LocId, max_id= mid)\n",
      "    while len(List) > Nurls: List.pop(-1) #remove the last few urls that pushed over 100\n",
      "    return List\n",
      "\n",
      "train.The_Stinking_Rose.urlList= GetUrlList(train.The_Stinking_Rose.foursquareID)\n",
      "train.Foreign_Cinema.urlList= GetUrlList(train.Foreign_Cinema.foursquareID)\n",
      "train.Kuletos.urlList= GetUrlList(train.Kuletos.foursquareID)\n",
      "train.Redd.urlList= GetUrlList(train.Redd.foursquareID)"
     ],
     "language": "python",
     "metadata": {},
     "outputs": [],
     "prompt_number": 9
    },
    {
     "cell_type": "code",
     "collapsed": false,
     "input": [],
     "language": "python",
     "metadata": {},
     "outputs": [],
     "prompt_number": 7
    },
    {
     "cell_type": "code",
     "collapsed": false,
     "input": [
      "fin=open(\"AdHoc.dump\",\"r\")\n",
      "restored = pickle.load(fin)\n",
      "fin.close()"
     ],
     "language": "python",
     "metadata": {},
     "outputs": [],
     "prompt_number": 58
    },
    {
     "cell_type": "code",
     "collapsed": false,
     "input": [
      "urlList= restored.Food+restored.People\n",
      "# test=set(eTavern.urlList)\n",
      "# len(test), train.WayfareTavern.urlList[0:10]"
     ],
     "language": "python",
     "metadata": {},
     "outputs": [],
     "prompt_number": 62
    },
    {
     "cell_type": "heading",
     "level": 1,
     "metadata": {},
     "source": [
      "Sort urls interactively into a list of People, No People, and Blurry (ie bad image, want to remove from sample)"
     ]
    },
    {
     "cell_type": "code",
     "collapsed": false,
     "input": [
      "def url2image(url):\n",
      "    '''read url into image, return image as numpy array'''\n",
      "    read= urllib2.urlopen(url).read()\n",
      "    obj = Image.open( cStringIO.StringIO(read) )\n",
      "    return np.array(obj)\n",
      "\n",
      "class SortManually():\n",
      "    '''\n",
      "    To Run: \n",
      "            f,ax=plt.subplots()\n",
      "            obj=Train(f,ax,urlList)\n",
      "    Type: \n",
      "            f - food WITHOUT any skin\n",
      "            p - skin with at least one face 'more than just skin without face'\n",
      "            m - skin but less than one face, only hands,arms,limbs etc\n",
      "            r - reject image from sample\n",
      "            u - undo, go back to previous image re-enter keyboard command\n",
      "            q - quit\n",
      "    '''\n",
      "    \n",
      "    def __init__(self,fig,ax,urlList):\n",
      "        self.fig=fig\n",
      "        self.ax=ax\n",
      "        self.urlList=urlList\n",
      "        self.index=0\n",
      "        self.Food=[]\n",
      "        self.Faces=[]\n",
      "        self.SkinNoFaces=[]\n",
      "        self.Reject=[] \n",
      "        self.AllKeys=[]  #gets every key entered\n",
      "        self.connect()\n",
      "    def connect(self):\n",
      "        self.KeyPressId = self.fig.canvas.mpl_connect('key_press_event', self.OnKeyPress)\n",
      "#         self.KeyReleaseId = self.fig.canvas.mpl_connect('key_release_event', self.OnKeyRelease)\n",
      "        self.img= url2image(self.url() )\n",
      "        self.ax.imshow( self.img)\n",
      "    def OnKeyPress(self,event):\n",
      "        '''sort image url into list corresponding to key pressed'''\n",
      "        self.AllKeys.append( event.key)\n",
      "        print \"Entered: %s\" % self.AllKeys[-1]\n",
      "        if event.key!=\"f\" and event.key!=\"p\" and event.key!=\"m\" and event.key!=\"r\": \n",
      "            #special case\n",
      "            if event.key== \"q\":\n",
      "                print \"typed 'q', quitting\"\n",
      "                plt.close()\n",
      "            elif event.key==\"u\":\n",
      "                #undo: go back to previous image and get rid of previous url append\n",
      "                wrongKey= self.AllKeys[-2]\n",
      "                if wrongKey== \"f\":\n",
      "                    self.Food.pop(-1)\n",
      "                elif wrongKey == \"p\":\n",
      "                    self.Faces.pop(-1)\n",
      "                elif wrongKey == \"m\":\n",
      "                    self.SkinNoFaces.pop(-1)\n",
      "                elif event.key == \"r\":\n",
      "                    self.Reject.pop(-1)\n",
      "                self.index-=1 #go back\n",
      "                self.plotImg()\n",
      "            else:\n",
      "                pass  #unknown key, do nothing\n",
      "            self.AllKeys.pop(-1) #in ALL cases, get rid of bad key\n",
      "        else:\n",
      "            #good key, append url and plot next image\n",
      "            if event.key == \"f\":\n",
      "                self.Food.append( self.url())\n",
      "            elif event.key == \"p\":\n",
      "                self.Faces.append( self.url())\n",
      "            elif event.key == \"m\":\n",
      "                self.SkinNoFaces.append( self.url())\n",
      "            elif event.key == \"r\":\n",
      "                self.Reject.append( self.url())\n",
      "            self.printInfo()\n",
      "            self.index+=1 #go forward\n",
      "            self.plotImg()\n",
      "    def url(self):\n",
      "        return self.urlList[self.index]\n",
      "    def plotImg(self):\n",
      "        self.img= url2image( self.url())\n",
      "        self.ax.imshow( self.img )\n",
      "        self.ax.figure.canvas.draw()\n",
      "    def printInfo(self):\n",
      "        print \"length lists Food, Faces, SkinNoFaces, Rejected = %d, %d, %d %d\" % \\\n",
      "                (len(self.Food),len(self.Faces),len(self.SkinNoFaces),len(self.Reject))\n",
      "        \n"
     ],
     "language": "python",
     "metadata": {},
     "outputs": [],
     "prompt_number": 6
    },
    {
     "cell_type": "heading",
     "level": 1,
     "metadata": {},
     "source": [
      "Instructions:"
     ]
    },
    {
     "cell_type": "raw",
     "metadata": {},
     "source": [
      "Type: \n",
      "    f - food WITHOUT any skin\n",
      "    p - skin with at least one face 'more than just skin without face'\n",
      "    m - skin but less than one face, only hands,arms,limbs etc\n",
      "    r - reject image from sample\n",
      "    u - undo, go back to previous image re-enter keyboard command\n",
      "    q - quit"
     ]
    },
    {
     "cell_type": "code",
     "collapsed": false,
     "input": [
      "f,ax=plt.subplots()\n",
      "a=SortManually(f,ax,urlList)\n"
     ],
     "language": "python",
     "metadata": {},
     "outputs": [
      {
       "ename": "NameError",
       "evalue": "name 'urlList' is not defined",
       "output_type": "pyerr",
       "traceback": [
        "\u001b[0;31m---------------------------------------------------------------------------\u001b[0m\n\u001b[0;31mNameError\u001b[0m                                 Traceback (most recent call last)",
        "\u001b[0;32m<ipython-input-8-a22cf505fafa>\u001b[0m in \u001b[0;36m<module>\u001b[0;34m()\u001b[0m\n\u001b[1;32m      1\u001b[0m \u001b[0mf\u001b[0m\u001b[0;34m,\u001b[0m\u001b[0max\u001b[0m\u001b[0;34m=\u001b[0m\u001b[0mplt\u001b[0m\u001b[0;34m.\u001b[0m\u001b[0msubplots\u001b[0m\u001b[0;34m(\u001b[0m\u001b[0;34m)\u001b[0m\u001b[0;34m\u001b[0m\u001b[0m\n\u001b[0;32m----> 2\u001b[0;31m \u001b[0ma\u001b[0m\u001b[0;34m=\u001b[0m\u001b[0mSortManually\u001b[0m\u001b[0;34m(\u001b[0m\u001b[0mf\u001b[0m\u001b[0;34m,\u001b[0m\u001b[0max\u001b[0m\u001b[0;34m,\u001b[0m\u001b[0murlList\u001b[0m\u001b[0;34m)\u001b[0m\u001b[0;34m\u001b[0m\u001b[0m\n\u001b[0m",
        "\u001b[0;31mNameError\u001b[0m: name 'urlList' is not defined"
       ]
      }
     ],
     "prompt_number": 8
    },
    {
     "cell_type": "code",
     "collapsed": false,
     "input": [
      "f,ax=plt.subplots()\n",
      "b=SortManually(f,ax,train.The_Stinking_Rose.urlList)\n"
     ],
     "language": "python",
     "metadata": {},
     "outputs": [],
     "prompt_number": 10
    },
    {
     "cell_type": "code",
     "collapsed": false,
     "input": [
      "f,ax=plt.subplots()\n",
      "c=SortManually(f,ax,train.KokkariEstiatorio.urlList[100:150])\n"
     ],
     "language": "python",
     "metadata": {},
     "outputs": [
      {
       "output_type": "stream",
       "stream": "stdout",
       "text": [
        "\n"
       ]
      },
      {
       "output_type": "stream",
       "stream": "stdout",
       "text": [
        "Entered: f\n",
        "length lists Food, Faces, SkinNoFaces, Rejected = 1, 0, 0 0\n",
        "Entered: f"
       ]
      },
      {
       "output_type": "stream",
       "stream": "stdout",
       "text": [
        "\n",
        "length lists Food, Faces, SkinNoFaces, Rejected = 2, 0, 0 0\n",
        "Entered: u"
       ]
      },
      {
       "output_type": "stream",
       "stream": "stdout",
       "text": [
        "\n",
        "Entered: r"
       ]
      },
      {
       "output_type": "stream",
       "stream": "stdout",
       "text": [
        "\n",
        "length lists Food, Faces, SkinNoFaces, Rejected = 1, 0, 0 1\n",
        "Entered: m"
       ]
      },
      {
       "output_type": "stream",
       "stream": "stdout",
       "text": [
        "\n",
        "length lists Food, Faces, SkinNoFaces, Rejected = 1, 0, 1 1\n",
        "Entered: r"
       ]
      },
      {
       "output_type": "stream",
       "stream": "stdout",
       "text": [
        "\n",
        "length lists Food, Faces, SkinNoFaces, Rejected = 1, 0, 1 2\n",
        "Entered: r"
       ]
      },
      {
       "output_type": "stream",
       "stream": "stdout",
       "text": [
        "\n",
        "length lists Food, Faces, SkinNoFaces, Rejected = 1, 0, 1 3\n",
        "Entered: r"
       ]
      },
      {
       "output_type": "stream",
       "stream": "stdout",
       "text": [
        "\n",
        "length lists Food, Faces, SkinNoFaces, Rejected = 1, 0, 1 4\n",
        "Entered: m"
       ]
      },
      {
       "output_type": "stream",
       "stream": "stdout",
       "text": [
        "\n",
        "length lists Food, Faces, SkinNoFaces, Rejected = 1, 0, 2 4\n",
        "Entered: r"
       ]
      },
      {
       "output_type": "stream",
       "stream": "stdout",
       "text": [
        "\n",
        "length lists Food, Faces, SkinNoFaces, Rejected = 1, 0, 2 5\n",
        "Entered: r"
       ]
      },
      {
       "output_type": "stream",
       "stream": "stdout",
       "text": [
        "\n",
        "length lists Food, Faces, SkinNoFaces, Rejected = 1, 0, 2 6\n",
        "Entered: r"
       ]
      },
      {
       "output_type": "stream",
       "stream": "stdout",
       "text": [
        "\n",
        "length lists Food, Faces, SkinNoFaces, Rejected = 1, 0, 2 7\n",
        "Entered: r"
       ]
      },
      {
       "output_type": "stream",
       "stream": "stdout",
       "text": [
        "\n",
        "length lists Food, Faces, SkinNoFaces, Rejected = 1, 0, 2 8\n",
        "Entered: r"
       ]
      },
      {
       "output_type": "stream",
       "stream": "stdout",
       "text": [
        "\n",
        "length lists Food, Faces, SkinNoFaces, Rejected = 1, 0, 2 9\n",
        "Entered: p"
       ]
      },
      {
       "output_type": "stream",
       "stream": "stdout",
       "text": [
        "\n",
        "length lists Food, Faces, SkinNoFaces, Rejected = 1, 1, 2 9\n",
        "Entered: p"
       ]
      },
      {
       "output_type": "stream",
       "stream": "stdout",
       "text": [
        "\n",
        "length lists Food, Faces, SkinNoFaces, Rejected = 1, 2, 2 9\n",
        "Entered: p"
       ]
      },
      {
       "output_type": "stream",
       "stream": "stdout",
       "text": [
        "\n",
        "length lists Food, Faces, SkinNoFaces, Rejected = 1, 3, 2 9\n",
        "Entered: p"
       ]
      },
      {
       "output_type": "stream",
       "stream": "stdout",
       "text": [
        "\n",
        "length lists Food, Faces, SkinNoFaces, Rejected = 1, 4, 2 9\n",
        "Entered: r"
       ]
      },
      {
       "output_type": "stream",
       "stream": "stdout",
       "text": [
        "\n",
        "length lists Food, Faces, SkinNoFaces, Rejected = 1, 4, 2 10\n",
        "Entered: p"
       ]
      },
      {
       "output_type": "stream",
       "stream": "stdout",
       "text": [
        "\n",
        "length lists Food, Faces, SkinNoFaces, Rejected = 1, 5, 2 10\n",
        "Entered: r"
       ]
      },
      {
       "output_type": "stream",
       "stream": "stdout",
       "text": [
        "\n",
        "length lists Food, Faces, SkinNoFaces, Rejected = 1, 5, 2 11\n",
        "Entered: r"
       ]
      },
      {
       "output_type": "stream",
       "stream": "stdout",
       "text": [
        "\n",
        "length lists Food, Faces, SkinNoFaces, Rejected = 1, 5, 2 12\n",
        "Entered: r"
       ]
      },
      {
       "output_type": "stream",
       "stream": "stdout",
       "text": [
        "\n",
        "length lists Food, Faces, SkinNoFaces, Rejected = 1, 5, 2 13\n",
        "Entered: r"
       ]
      },
      {
       "output_type": "stream",
       "stream": "stdout",
       "text": [
        "\n",
        "length lists Food, Faces, SkinNoFaces, Rejected = 1, 5, 2 14\n",
        "Entered: r"
       ]
      },
      {
       "output_type": "stream",
       "stream": "stdout",
       "text": [
        "\n",
        "length lists Food, Faces, SkinNoFaces, Rejected = 1, 5, 2 15\n",
        "Entered: r"
       ]
      },
      {
       "output_type": "stream",
       "stream": "stdout",
       "text": [
        "\n",
        "length lists Food, Faces, SkinNoFaces, Rejected = 1, 5, 2 16\n",
        "Entered: r"
       ]
      },
      {
       "output_type": "stream",
       "stream": "stdout",
       "text": [
        "\n",
        "length lists Food, Faces, SkinNoFaces, Rejected = 1, 5, 2 17\n",
        "Entered: p"
       ]
      },
      {
       "output_type": "stream",
       "stream": "stdout",
       "text": [
        "\n",
        "length lists Food, Faces, SkinNoFaces, Rejected = 1, 6, 2 17\n",
        "Entered: p"
       ]
      },
      {
       "output_type": "stream",
       "stream": "stdout",
       "text": [
        "\n",
        "length lists Food, Faces, SkinNoFaces, Rejected = 1, 7, 2 17\n",
        "Entered: r"
       ]
      },
      {
       "output_type": "stream",
       "stream": "stdout",
       "text": [
        "\n",
        "length lists Food, Faces, SkinNoFaces, Rejected = 1, 7, 2 18\n",
        "Entered: r"
       ]
      },
      {
       "output_type": "stream",
       "stream": "stdout",
       "text": [
        "\n",
        "length lists Food, Faces, SkinNoFaces, Rejected = 1, 7, 2 19\n",
        "Entered: p"
       ]
      },
      {
       "output_type": "stream",
       "stream": "stdout",
       "text": [
        "\n",
        "length lists Food, Faces, SkinNoFaces, Rejected = 1, 8, 2 19\n",
        "Entered: r"
       ]
      },
      {
       "output_type": "stream",
       "stream": "stdout",
       "text": [
        "\n",
        "length lists Food, Faces, SkinNoFaces, Rejected = 1, 8, 2 20\n",
        "Entered: r"
       ]
      },
      {
       "output_type": "stream",
       "stream": "stdout",
       "text": [
        "\n",
        "length lists Food, Faces, SkinNoFaces, Rejected = 1, 8, 2 21\n",
        "Entered: p"
       ]
      },
      {
       "output_type": "stream",
       "stream": "stdout",
       "text": [
        "\n",
        "length lists Food, Faces, SkinNoFaces, Rejected = 1, 9, 2 21\n",
        "Entered: u"
       ]
      },
      {
       "output_type": "stream",
       "stream": "stdout",
       "text": [
        "\n",
        "Entered: r"
       ]
      },
      {
       "output_type": "stream",
       "stream": "stdout",
       "text": [
        "\n",
        "length lists Food, Faces, SkinNoFaces, Rejected = 1, 8, 2 22\n",
        "Entered: m"
       ]
      },
      {
       "output_type": "stream",
       "stream": "stdout",
       "text": [
        "\n",
        "length lists Food, Faces, SkinNoFaces, Rejected = 1, 8, 3 22\n",
        "Entered: r"
       ]
      },
      {
       "output_type": "stream",
       "stream": "stdout",
       "text": [
        "\n",
        "length lists Food, Faces, SkinNoFaces, Rejected = 1, 8, 3 23\n",
        "Entered: r"
       ]
      },
      {
       "output_type": "stream",
       "stream": "stdout",
       "text": [
        "\n",
        "length lists Food, Faces, SkinNoFaces, Rejected = 1, 8, 3 24\n",
        "Entered: o"
       ]
      },
      {
       "output_type": "stream",
       "stream": "stdout",
       "text": [
        "\n",
        "Entered: p"
       ]
      },
      {
       "output_type": "stream",
       "stream": "stdout",
       "text": [
        "\n",
        "length lists Food, Faces, SkinNoFaces, Rejected = 1, 9, 3 24\n",
        "Entered: r"
       ]
      },
      {
       "output_type": "stream",
       "stream": "stdout",
       "text": [
        "\n",
        "length lists Food, Faces, SkinNoFaces, Rejected = 1, 9, 3 25\n",
        "Entered: r"
       ]
      },
      {
       "output_type": "stream",
       "stream": "stdout",
       "text": [
        "\n",
        "length lists Food, Faces, SkinNoFaces, Rejected = 1, 9, 3 26\n",
        "Entered: r"
       ]
      },
      {
       "output_type": "stream",
       "stream": "stdout",
       "text": [
        "\n",
        "length lists Food, Faces, SkinNoFaces, Rejected = 1, 9, 3 27\n",
        "Entered: r"
       ]
      },
      {
       "output_type": "stream",
       "stream": "stdout",
       "text": [
        "\n",
        "length lists Food, Faces, SkinNoFaces, Rejected = 1, 9, 3 28\n",
        "Entered: r"
       ]
      },
      {
       "output_type": "stream",
       "stream": "stdout",
       "text": [
        "\n",
        "length lists Food, Faces, SkinNoFaces, Rejected = 1, 9, 3 29\n",
        "Entered: p"
       ]
      },
      {
       "output_type": "stream",
       "stream": "stdout",
       "text": [
        "\n",
        "length lists Food, Faces, SkinNoFaces, Rejected = 1, 10, 3 29\n",
        "Entered: p"
       ]
      },
      {
       "output_type": "stream",
       "stream": "stdout",
       "text": [
        "\n",
        "length lists Food, Faces, SkinNoFaces, Rejected = 1, 11, 3 29\n",
        "Entered: r"
       ]
      },
      {
       "output_type": "stream",
       "stream": "stdout",
       "text": [
        "\n",
        "length lists Food, Faces, SkinNoFaces, Rejected = 1, 11, 3 30\n",
        "Entered: p"
       ]
      },
      {
       "output_type": "stream",
       "stream": "stdout",
       "text": [
        "\n",
        "length lists Food, Faces, SkinNoFaces, Rejected = 1, 12, 3 30\n",
        "Entered: f"
       ]
      },
      {
       "output_type": "stream",
       "stream": "stdout",
       "text": [
        "\n",
        "length lists Food, Faces, SkinNoFaces, Rejected = 2, 12, 3 30\n",
        "Entered: u"
       ]
      },
      {
       "output_type": "stream",
       "stream": "stdout",
       "text": [
        "\n",
        "Entered: r"
       ]
      },
      {
       "output_type": "stream",
       "stream": "stdout",
       "text": [
        "\n",
        "length lists Food, Faces, SkinNoFaces, Rejected = 1, 12, 3 31\n",
        "Entered: r"
       ]
      },
      {
       "output_type": "stream",
       "stream": "stdout",
       "text": [
        "\n",
        "length lists Food, Faces, SkinNoFaces, Rejected = 1, 12, 3 32\n",
        "Entered: r"
       ]
      },
      {
       "output_type": "stream",
       "stream": "stdout",
       "text": [
        "\n",
        "length lists Food, Faces, SkinNoFaces, Rejected = 1, 12, 3 33\n",
        "Entered: p"
       ]
      },
      {
       "output_type": "stream",
       "stream": "stdout",
       "text": [
        "\n",
        "length lists Food, Faces, SkinNoFaces, Rejected = 1, 13, 3 33\n",
        "Entered: u"
       ]
      }
     ],
     "prompt_number": 47
    },
    {
     "cell_type": "code",
     "collapsed": false,
     "input": [
      "c.Faces.pop(-1)"
     ],
     "language": "python",
     "metadata": {},
     "outputs": [
      {
       "output_type": "stream",
       "stream": "stdout",
       "text": [
        "\n"
       ]
      },
      {
       "metadata": {},
       "output_type": "pyout",
       "prompt_number": 48,
       "text": [
        "'http://scontent-b.cdninstagram.com/hphotos-xfa1/t51.2885-15/1739465_767553869941178_866847390_n.jpg'"
       ]
      }
     ],
     "prompt_number": 48
    },
    {
     "cell_type": "code",
     "collapsed": false,
     "input": [
      "f,ax=plt.subplots()\n",
      "d=SortManually(f,ax,train.KokkariEstiatorio.urlList[150:200])"
     ],
     "language": "python",
     "metadata": {},
     "outputs": [
      {
       "output_type": "stream",
       "stream": "stdout",
       "text": [
        "Entered: r\n",
        "length lists Food, Faces, SkinNoFaces, Rejected = 0, 0, 0 1\n",
        "Entered: p"
       ]
      },
      {
       "output_type": "stream",
       "stream": "stdout",
       "text": [
        "\n",
        "length lists Food, Faces, SkinNoFaces, Rejected = 0, 1, 0 1\n",
        "Entered: f"
       ]
      },
      {
       "output_type": "stream",
       "stream": "stdout",
       "text": [
        "\n",
        "length lists Food, Faces, SkinNoFaces, Rejected = 1, 1, 0 1\n",
        "Entered: r"
       ]
      },
      {
       "output_type": "stream",
       "stream": "stdout",
       "text": [
        "\n",
        "length lists Food, Faces, SkinNoFaces, Rejected = 1, 1, 0 2\n",
        "Entered: f"
       ]
      },
      {
       "output_type": "stream",
       "stream": "stdout",
       "text": [
        "\n",
        "length lists Food, Faces, SkinNoFaces, Rejected = 2, 1, 0 2\n",
        "Entered: r"
       ]
      },
      {
       "output_type": "stream",
       "stream": "stdout",
       "text": [
        "\n",
        "length lists Food, Faces, SkinNoFaces, Rejected = 2, 1, 0 3\n",
        "Entered: r"
       ]
      },
      {
       "output_type": "stream",
       "stream": "stdout",
       "text": [
        "\n",
        "length lists Food, Faces, SkinNoFaces, Rejected = 2, 1, 0 4\n",
        "Entered: r"
       ]
      },
      {
       "output_type": "stream",
       "stream": "stdout",
       "text": [
        "\n",
        "length lists Food, Faces, SkinNoFaces, Rejected = 2, 1, 0 5\n",
        "Entered: r"
       ]
      },
      {
       "output_type": "stream",
       "stream": "stdout",
       "text": [
        "\n",
        "length lists Food, Faces, SkinNoFaces, Rejected = 2, 1, 0 6\n",
        "Entered: r"
       ]
      },
      {
       "output_type": "stream",
       "stream": "stdout",
       "text": [
        "\n",
        "length lists Food, Faces, SkinNoFaces, Rejected = 2, 1, 0 7\n",
        "Entered: r"
       ]
      },
      {
       "output_type": "stream",
       "stream": "stdout",
       "text": [
        "\n",
        "length lists Food, Faces, SkinNoFaces, Rejected = 2, 1, 0 8\n",
        "Entered: p"
       ]
      },
      {
       "output_type": "stream",
       "stream": "stdout",
       "text": [
        "\n",
        "length lists Food, Faces, SkinNoFaces, Rejected = 2, 2, 0 8\n",
        "Entered: p"
       ]
      },
      {
       "output_type": "stream",
       "stream": "stdout",
       "text": [
        "\n",
        "length lists Food, Faces, SkinNoFaces, Rejected = 2, 3, 0 8\n",
        "Entered: r"
       ]
      },
      {
       "output_type": "stream",
       "stream": "stdout",
       "text": [
        "\n",
        "length lists Food, Faces, SkinNoFaces, Rejected = 2, 3, 0 9\n",
        "Entered: r"
       ]
      },
      {
       "output_type": "stream",
       "stream": "stdout",
       "text": [
        "\n",
        "length lists Food, Faces, SkinNoFaces, Rejected = 2, 3, 0 10\n",
        "Entered: r"
       ]
      },
      {
       "output_type": "stream",
       "stream": "stdout",
       "text": [
        "\n",
        "length lists Food, Faces, SkinNoFaces, Rejected = 2, 3, 0 11\n",
        "Entered: r"
       ]
      },
      {
       "output_type": "stream",
       "stream": "stdout",
       "text": [
        "\n",
        "length lists Food, Faces, SkinNoFaces, Rejected = 2, 3, 0 12\n",
        "Entered: f"
       ]
      },
      {
       "output_type": "stream",
       "stream": "stdout",
       "text": [
        "\n",
        "length lists Food, Faces, SkinNoFaces, Rejected = 3, 3, 0 12\n",
        "Entered: m"
       ]
      },
      {
       "output_type": "stream",
       "stream": "stdout",
       "text": [
        "\n",
        "length lists Food, Faces, SkinNoFaces, Rejected = 3, 3, 1 12\n",
        "Entered: r"
       ]
      },
      {
       "output_type": "stream",
       "stream": "stdout",
       "text": [
        "\n",
        "length lists Food, Faces, SkinNoFaces, Rejected = 3, 3, 1 13\n",
        "Entered: r"
       ]
      },
      {
       "output_type": "stream",
       "stream": "stdout",
       "text": [
        "\n",
        "length lists Food, Faces, SkinNoFaces, Rejected = 3, 3, 1 14\n",
        "Entered: r"
       ]
      },
      {
       "output_type": "stream",
       "stream": "stdout",
       "text": [
        "\n",
        "length lists Food, Faces, SkinNoFaces, Rejected = 3, 3, 1 15\n",
        "Entered: r"
       ]
      },
      {
       "output_type": "stream",
       "stream": "stdout",
       "text": [
        "\n",
        "length lists Food, Faces, SkinNoFaces, Rejected = 3, 3, 1 16\n",
        "Entered: p"
       ]
      },
      {
       "output_type": "stream",
       "stream": "stdout",
       "text": [
        "\n",
        "length lists Food, Faces, SkinNoFaces, Rejected = 3, 4, 1 16\n",
        "Entered: f"
       ]
      },
      {
       "output_type": "stream",
       "stream": "stdout",
       "text": [
        "\n",
        "length lists Food, Faces, SkinNoFaces, Rejected = 4, 4, 1 16\n",
        "Entered: u"
       ]
      },
      {
       "output_type": "stream",
       "stream": "stdout",
       "text": [
        "\n",
        "Entered: r"
       ]
      },
      {
       "output_type": "stream",
       "stream": "stdout",
       "text": [
        "\n",
        "length lists Food, Faces, SkinNoFaces, Rejected = 3, 4, 1 17\n",
        "Entered: f"
       ]
      },
      {
       "output_type": "stream",
       "stream": "stdout",
       "text": [
        "\n",
        "length lists Food, Faces, SkinNoFaces, Rejected = 4, 4, 1 17\n",
        "Entered: u"
       ]
      },
      {
       "output_type": "stream",
       "stream": "stdout",
       "text": [
        "\n",
        "Entered: r"
       ]
      },
      {
       "output_type": "stream",
       "stream": "stdout",
       "text": [
        "\n",
        "length lists Food, Faces, SkinNoFaces, Rejected = 3, 4, 1 18\n",
        "Entered: f"
       ]
      },
      {
       "output_type": "stream",
       "stream": "stdout",
       "text": [
        "\n",
        "length lists Food, Faces, SkinNoFaces, Rejected = 4, 4, 1 18\n",
        "Entered: r"
       ]
      },
      {
       "output_type": "stream",
       "stream": "stdout",
       "text": [
        "\n",
        "length lists Food, Faces, SkinNoFaces, Rejected = 4, 4, 1 19\n",
        "Entered: r"
       ]
      },
      {
       "output_type": "stream",
       "stream": "stdout",
       "text": [
        "\n",
        "length lists Food, Faces, SkinNoFaces, Rejected = 4, 4, 1 20\n",
        "Entered: r"
       ]
      },
      {
       "output_type": "stream",
       "stream": "stdout",
       "text": [
        "\n",
        "length lists Food, Faces, SkinNoFaces, Rejected = 4, 4, 1 21\n",
        "Entered: p"
       ]
      },
      {
       "output_type": "stream",
       "stream": "stdout",
       "text": [
        "\n",
        "length lists Food, Faces, SkinNoFaces, Rejected = 4, 5, 1 21\n",
        "Entered: m"
       ]
      },
      {
       "output_type": "stream",
       "stream": "stdout",
       "text": [
        "\n",
        "length lists Food, Faces, SkinNoFaces, Rejected = 4, 5, 2 21\n",
        "Entered: r"
       ]
      },
      {
       "output_type": "stream",
       "stream": "stdout",
       "text": [
        "\n",
        "length lists Food, Faces, SkinNoFaces, Rejected = 4, 5, 2 22\n",
        "Entered: r"
       ]
      },
      {
       "output_type": "stream",
       "stream": "stdout",
       "text": [
        "\n",
        "length lists Food, Faces, SkinNoFaces, Rejected = 4, 5, 2 23\n",
        "Entered: r"
       ]
      },
      {
       "output_type": "stream",
       "stream": "stdout",
       "text": [
        "\n",
        "length lists Food, Faces, SkinNoFaces, Rejected = 4, 5, 2 24\n",
        "Entered: r"
       ]
      },
      {
       "output_type": "stream",
       "stream": "stdout",
       "text": [
        "\n",
        "length lists Food, Faces, SkinNoFaces, Rejected = 4, 5, 2 25\n",
        "Entered: p"
       ]
      },
      {
       "output_type": "stream",
       "stream": "stdout",
       "text": [
        "\n",
        "length lists Food, Faces, SkinNoFaces, Rejected = 4, 6, 2 25\n",
        "Entered: p"
       ]
      },
      {
       "output_type": "stream",
       "stream": "stdout",
       "text": [
        "\n",
        "length lists Food, Faces, SkinNoFaces, Rejected = 4, 7, 2 25\n",
        "Entered: r"
       ]
      },
      {
       "output_type": "stream",
       "stream": "stdout",
       "text": [
        "\n",
        "length lists Food, Faces, SkinNoFaces, Rejected = 4, 7, 2 26\n",
        "Entered: r"
       ]
      },
      {
       "output_type": "stream",
       "stream": "stdout",
       "text": [
        "\n",
        "length lists Food, Faces, SkinNoFaces, Rejected = 4, 7, 2 27\n",
        "Entered: r"
       ]
      },
      {
       "output_type": "stream",
       "stream": "stdout",
       "text": [
        "\n",
        "length lists Food, Faces, SkinNoFaces, Rejected = 4, 7, 2 28\n",
        "Entered: m"
       ]
      },
      {
       "output_type": "stream",
       "stream": "stdout",
       "text": [
        "\n",
        "length lists Food, Faces, SkinNoFaces, Rejected = 4, 7, 3 28\n",
        "Entered: f"
       ]
      },
      {
       "output_type": "stream",
       "stream": "stdout",
       "text": [
        "\n",
        "length lists Food, Faces, SkinNoFaces, Rejected = 5, 7, 3 28\n",
        "Entered: r"
       ]
      },
      {
       "output_type": "stream",
       "stream": "stdout",
       "text": [
        "\n",
        "length lists Food, Faces, SkinNoFaces, Rejected = 5, 7, 3 29\n",
        "Entered: r"
       ]
      },
      {
       "output_type": "stream",
       "stream": "stdout",
       "text": [
        "\n",
        "length lists Food, Faces, SkinNoFaces, Rejected = 5, 7, 3 30\n",
        "Entered: r"
       ]
      },
      {
       "output_type": "stream",
       "stream": "stdout",
       "text": [
        "\n",
        "length lists Food, Faces, SkinNoFaces, Rejected = 5, 7, 3 31\n",
        "Entered: r"
       ]
      },
      {
       "output_type": "stream",
       "stream": "stdout",
       "text": [
        "\n",
        "length lists Food, Faces, SkinNoFaces, Rejected = 5, 7, 3 32\n",
        "Entered: r"
       ]
      },
      {
       "output_type": "stream",
       "stream": "stdout",
       "text": [
        "\n",
        "length lists Food, Faces, SkinNoFaces, Rejected = 5, 7, 3 33\n",
        "Entered: r"
       ]
      },
      {
       "output_type": "stream",
       "stream": "stdout",
       "text": [
        "\n",
        "length lists Food, Faces, SkinNoFaces, Rejected = 5, 7, 3 34\n",
        "Entered: r"
       ]
      },
      {
       "output_type": "stream",
       "stream": "stdout",
       "text": [
        "\n",
        "length lists Food, Faces, SkinNoFaces, Rejected = 5, 7, 3 35\n",
        "Entered: r"
       ]
      },
      {
       "output_type": "stream",
       "stream": "stdout",
       "text": [
        "\n",
        "Entered: r"
       ]
      }
     ],
     "prompt_number": 49
    },
    {
     "cell_type": "code",
     "collapsed": false,
     "input": [
      "f,ax=plt.subplots()\n",
      "e=SortManually(f,ax,train.KokkariEstiatorio.urlList[200:250])"
     ],
     "language": "python",
     "metadata": {},
     "outputs": [
      {
       "output_type": "stream",
       "stream": "stdout",
       "text": [
        "\n"
       ]
      },
      {
       "output_type": "stream",
       "stream": "stdout",
       "text": [
        "Entered: r\n",
        "length lists Food, Faces, SkinNoFaces, Rejected = 0, 0, 0 1\n",
        "Entered: m"
       ]
      },
      {
       "output_type": "stream",
       "stream": "stdout",
       "text": [
        "\n",
        "length lists Food, Faces, SkinNoFaces, Rejected = 0, 0, 1 1\n",
        "Entered: f"
       ]
      },
      {
       "output_type": "stream",
       "stream": "stdout",
       "text": [
        "\n",
        "length lists Food, Faces, SkinNoFaces, Rejected = 1, 0, 1 1\n",
        "Entered: r"
       ]
      },
      {
       "output_type": "stream",
       "stream": "stdout",
       "text": [
        "\n",
        "length lists Food, Faces, SkinNoFaces, Rejected = 1, 0, 1 2\n",
        "Entered: r"
       ]
      },
      {
       "output_type": "stream",
       "stream": "stdout",
       "text": [
        "\n",
        "length lists Food, Faces, SkinNoFaces, Rejected = 1, 0, 1 3\n",
        "Entered: r"
       ]
      },
      {
       "output_type": "stream",
       "stream": "stdout",
       "text": [
        "\n",
        "length lists Food, Faces, SkinNoFaces, Rejected = 1, 0, 1 4\n",
        "Entered: r"
       ]
      },
      {
       "output_type": "stream",
       "stream": "stdout",
       "text": [
        "\n",
        "length lists Food, Faces, SkinNoFaces, Rejected = 1, 0, 1 5\n",
        "Entered: m"
       ]
      },
      {
       "output_type": "stream",
       "stream": "stdout",
       "text": [
        "\n",
        "length lists Food, Faces, SkinNoFaces, Rejected = 1, 0, 2 5\n",
        "Entered: r"
       ]
      },
      {
       "output_type": "stream",
       "stream": "stdout",
       "text": [
        "\n",
        "length lists Food, Faces, SkinNoFaces, Rejected = 1, 0, 2 6\n",
        "Entered: p"
       ]
      },
      {
       "output_type": "stream",
       "stream": "stdout",
       "text": [
        "\n",
        "length lists Food, Faces, SkinNoFaces, Rejected = 1, 1, 2 6\n",
        "Entered: r"
       ]
      },
      {
       "output_type": "stream",
       "stream": "stdout",
       "text": [
        "\n",
        "length lists Food, Faces, SkinNoFaces, Rejected = 1, 1, 2 7\n",
        "Entered: r"
       ]
      },
      {
       "output_type": "stream",
       "stream": "stdout",
       "text": [
        "\n",
        "length lists Food, Faces, SkinNoFaces, Rejected = 1, 1, 2 8\n",
        "Entered: m"
       ]
      },
      {
       "output_type": "stream",
       "stream": "stdout",
       "text": [
        "\n",
        "length lists Food, Faces, SkinNoFaces, Rejected = 1, 1, 3 8\n",
        "Entered: u"
       ]
      },
      {
       "output_type": "stream",
       "stream": "stdout",
       "text": [
        "\n",
        "Entered: r"
       ]
      },
      {
       "output_type": "stream",
       "stream": "stdout",
       "text": [
        "\n",
        "length lists Food, Faces, SkinNoFaces, Rejected = 1, 1, 2 9\n",
        "Entered: r"
       ]
      },
      {
       "output_type": "stream",
       "stream": "stdout",
       "text": [
        "\n",
        "length lists Food, Faces, SkinNoFaces, Rejected = 1, 1, 2 10\n",
        "Entered: r"
       ]
      },
      {
       "output_type": "stream",
       "stream": "stdout",
       "text": [
        "\n",
        "length lists Food, Faces, SkinNoFaces, Rejected = 1, 1, 2 11\n",
        "Entered: r"
       ]
      },
      {
       "output_type": "stream",
       "stream": "stdout",
       "text": [
        "\n",
        "length lists Food, Faces, SkinNoFaces, Rejected = 1, 1, 2 12\n",
        "Entered: p"
       ]
      },
      {
       "output_type": "stream",
       "stream": "stdout",
       "text": [
        "\n",
        "length lists Food, Faces, SkinNoFaces, Rejected = 1, 2, 2 12\n",
        "Entered: r"
       ]
      },
      {
       "output_type": "stream",
       "stream": "stdout",
       "text": [
        "\n",
        "length lists Food, Faces, SkinNoFaces, Rejected = 1, 2, 2 13\n",
        "Entered: r"
       ]
      },
      {
       "output_type": "stream",
       "stream": "stdout",
       "text": [
        "\n",
        "length lists Food, Faces, SkinNoFaces, Rejected = 1, 2, 2 14\n",
        "Entered: r"
       ]
      },
      {
       "output_type": "stream",
       "stream": "stdout",
       "text": [
        "\n",
        "length lists Food, Faces, SkinNoFaces, Rejected = 1, 2, 2 15\n",
        "Entered: p"
       ]
      },
      {
       "output_type": "stream",
       "stream": "stdout",
       "text": [
        "\n",
        "length lists Food, Faces, SkinNoFaces, Rejected = 1, 3, 2 15\n",
        "Entered: r"
       ]
      },
      {
       "output_type": "stream",
       "stream": "stdout",
       "text": [
        "\n",
        "length lists Food, Faces, SkinNoFaces, Rejected = 1, 3, 2 16\n",
        "Entered: r"
       ]
      },
      {
       "output_type": "stream",
       "stream": "stdout",
       "text": [
        "\n",
        "length lists Food, Faces, SkinNoFaces, Rejected = 1, 3, 2 17\n",
        "Entered: p"
       ]
      },
      {
       "output_type": "stream",
       "stream": "stdout",
       "text": [
        "\n",
        "length lists Food, Faces, SkinNoFaces, Rejected = 1, 4, 2 17\n",
        "Entered: r"
       ]
      },
      {
       "output_type": "stream",
       "stream": "stdout",
       "text": [
        "\n",
        "length lists Food, Faces, SkinNoFaces, Rejected = 1, 4, 2 18\n",
        "Entered: m"
       ]
      },
      {
       "output_type": "stream",
       "stream": "stdout",
       "text": [
        "\n",
        "length lists Food, Faces, SkinNoFaces, Rejected = 1, 4, 3 18\n",
        "Entered: p"
       ]
      },
      {
       "output_type": "stream",
       "stream": "stdout",
       "text": [
        "\n",
        "length lists Food, Faces, SkinNoFaces, Rejected = 1, 5, 3 18\n",
        "Entered: r"
       ]
      },
      {
       "output_type": "stream",
       "stream": "stdout",
       "text": [
        "\n",
        "length lists Food, Faces, SkinNoFaces, Rejected = 1, 5, 3 19\n",
        "Entered: r"
       ]
      },
      {
       "output_type": "stream",
       "stream": "stdout",
       "text": [
        "\n",
        "length lists Food, Faces, SkinNoFaces, Rejected = 1, 5, 3 20\n",
        "Entered: r"
       ]
      },
      {
       "output_type": "stream",
       "stream": "stdout",
       "text": [
        "\n",
        "length lists Food, Faces, SkinNoFaces, Rejected = 1, 5, 3 21\n",
        "Entered: p"
       ]
      },
      {
       "output_type": "stream",
       "stream": "stdout",
       "text": [
        "\n",
        "length lists Food, Faces, SkinNoFaces, Rejected = 1, 6, 3 21\n",
        "Entered: r"
       ]
      },
      {
       "output_type": "stream",
       "stream": "stdout",
       "text": [
        "\n",
        "length lists Food, Faces, SkinNoFaces, Rejected = 1, 6, 3 22\n",
        "Entered: m"
       ]
      },
      {
       "output_type": "stream",
       "stream": "stdout",
       "text": [
        "\n",
        "length lists Food, Faces, SkinNoFaces, Rejected = 1, 6, 4 22\n",
        "Entered: r"
       ]
      },
      {
       "output_type": "stream",
       "stream": "stdout",
       "text": [
        "\n",
        "length lists Food, Faces, SkinNoFaces, Rejected = 1, 6, 4 23\n",
        "Entered: r"
       ]
      },
      {
       "output_type": "stream",
       "stream": "stdout",
       "text": [
        "\n",
        "length lists Food, Faces, SkinNoFaces, Rejected = 1, 6, 4 24\n",
        "Entered: p"
       ]
      },
      {
       "output_type": "stream",
       "stream": "stdout",
       "text": [
        "\n",
        "length lists Food, Faces, SkinNoFaces, Rejected = 1, 7, 4 24\n",
        "Entered: p"
       ]
      },
      {
       "output_type": "stream",
       "stream": "stdout",
       "text": [
        "\n",
        "length lists Food, Faces, SkinNoFaces, Rejected = 1, 8, 4 24\n",
        "Entered: m"
       ]
      },
      {
       "output_type": "stream",
       "stream": "stdout",
       "text": [
        "\n",
        "length lists Food, Faces, SkinNoFaces, Rejected = 1, 8, 5 24\n",
        "Entered: p"
       ]
      },
      {
       "output_type": "stream",
       "stream": "stdout",
       "text": [
        "\n",
        "length lists Food, Faces, SkinNoFaces, Rejected = 1, 9, 5 24\n",
        "Entered: r"
       ]
      },
      {
       "output_type": "stream",
       "stream": "stdout",
       "text": [
        "\n",
        "length lists Food, Faces, SkinNoFaces, Rejected = 1, 9, 5 25\n",
        "Entered: r"
       ]
      },
      {
       "output_type": "stream",
       "stream": "stdout",
       "text": [
        "\n",
        "length lists Food, Faces, SkinNoFaces, Rejected = 1, 9, 5 26\n",
        "Entered: r"
       ]
      },
      {
       "output_type": "stream",
       "stream": "stdout",
       "text": [
        "\n",
        "length lists Food, Faces, SkinNoFaces, Rejected = 1, 9, 5 27\n",
        "Entered: r"
       ]
      },
      {
       "output_type": "stream",
       "stream": "stdout",
       "text": [
        "\n",
        "length lists Food, Faces, SkinNoFaces, Rejected = 1, 9, 5 28\n",
        "Entered: r"
       ]
      },
      {
       "output_type": "stream",
       "stream": "stdout",
       "text": [
        "\n",
        "length lists Food, Faces, SkinNoFaces, Rejected = 1, 9, 5 29\n",
        "Entered: r"
       ]
      },
      {
       "output_type": "stream",
       "stream": "stdout",
       "text": [
        "\n",
        "length lists Food, Faces, SkinNoFaces, Rejected = 1, 9, 5 30\n",
        "Entered: r"
       ]
      },
      {
       "output_type": "stream",
       "stream": "stdout",
       "text": [
        "\n",
        "length lists Food, Faces, SkinNoFaces, Rejected = 1, 9, 5 31\n",
        "Entered: r"
       ]
      },
      {
       "output_type": "stream",
       "stream": "stdout",
       "text": [
        "\n",
        "length lists Food, Faces, SkinNoFaces, Rejected = 1, 9, 5 32\n",
        "Entered: p"
       ]
      },
      {
       "output_type": "stream",
       "stream": "stdout",
       "text": [
        "\n",
        "length lists Food, Faces, SkinNoFaces, Rejected = 1, 10, 5 32\n",
        "Entered: r"
       ]
      },
      {
       "output_type": "stream",
       "stream": "stdout",
       "text": [
        "\n",
        "length lists Food, Faces, SkinNoFaces, Rejected = 1, 10, 5 33\n",
        "Entered: r"
       ]
      },
      {
       "output_type": "stream",
       "stream": "stdout",
       "text": [
        "\n",
        "length lists Food, Faces, SkinNoFaces, Rejected = 1, 10, 5 34\n",
        "Entered: r"
       ]
      }
     ],
     "prompt_number": 50
    },
    {
     "cell_type": "code",
     "collapsed": false,
     "input": [
      "f,ax=plt.subplots()\n",
      "k=SortManually(f,ax,train.KokkariEstiatorio.urlList[250:300])"
     ],
     "language": "python",
     "metadata": {},
     "outputs": [
      {
       "output_type": "stream",
       "stream": "stdout",
       "text": [
        "\n"
       ]
      },
      {
       "output_type": "stream",
       "stream": "stdout",
       "text": [
        "Entered: r\n",
        "length lists Food, Faces, SkinNoFaces, Rejected = 0, 0, 0 1\n",
        "Entered: p"
       ]
      },
      {
       "output_type": "stream",
       "stream": "stdout",
       "text": [
        "\n",
        "length lists Food, Faces, SkinNoFaces, Rejected = 0, 1, 0 1\n",
        "Entered: r"
       ]
      },
      {
       "output_type": "stream",
       "stream": "stdout",
       "text": [
        "\n",
        "length lists Food, Faces, SkinNoFaces, Rejected = 0, 1, 0 2\n",
        "Entered: r"
       ]
      },
      {
       "output_type": "stream",
       "stream": "stdout",
       "text": [
        "\n",
        "length lists Food, Faces, SkinNoFaces, Rejected = 0, 1, 0 3\n",
        "Entered: r"
       ]
      },
      {
       "output_type": "stream",
       "stream": "stdout",
       "text": [
        "\n",
        "length lists Food, Faces, SkinNoFaces, Rejected = 0, 1, 0 4\n",
        "Entered: r"
       ]
      },
      {
       "output_type": "stream",
       "stream": "stdout",
       "text": [
        "\n",
        "length lists Food, Faces, SkinNoFaces, Rejected = 0, 1, 0 5\n",
        "Entered: r"
       ]
      },
      {
       "output_type": "stream",
       "stream": "stdout",
       "text": [
        "\n",
        "length lists Food, Faces, SkinNoFaces, Rejected = 0, 1, 0 6\n",
        "Entered: r"
       ]
      },
      {
       "output_type": "stream",
       "stream": "stdout",
       "text": [
        "\n",
        "length lists Food, Faces, SkinNoFaces, Rejected = 0, 1, 0 7\n",
        "Entered: p"
       ]
      },
      {
       "output_type": "stream",
       "stream": "stdout",
       "text": [
        "\n",
        "length lists Food, Faces, SkinNoFaces, Rejected = 0, 2, 0 7\n",
        "Entered: p"
       ]
      },
      {
       "output_type": "stream",
       "stream": "stdout",
       "text": [
        "\n",
        "length lists Food, Faces, SkinNoFaces, Rejected = 0, 3, 0 7\n",
        "Entered: m"
       ]
      },
      {
       "output_type": "stream",
       "stream": "stdout",
       "text": [
        "\n",
        "length lists Food, Faces, SkinNoFaces, Rejected = 0, 3, 1 7\n",
        "Entered: f"
       ]
      },
      {
       "output_type": "stream",
       "stream": "stdout",
       "text": [
        "\n",
        "length lists Food, Faces, SkinNoFaces, Rejected = 1, 3, 1 7\n",
        "Entered: r"
       ]
      },
      {
       "output_type": "stream",
       "stream": "stdout",
       "text": [
        "\n",
        "length lists Food, Faces, SkinNoFaces, Rejected = 1, 3, 1 8\n",
        "Entered: r"
       ]
      },
      {
       "output_type": "stream",
       "stream": "stdout",
       "text": [
        "\n",
        "length lists Food, Faces, SkinNoFaces, Rejected = 1, 3, 1 9\n",
        "Entered: f"
       ]
      },
      {
       "output_type": "stream",
       "stream": "stdout",
       "text": [
        "\n",
        "length lists Food, Faces, SkinNoFaces, Rejected = 2, 3, 1 9\n",
        "Entered: u"
       ]
      },
      {
       "output_type": "stream",
       "stream": "stdout",
       "text": [
        "\n",
        "Entered: r"
       ]
      },
      {
       "output_type": "stream",
       "stream": "stdout",
       "text": [
        "\n",
        "length lists Food, Faces, SkinNoFaces, Rejected = 1, 3, 1 10\n",
        "Entered: r"
       ]
      },
      {
       "output_type": "stream",
       "stream": "stdout",
       "text": [
        "\n",
        "length lists Food, Faces, SkinNoFaces, Rejected = 1, 3, 1 11\n",
        "Entered: r"
       ]
      },
      {
       "output_type": "stream",
       "stream": "stdout",
       "text": [
        "\n",
        "length lists Food, Faces, SkinNoFaces, Rejected = 1, 3, 1 12\n",
        "Entered: r"
       ]
      },
      {
       "output_type": "stream",
       "stream": "stdout",
       "text": [
        "\n",
        "length lists Food, Faces, SkinNoFaces, Rejected = 1, 3, 1 13\n",
        "Entered: r"
       ]
      },
      {
       "output_type": "stream",
       "stream": "stdout",
       "text": [
        "\n",
        "length lists Food, Faces, SkinNoFaces, Rejected = 1, 3, 1 14\n",
        "Entered: r"
       ]
      },
      {
       "output_type": "stream",
       "stream": "stdout",
       "text": [
        "\n",
        "length lists Food, Faces, SkinNoFaces, Rejected = 1, 3, 1 15\n",
        "Entered: r"
       ]
      },
      {
       "output_type": "stream",
       "stream": "stdout",
       "text": [
        "\n",
        "length lists Food, Faces, SkinNoFaces, Rejected = 1, 3, 1 16\n",
        "Entered: r"
       ]
      },
      {
       "output_type": "stream",
       "stream": "stdout",
       "text": [
        "\n",
        "length lists Food, Faces, SkinNoFaces, Rejected = 1, 3, 1 17\n",
        "Entered: r"
       ]
      },
      {
       "output_type": "stream",
       "stream": "stdout",
       "text": [
        "\n",
        "length lists Food, Faces, SkinNoFaces, Rejected = 1, 3, 1 18\n",
        "Entered: r"
       ]
      },
      {
       "output_type": "stream",
       "stream": "stdout",
       "text": [
        "\n",
        "length lists Food, Faces, SkinNoFaces, Rejected = 1, 3, 1 19\n",
        "Entered: r"
       ]
      },
      {
       "output_type": "stream",
       "stream": "stdout",
       "text": [
        "\n",
        "length lists Food, Faces, SkinNoFaces, Rejected = 1, 3, 1 20\n",
        "Entered: r"
       ]
      },
      {
       "output_type": "stream",
       "stream": "stdout",
       "text": [
        "\n",
        "length lists Food, Faces, SkinNoFaces, Rejected = 1, 3, 1 21\n",
        "Entered: r"
       ]
      },
      {
       "output_type": "stream",
       "stream": "stdout",
       "text": [
        "\n",
        "length lists Food, Faces, SkinNoFaces, Rejected = 1, 3, 1 22\n",
        "Entered: p"
       ]
      },
      {
       "output_type": "stream",
       "stream": "stdout",
       "text": [
        "\n",
        "length lists Food, Faces, SkinNoFaces, Rejected = 1, 4, 1 22\n",
        "Entered: m"
       ]
      },
      {
       "output_type": "stream",
       "stream": "stdout",
       "text": [
        "\n",
        "length lists Food, Faces, SkinNoFaces, Rejected = 1, 4, 2 22\n",
        "Entered: r"
       ]
      },
      {
       "output_type": "stream",
       "stream": "stdout",
       "text": [
        "\n",
        "length lists Food, Faces, SkinNoFaces, Rejected = 1, 4, 2 23\n",
        "Entered: r"
       ]
      },
      {
       "output_type": "stream",
       "stream": "stdout",
       "text": [
        "\n",
        "length lists Food, Faces, SkinNoFaces, Rejected = 1, 4, 2 24\n",
        "Entered: r"
       ]
      },
      {
       "output_type": "stream",
       "stream": "stdout",
       "text": [
        "\n",
        "length lists Food, Faces, SkinNoFaces, Rejected = 1, 4, 2 25\n",
        "Entered: r"
       ]
      },
      {
       "output_type": "stream",
       "stream": "stdout",
       "text": [
        "\n",
        "length lists Food, Faces, SkinNoFaces, Rejected = 1, 4, 2 26\n",
        "Entered: r"
       ]
      },
      {
       "output_type": "stream",
       "stream": "stdout",
       "text": [
        "\n",
        "length lists Food, Faces, SkinNoFaces, Rejected = 1, 4, 2 27\n",
        "Entered: r"
       ]
      },
      {
       "output_type": "stream",
       "stream": "stdout",
       "text": [
        "\n",
        "length lists Food, Faces, SkinNoFaces, Rejected = 1, 4, 2 28\n",
        "Entered: p"
       ]
      },
      {
       "output_type": "stream",
       "stream": "stdout",
       "text": [
        "\n",
        "length lists Food, Faces, SkinNoFaces, Rejected = 1, 5, 2 28\n",
        "Entered: f"
       ]
      },
      {
       "output_type": "stream",
       "stream": "stdout",
       "text": [
        "\n",
        "length lists Food, Faces, SkinNoFaces, Rejected = 2, 5, 2 28\n",
        "Entered: r"
       ]
      },
      {
       "output_type": "stream",
       "stream": "stdout",
       "text": [
        "\n",
        "length lists Food, Faces, SkinNoFaces, Rejected = 2, 5, 2 29\n",
        "Entered: r"
       ]
      },
      {
       "output_type": "stream",
       "stream": "stdout",
       "text": [
        "\n",
        "length lists Food, Faces, SkinNoFaces, Rejected = 2, 5, 2 30\n",
        "Entered: f"
       ]
      },
      {
       "output_type": "stream",
       "stream": "stdout",
       "text": [
        "\n",
        "length lists Food, Faces, SkinNoFaces, Rejected = 3, 5, 2 30\n",
        "Entered: r"
       ]
      },
      {
       "output_type": "stream",
       "stream": "stdout",
       "text": [
        "\n",
        "length lists Food, Faces, SkinNoFaces, Rejected = 3, 5, 2 31\n",
        "Entered: r"
       ]
      },
      {
       "output_type": "stream",
       "stream": "stdout",
       "text": [
        "\n",
        "length lists Food, Faces, SkinNoFaces, Rejected = 3, 5, 2 32\n",
        "Entered: f"
       ]
      },
      {
       "output_type": "stream",
       "stream": "stdout",
       "text": [
        "\n",
        "length lists Food, Faces, SkinNoFaces, Rejected = 4, 5, 2 32\n",
        "Entered: r"
       ]
      },
      {
       "output_type": "stream",
       "stream": "stdout",
       "text": [
        "\n",
        "length lists Food, Faces, SkinNoFaces, Rejected = 4, 5, 2 33\n",
        "Entered: r"
       ]
      },
      {
       "output_type": "stream",
       "stream": "stdout",
       "text": [
        "\n",
        "length lists Food, Faces, SkinNoFaces, Rejected = 4, 5, 2 34\n",
        "Entered: p"
       ]
      },
      {
       "output_type": "stream",
       "stream": "stdout",
       "text": [
        "\n",
        "length lists Food, Faces, SkinNoFaces, Rejected = 4, 6, 2 34\n",
        "Entered: r"
       ]
      },
      {
       "output_type": "stream",
       "stream": "stdout",
       "text": [
        "\n",
        "length lists Food, Faces, SkinNoFaces, Rejected = 4, 6, 2 35\n",
        "Entered: r"
       ]
      },
      {
       "output_type": "stream",
       "stream": "stdout",
       "text": [
        "\n",
        "length lists Food, Faces, SkinNoFaces, Rejected = 4, 6, 2 36\n",
        "Entered: r"
       ]
      },
      {
       "output_type": "stream",
       "stream": "stdout",
       "text": [
        "\n",
        "length lists Food, Faces, SkinNoFaces, Rejected = 4, 6, 2 37\n",
        "Entered: r"
       ]
      },
      {
       "output_type": "stream",
       "stream": "stdout",
       "text": [
        "\n",
        "length lists Food, Faces, SkinNoFaces, Rejected = 4, 6, 2 38\n",
        "Entered: r"
       ]
      }
     ],
     "prompt_number": 51
    },
    {
     "cell_type": "code",
     "collapsed": false,
     "input": [
      "train.KokkariEstiatorio.Faces=a.Faces+b.Faces+c.Faces+d.Faces+e.Faces+k.Faces\n",
      "train.KokkariEstiatorio.Food=a.Food+b.Food+c.Food+d.Food+e.Food+k.Food\n",
      "train.KokkariEstiatorio.SkinNoFaces=a.SkinNoFaces+b.SkinNoFaces+c.SkinNoFaces+d.SkinNoFaces+\\\n",
      "            e.SkinNoFaces+k.SkinNoFaces\n",
      "train.KokkariEstiatorio.Reject=a.Reject+b.Reject+c.Reject+d.Reject+e.Reject+k.Reject"
     ],
     "language": "python",
     "metadata": {},
     "outputs": [
      {
       "output_type": "stream",
       "stream": "stdout",
       "text": [
        "\n"
       ]
      }
     ],
     "prompt_number": 52
    },
    {
     "cell_type": "code",
     "collapsed": false,
     "input": [
      "len(a.Faces),len(a.Food),len(a.len(a.Reject), len(a.AllKeys)\n"
     ],
     "language": "python",
     "metadata": {},
     "outputs": []
    },
    {
     "cell_type": "code",
     "collapsed": false,
     "input": [
      "train.SanTung.People=a.People\n",
      "train.SanTung.Food=a.Food\n",
      "train.SanTung.Reject=a.Reject"
     ],
     "language": "python",
     "metadata": {},
     "outputs": []
    },
    {
     "cell_type": "code",
     "collapsed": false,
     "input": [
      "len(train.KokkariEstiatorio.Faces),len(train.KokkariEstiatorio.SkinNoFaces),len(train.KokkariEstiatorio.Food),len(train.KokkariEstiatorio.Reject)"
     ],
     "language": "python",
     "metadata": {},
     "outputs": [
      {
       "metadata": {},
       "output_type": "pyout",
       "prompt_number": 53,
       "text": [
        "(43, 17, 23, 215)"
       ]
      }
     ],
     "prompt_number": 53
    },
    {
     "cell_type": "heading",
     "level": 1,
     "metadata": {},
     "source": [
      "Check if list is correct"
     ]
    },
    {
     "cell_type": "code",
     "collapsed": false,
     "input": [
      "for url in a.People:\n",
      "    img = url2image(url)\n",
      "    fig, ax = plt.subplots(figsize=(10,7))\n",
      "    ax.imshow(img)\n",
      "    plt.show()"
     ],
     "language": "python",
     "metadata": {},
     "outputs": []
    },
    {
     "cell_type": "heading",
     "level": 1,
     "metadata": {},
     "source": [
      "Save data"
     ]
    },
    {
     "cell_type": "heading",
     "level": 4,
     "metadata": {},
     "source": [
      "1. Save to file"
     ]
    },
    {
     "cell_type": "code",
     "collapsed": false,
     "input": [
      "fout=open(\"RestaurantName.People.txt\",\"w\")\n"
     ],
     "language": "python",
     "metadata": {},
     "outputs": []
    },
    {
     "cell_type": "code",
     "collapsed": false,
     "input": [
      "\n",
      "fout.write(\"#urls of people images\\n\")\n",
      "for url in a.People:\n",
      "    text=\"%s\\n\" % url\n",
      "    fout.write(text)"
     ],
     "language": "python",
     "metadata": {},
     "outputs": []
    },
    {
     "cell_type": "code",
     "collapsed": false,
     "input": [
      "fout.close()"
     ],
     "language": "python",
     "metadata": {},
     "outputs": []
    },
    {
     "cell_type": "heading",
     "level": 4,
     "metadata": {},
     "source": [
      "2. Save numpy object to file for restore later"
     ]
    },
    {
     "cell_type": "code",
     "collapsed": false,
     "input": [
      "train.ZuniCafe.People= a.People\n",
      "train.A16.NoPeople= a.NoPeople\n",
      "train.A16.Blurry= a.Blurry"
     ],
     "language": "python",
     "metadata": {},
     "outputs": []
    },
    {
     "cell_type": "code",
     "collapsed": false,
     "input": [
      "train.AdHoc.Faces= a.Faces\n",
      "train.AdHoc.Food= a.Food\n",
      "train.AdHoc.SkinNoFaces =a.SkinNoFaces\n",
      "train.AdHoc.Reject = a.Reject"
     ],
     "language": "python",
     "metadata": {},
     "outputs": [],
     "prompt_number": 66
    },
    {
     "cell_type": "code",
     "collapsed": false,
     "input": [
      "import pickle\n",
      "fout = open(\"NewTraining_ZuniCafe.dump\", 'w') \n",
      "pickle.dump(train.AdHoc, fout)\n",
      "fout.close()"
     ],
     "language": "python",
     "metadata": {},
     "outputs": [],
     "prompt_number": 67
    },
    {
     "cell_type": "code",
     "collapsed": false,
     "input": [],
     "language": "python",
     "metadata": {},
     "outputs": []
    },
    {
     "cell_type": "code",
     "collapsed": false,
     "input": [
      "fin=open(\"NewTraining_ZuniCafe.dump\",\"r\")\n",
      "a=pickle.load(fin)\n",
      "fin.close()"
     ],
     "language": "python",
     "metadata": {},
     "outputs": [],
     "prompt_number": 72
    },
    {
     "cell_type": "code",
     "collapsed": false,
     "input": [
      "fin=open(\"NewTraining_KokkariEstiatorio.dump\",\"r\")\n",
      "b = pickle.load(fin)\n",
      "fin.close()"
     ],
     "language": "python",
     "metadata": {},
     "outputs": [],
     "prompt_number": 73
    },
    {
     "cell_type": "code",
     "collapsed": false,
     "input": [
      "fin=open(\"NewTraining_AdHoc.dump\",\"r\")\n",
      "c = pickle.load(fin)\n",
      "fin.close()"
     ],
     "language": "python",
     "metadata": {},
     "outputs": [],
     "prompt_number": 74
    },
    {
     "cell_type": "code",
     "collapsed": false,
     "input": [
      "Faces= a.Faces+b.Faces+c.Faces\n",
      "SkinNoFaces= a.SkinNoFaces+b.SkinNoFaces+c.SkinNoFaces\n",
      "Food= a.Food+b.Food+c.Food"
     ],
     "language": "python",
     "metadata": {},
     "outputs": [],
     "prompt_number": 76
    },
    {
     "cell_type": "code",
     "collapsed": false,
     "input": [
      "fout=open(\"NewTraining_SkinNoFaces_K.txt\",\"w\")\n",
      "for url in SkinNoFaces:\n",
      "    text=\"%s\\n\" % url\n",
      "    fout.write(text)\n",
      "fout.close()"
     ],
     "language": "python",
     "metadata": {},
     "outputs": [],
     "prompt_number": 80
    },
    {
     "cell_type": "code",
     "collapsed": false,
     "input": [
      "len(Faces),len(Food),len(SkinNoFaces)"
     ],
     "language": "python",
     "metadata": {},
     "outputs": [
      {
       "metadata": {},
       "output_type": "pyout",
       "prompt_number": 77,
       "text": [
        "(87, 86, 48)"
       ]
      }
     ],
     "prompt_number": 77
    },
    {
     "cell_type": "code",
     "collapsed": false,
     "input": [
      "#merge my saved url lists together"
     ],
     "language": "python",
     "metadata": {},
     "outputs": [],
     "prompt_number": 1
    },
    {
     "cell_type": "code",
     "collapsed": false,
     "input": [
      "import glob\n",
      "import pickle"
     ],
     "language": "python",
     "metadata": {},
     "outputs": [],
     "prompt_number": 7
    },
    {
     "cell_type": "code",
     "collapsed": false,
     "input": [
      "dumps=glob.glob1(\"./\",\"*.dump\")\n",
      "Food=[]\n",
      "People=[]\n",
      "for dump in dumps:\n",
      "    fin=open(dump,\"r\")\n",
      "    rest= pickle.load(fin)\n",
      "    Food += rest.Food\n",
      "    People += rest.People\n",
      "    fin.close()"
     ],
     "language": "python",
     "metadata": {},
     "outputs": [],
     "prompt_number": 18
    },
    {
     "cell_type": "code",
     "collapsed": false,
     "input": [
      "len(People),len(Food)"
     ],
     "language": "python",
     "metadata": {},
     "outputs": [
      {
       "metadata": {},
       "output_type": "pyout",
       "prompt_number": 25,
       "text": [
        "(236, 303)"
       ]
      }
     ],
     "prompt_number": 25
    },
    {
     "cell_type": "code",
     "collapsed": false,
     "input": [
      "fout=open(\"People_K.txt\",\"w\")\n",
      "for url in People:\n",
      "    text=\"%s\\n\" % url\n",
      "    fout.write(text)\n",
      "fout.close()"
     ],
     "language": "python",
     "metadata": {},
     "outputs": [],
     "prompt_number": 30
    },
    {
     "cell_type": "heading",
     "level": 1,
     "metadata": {},
     "source": [
      "testing pixel dn selection from image"
     ]
    },
    {
     "cell_type": "code",
     "collapsed": false,
     "input": [
      "import glob\n",
      "path=\"/Users/kburleigh/GradSchool/Programming/DataSciShop_CDIPS/SkinPix/MainRepo/images/TestSet/\"\n",
      "patt = \"*.jpeg\"\n",
      "files=glob.glob(path+patt)\n",
      "img = plt.imread(files[2])"
     ],
     "language": "python",
     "metadata": {},
     "outputs": []
    },
    {
     "cell_type": "code",
     "collapsed": false,
     "input": [
      "from scipy import fftpack\n",
      "image=img[:,:,1]\n",
      "# Take the fourier transform of the image.\n",
      "F1 = fftpack.fft2(image)\n",
      "\n",
      "# Now shift the quadrants around so that low spatial frequencies are in\n",
      "# the center of the 2D fourier transformed image.\n",
      "F2 = fftpack.fftshift( F1 )\n",
      "\n",
      "# Calculate a 2D power spectrum\n",
      "ps2D = np.abs( F2 )**2\n",
      "\n",
      "f,ax= plt.subplots(1,2)\n",
      "ax[1].imshow(np.log10(ps2D))\n",
      "ax[0].imshow(image,cmap=\"gray\")\n",
      "plt.show()"
     ],
     "language": "python",
     "metadata": {},
     "outputs": []
    },
    {
     "cell_type": "code",
     "collapsed": false,
     "input": [
      "import scipy.ndimage\n",
      "gauss = scipy.ndimage.gaussian_filter(np.log10(ps2D),2)\n",
      "f,ax=plt.subplots(1,2)\n",
      "ax[0].imshow(np.log10(ps2D))\n",
      "ax[1].imshow(gauss)"
     ],
     "language": "python",
     "metadata": {},
     "outputs": []
    },
    {
     "cell_type": "code",
     "collapsed": false,
     "input": [],
     "language": "python",
     "metadata": {},
     "outputs": []
    }
   ],
   "metadata": {}
  }
 ]
}