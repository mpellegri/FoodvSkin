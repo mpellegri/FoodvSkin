{
 "metadata": {
  "name": "",
<<<<<<< HEAD
  "signature": "sha256:3fde1e5be4c46ac2f26cf0331d34320776ae168d3cf2754c8405d4ccdf384d8f"
=======
  "signature": "sha256:5d9eb070b125b4df3816d15d14cb0fccfd199b6e98ccf8600fd40a409e059959"
>>>>>>> 6e5960e8ca3ce39dca222e694d3cb2cc9f0105ed
 },
 "nbformat": 3,
 "nbformat_minor": 0,
 "worksheets": [
  {
   "cells": [
    {
<<<<<<< HEAD
     "cell_type": "heading",
     "level": 1,
     "metadata": {},
     "source": [
      "final features, OpenTable Hacking 7/26"
=======
     "cell_type": "markdown",
     "metadata": {},
     "source": [
      "<h1 align=\"center\"><big><big><big>Food vs. Skin</big></big></big></h1> "
     ]
    },
    {
     "cell_type": "markdown",
     "metadata": {},
     "source": [
      "<h1><big>Goal</big></h1>\n",
      "<p><big><big>&nbsp; &nbsp; &nbsp; &nbsp;Automatically detect pictures with people in order to reject them for use on websites, etc.</big></big></p>"
     ]
    },
    {
     "cell_type": "markdown",
     "metadata": {},
     "source": [
      "<div style=\"text-align: center;\">\n",
      "    <table style=\"margin: 0px auto;\" border=\"0\">\n",
      "        <tbody>\n",
      "            <tr>\n",
      "                <td align='center'><big><big><big><big>Select</big></big></big></big></td>\n",
      "                <td align='center'><big><big><big><big>Reject</big></big></big></big></td>\n",
      "            </tr>\n",
      "            <tr>\n",
      "                <td align='center'><img src=\"Pizza.jpg\" height=\"450\" width=\"600\"></td>\n",
      "                <td align='center'><img src=\"Burger_Skin.jpg\" height=\"450\" width=\"600\"></td>\n",
      "            </tr>\n",
      "        </tbody>\n",
      "    </table>\n",
      "</div>"
     ]
    },
    {
     "cell_type": "markdown",
     "metadata": {},
     "source": [
      "<h1><big>How do you recognize skin</big></h1>\n",
      "\n",
      "<p><big>Take our cue from Human Vision</big></p>\n",
      "\n",
      "<ul>\n",
      "<li><big>Physical Shape - Probably requires 3D</big></li>\n",
      "<li><big>Texture</big></li>\n",
      "<li><big><b>Skin Color Tone</b></big></li>\n",
      "</ul>"
>>>>>>> 6e5960e8ca3ce39dca222e694d3cb2cc9f0105ed
     ]
    },
    {
     "cell_type": "code",
     "collapsed": false,
<<<<<<< HEAD
     "input": [],
=======
     "input": [
      "from skinmap import RGB_SkinMap, CbCr_SkinMap, CCCM_SkinMap\n"
     ],
>>>>>>> 6e5960e8ca3ce39dca222e694d3cb2cc9f0105ed
     "language": "python",
     "metadata": {},
     "outputs": []
    }
   ],
   "metadata": {}
  }
 ]
}