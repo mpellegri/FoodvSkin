{
 "metadata": {
  "name": "",
  "signature": "sha256:4b581b7e61e6f309b2c2de443832b67d4d376a469cea0f55114824f771c769ae"
 },
 "nbformat": 3,
 "nbformat_minor": 0,
 "worksheets": [
  {
   "cells": [
    {
     "cell_type": "code",
     "collapsed": false,
     "input": [
      "# Import Standard Python libraries\n",
      "import Image\n",
      "import urllib2\n",
      "import cStringIO\n",
      "\n",
      "# Import Pylab Libraries\n",
      "import matplotlib.pyplot as plt\n",
      "import numpy as np\n",
      "\n",
      "# Import Instagram API\n",
      "from instagram.client import InstagramAPI"
     ],
     "language": "python",
     "metadata": {},
     "outputs": [],
     "prompt_number": 1
    },
    {
     "cell_type": "code",
     "collapsed": false,
     "input": [
      "# Initialize API \n",
      "api = InstagramAPI(client_id='efadaf96d9844331845c94a78171ff69', client_secret='d14ae689f69243f1a054057df8188c86')\n",
      "\n",
      "# Load list of pictures\n",
      "mm, next = api.tag_recent_media(tag_name='Food')\n",
      "\n",
      "# Loop through pictures\n",
      "for media in mm:\n",
      "\n",
      "    # Load images from URL\n",
      "    file = cStringIO.StringIO(urllib2.urlopen(media.get_standard_resolution_url()).read())\n",
      "    try:\n",
      "        im = Image.open(file)\n",
      "    except IOError:\n",
      "        continue\n",
      "    \n",
      "    # Convert to numpy arrays\n",
      "    data = np.asarray(im)\n",
      "    skindata = SkinMap1(data)\n",
      "    \n",
      "    # Plot images\n",
      "    fig, ax = plt.subplots(2, 1, figsize=(10,7))\n",
      "    ax[0].set_title('Original image')\n",
      "    ax[0].imshow(data)\n",
      "    ax[1].set_title('Skin Pixels')\n",
      "    ax[1].imshow(skindata, cmap='gray')\n",
      "    plt.show()"
     ],
     "language": "python",
     "metadata": {},
     "outputs": []
    },
    {
     "cell_type": "code",
     "collapsed": false,
     "input": [],
     "language": "python",
     "metadata": {},
     "outputs": []
    }
   ],
   "metadata": {}
  }
 ]
}