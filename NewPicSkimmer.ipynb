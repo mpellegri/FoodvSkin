{
 "metadata": {
  "name": "",
  "signature": "sha256:cc23336435d6d04300a26f32471cf3aa25f422b8f3ea13e0ae288a4b9eb4719a"
 },
 "nbformat": 3,
 "nbformat_minor": 0,
 "worksheets": [
  {
   "cells": [
    {
     "cell_type": "code",
     "collapsed": false,
     "input": [
      "# Import Standard Python libraries\n",
      "import Image\n",
      "import urllib2\n",
      "import cStringIO\n",
      "\n",
      "# Import Pylab Libraries\n",
      "import matplotlib.pyplot as plt\n",
      "import numpy as np\n",
      "\n",
      "# Import Instagram API\n",
      "from instagram.client import InstagramAPI"
     ],
     "language": "python",
     "metadata": {},
     "outputs": [],
     "prompt_number": 3
    },
    {
     "cell_type": "code",
     "collapsed": false,
     "input": [
      "# Initialize API \n",
      "api = InstagramAPI(client_id='efadaf96d9844331845c94a78171ff69', client_secret='d14ae689f69243f1a054057df8188c86')\n",
      "\n",
      "# Load list of pictures\n",
      "mm, next = api.tag_recent_media(tag_name='Food')\n",
      "\n",
      "# Loop through pictures\n",
      "mm"
     ],
     "language": "python",
     "metadata": {},
     "outputs": [
      {
       "metadata": {},
       "output_type": "pyout",
       "prompt_number": 7,
       "text": [
        "[Media: 770289109758768129_281285380,\n",
        " Media: 770289104038911713_1269666526,\n",
        " Media: 770285736616942634_1044581686,\n",
        " Media: 770289105363096493_387370339,\n",
        " Media: 770223522734654008_186894079,\n",
        " Media: 770289100432864168_1397602555,\n",
        " Media: 770288716694833205_402446425,\n",
        " Media: 770289099450051109_190971241,\n",
        " Media: 733158422640952946_358796632,\n",
        " Media: 770280811287413984_532236408,\n",
        " Media: 769943649290313625_670240278,\n",
        " Media: 770288975440860695_209465852,\n",
        " Media: 770289094476898004_391792502,\n",
        " Media: 770284634806527400_676836384,\n",
        " Media: 764620520958694737_274383556,\n",
        " Media: 770289092405372194_249737952,\n",
        " Media: 770289091253127556_1294750017,\n",
        " Media: 770288611603752065_33322792,\n",
        " Media: 770288136245781748_1429412088,\n",
        " Media: 770210811753005114_305843327]"
       ]
      }
     ],
     "prompt_number": 7
    },
    {
     "cell_type": "code",
     "collapsed": false,
     "input": [
      "next"
     ],
     "language": "python",
     "metadata": {},
     "outputs": [
      {
       "metadata": {},
       "output_type": "pyout",
       "prompt_number": 8,
       "text": [
        "'https://api.instagram.com/v1/tags/food/media/recent?client_id=efadaf96d9844331845c94a78171ff69&max_tag_id=1406045636954983'"
       ]
      }
     ],
     "prompt_number": 8
    },
    {
     "cell_type": "code",
     "collapsed": false,
     "input": [
      "mm, next = api.tag_recent_media(tag_name='Food',)"
     ],
     "language": "python",
     "metadata": {},
     "outputs": []
    },
    {
     "cell_type": "code",
     "collapsed": false,
     "input": [
      "# Initialize API \n",
      "api = InstagramAPI(client_id='efadaf96d9844331845c94a78171ff69', client_secret='d14ae689f69243f1a054057df8188c86')\n",
      "\n",
      "# Load list of pictures\n",
      "mm, next = api.tag_recent_media(tag_name='Food')\n",
      "\n",
      "# Loop through pictures\n",
      "for media in mm:\n",
      "\n",
      "    # Load images from URL\n",
      "    file = cStringIO.StringIO(urllib2.urlopen(media.get_standard_resolution_url()).read())\n",
      "    try:\n",
      "        im = Image.open(file)\n",
      "    except IOError:\n",
      "        continue\n",
      "    \n",
      "    # Convert to numpy arrays\n",
      "    data = np.asarray(im)\n",
      "    skindata = SkinMap1(data)\n",
      "    \n",
      "    # Plot images\n",
      "    fig, ax = plt.subplots(2, 1, figsize=(10,7))\n",
      "    ax[0].set_title('Original image')\n",
      "    ax[0].imshow(data)\n",
      "    ax[1].set_title('Skin Pixels')\n",
      "    ax[1].imshow(skindata, cmap='gray')\n",
      "    plt.show()"
     ],
     "language": "python",
     "metadata": {},
     "outputs": []
    },
    {
     "cell_type": "code",
     "collapsed": false,
     "input": [],
     "language": "python",
     "metadata": {},
     "outputs": []
    },
    {
     "cell_type": "code",
     "collapsed": false,
     "input": [],
     "language": "python",
     "metadata": {},
     "outputs": []
    },
    {
     "cell_type": "code",
     "collapsed": false,
     "input": [],
     "language": "python",
     "metadata": {},
     "outputs": []
    }
   ],
   "metadata": {}
  }
 ]
}