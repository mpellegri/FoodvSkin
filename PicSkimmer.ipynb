{
 "metadata": {
  "name": "",
  "signature": "sha256:ab27a1567017e3c01a19f126595a2334fcd3dd5944ec585393f306198d7165fc"
 },
 "nbformat": 3,
 "nbformat_minor": 0,
 "worksheets": [
  {
   "cells": [
    {
     "cell_type": "code",
     "collapsed": false,
     "input": [
      "from instagram.client import InstagramAPI\n",
      "import matplotlib.image as mpimg\n",
      "import matplotlib.pyplot as plt\n",
      "import numpy as np\n",
      "import urllib2\n",
      "import cStringIO\n",
      "import Image\n",
      "import time"
     ],
     "language": "python",
     "metadata": {},
     "outputs": []
    },
    {
     "cell_type": "code",
     "collapsed": false,
     "input": [
      "def SkinMap1(image_data, alpha0 = 0.1276, beta0 = 0.9498, gamma0 = 2.7775):\n",
      "\n",
      "    R = image_data[:,:,0].astype('f')\n",
      "    G = image_data[:,:,1].astype('f')\n",
      "    B = image_data[:,:,2].astype('f')\n",
      "    \n",
      "    r = R/(R+G+B)\n",
      "    g = G/(R+G+B)\n",
      "    b = B/(R+G+B)\n",
      "    \n",
      "    alpha = 3*b*r**2/(r+g+b)**3\n",
      "    beta = (r+g+b)/(3*r) + (r-g)/(r+g+b)\n",
      "    gamma = (r*b+g**2)/(g*b)\n",
      "    \n",
      "    return ((alpha>alpha0)&(beta<=beta0)&(gamma<=gamma0)).astype('f')\n",
      "    "
     ],
     "language": "python",
     "metadata": {},
     "outputs": []
    },
    {
     "cell_type": "code",
     "collapsed": false,
     "input": [
      "def plot_spectrum(F, amplify=1000, ax=None):\n",
      "    \"\"\"Normalise, amplify and plot an amplitude spectrum.\"\"\"\n",
      "\n",
      "    # Note: the problem here is that we have a spectrum whose histogram is\n",
      "    # *very* sharply peaked at small values.  To get a meaningful display, a\n",
      "    # simple strategy to improve the display quality consists of simply\n",
      "    # amplifying the values in the array and then clipping.\n",
      "\n",
      "    # Compute the magnitude of the input F (call it mag).  Then, rescale mag by\n",
      "    # amplify/maximum_of_mag.\n",
      "    mag = abs(F) \n",
      "    mag *= amplify/mag.max() \n",
      "    \n",
      "    # Next, clip all values larger than one to one.\n",
      "    mag[mag > 1] = 1 \n",
      "\n",
      "    if ax is None: ax = plt.gca()\n",
      "    ax.imshow(mag, plt.cm.Blues)"
     ],
     "language": "python",
     "metadata": {},
     "outputs": []
    },
    {
     "cell_type": "code",
     "collapsed": false,
     "input": [
      "def image_grid(im, im2, skinfft):\n",
      "    \"\"\"Display a grid with two images and their corresponding\n",
      "    Fourier spectra.\n",
      "    \"\"\"\n",
      "    fig, ax = plt.subplots(2, 2, figsize=(10,7))\n",
      "    \n",
      "    ax[0,0].set_title('Original image')\n",
      "    ax[0,0].imshow(im)\n",
      "    \n",
      "    ax[0,1].set_title('Skin Pixels')\n",
      "    ax[0,1].imshow(im2, cmap='gray')\n",
      "    \n",
      "    ax[1,0].set_title('Spectrum')\n",
      "    plot_spectrum(skinfft, ax=ax[1,0])\n",
      "    plt.show(fig)"
     ],
     "language": "python",
     "metadata": {},
     "outputs": []
    },
    {
     "cell_type": "code",
     "collapsed": false,
     "input": [
      "api = InstagramAPI(client_id='efadaf96d9844331845c94a78171ff69', client_secret='d14ae689f69243f1a054057df8188c86')\n",
      "foursquareIDs = {}\n",
      "foursquareIDs['A16'] = '4587a2b6f964a520c63f1fe3'\n",
      "foursquareIDs['SlantedInn'] = '3fd66200f964a52018ed1ee3'\n",
      "foursquareIDs['AbbottsCellar'] = '5008ae27e4b0d0fe136e0003'\n",
      "foursquareIDs['TonysPizza'] = '4a469839f964a52029a91fe3'\n",
      "foursquareIDs['Humphrey'] = '49972b39f964a52089521fe3'\n",
      "foursquareIDs['ZeroZero'] = '4c44d4b9dcd61b8df9e67b56'\n",
      "foursquareIDs['Delfina'] = '44088735f964a52058301fe3'\n",
      "foursquareIDs['HogIsland'] = '43fed1fff964a520fe2f1fe3'\n",
      "foursquareIDs['LersRosThai'] = '49dd8602f964a52018601fe3'\n",
      "foursquareIDs['PanchoVilla'] = '43917d6df964a5205c2b1fe3'\n",
      "\n",
      "for key in foursquareIDs:\n",
      "    print key\n",
      "    test = api.location_search(foursquare_v2_id = foursquareIDs[key])[0]\n",
      "    \n",
      "    mm, next = api.location_recent_media(location_id=int(test.id))\n",
      "    \n",
      "    for media in mm:\n",
      "        file = cStringIO.StringIO(urllib2.urlopen(media.get_standard_resolution_url()).read())\n",
      "        im = Image.open(file)\n",
      "        data = np.asarray(im)\n",
      "        skindata = SkinMap1(data)\n",
      "        skinfft = np.fft.fft2(skindata)\n",
      "        image_grid(im, skindata, skinfft)"
     ],
     "language": "python",
     "metadata": {},
     "outputs": []
    },
    {
     "cell_type": "code",
     "collapsed": false,
     "input": [],
     "language": "python",
     "metadata": {},
     "outputs": []
    }
   ],
   "metadata": {}
  }
 ]
}