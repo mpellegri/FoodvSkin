{
 "metadata": {
  "name": "",
  "signature": "sha256:1b7e0a4e48d92091b927567068c7b72786acf10d74f86c184fb17170a2e55658"
 },
 "nbformat": 3,
 "nbformat_minor": 0,
 "worksheets": [
  {
   "cells": [
    {
     "cell_type": "heading",
     "level": 1,
     "metadata": {},
     "source": [
      "Purpose: use select_region code to create set of skin pixel only RGB images and non-skin pixel only RGB images"
     ]
    },
    {
     "cell_type": "code",
     "collapsed": false,
     "input": [
      "%matplotlib\n",
      "import matplotlib.pyplot as plt\n",
      "from matplotlib import cm\n",
      "import matplotlib.patches\n",
      "from matplotlib.path import Path\n",
      "import numpy as np\n",
      "import sys\n",
      "import numpy.ma as ma\n",
      "import pickle\n",
      "import glob\n",
      "\n",
      "from instagram.client import InstagramAPI\n",
      "import time\n",
      "import matplotlib.pyplot as plt\n",
      "import numpy as np\n",
      "import urllib2, cStringIO\n",
      "from PIL import Image"
     ],
     "language": "python",
     "metadata": {},
     "outputs": [
      {
       "output_type": "stream",
       "stream": "stdout",
       "text": [
        "Using matplotlib backend: MacOSX\n"
       ]
      }
     ],
     "prompt_number": 99
    },
    {
     "cell_type": "code",
     "collapsed": false,
     "input": [
      "import Tkinter"
     ],
     "language": "python",
     "metadata": {},
     "outputs": [],
     "prompt_number": 167
    },
    {
     "cell_type": "heading",
     "level": 1,
     "metadata": {},
     "source": [
      "loop through list of image urls and enter keys to sort the urls into People, NoPeople categories"
     ]
    },
    {
     "cell_type": "code",
     "collapsed": false,
     "input": [
      "time.sleep(1.5)\n",
      "api= InstagramAPI(client_id=\"1dcd8b9c15c24b7bb571ebe805b61c64\",\\\n",
      "                  client_secret=\"f5c62b342e3540a3b7f84cd2fd725cfa\")\n",
      "api.location_search(foursquare_v2_id=\"3fd66200f964a52018ed1ee3\")\n",
      "mm, next = api.location_recent_media(location_id=797)\n",
      "url = mm[0].images['standard_resolution'].url"
     ],
     "language": "python",
     "metadata": {},
     "outputs": [
      {
       "output_type": "stream",
       "stream": "stdout",
       "text": [
        "\n"
       ]
      }
     ],
     "prompt_number": 193
    },
    {
     "cell_type": "code",
     "collapsed": false,
     "input": [],
     "language": "python",
     "metadata": {},
     "outputs": []
    },
    {
     "cell_type": "code",
     "collapsed": false,
     "input": [
      "urlList=[]\n",
      "# makeList= lamda mm,urlList: (urlList.append(a.images['standard_resolution'].url) for a in mm)\n",
      "# makeList(mm,urlList)\n",
      "for a in mm:\n",
      "    urlList.append( a.images['standard_resolution'].url)\n",
      "urlList"
     ],
     "language": "python",
     "metadata": {},
     "outputs": [
      {
       "metadata": {},
       "output_type": "pyout",
       "prompt_number": 105,
       "text": [
        "['http://scontent-a.cdninstagram.com/hphotos-xap1/t51.2885-15/10522245_426823767460390_501575775_n.jpg',\n",
        " 'http://scontent-b.cdninstagram.com/hphotos-xaf1/t51.2885-15/10570078_1443159999280675_1074346344_n.jpg',\n",
        " 'http://scontent-a.cdninstagram.com/hphotos-xpa1/t51.2885-15/10518097_596400347142278_272550832_n.jpg']"
       ]
      }
     ],
     "prompt_number": 105
    },
    {
     "cell_type": "code",
     "collapsed": false,
     "input": [
      "image=plt.imread(\"./images/blog_img1.png\")\n",
      "image.shape\n",
      "import scipy.misc\n",
      "new=scipy.misc.imresize(image,(image.shape[0]*2,image.shape[1]*2,3))\n",
      "f,ax=plt.subplots(1,2)\n",
      "ax[0].imshow(image)\n",
      "ax[1].imshow(new)\n"
     ],
     "language": "python",
     "metadata": {},
     "outputs": [
      {
       "metadata": {},
       "output_type": "pyout",
       "prompt_number": 174,
       "text": [
        "<matplotlib.image.AxesImage at 0x10ddb1c10>"
       ]
      }
     ],
     "prompt_number": 174
    },
    {
     "cell_type": "code",
     "collapsed": false,
     "input": [
      "import Image\n",
      "img=Image.open(\"./images/blog_img1.png\")\n",
      "new=scipy.misc.imresize(img,(img.size[1]/2,img.size[0]/2))\n",
      "img.copy\n",
      "# f,ax=plt.subplots(1,2)\n",
      "# ax[0].imshow(img)\n",
      "# ax[1].imshow(new)\n"
     ],
     "language": "python",
     "metadata": {},
     "outputs": [
      {
       "metadata": {},
       "output_type": "pyout",
       "prompt_number": 184,
       "text": [
        "<matplotlib.image.AxesImage at 0x1139eae90>"
       ]
      }
     ],
     "prompt_number": 184
    },
    {
     "cell_type": "code",
     "collapsed": false,
     "input": [
      "urlList=[]\n",
      "for a in mm:\n",
      "    urlList.append( a.images['standard_resolution'].url)\n"
     ],
     "language": "python",
     "metadata": {},
     "outputs": [
      {
       "metadata": {},
       "output_type": "pyout",
       "prompt_number": 194,
       "text": [
        "['http://scontent-a.cdninstagram.com/hphotos-xpa1/t51.2885-15/10540240_670884059654348_692445208_n.jpg',\n",
        " 'http://scontent-a.cdninstagram.com/hphotos-xap1/t51.2885-15/10522245_426823767460390_501575775_n.jpg',\n",
        " 'http://scontent-b.cdninstagram.com/hphotos-xaf1/t51.2885-15/10570078_1443159999280675_1074346344_n.jpg']"
       ]
      }
     ],
     "prompt_number": 194
    },
    {
     "cell_type": "code",
     "collapsed": false,
     "input": [
      "url= urlList[0]\n",
      "read= urllib2.urlopen(url).read()\n",
      "obj = Image.open( cStringIO.StringIO(read) )\n",
      "plt.imshow(np.array(obj))"
     ],
     "language": "python",
     "metadata": {},
     "outputs": [
      {
       "metadata": {},
       "output_type": "pyout",
       "prompt_number": 200,
       "text": [
        "<matplotlib.image.AxesImage at 0x10ff226d0>"
       ]
      }
     ],
     "prompt_number": 200
    },
    {
     "cell_type": "code",
     "collapsed": false,
     "input": [],
     "language": "python",
     "metadata": {},
     "outputs": []
    },
    {
     "cell_type": "code",
     "collapsed": false,
     "input": [
      "def url2image(url):\n",
      "    '''read url into image, return image as numpy array'''\n",
      "    read= urllib2.urlopen(url).read()\n",
      "    obj = Image.open( cStringIO.StringIO(read) )\n",
      "    return np.array(obj)\n",
      "\n",
      "class Train():\n",
      "    def __init__(self,fig,ax,urlList):\n",
      "        self.fig=fig\n",
      "        self.ax=ax\n",
      "        self.urlList=urlList\n",
      "        self.index=0\n",
      "        self.Skin=[]\n",
      "        self.NoSkin=[]\n",
      "        self.Bad=[] #should rarely be used\n",
      "        self.connect()\n",
      "    def connect(self):\n",
      "        self.KeyId = self.fig.canvas.mpl_connect('key_press_event', self.OnKey)\n",
      "        self.img= url2image(self.url() )\n",
      "        self.ax.imshow( self.img)\n",
      "    def OnKey(self,event):\n",
      "        print 'Typed key: %s' % event.key\n",
      "        if event.key == \"p\":\n",
      "            self.Skin.append( self.url())\n",
      "        elif event.key == \"n\":\n",
      "            self.NoSkin.append( self.url())\n",
      "        elif event.key == \"b\":\n",
      "            self.Bad.append( self.url())\n",
      "        elif event.key == \"q\":\n",
      "            print \"Quitting\"\n",
      "            plt.close()\n",
      "        else:\n",
      "            print \"unrecognized key, try again\"\n",
      "        self.plusIndex()\n",
      "        self.img= url2image( self.url())\n",
      "        self.ax.imshow( self.img )\n",
      "        self.ax.figure.canvas.draw()\n",
      "    def url(self):\n",
      "        return self.urlList[self.index]\n",
      "    def plusIndex(self):\n",
      "        self.index+=1\n",
      "        if self.index >= len(self.urlList):\n",
      "            plt.close()\n",
      "\n",
      "f,ax=plt.subplots()\n",
      "a=Train(f,ax,urlList)\n"
     ],
     "language": "python",
     "metadata": {},
     "outputs": [
      {
       "output_type": "stream",
       "stream": "stdout",
       "text": [
        "\n",
        "unrecognized key, try again\n"
       ]
      },
      {
       "output_type": "stream",
       "stream": "stdout",
       "text": [
        "Typed key: y\n",
        "unrecognized key, try again\n",
        "Typed key: y"
       ]
      },
      {
       "output_type": "stream",
       "stream": "stdout",
       "text": [
        "\n",
        "unrecognized key, try again\n",
        "Typed key: y"
       ]
      }
     ],
     "prompt_number": 221
    },
    {
     "cell_type": "code",
     "collapsed": false,
     "input": [
      "def urlPlot(url):\n",
      "    read= urllib2.urlopen(url).read()\n",
      "    obj = Image.open( cStringIO.StringIO(read) )\n",
      "    plt.imshow(np.array(obj))\n",
      "    plt.show()\n",
      "urlPlot(a.Skin[0])"
     ],
     "language": "python",
     "metadata": {},
     "outputs": [],
     "prompt_number": 216
    },
    {
     "cell_type": "code",
     "collapsed": false,
     "input": [
      "\n",
      "        self.fig = fig\n",
      "        self.ax = ax\n",
      "        self.List= [\"./images/blog_img1.png\",\"./images/blog_img2.png\"]\n",
      "    def connect(self):\n",
      "        self.KeyId = self.fig.canvas.mpl_connect('key_press_event', self.OnKey)\n",
      "        img=plt.imread(\"./images/blog_img1.png\")\n",
      "        plt.imshow(img)\n",
      "        plt.show()\n",
      "    def disconnect(self):\n",
      "        'disconnect all the stored connection ids'\n",
      "        self.fig.canvas.mpl_disconnect(self.KeyId)\n",
      "    def OnKey(self,event):\n",
      "        print 'Typed key: %s' % event.key\n",
      "        if event.key == \"y\":\n",
      "            plt.close()\n",
      "            img=plt.imread(\"./images/blog_img2.png\")\n",
      "            plt.imshow(img)\n",
      "            plt.show()\n",
      "        elif event.key == \"n\":\n",
      "            print \"do nothing\"\n",
      "        elif event.key == \"q\":\n",
      "            print \"Quitting\"\n",
      "            self.disconnect()\n",
      "            plt.close()\n",
      "        else:\n",
      "            print \"unrecognized key, try again\"\n",
      "            sys.stdout.flush() #safety"
     ],
     "language": "python",
     "metadata": {},
     "outputs": [],
     "prompt_number": 165
    },
    {
     "cell_type": "code",
     "collapsed": false,
     "input": [
      "#\n",
      "#ax.imshow(img)\n",
      "a=test()\n",
      "a.connect()"
     ],
     "language": "python",
     "metadata": {},
     "outputs": [],
     "prompt_number": 166
    },
    {
     "cell_type": "code",
     "collapsed": false,
     "input": [
      "plt.clf()\n"
     ],
     "language": "python",
     "metadata": {},
     "outputs": [],
     "prompt_number": 156
    },
    {
     "cell_type": "code",
     "collapsed": false,
     "input": [
      "\n",
      "plt.close()\n",
      "plt.imshow(plt.imread(\"./images/blog_img2.png\"))"
     ],
     "language": "python",
     "metadata": {},
     "outputs": [
      {
       "metadata": {},
       "output_type": "pyout",
       "prompt_number": 164,
       "text": [
        "<matplotlib.image.AxesImage at 0x10ee4d710>"
       ]
      }
     ],
     "prompt_number": 164
    },
    {
     "cell_type": "code",
     "collapsed": false,
     "input": [
      "class CategorizeUrls():\n",
      "    '''uses matplotlib event handling to categorize a list of urls \n",
      "    Instructions: type 'y' if image has people or people body parts, \n",
      "                       'n' if not or only clothes but no skin showing\n",
      "    '''\n",
      "    def __init__(self, fig,ax,urlList):\n",
      "        self.fig = fig\n",
      "        self.ax = ax\n",
      "        self.urlList= urlList\n",
      "        self.img=0 #gets url2image output\n",
      "        self.index= 0\n",
      "        self.People=[]\n",
      "        self.NoPeople=[]\n",
      "    \n",
      "    def AdvIndex(self):\n",
      "        self.index= self.index+ 1\n",
      "        if index >= len(self.urlList):\n",
      "            print \"Looped through entired urlList, quitting\"\n",
      "            self.disconnect()\n",
      "            plt.close()\n",
      "    def connect(self):\n",
      "        'connect events and plot first image'\n",
      "        self.KeyId = self.fig.canvas.mpl_connect('key_press_event', self.OnKey)\n",
      "        self.ax.imshow(self.url2image() )\n",
      "        plt.show()\n",
      "        #self.ax.figure.canvas.draw()\n",
      "    def disconnect(self):\n",
      "        'disconnect all the stored connection ids'\n",
      "        self.fig.canvas.mpl_disconnect(self.KeyId)\n",
      "    def OnKey(self,event):\n",
      "        print 'Typed key: %s' % event.key\n",
      "        if event.key == \"y\":\n",
      "            print \"People List\"\n",
      "            self.People.append( self.urlList[self.index])\n",
      "            self.AdvIndex()\n",
      "            self.fig.clf()\n",
      "            self.img= self.url2image()\n",
      "            plt.imshow(self.img)\n",
      "            plt.show()\n",
      "            #self.ax.imshow(self.img)\n",
      "            #self.ax.figure.canvas.draw()\n",
      "            #sys.stdout.flush() #safety\n",
      "        elif event.key == \"n\":\n",
      "            print \"No People List\"\n",
      "            self.NoPeople(self.urlList[self.index])\n",
      "            self.AdvIndex()\n",
      "            self.ax.clf()\n",
      "            self.ax.imshow(self.url2image() )\n",
      "            plt.show()\n",
      "            #self.ax.figure.canvas.draw()\n",
      "            #ax.figure.show()\n",
      "            sys.stdout.flush() #safety\n",
      "        elif event.key == \"q\":\n",
      "            print \"Quitting\"\n",
      "            #, Lists saved, last url,index evaluated = %s, %d\" \\\n",
      "             #       % (urlList[index],index)\n",
      "            sys.stdout.flush() #safety\n",
      "            self.disconnect()\n",
      "            plt.close()\n",
      "        else:\n",
      "            print \"unrecognized key, try again\"\n",
      "            sys.stdout.flush() #safety"
     ],
     "language": "python",
     "metadata": {},
     "outputs": [
      {
       "output_type": "stream",
       "stream": "stdout",
       "text": [
        "\n",
        "People List\n"
       ]
      }
     ],
     "prompt_number": 145
    },
    {
     "cell_type": "code",
     "collapsed": false,
     "input": [
      "plt.close('all')\n",
      "sys.stdout.flush() #safety\n",
      "f,ax=plt.subplots()\n",
      "doit= CategorizeUrls(f,ax,urlList)\n",
      "doit.connect()"
     ],
     "language": "python",
     "metadata": {},
     "outputs": [
      {
       "output_type": "stream",
       "stream": "stdout",
       "text": [
        "Typed key: y\n",
        "People List\n",
        "Typed key: y"
       ]
      },
      {
       "output_type": "stream",
       "stream": "stdout",
       "text": [
        "\n",
        "People List\n",
        "Typed key: y"
       ]
      },
      {
       "output_type": "stream",
       "stream": "stdout",
       "text": [
        "\n",
        "People List\n",
        "Typed key: y"
       ]
      },
      {
       "output_type": "stream",
       "stream": "stdout",
       "text": [
        "\n",
        "People List\n",
        "Typed key: y"
       ]
      },
      {
       "output_type": "stream",
       "stream": "stdout",
       "text": [
        "\n",
        "People List\n",
        "Typed key: y"
       ]
      }
     ],
     "prompt_number": 146
    },
    {
     "cell_type": "code",
     "collapsed": false,
     "input": [
      "doit.NoPeople"
     ],
     "language": "python",
     "metadata": {},
     "outputs": [
      {
       "metadata": {},
       "output_type": "pyout",
       "prompt_number": 132,
       "text": [
        "[]"
       ]
      }
     ],
     "prompt_number": 132
    },
    {
     "cell_type": "code",
     "collapsed": false,
     "input": [
      "class drawMyBox:\n",
      "    '''uses matplotlib event handling to allow user to select region from image\n",
      "    for analysis. \n",
      "    Inputs: \n",
      "        fig: plotting figure object\n",
      "        ax: plotting axis object\n",
      "        img: image\n",
      "        draw: \"b\" for box, \"e\" for ellipse (e usually best)\n",
      "    Returns: two version of image, one with pixels of region(s) set to zero and \n",
      "        one with pixels outside of region set to zero.\n",
      "    Instructions: \n",
      "        1.click 4 times to select region\n",
      "        2.type 'a' to accept OR 'r' to redraw\n",
      "    '''\n",
      "    def __init__(self, fig,ax,file2image,draw,files=False):\n",
      "        self.fig = fig\n",
      "        self.ax = ax\n",
      "        self.img = plt.imread(file2image)\n",
      "        self.draw= draw  #'b': box, 'e': ellipse\n",
      "        self.files=files #if True then loop over files (images)\n",
      "        self.x= []\n",
      "        self.y=[]\n",
      "        self.ClickCnt=0\n",
      "        self.MyShape=0 #rect or ellipse patch object\n",
      "        print \"%s \\n%s \\n%s \\n\" % (\"INSTRUCTIONS:\",\n",
      "                                   \"1.click 4 times to select region\",\n",
      "                                   \"2.type 'a' to accept OR 'r' to redraw\")\n",
      "    def reset(self):\n",
      "        self.x= []\n",
      "        self.y=[]\n",
      "        self.ClickCnt=0\n",
      "        self.MyShape=0\n",
      "    def convert(self):\n",
      "        self.x = np.array(self.x)\n",
      "        self.y = np.array(self.y)\n",
      "    def connect(self):\n",
      "        'connect to all the events we need'\n",
      "        self.KeyId = self.fig.canvas.mpl_connect('key_press_event', self.OnKey)\n",
      "        self.ClickId = self.fig.canvas.mpl_connect('button_press_event', self.OnClick)\n",
      "    def disconnect(self):\n",
      "        'disconnect all the stored connection ids'\n",
      "        self.fig.canvas.mpl_disconnect(self.ClickId)\n",
      "        self.fig.canvas.mpl_disconnect(self.KeyId)\n",
      "    def OnClick(self, event):\n",
      "        print 'Clicked at x,y = %f,%f' % (event.xdata,event.ydata)\n",
      "        self.x.append( int(event.xdata) )\n",
      "        self.y.append( int(event.ydata) )\n",
      "        self.ax.plot(event.xdata,event.ydata,\"b+\",ms=0.05*np.max(img.shape),mew=2.)\n",
      "        self.ax.axis('off')\n",
      "        self.ax.figure.canvas.draw()\n",
      "        \n",
      "        self.ClickCnt+=1\n",
      "        if self.ClickCnt ==4:\n",
      "            self.convert()\n",
      "            wid= np.abs(self.x.min()-self.x.max())\n",
      "            ht= np.abs(self.y.min()-self.y.max())\n",
      "            if self.draw == \"b\":\n",
      "                print \"Drawing box\" #need bottom left x,y\n",
      "                xl= self.x.min()\n",
      "                yb= self.y.min()\n",
      "                self.MyShape=matplotlib.patches.Rectangle([xl,yb],wid,ht, \\\n",
      "                                                alpha=0.5,color=\"b\",fill=True)\n",
      "            elif self.draw == \"e\":\n",
      "                print \"Drawing ellipse\" #need center x,y \n",
      "                xc= self.x.min() + wid/2.\n",
      "                yc= self.y.min()+ ht/2.\n",
      "                self.MyShape= matplotlib.patches.Ellipse([xc,yc],wid,ht,alpha=0.5,\\\n",
      "                        color=\"b\",fill=True,transform=self.ax.transData)\n",
      "            else:\n",
      "                print \"aborting: draw must be 'b' or 'e'\"\n",
      "                plt.close()\n",
      "            self.ax.add_patch(self.MyShape)\n",
      "            self.ax.figure.canvas.draw()\n",
      "        elif self.ClickCnt > 4:\n",
      "            print \"stopping interaction, Error: to many clicks\"\n",
      "            self.disconnect()  \n",
      "        sys.stdout.flush() #safety\n",
      "    def OnKey(self,event):\n",
      "        print 'Typed key: %s' % event.key\n",
      "        sys.stdout.flush() #safety\n",
      "        if event.key == \"r\":\n",
      "            print \"redraw\"\n",
      "            self.reset()\n",
      "            self.ax.cla()\n",
      "            self.ax.imshow(self.img)\n",
      "            self.ax.figure.canvas.draw()\n",
      "        elif event.key == \"a\":\n",
      "            print \"accept and quit\"\n",
      "            self.disconnect()\n",
      "            plt.close()\n",
      "        else:\n",
      "            print \"unrecognized key\"\n",
      "        sys.stdout.flush() #safety\n",
      "\n",
      "def Patch2Mask(drawMyBox,inside=True):\n",
      "    '''returns 2D mask corresponding to pixels covered by Patch Object. \n",
      "    Args:\n",
      "        drawMyBox -- drawMyBox object\n",
      "        inside -- True to mask pixels inside Patch Object, False to mask outide\n",
      "    output: 2D mask\n",
      "    '''\n",
      "    inv = box.ax.transData.inverted() #MUST convert dispay units to data units!\n",
      "    dataVerts= inv.transform(box.MyShape.get_verts())\n",
      "\n",
      "    pts=[]  #pixel locations in image\n",
      "    for x in range(img[:,:,0].shape[0]): #plt.imshow(img) shows shape[0] is y\n",
      "        for y in range(img[:,:,0].shape[1]):\n",
      "            pts.append( [y,x] )  #order of y,x is IMPORTANT\n",
      "\n",
      "    path = Path( dataVerts ) \n",
      "    mask=path.contains_points(pts) #TRUE where pts are inside box or ellipse vertices\n",
      "    mask2D= np.reshape(mask,img[:,:,0].shape) #try shape[::-1] if mask in wrong location \n",
      "#     if inside:\n",
      "#         R= ma.masked_array(img[:,:,0].copy(), mask=~mask2D)\n",
      "#         G= ma.masked_array(img[:,:,1].copy(), mask=~mask2D)\n",
      "#         B= ma.masked_array(img[:,:,2].copy(), mask=~mask2D)\n",
      "#     else:\n",
      "#         R= ma.masked_array(img[:,:,0].copy(), mask=mask2D)\n",
      "#         G= ma.masked_array(img[:,:,1].copy(), mask=mask2D)\n",
      "#         B= ma.masked_array(img[:,:,2].copy(), mask=mask2D)\n",
      "    return mask2D\n",
      "    "
     ],
     "language": "python",
     "metadata": {},
     "outputs": [],
     "prompt_number": 67
    },
    {
     "cell_type": "code",
     "collapsed": false,
     "input": [
      "#user interaction while LOOPING OVER IMAGES\n",
      "files = glob.glob1(\"images/TestSet/\", \"t*.jpeg\")\n",
      "if files: print \"hello\"\n",
      "# for f in files:\n",
      "#     print \"READING: %s\" % f\n",
      "#     fig, ax = plt.subplots()\n",
      "#     ax.imshow(img)    #plot first, then enable events\n",
      "#     box= drawMyBox(fig,ax,img,\"b\")\n",
      "#     box.connect()\n",
      "#     key=plt.waitforbuttonpress()\n",
      "#     print \"key= %s\" % key"
     ],
     "language": "python",
     "metadata": {},
     "outputs": [
      {
       "output_type": "stream",
       "stream": "stdout",
       "text": [
        "hello\n"
       ]
      }
     ],
     "prompt_number": 92
    },
    {
     "cell_type": "code",
     "collapsed": false,
     "input": [
      "plt.waitforbuttonpress?"
     ],
     "language": "python",
     "metadata": {},
     "outputs": [],
     "prompt_number": 77
    },
    {
     "cell_type": "code",
     "collapsed": false,
     "input": [
      "#fname='images/blog_img2.png'\n",
      "#img = plt.imread(fname)\n",
      "\n",
      "fig, ax = plt.subplots()\n",
      "   #plot first, then enable events\n",
      "box= drawMyBox(fig,ax,fname,\"b\")\n",
      "box.connect()\n",
      "\n"
     ],
     "language": "python",
     "metadata": {},
     "outputs": [
      {
       "output_type": "stream",
       "stream": "stdout",
       "text": [
        "INSTRUCTIONS: \n",
        "1.click 4 times to select region \n",
        "2.type 'a' to accept OR 'r' to redraw \n",
        "\n"
       ]
      },
      {
       "output_type": "stream",
       "stream": "stdout",
       "text": [
        "Clicked at x,y = 75.302083,61.093750\n"
       ]
      },
      {
       "output_type": "stream",
       "stream": "stdout",
       "text": [
        "Clicked at x,y = 246.223958,65.755208\n"
       ]
      },
      {
       "output_type": "stream",
       "stream": "stdout",
       "text": [
        "Clicked at x,y = 86.718750,187.890625\n"
       ]
      },
      {
       "output_type": "stream",
       "stream": "stdout",
       "text": [
        "Clicked at x,y = 289.062500,193.359375\n",
        "Drawing box\n"
       ]
      },
      {
       "output_type": "stream",
       "stream": "stdout",
       "text": [
        "Typed key: a\n"
       ]
      },
      {
       "output_type": "stream",
       "stream": "stdout",
       "text": [
        "accept and quit\n"
       ]
      }
     ],
     "prompt_number": 61
    },
    {
     "cell_type": "code",
     "collapsed": false,
     "input": [
      "mask2D=Patch2Mask(box,inside=False)\n",
      "self.R= ma.masked_array(box.img[:,:,0].copy(), mask=mask2D)\n",
      "self.G= ma.masked_array(box.img[:,:,1].copy(), mask=mask2D)\n",
      "self.B= ma.masked_array(box.img[:,:,2].copy(), mask=mask2D)"
     ],
     "language": "python",
     "metadata": {},
     "outputs": [
      {
       "ename": "NameError",
       "evalue": "name 'self' is not defined",
       "output_type": "pyerr",
       "traceback": [
        "\u001b[0;31m---------------------------------------------------------------------------\u001b[0m\n\u001b[0;31mNameError\u001b[0m                                 Traceback (most recent call last)",
        "\u001b[0;32m<ipython-input-69-5ec17bf34d84>\u001b[0m in \u001b[0;36m<module>\u001b[0;34m()\u001b[0m\n\u001b[1;32m      1\u001b[0m \u001b[0mmask2D\u001b[0m\u001b[0;34m=\u001b[0m\u001b[0mPatch2Mask\u001b[0m\u001b[0;34m(\u001b[0m\u001b[0mbox\u001b[0m\u001b[0;34m,\u001b[0m\u001b[0minside\u001b[0m\u001b[0;34m=\u001b[0m\u001b[0mFalse\u001b[0m\u001b[0;34m)\u001b[0m\u001b[0;34m\u001b[0m\u001b[0m\n\u001b[0;32m----> 2\u001b[0;31m \u001b[0mself\u001b[0m\u001b[0;34m.\u001b[0m\u001b[0mR\u001b[0m\u001b[0;34m=\u001b[0m \u001b[0mma\u001b[0m\u001b[0;34m.\u001b[0m\u001b[0mmasked_array\u001b[0m\u001b[0;34m(\u001b[0m\u001b[0mbox\u001b[0m\u001b[0;34m.\u001b[0m\u001b[0mimg\u001b[0m\u001b[0;34m[\u001b[0m\u001b[0;34m:\u001b[0m\u001b[0;34m,\u001b[0m\u001b[0;34m:\u001b[0m\u001b[0;34m,\u001b[0m\u001b[0;36m0\u001b[0m\u001b[0;34m]\u001b[0m\u001b[0;34m.\u001b[0m\u001b[0mcopy\u001b[0m\u001b[0;34m(\u001b[0m\u001b[0;34m)\u001b[0m\u001b[0;34m,\u001b[0m \u001b[0mmask\u001b[0m\u001b[0;34m=\u001b[0m\u001b[0mmask2D\u001b[0m\u001b[0;34m)\u001b[0m\u001b[0;34m\u001b[0m\u001b[0m\n\u001b[0m\u001b[1;32m      3\u001b[0m \u001b[0mself\u001b[0m\u001b[0;34m.\u001b[0m\u001b[0mG\u001b[0m\u001b[0;34m=\u001b[0m \u001b[0mma\u001b[0m\u001b[0;34m.\u001b[0m\u001b[0mmasked_array\u001b[0m\u001b[0;34m(\u001b[0m\u001b[0mbox\u001b[0m\u001b[0;34m.\u001b[0m\u001b[0mimg\u001b[0m\u001b[0;34m[\u001b[0m\u001b[0;34m:\u001b[0m\u001b[0;34m,\u001b[0m\u001b[0;34m:\u001b[0m\u001b[0;34m,\u001b[0m\u001b[0;36m1\u001b[0m\u001b[0;34m]\u001b[0m\u001b[0;34m.\u001b[0m\u001b[0mcopy\u001b[0m\u001b[0;34m(\u001b[0m\u001b[0;34m)\u001b[0m\u001b[0;34m,\u001b[0m \u001b[0mmask\u001b[0m\u001b[0;34m=\u001b[0m\u001b[0mmask2D\u001b[0m\u001b[0;34m)\u001b[0m\u001b[0;34m\u001b[0m\u001b[0m\n\u001b[1;32m      4\u001b[0m \u001b[0mself\u001b[0m\u001b[0;34m.\u001b[0m\u001b[0mB\u001b[0m\u001b[0;34m=\u001b[0m \u001b[0mma\u001b[0m\u001b[0;34m.\u001b[0m\u001b[0mmasked_array\u001b[0m\u001b[0;34m(\u001b[0m\u001b[0mbox\u001b[0m\u001b[0;34m.\u001b[0m\u001b[0mimg\u001b[0m\u001b[0;34m[\u001b[0m\u001b[0;34m:\u001b[0m\u001b[0;34m,\u001b[0m\u001b[0;34m:\u001b[0m\u001b[0;34m,\u001b[0m\u001b[0;36m2\u001b[0m\u001b[0;34m]\u001b[0m\u001b[0;34m.\u001b[0m\u001b[0mcopy\u001b[0m\u001b[0;34m(\u001b[0m\u001b[0;34m)\u001b[0m\u001b[0;34m,\u001b[0m \u001b[0mmask\u001b[0m\u001b[0;34m=\u001b[0m\u001b[0mmask2D\u001b[0m\u001b[0;34m)\u001b[0m\u001b[0;34m\u001b[0m\u001b[0m\n",
        "\u001b[0;31mNameError\u001b[0m: name 'self' is not defined"
       ]
      }
     ],
     "prompt_number": 69
    },
    {
     "cell_type": "code",
     "collapsed": false,
     "input": [
      "f,ax= plt.subplots(1,4)\n",
      "ax[0].imshow(box.img)\n",
      "ax[1].imshow(R)\n",
      "ax[2].imshow(G)\n",
      "ax[3].imshow(B)"
     ],
     "language": "python",
     "metadata": {},
     "outputs": [
      {
       "metadata": {},
       "output_type": "pyout",
       "prompt_number": 19,
       "text": [
        "<matplotlib.image.AxesImage at 0x10f63e090>"
       ]
      }
     ],
     "prompt_number": 19
    },
    {
     "cell_type": "heading",
     "level": 1,
     "metadata": {},
     "source": [
      "Define classes for holding image data, masks, RGB etc."
     ]
    },
    {
     "cell_type": "code",
     "collapsed": false,
     "input": [
      "class RgbSet:\n",
      "    def __init__(self,image,mask2D):\n",
      "        self.R= ma.masked_array(image[:,:,0].copy(), mask=~mask2D)\n",
      "        self.G= ma.masked_array(image[:,:,1].copy(), mask=~mask2D)\n",
      "        self.B= ma.masked_array(image[:,:,2].copy(), mask=~mask2D)\n",
      "\n",
      "class FilteredImage():\n",
      "    def __init__(self,image,mask2D,url):\n",
      "        self.image=image\n",
      "        self.mask2D=mask2D\n",
      "        self.url=url\n",
      "        self.SkinOnly= RgbSet(image,mask2D)\n",
      "        self.NoSkinOnly = RgbSet(image,~mask2D)\n",
      "    def plot(self):\n",
      "        f,axis=plt.subplots(2,3)\n",
      "        ax=axis.flatten()\n",
      "        ax[0].imshow(self.SkinOnly.R)\n",
      "        ax[1].imshow(self.SkinOnly.G)\n",
      "        ax[2].imshow(self.SkinOnly.B)\n",
      "        ax[3].imshow(self.NoSkinOnly.R)\n",
      "        ax[4].imshow(self.NoSkinOnly.G)\n",
      "        ax[5].imshow(self.NoSkinOnly.B)\n",
      "        titles=[\"R\",\"G\",\"B\",\"R\",\"G\",\"B\"]\n",
      "        for cnt,a in enumerate(ax):\n",
      "            a.set_title(titles[cnt])\n",
      "        plt.show()\n",
      "\n",
      "\n"
     ],
     "language": "python",
     "metadata": {},
     "outputs": [],
     "prompt_number": 74
    },
    {
     "cell_type": "code",
     "collapsed": false,
     "input": [
      "cimage=FilteredImage(box.img,mask2D,\"\")"
     ],
     "language": "python",
     "metadata": {},
     "outputs": [],
     "prompt_number": 75
    },
    {
     "cell_type": "code",
     "collapsed": false,
     "input": [
      "cimage.plot()"
     ],
     "language": "python",
     "metadata": {},
     "outputs": [],
     "prompt_number": 76
    },
    {
     "cell_type": "code",
     "collapsed": false,
     "input": [
      "fw = open(\"a1\", 'w') \n",
      "pickle.dump((R,G,B), fw)\n",
      "fw.close()"
     ],
     "language": "python",
     "metadata": {},
     "outputs": [
      {
       "ename": "NotImplementedError",
       "evalue": "Not implemented yet, sorry...",
       "output_type": "pyerr",
       "traceback": [
        "\u001b[0;31m---------------------------------------------------------------------------\u001b[0m\n\u001b[0;31mNotImplementedError\u001b[0m                       Traceback (most recent call last)",
        "\u001b[0;32m<ipython-input-22-e50e0c5ea813>\u001b[0m in \u001b[0;36m<module>\u001b[0;34m()\u001b[0m\n\u001b[1;32m      1\u001b[0m \u001b[0mfw\u001b[0m \u001b[0;34m=\u001b[0m \u001b[0mopen\u001b[0m\u001b[0;34m(\u001b[0m\u001b[0;34m'arrays'\u001b[0m\u001b[0;34m,\u001b[0m \u001b[0;34m'w'\u001b[0m\u001b[0;34m)\u001b[0m\u001b[0;34m\u001b[0m\u001b[0m\n\u001b[0;32m----> 2\u001b[0;31m \u001b[0mnp\u001b[0m\u001b[0;34m.\u001b[0m\u001b[0msavez\u001b[0m\u001b[0;34m(\u001b[0m\u001b[0mfw\u001b[0m\u001b[0;34m,\u001b[0m \u001b[0mR\u001b[0m\u001b[0;34m=\u001b[0m\u001b[0mR\u001b[0m\u001b[0;34m,\u001b[0m\u001b[0mG\u001b[0m\u001b[0;34m=\u001b[0m\u001b[0mG\u001b[0m\u001b[0;34m,\u001b[0m\u001b[0mB\u001b[0m\u001b[0;34m=\u001b[0m\u001b[0mB\u001b[0m\u001b[0;34m)\u001b[0m\u001b[0;34m\u001b[0m\u001b[0m\n\u001b[0m",
        "\u001b[0;32m/Users/kburleigh/anaconda/lib/python2.7/site-packages/numpy/lib/npyio.pyc\u001b[0m in \u001b[0;36msavez\u001b[0;34m(file, *args, **kwds)\u001b[0m\n\u001b[1;32m    531\u001b[0m \u001b[0;34m\u001b[0m\u001b[0m\n\u001b[1;32m    532\u001b[0m     \"\"\"\n\u001b[0;32m--> 533\u001b[0;31m     \u001b[0m_savez\u001b[0m\u001b[0;34m(\u001b[0m\u001b[0mfile\u001b[0m\u001b[0;34m,\u001b[0m \u001b[0margs\u001b[0m\u001b[0;34m,\u001b[0m \u001b[0mkwds\u001b[0m\u001b[0;34m,\u001b[0m \u001b[0mFalse\u001b[0m\u001b[0;34m)\u001b[0m\u001b[0;34m\u001b[0m\u001b[0m\n\u001b[0m\u001b[1;32m    534\u001b[0m \u001b[0;34m\u001b[0m\u001b[0m\n\u001b[1;32m    535\u001b[0m \u001b[0;32mdef\u001b[0m \u001b[0msavez_compressed\u001b[0m\u001b[0;34m(\u001b[0m\u001b[0mfile\u001b[0m\u001b[0;34m,\u001b[0m \u001b[0;34m*\u001b[0m\u001b[0margs\u001b[0m\u001b[0;34m,\u001b[0m \u001b[0;34m**\u001b[0m\u001b[0mkwds\u001b[0m\u001b[0;34m)\u001b[0m\u001b[0;34m:\u001b[0m\u001b[0;34m\u001b[0m\u001b[0m\n",
        "\u001b[0;32m/Users/kburleigh/anaconda/lib/python2.7/site-packages/numpy/lib/npyio.pyc\u001b[0m in \u001b[0;36m_savez\u001b[0;34m(file, args, kwds, compress)\u001b[0m\n\u001b[1;32m    591\u001b[0m             \u001b[0mfid\u001b[0m \u001b[0;34m=\u001b[0m \u001b[0mopen\u001b[0m\u001b[0;34m(\u001b[0m\u001b[0mtmpfile\u001b[0m\u001b[0;34m,\u001b[0m \u001b[0;34m'wb'\u001b[0m\u001b[0;34m)\u001b[0m\u001b[0;34m\u001b[0m\u001b[0m\n\u001b[1;32m    592\u001b[0m             \u001b[0;32mtry\u001b[0m\u001b[0;34m:\u001b[0m\u001b[0;34m\u001b[0m\u001b[0m\n\u001b[0;32m--> 593\u001b[0;31m                 \u001b[0mformat\u001b[0m\u001b[0;34m.\u001b[0m\u001b[0mwrite_array\u001b[0m\u001b[0;34m(\u001b[0m\u001b[0mfid\u001b[0m\u001b[0;34m,\u001b[0m \u001b[0mnp\u001b[0m\u001b[0;34m.\u001b[0m\u001b[0masanyarray\u001b[0m\u001b[0;34m(\u001b[0m\u001b[0mval\u001b[0m\u001b[0;34m)\u001b[0m\u001b[0;34m)\u001b[0m\u001b[0;34m\u001b[0m\u001b[0m\n\u001b[0m\u001b[1;32m    594\u001b[0m                 \u001b[0mfid\u001b[0m\u001b[0;34m.\u001b[0m\u001b[0mclose\u001b[0m\u001b[0;34m(\u001b[0m\u001b[0;34m)\u001b[0m\u001b[0;34m\u001b[0m\u001b[0m\n\u001b[1;32m    595\u001b[0m                 \u001b[0mfid\u001b[0m \u001b[0;34m=\u001b[0m \u001b[0mNone\u001b[0m\u001b[0;34m\u001b[0m\u001b[0m\n",
        "\u001b[0;32m/Users/kburleigh/anaconda/lib/python2.7/site-packages/numpy/lib/format.pyc\u001b[0m in \u001b[0;36mwrite_array\u001b[0;34m(fp, array, version)\u001b[0m\n\u001b[1;32m    404\u001b[0m     \u001b[0;32melse\u001b[0m\u001b[0;34m:\u001b[0m\u001b[0;34m\u001b[0m\u001b[0m\n\u001b[1;32m    405\u001b[0m         \u001b[0;32mif\u001b[0m \u001b[0misfileobj\u001b[0m\u001b[0;34m(\u001b[0m\u001b[0mfp\u001b[0m\u001b[0;34m)\u001b[0m\u001b[0;34m:\u001b[0m\u001b[0;34m\u001b[0m\u001b[0m\n\u001b[0;32m--> 406\u001b[0;31m             \u001b[0marray\u001b[0m\u001b[0;34m.\u001b[0m\u001b[0mtofile\u001b[0m\u001b[0;34m(\u001b[0m\u001b[0mfp\u001b[0m\u001b[0;34m)\u001b[0m\u001b[0;34m\u001b[0m\u001b[0m\n\u001b[0m\u001b[1;32m    407\u001b[0m         \u001b[0;32melse\u001b[0m\u001b[0;34m:\u001b[0m\u001b[0;34m\u001b[0m\u001b[0m\n\u001b[1;32m    408\u001b[0m             \u001b[0;31m# XXX: We could probably chunk this using something like\u001b[0m\u001b[0;34m\u001b[0m\u001b[0;34m\u001b[0m\u001b[0m\n",
        "\u001b[0;32m/Users/kburleigh/anaconda/lib/python2.7/site-packages/numpy/ma/core.pyc\u001b[0m in \u001b[0;36mtofile\u001b[0;34m(self, fid, sep, format)\u001b[0m\n\u001b[1;32m   5437\u001b[0m \u001b[0;34m\u001b[0m\u001b[0m\n\u001b[1;32m   5438\u001b[0m         \"\"\"\n\u001b[0;32m-> 5439\u001b[0;31m         \u001b[0;32mraise\u001b[0m \u001b[0mNotImplementedError\u001b[0m\u001b[0;34m(\u001b[0m\u001b[0;34m\"Not implemented yet, sorry...\"\u001b[0m\u001b[0;34m)\u001b[0m\u001b[0;34m\u001b[0m\u001b[0m\n\u001b[0m\u001b[1;32m   5440\u001b[0m \u001b[0;34m\u001b[0m\u001b[0m\n\u001b[1;32m   5441\u001b[0m     \u001b[0;32mdef\u001b[0m \u001b[0mtoflex\u001b[0m\u001b[0;34m(\u001b[0m\u001b[0mself\u001b[0m\u001b[0;34m)\u001b[0m\u001b[0;34m:\u001b[0m\u001b[0;34m\u001b[0m\u001b[0m\n",
        "\u001b[0;31mNotImplementedError\u001b[0m: Not implemented yet, sorry..."
       ]
      }
     ],
     "prompt_number": 22
    },
    {
     "cell_type": "code",
     "collapsed": false,
     "input": [
      "fr=open(\"a1\",\"r\")\n",
      "tup = pickle.load(fr)\n",
      "fr.close()"
     ],
     "language": "python",
     "metadata": {},
     "outputs": []
    },
    {
     "cell_type": "code",
     "collapsed": false,
     "input": [],
     "language": "python",
     "metadata": {},
     "outputs": [],
     "prompt_number": 40
    }
   ],
   "metadata": {}
  }
 ]
}