{
 "metadata": {
  "name": "",
  "signature": "sha256:eeac5705f2c4acfd527c9d9db9742ba141ac795fb10d9c314e8b9250eeceff3f"
 },
 "nbformat": 3,
 "nbformat_minor": 0,
 "worksheets": [
  {
   "cells": [
    {
     "cell_type": "heading",
     "level": 1,
     "metadata": {},
     "source": [
      "Purpose: use select_region code to create set of skin pixel only RGB images and non-skin pixel only RGB images"
     ]
    },
    {
     "cell_type": "code",
     "collapsed": false,
     "input": [
      "%matplotlib\n",
      "import matplotlib.pyplot as plt\n",
      "from matplotlib import cm\n",
      "import matplotlib.patches\n",
      "from matplotlib.path import Path\n",
      "import numpy as np\n",
      "import sys\n",
      "import numpy.ma as ma\n",
      "import pickle"
     ],
     "language": "python",
     "metadata": {},
     "outputs": [
      {
       "output_type": "stream",
       "stream": "stdout",
       "text": [
        "Using matplotlib backend: MacOSX\n"
       ]
      }
     ],
     "prompt_number": 15
    },
    {
     "cell_type": "code",
     "collapsed": false,
     "input": [
      "class drawMyBox:\n",
      "    '''uses matplotlib event handling to allow user to select region from image\n",
      "    for analysis. \n",
      "    Inputs: \n",
      "        fig: plotting figure object\n",
      "        ax: plotting axis object\n",
      "        img: image\n",
      "        draw: \"b\" for box, \"e\" for ellipse (e usually best)\n",
      "    Returns: two version of image, one with pixels of region(s) set to zero and \n",
      "        one with pixels outside of region set to zero.\n",
      "    Instructions: \n",
      "        1.click 4 times to select region\n",
      "        2.type 'a' to accept OR 'r' to redraw\n",
      "    '''\n",
      "    def __init__(self, fig,ax,img,draw):\n",
      "        self.fig = fig\n",
      "        self.ax = ax\n",
      "        self.img = img\n",
      "        self.draw= draw  #'b': box, 'e': ellipse\n",
      "        self.x= []\n",
      "        self.y=[]\n",
      "        self.ClickCnt=0\n",
      "        self.MyShape=0 #rect or ellipse patch object\n",
      "        print \"%s \\n%s \\n%s \\n\" % (\"INSTRUCTIONS:\",\n",
      "                                   \"1.click 4 times to select region\",\n",
      "                                   \"2.type 'a' to accept OR 'r' to redraw\")\n",
      "    def reset(self):\n",
      "        self.x= []\n",
      "        self.y=[]\n",
      "        self.ClickCnt=0\n",
      "        self.MyShape=0\n",
      "    def convert(self):\n",
      "        self.x = np.array(self.x)\n",
      "        self.y = np.array(self.y)\n",
      "    def connect(self):\n",
      "        'connect to all the events we need'\n",
      "        self.KeyId = self.fig.canvas.mpl_connect('key_press_event', self.OnKey)\n",
      "        self.ClickId = self.fig.canvas.mpl_connect('button_press_event', self.OnClick)\n",
      "    def disconnect(self):\n",
      "        'disconnect all the stored connection ids'\n",
      "        self.fig.canvas.mpl_disconnect(self.ClickId)\n",
      "        self.fig.canvas.mpl_disconnect(self.KeyId)\n",
      "    def OnClick(self, event):\n",
      "        print 'Clicked at x,y = %f,%f' % (event.xdata,event.ydata)\n",
      "        self.x.append( int(event.xdata) )\n",
      "        self.y.append( int(event.ydata) )\n",
      "        self.ax.plot(event.xdata,event.ydata,\"b+\",ms=0.05*np.max(img.shape),mew=2.)\n",
      "        self.ax.axis('off')\n",
      "        self.ax.figure.canvas.draw()\n",
      "        \n",
      "        self.ClickCnt+=1\n",
      "        if self.ClickCnt ==4:\n",
      "            self.convert()\n",
      "            wid= np.abs(self.x.min()-self.x.max())\n",
      "            ht= np.abs(self.y.min()-self.y.max())\n",
      "            if self.draw == \"b\":\n",
      "                print \"Drawing box\" #need bottom left x,y\n",
      "                xl= self.x.min()\n",
      "                yb= self.y.min()\n",
      "                self.MyShape=matplotlib.patches.Rectangle([xl,yb],wid,ht, \\\n",
      "                                                alpha=0.5,color=\"b\",fill=True)\n",
      "            elif self.draw == \"e\":\n",
      "                print \"Drawing ellipse\" #need center x,y \n",
      "                xc= self.x.min() + wid/2.\n",
      "                yc= self.y.min()+ ht/2.\n",
      "                self.MyShape= matplotlib.patches.Ellipse([xc,yc],wid,ht,alpha=0.5,\\\n",
      "                        color=\"b\",fill=True,transform=self.ax.transData)\n",
      "            else:\n",
      "                print \"aborting: draw must be 'b' or 'e'\"\n",
      "                plt.close()\n",
      "            self.ax.add_patch(self.MyShape)\n",
      "            self.ax.figure.canvas.draw()\n",
      "        elif self.ClickCnt > 4:\n",
      "            print \"stopping interaction, Error: to many clicks\"\n",
      "            self.disconnect()  \n",
      "        sys.stdout.flush() #safety\n",
      "    def OnKey(self,event):\n",
      "        print 'Typed key: %s' % event.key\n",
      "        sys.stdout.flush() #safety\n",
      "        if event.key == \"r\":\n",
      "            print \"redraw\"\n",
      "            self.reset()\n",
      "            self.ax.cla()\n",
      "            self.ax.imshow(self.img)\n",
      "            self.ax.figure.canvas.draw()\n",
      "        elif event.key == \"a\":\n",
      "            print \"accept and quit\"\n",
      "            self.disconnect()\n",
      "            plt.close()\n",
      "        else:\n",
      "            print \"unrecognized key\"\n",
      "        sys.stdout.flush() #safety\n",
      "\n",
      "def Patch2Mask(drawMyBox,inside=True):\n",
      "    '''returns 2D mask corresponding to pixels covered by Patch Object. \n",
      "    Args:\n",
      "        drawMyBox -- drawMyBox object\n",
      "        inside -- True to mask pixels inside Patch Object, False to mask outide\n",
      "    output: 2D mask\n",
      "    '''\n",
      "    inv = box.ax.transData.inverted() #MUST convert dispay units to data units!\n",
      "    dataVerts= inv.transform(box.MyShape.get_verts())\n",
      "\n",
      "    pts=[]  #pixel locations in image\n",
      "    for x in range(img[:,:,0].shape[0]): #plt.imshow(img) shows shape[0] is y\n",
      "        for y in range(img[:,:,0].shape[1]):\n",
      "            pts.append( [y,x] )  #order of y,x is IMPORTANT\n",
      "\n",
      "    path = Path( dataVerts ) \n",
      "    mask=path.contains_points(pts) #TRUE where pts are inside box or ellipse vertices\n",
      "    mask2D= np.reshape(mask,img[:,:,0].shape) #try shape[::-1] if mask in wrong location \n",
      "#     if inside:\n",
      "#         R= ma.masked_array(img[:,:,0].copy(), mask=~mask2D)\n",
      "#         G= ma.masked_array(img[:,:,1].copy(), mask=~mask2D)\n",
      "#         B= ma.masked_array(img[:,:,2].copy(), mask=~mask2D)\n",
      "#     else:\n",
      "#         R= ma.masked_array(img[:,:,0].copy(), mask=mask2D)\n",
      "#         G= ma.masked_array(img[:,:,1].copy(), mask=mask2D)\n",
      "#         B= ma.masked_array(img[:,:,2].copy(), mask=mask2D)\n",
      "    return mask2D\n",
      "    "
     ],
     "language": "python",
     "metadata": {},
     "outputs": [],
     "prompt_number": 67
    },
    {
     "cell_type": "code",
     "collapsed": false,
     "input": [
      "fname='images/blog_img2.png'\n",
      "img = plt.imread(fname)\n",
      "\n",
      "fig, ax = plt.subplots()\n",
      "ax.imshow(img)    #plot first, then enable events\n",
      "box= drawMyBox(fig,ax,img,\"b\")\n",
      "box.connect()\n"
     ],
     "language": "python",
     "metadata": {},
     "outputs": [
      {
       "output_type": "stream",
       "stream": "stdout",
       "text": [
        "INSTRUCTIONS: \n",
        "1.click 4 times to select region \n",
        "2.type 'a' to accept OR 'r' to redraw \n",
        "\n"
       ]
      },
      {
       "output_type": "stream",
       "stream": "stdout",
       "text": [
        "Clicked at x,y = 75.302083,61.093750\n"
       ]
      },
      {
       "output_type": "stream",
       "stream": "stdout",
       "text": [
        "Clicked at x,y = 246.223958,65.755208\n"
       ]
      },
      {
       "output_type": "stream",
       "stream": "stdout",
       "text": [
        "Clicked at x,y = 86.718750,187.890625\n"
       ]
      },
      {
       "output_type": "stream",
       "stream": "stdout",
       "text": [
        "Clicked at x,y = 289.062500,193.359375\n",
        "Drawing box\n"
       ]
      },
      {
       "output_type": "stream",
       "stream": "stdout",
       "text": [
        "Typed key: a\n"
       ]
      },
      {
       "output_type": "stream",
       "stream": "stdout",
       "text": [
        "accept and quit\n"
       ]
      }
     ],
     "prompt_number": 61
    },
    {
     "cell_type": "code",
     "collapsed": false,
     "input": [
      "mask2D=Patch2Mask(box,inside=False)\n",
      "self.R= ma.masked_array(box.img[:,:,0].copy(), mask=mask2D)\n",
      "self.G= ma.masked_array(box.img[:,:,1].copy(), mask=mask2D)\n",
      "self.B= ma.masked_array(box.img[:,:,2].copy(), mask=mask2D)"
     ],
     "language": "python",
     "metadata": {},
     "outputs": [
      {
       "ename": "NameError",
       "evalue": "name 'self' is not defined",
       "output_type": "pyerr",
       "traceback": [
        "\u001b[0;31m---------------------------------------------------------------------------\u001b[0m\n\u001b[0;31mNameError\u001b[0m                                 Traceback (most recent call last)",
        "\u001b[0;32m<ipython-input-69-5ec17bf34d84>\u001b[0m in \u001b[0;36m<module>\u001b[0;34m()\u001b[0m\n\u001b[1;32m      1\u001b[0m \u001b[0mmask2D\u001b[0m\u001b[0;34m=\u001b[0m\u001b[0mPatch2Mask\u001b[0m\u001b[0;34m(\u001b[0m\u001b[0mbox\u001b[0m\u001b[0;34m,\u001b[0m\u001b[0minside\u001b[0m\u001b[0;34m=\u001b[0m\u001b[0mFalse\u001b[0m\u001b[0;34m)\u001b[0m\u001b[0;34m\u001b[0m\u001b[0m\n\u001b[0;32m----> 2\u001b[0;31m \u001b[0mself\u001b[0m\u001b[0;34m.\u001b[0m\u001b[0mR\u001b[0m\u001b[0;34m=\u001b[0m \u001b[0mma\u001b[0m\u001b[0;34m.\u001b[0m\u001b[0mmasked_array\u001b[0m\u001b[0;34m(\u001b[0m\u001b[0mbox\u001b[0m\u001b[0;34m.\u001b[0m\u001b[0mimg\u001b[0m\u001b[0;34m[\u001b[0m\u001b[0;34m:\u001b[0m\u001b[0;34m,\u001b[0m\u001b[0;34m:\u001b[0m\u001b[0;34m,\u001b[0m\u001b[0;36m0\u001b[0m\u001b[0;34m]\u001b[0m\u001b[0;34m.\u001b[0m\u001b[0mcopy\u001b[0m\u001b[0;34m(\u001b[0m\u001b[0;34m)\u001b[0m\u001b[0;34m,\u001b[0m \u001b[0mmask\u001b[0m\u001b[0;34m=\u001b[0m\u001b[0mmask2D\u001b[0m\u001b[0;34m)\u001b[0m\u001b[0;34m\u001b[0m\u001b[0m\n\u001b[0m\u001b[1;32m      3\u001b[0m \u001b[0mself\u001b[0m\u001b[0;34m.\u001b[0m\u001b[0mG\u001b[0m\u001b[0;34m=\u001b[0m \u001b[0mma\u001b[0m\u001b[0;34m.\u001b[0m\u001b[0mmasked_array\u001b[0m\u001b[0;34m(\u001b[0m\u001b[0mbox\u001b[0m\u001b[0;34m.\u001b[0m\u001b[0mimg\u001b[0m\u001b[0;34m[\u001b[0m\u001b[0;34m:\u001b[0m\u001b[0;34m,\u001b[0m\u001b[0;34m:\u001b[0m\u001b[0;34m,\u001b[0m\u001b[0;36m1\u001b[0m\u001b[0;34m]\u001b[0m\u001b[0;34m.\u001b[0m\u001b[0mcopy\u001b[0m\u001b[0;34m(\u001b[0m\u001b[0;34m)\u001b[0m\u001b[0;34m,\u001b[0m \u001b[0mmask\u001b[0m\u001b[0;34m=\u001b[0m\u001b[0mmask2D\u001b[0m\u001b[0;34m)\u001b[0m\u001b[0;34m\u001b[0m\u001b[0m\n\u001b[1;32m      4\u001b[0m \u001b[0mself\u001b[0m\u001b[0;34m.\u001b[0m\u001b[0mB\u001b[0m\u001b[0;34m=\u001b[0m \u001b[0mma\u001b[0m\u001b[0;34m.\u001b[0m\u001b[0mmasked_array\u001b[0m\u001b[0;34m(\u001b[0m\u001b[0mbox\u001b[0m\u001b[0;34m.\u001b[0m\u001b[0mimg\u001b[0m\u001b[0;34m[\u001b[0m\u001b[0;34m:\u001b[0m\u001b[0;34m,\u001b[0m\u001b[0;34m:\u001b[0m\u001b[0;34m,\u001b[0m\u001b[0;36m2\u001b[0m\u001b[0;34m]\u001b[0m\u001b[0;34m.\u001b[0m\u001b[0mcopy\u001b[0m\u001b[0;34m(\u001b[0m\u001b[0;34m)\u001b[0m\u001b[0;34m,\u001b[0m \u001b[0mmask\u001b[0m\u001b[0;34m=\u001b[0m\u001b[0mmask2D\u001b[0m\u001b[0;34m)\u001b[0m\u001b[0;34m\u001b[0m\u001b[0m\n",
        "\u001b[0;31mNameError\u001b[0m: name 'self' is not defined"
       ]
      }
     ],
     "prompt_number": 69
    },
    {
     "cell_type": "code",
     "collapsed": false,
     "input": [
      "f,ax= plt.subplots(1,4)\n",
      "ax[0].imshow(box.img)\n",
      "ax[1].imshow(R)\n",
      "ax[2].imshow(G)\n",
      "ax[3].imshow(B)"
     ],
     "language": "python",
     "metadata": {},
     "outputs": [
      {
       "metadata": {},
       "output_type": "pyout",
       "prompt_number": 19,
       "text": [
        "<matplotlib.image.AxesImage at 0x10f63e090>"
       ]
      }
     ],
     "prompt_number": 19
    },
    {
     "cell_type": "heading",
     "level": 1,
     "metadata": {},
     "source": [
      "Define classes for holding image data, masks, RGB etc."
     ]
    },
    {
     "cell_type": "code",
     "collapsed": false,
     "input": [
      "class RgbSet:\n",
      "    def __init__(self,image,mask2D):\n",
      "        self.R= ma.masked_array(image[:,:,0].copy(), mask=~mask2D)\n",
      "        self.G= ma.masked_array(image[:,:,1].copy(), mask=~mask2D)\n",
      "        self.B= ma.masked_array(image[:,:,2].copy(), mask=~mask2D)\n",
      "\n",
      "class FilteredImage():\n",
      "    def __init__(self,image,mask2D,url):\n",
      "        self.image=image\n",
      "        self.mask2D=mask2D\n",
      "        self.url=url\n",
      "        self.SkinOnly= RgbSet(image,mask2D)\n",
      "        self.NoSkinOnly = RgbSet(image,~mask2D)\n",
      "\n",
      "\n"
     ],
     "language": "python",
     "metadata": {},
     "outputs": [],
     "prompt_number": 70
    },
    {
     "cell_type": "code",
     "collapsed": false,
     "input": [
      "cimage=FilteredImage(box.img,mask2D,\"\")"
     ],
     "language": "python",
     "metadata": {},
     "outputs": [],
     "prompt_number": 71
    },
    {
     "cell_type": "code",
     "collapsed": false,
     "input": [
      "plt.imshow(cimage.SkinOnly.B)\n",
      "plt.show()"
     ],
     "language": "python",
     "metadata": {},
     "outputs": [],
     "prompt_number": 73
    },
    {
     "cell_type": "code",
     "collapsed": false,
     "input": [
      "fw = open(\"a1\", 'w') \n",
      "pickle.dump((R,G,B), fw)\n",
      "fw.close()"
     ],
     "language": "python",
     "metadata": {},
     "outputs": [
      {
       "ename": "NotImplementedError",
       "evalue": "Not implemented yet, sorry...",
       "output_type": "pyerr",
       "traceback": [
        "\u001b[0;31m---------------------------------------------------------------------------\u001b[0m\n\u001b[0;31mNotImplementedError\u001b[0m                       Traceback (most recent call last)",
        "\u001b[0;32m<ipython-input-22-e50e0c5ea813>\u001b[0m in \u001b[0;36m<module>\u001b[0;34m()\u001b[0m\n\u001b[1;32m      1\u001b[0m \u001b[0mfw\u001b[0m \u001b[0;34m=\u001b[0m \u001b[0mopen\u001b[0m\u001b[0;34m(\u001b[0m\u001b[0;34m'arrays'\u001b[0m\u001b[0;34m,\u001b[0m \u001b[0;34m'w'\u001b[0m\u001b[0;34m)\u001b[0m\u001b[0;34m\u001b[0m\u001b[0m\n\u001b[0;32m----> 2\u001b[0;31m \u001b[0mnp\u001b[0m\u001b[0;34m.\u001b[0m\u001b[0msavez\u001b[0m\u001b[0;34m(\u001b[0m\u001b[0mfw\u001b[0m\u001b[0;34m,\u001b[0m \u001b[0mR\u001b[0m\u001b[0;34m=\u001b[0m\u001b[0mR\u001b[0m\u001b[0;34m,\u001b[0m\u001b[0mG\u001b[0m\u001b[0;34m=\u001b[0m\u001b[0mG\u001b[0m\u001b[0;34m,\u001b[0m\u001b[0mB\u001b[0m\u001b[0;34m=\u001b[0m\u001b[0mB\u001b[0m\u001b[0;34m)\u001b[0m\u001b[0;34m\u001b[0m\u001b[0m\n\u001b[0m",
        "\u001b[0;32m/Users/kburleigh/anaconda/lib/python2.7/site-packages/numpy/lib/npyio.pyc\u001b[0m in \u001b[0;36msavez\u001b[0;34m(file, *args, **kwds)\u001b[0m\n\u001b[1;32m    531\u001b[0m \u001b[0;34m\u001b[0m\u001b[0m\n\u001b[1;32m    532\u001b[0m     \"\"\"\n\u001b[0;32m--> 533\u001b[0;31m     \u001b[0m_savez\u001b[0m\u001b[0;34m(\u001b[0m\u001b[0mfile\u001b[0m\u001b[0;34m,\u001b[0m \u001b[0margs\u001b[0m\u001b[0;34m,\u001b[0m \u001b[0mkwds\u001b[0m\u001b[0;34m,\u001b[0m \u001b[0mFalse\u001b[0m\u001b[0;34m)\u001b[0m\u001b[0;34m\u001b[0m\u001b[0m\n\u001b[0m\u001b[1;32m    534\u001b[0m \u001b[0;34m\u001b[0m\u001b[0m\n\u001b[1;32m    535\u001b[0m \u001b[0;32mdef\u001b[0m \u001b[0msavez_compressed\u001b[0m\u001b[0;34m(\u001b[0m\u001b[0mfile\u001b[0m\u001b[0;34m,\u001b[0m \u001b[0;34m*\u001b[0m\u001b[0margs\u001b[0m\u001b[0;34m,\u001b[0m \u001b[0;34m**\u001b[0m\u001b[0mkwds\u001b[0m\u001b[0;34m)\u001b[0m\u001b[0;34m:\u001b[0m\u001b[0;34m\u001b[0m\u001b[0m\n",
        "\u001b[0;32m/Users/kburleigh/anaconda/lib/python2.7/site-packages/numpy/lib/npyio.pyc\u001b[0m in \u001b[0;36m_savez\u001b[0;34m(file, args, kwds, compress)\u001b[0m\n\u001b[1;32m    591\u001b[0m             \u001b[0mfid\u001b[0m \u001b[0;34m=\u001b[0m \u001b[0mopen\u001b[0m\u001b[0;34m(\u001b[0m\u001b[0mtmpfile\u001b[0m\u001b[0;34m,\u001b[0m \u001b[0;34m'wb'\u001b[0m\u001b[0;34m)\u001b[0m\u001b[0;34m\u001b[0m\u001b[0m\n\u001b[1;32m    592\u001b[0m             \u001b[0;32mtry\u001b[0m\u001b[0;34m:\u001b[0m\u001b[0;34m\u001b[0m\u001b[0m\n\u001b[0;32m--> 593\u001b[0;31m                 \u001b[0mformat\u001b[0m\u001b[0;34m.\u001b[0m\u001b[0mwrite_array\u001b[0m\u001b[0;34m(\u001b[0m\u001b[0mfid\u001b[0m\u001b[0;34m,\u001b[0m \u001b[0mnp\u001b[0m\u001b[0;34m.\u001b[0m\u001b[0masanyarray\u001b[0m\u001b[0;34m(\u001b[0m\u001b[0mval\u001b[0m\u001b[0;34m)\u001b[0m\u001b[0;34m)\u001b[0m\u001b[0;34m\u001b[0m\u001b[0m\n\u001b[0m\u001b[1;32m    594\u001b[0m                 \u001b[0mfid\u001b[0m\u001b[0;34m.\u001b[0m\u001b[0mclose\u001b[0m\u001b[0;34m(\u001b[0m\u001b[0;34m)\u001b[0m\u001b[0;34m\u001b[0m\u001b[0m\n\u001b[1;32m    595\u001b[0m                 \u001b[0mfid\u001b[0m \u001b[0;34m=\u001b[0m \u001b[0mNone\u001b[0m\u001b[0;34m\u001b[0m\u001b[0m\n",
        "\u001b[0;32m/Users/kburleigh/anaconda/lib/python2.7/site-packages/numpy/lib/format.pyc\u001b[0m in \u001b[0;36mwrite_array\u001b[0;34m(fp, array, version)\u001b[0m\n\u001b[1;32m    404\u001b[0m     \u001b[0;32melse\u001b[0m\u001b[0;34m:\u001b[0m\u001b[0;34m\u001b[0m\u001b[0m\n\u001b[1;32m    405\u001b[0m         \u001b[0;32mif\u001b[0m \u001b[0misfileobj\u001b[0m\u001b[0;34m(\u001b[0m\u001b[0mfp\u001b[0m\u001b[0;34m)\u001b[0m\u001b[0;34m:\u001b[0m\u001b[0;34m\u001b[0m\u001b[0m\n\u001b[0;32m--> 406\u001b[0;31m             \u001b[0marray\u001b[0m\u001b[0;34m.\u001b[0m\u001b[0mtofile\u001b[0m\u001b[0;34m(\u001b[0m\u001b[0mfp\u001b[0m\u001b[0;34m)\u001b[0m\u001b[0;34m\u001b[0m\u001b[0m\n\u001b[0m\u001b[1;32m    407\u001b[0m         \u001b[0;32melse\u001b[0m\u001b[0;34m:\u001b[0m\u001b[0;34m\u001b[0m\u001b[0m\n\u001b[1;32m    408\u001b[0m             \u001b[0;31m# XXX: We could probably chunk this using something like\u001b[0m\u001b[0;34m\u001b[0m\u001b[0;34m\u001b[0m\u001b[0m\n",
        "\u001b[0;32m/Users/kburleigh/anaconda/lib/python2.7/site-packages/numpy/ma/core.pyc\u001b[0m in \u001b[0;36mtofile\u001b[0;34m(self, fid, sep, format)\u001b[0m\n\u001b[1;32m   5437\u001b[0m \u001b[0;34m\u001b[0m\u001b[0m\n\u001b[1;32m   5438\u001b[0m         \"\"\"\n\u001b[0;32m-> 5439\u001b[0;31m         \u001b[0;32mraise\u001b[0m \u001b[0mNotImplementedError\u001b[0m\u001b[0;34m(\u001b[0m\u001b[0;34m\"Not implemented yet, sorry...\"\u001b[0m\u001b[0;34m)\u001b[0m\u001b[0;34m\u001b[0m\u001b[0m\n\u001b[0m\u001b[1;32m   5440\u001b[0m \u001b[0;34m\u001b[0m\u001b[0m\n\u001b[1;32m   5441\u001b[0m     \u001b[0;32mdef\u001b[0m \u001b[0mtoflex\u001b[0m\u001b[0;34m(\u001b[0m\u001b[0mself\u001b[0m\u001b[0;34m)\u001b[0m\u001b[0;34m:\u001b[0m\u001b[0;34m\u001b[0m\u001b[0m\n",
        "\u001b[0;31mNotImplementedError\u001b[0m: Not implemented yet, sorry..."
       ]
      }
     ],
     "prompt_number": 22
    },
    {
     "cell_type": "code",
     "collapsed": false,
     "input": [
      "fr=open(\"a1\",\"r\")\n",
      "tup = pickle.load(fr)\n",
      "fr.close()"
     ],
     "language": "python",
     "metadata": {},
     "outputs": []
    },
    {
     "cell_type": "code",
     "collapsed": false,
     "input": [],
     "language": "python",
     "metadata": {},
     "outputs": [],
     "prompt_number": 40
    }
   ],
   "metadata": {}
  }
 ]
}