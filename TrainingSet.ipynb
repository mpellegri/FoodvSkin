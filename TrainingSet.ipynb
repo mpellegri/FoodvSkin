{
 "metadata": {
  "name": "",
  "signature": "sha256:3383c2bc5e854955db2a116247a187d7ab0902770e7db061ef0e86ce3f4db845"
 },
 "nbformat": 3,
 "nbformat_minor": 0,
 "worksheets": [
  {
   "cells": [
    {
     "cell_type": "heading",
     "level": 1,
     "metadata": {},
     "source": [
      "make training set with select_region.ipynb code"
     ]
    },
    {
     "cell_type": "code",
     "collapsed": false,
     "input": [
      "%matplotlib\n",
      "import matplotlib.pyplot as plt\n",
      "from matplotlib import cm\n",
      "import matplotlib.patches\n",
      "from matplotlib.path import Path\n",
      "import numpy as np\n",
      "import sys\n",
      "import numpy.ma as ma"
     ],
     "language": "python",
     "metadata": {},
     "outputs": [
      {
       "output_type": "stream",
       "stream": "stdout",
       "text": [
        "Using matplotlib backend: MacOSX\n"
       ]
      }
     ],
     "prompt_number": 15
    },
    {
     "cell_type": "code",
     "collapsed": false,
     "input": [
      "class drawMyBox:\n",
      "    '''uses matplotlib event handling to allow user to select region from image\n",
      "    for analysis. \n",
      "    Inputs: \n",
      "        fig: plotting figure object\n",
      "        ax: plotting axis object\n",
      "        img: image\n",
      "        draw: \"b\" for box, \"e\" for ellipse (e usually best)\n",
      "    Returns: two version of image, one with pixels of region(s) set to zero and \n",
      "        one with pixels outside of region set to zero.\n",
      "    Instructions: \n",
      "        1.click 4 times to select region\n",
      "        2.type 'a' to accept OR 'r' to redraw\n",
      "    '''\n",
      "    def __init__(self, fig,ax,img,draw):\n",
      "        self.fig = fig\n",
      "        self.ax = ax\n",
      "        self.img = img\n",
      "        self.draw= draw  #'b': box, 'e': ellipse\n",
      "        self.x= []\n",
      "        self.y=[]\n",
      "        self.ClickCnt=0\n",
      "        self.MyShape=0 #rect or ellipse patch object\n",
      "        print \"%s \\n%s \\n%s \\n\" % (\"INSTRUCTIONS:\",\n",
      "                                   \"1.click 4 times to select region\",\n",
      "                                   \"2.type 'a' to accept OR 'r' to redraw\")\n",
      "    def reset(self):\n",
      "        self.x= []\n",
      "        self.y=[]\n",
      "        self.ClickCnt=0\n",
      "        self.MyShape=0\n",
      "    def convert(self):\n",
      "        self.x = np.array(self.x)\n",
      "        self.y = np.array(self.y)\n",
      "    def connect(self):\n",
      "        'connect to all the events we need'\n",
      "        self.KeyId = self.fig.canvas.mpl_connect('key_press_event', self.OnKey)\n",
      "        self.ClickId = self.fig.canvas.mpl_connect('button_press_event', self.OnClick)\n",
      "    def disconnect(self):\n",
      "        'disconnect all the stored connection ids'\n",
      "        self.fig.canvas.mpl_disconnect(self.ClickId)\n",
      "        self.fig.canvas.mpl_disconnect(self.KeyId)\n",
      "    def OnClick(self, event):\n",
      "        print 'Clicked at x,y = %f,%f' % (event.xdata,event.ydata)\n",
      "        self.x.append( int(event.xdata) )\n",
      "        self.y.append( int(event.ydata) )\n",
      "        self.ax.plot(event.xdata,event.ydata,\"b+\",ms=0.05*np.max(img.shape),mew=2.)\n",
      "        self.ax.axis('off')\n",
      "        self.ax.figure.canvas.draw()\n",
      "        \n",
      "        self.ClickCnt+=1\n",
      "        if self.ClickCnt ==4:\n",
      "            self.convert()\n",
      "            wid= np.abs(self.x.min()-self.x.max())\n",
      "            ht= np.abs(self.y.min()-self.y.max())\n",
      "            if self.draw == \"b\":\n",
      "                print \"Drawing box\" #need bottom left x,y\n",
      "                xl= self.x.min()\n",
      "                yb= self.y.min()\n",
      "                self.MyShape=matplotlib.patches.Rectangle([xl,yb],wid,ht, \\\n",
      "                                                alpha=0.5,color=\"b\",fill=True)\n",
      "            elif self.draw == \"e\":\n",
      "                print \"Drawing ellipse\" #need center x,y \n",
      "                xc= self.x.min() + wid/2.\n",
      "                yc= self.y.min()+ ht/2.\n",
      "                self.MyShape= matplotlib.patches.Ellipse([xc,yc],wid,ht,alpha=0.5,\\\n",
      "                        color=\"b\",fill=True,transform=self.ax.transData)\n",
      "            else:\n",
      "                print \"aborting: draw must be 'b' or 'e'\"\n",
      "                plt.close()\n",
      "            self.ax.add_patch(self.MyShape)\n",
      "            self.ax.figure.canvas.draw()\n",
      "        elif self.ClickCnt > 4:\n",
      "            print \"stopping interaction, Error: to many clicks\"\n",
      "            self.disconnect()  \n",
      "        sys.stdout.flush() #safety\n",
      "    def OnKey(self,event):\n",
      "        print 'Typed key: %s' % event.key\n",
      "        sys.stdout.flush() #safety\n",
      "        if event.key == \"r\":\n",
      "            print \"redraw\"\n",
      "            self.reset()\n",
      "            self.ax.cla()\n",
      "            self.ax.imshow(self.img)\n",
      "            self.ax.figure.canvas.draw()\n",
      "        elif event.key == \"a\":\n",
      "            print \"accept and quit\"\n",
      "            self.disconnect()\n",
      "            plt.close()\n",
      "        else:\n",
      "            print \"unrecognized key\"\n",
      "        sys.stdout.flush() #safety\n",
      "\n",
      "def ExtractRegion(drawMyBox,inside=True):\n",
      "    '''returns tuple of R,G,B masked arrays, with outside pixels masked out if inside =True\n",
      "    input: drawMyBox object\n",
      "    output: tuple of 3 2D masked numpy arrays: R, G, B respectively\n",
      "    '''\n",
      "    inv = box.ax.transData.inverted() #MUST convert dispay units to data units!\n",
      "    dataVerts= inv.transform(box.MyShape.get_verts())\n",
      "\n",
      "    pts=[]  #pixel locations in image\n",
      "    for x in range(img[:,:,0].shape[0]): #plt.imshow(img) shows shape[0] is y\n",
      "        for y in range(img[:,:,0].shape[1]):\n",
      "            pts.append( [y,x] )  #order of y,x is IMPORTANT\n",
      "\n",
      "    path = Path( dataVerts ) \n",
      "    mask=path.contains_points(pts) #TRUE where pts are inside box or ellipse vertices\n",
      "    mask2D= np.reshape(mask,img[:,:,0].shape) #try shape[::-1] if mask in wrong location \n",
      "    if inside:\n",
      "        R= ma.masked_array(img[:,:,0].copy(), mask=~mask2D)\n",
      "        G= ma.masked_array(img[:,:,1].copy(), mask=~mask2D)\n",
      "        B= ma.masked_array(img[:,:,2].copy(), mask=~mask2D)\n",
      "    else:\n",
      "        R= ma.masked_array(img[:,:,0].copy(), mask=mask2D)\n",
      "        G= ma.masked_array(img[:,:,1].copy(), mask=mask2D)\n",
      "        B= ma.masked_array(img[:,:,2].copy(), mask=mask2D)\n",
      "    return (R,G,B)\n",
      "    "
     ],
     "language": "python",
     "metadata": {},
     "outputs": [],
     "prompt_number": 12
    },
    {
     "cell_type": "code",
     "collapsed": false,
     "input": [
      "fname='images/blog_img2.png'\n",
      "img = plt.imread(fname)\n",
      "\n",
      "fig, ax = plt.subplots()\n",
      "ax.imshow(img)    #plot first, then enable events\n",
      "box= drawMyBox(fig,ax,img,\"b\")\n",
      "box.connect()\n"
     ],
     "language": "python",
     "metadata": {},
     "outputs": [
      {
       "output_type": "stream",
       "stream": "stdout",
       "text": [
        "INSTRUCTIONS: \n",
        "1.click 4 times to select region \n",
        "2.type 'a' to accept OR 'r' to redraw \n",
        "\n"
       ]
      },
      {
       "output_type": "stream",
       "stream": "stdout",
       "text": [
        "Clicked at x,y = 73.020833,49.687500\n"
       ]
      },
      {
       "output_type": "stream",
       "stream": "stdout",
       "text": [
        "Clicked at x,y = 122.265625,51.171875\n"
       ]
      },
      {
       "output_type": "stream",
       "stream": "stdout",
       "text": [
        "Clicked at x,y = 104.036458,22.005208\n"
       ]
      },
      {
       "output_type": "stream",
       "stream": "stdout",
       "text": [
        "Clicked at x,y = 104.036458,81.250000\n",
        "Drawing box\n"
       ]
      },
      {
       "output_type": "stream",
       "stream": "stdout",
       "text": [
        "Typed key: a\n"
       ]
      },
      {
       "output_type": "stream",
       "stream": "stdout",
       "text": [
        "accept and quit\n"
       ]
      }
     ],
     "prompt_number": 13
    },
    {
     "cell_type": "code",
     "collapsed": false,
     "input": [
      "R,G,B=ExtractRegion(box,inside=False)"
     ],
     "language": "python",
     "metadata": {},
     "outputs": [],
     "prompt_number": 18
    },
    {
     "cell_type": "code",
     "collapsed": false,
     "input": [
      "f,ax= plt.subplots(1,4)\n",
      "ax[0].imshow(box.img)\n",
      "ax[1].imshow(R)\n",
      "ax[2].imshow(G)\n",
      "ax[3].imshow(B)"
     ],
     "language": "python",
     "metadata": {},
     "outputs": [
      {
       "metadata": {},
       "output_type": "pyout",
       "prompt_number": 19,
       "text": [
        "<matplotlib.image.AxesImage at 0x10f63e090>"
       ]
      }
     ],
     "prompt_number": 19
    },
    {
     "cell_type": "code",
     "collapsed": false,
     "input": [],
     "language": "python",
     "metadata": {},
     "outputs": []
    }
   ],
   "metadata": {}
  }
 ]
}