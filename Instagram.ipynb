{
 "metadata": {
  "name": "",
  "signature": "sha256:f1636694e8293262dc2a3001776a51d2e477713a18304f9abdcfad72d89dbb08"
 },
 "nbformat": 3,
 "nbformat_minor": 0,
 "worksheets": [
  {
   "cells": [
    {
     "cell_type": "code",
     "collapsed": false,
     "input": [
      "from instagram.client import InstagramAPI\n",
      "import time\n",
      "import urllib"
     ],
     "language": "python",
     "metadata": {},
     "outputs": [],
     "prompt_number": 4
    },
    {
     "cell_type": "code",
     "collapsed": false,
     "input": [
      "api = InstagramAPI(client_id = 'c36fd41581cb4040a6be9a1e43f96e76', client_secret = '7091310e62f346038651ecacc55ef943' )"
     ],
     "language": "python",
     "metadata": {},
     "outputs": [],
     "prompt_number": 5
    },
    {
     "cell_type": "code",
     "collapsed": false,
     "input": [
      "api.location_search(foursquare_v2_id = '3fd66200f964a52018ed1ee3')"
     ],
     "language": "python",
     "metadata": {},
     "outputs": [
      {
       "metadata": {},
       "output_type": "pyout",
       "prompt_number": 6,
       "text": [
        "[Location: 797 (Point: (37.796141979, -122.393799209))]"
       ]
      }
     ],
     "prompt_number": 6
    },
    {
     "cell_type": "code",
     "collapsed": false,
     "input": [
      "mm, next = api.location_recent_media(location_id=797)"
     ],
     "language": "python",
     "metadata": {},
     "outputs": [],
     "prompt_number": 7
    },
    {
     "cell_type": "code",
     "collapsed": false,
     "input": [
      "mm"
     ],
     "language": "python",
     "metadata": {},
     "outputs": [
      {
       "metadata": {},
       "output_type": "pyout",
       "prompt_number": 10,
       "text": [
        "[Media: 767694843214554942_19558320,\n",
        " Media: 767655699151513722_577248769,\n",
        " Media: 767546245734437294_3543043,\n",
        " Media: 767490557464159988_176906928,\n",
        " Media: 767474529156713029_26005753,\n",
        " Media: 767043051367640413_332223274,\n",
        " Media: 767042373157804273_1463989,\n",
        " Media: 767031884392502115_6546859,\n",
        " Media: 767026853997590024_41128468,\n",
        " Media: 766981827942135600_33317796,\n",
        " Media: 766960839661068725_47562183,\n",
        " Media: 766952131280495735_19558320]"
       ]
      }
     ],
     "prompt_number": 10
    },
    {
     "cell_type": "code",
     "collapsed": false,
     "input": [
      "print mm[0].get_standard_resolution_url()"
     ],
     "language": "python",
     "metadata": {},
     "outputs": [
      {
       "output_type": "stream",
       "stream": "stdout",
       "text": [
        "http://scontent-a.cdninstagram.com/hphotos-xap1/t51.2885-15/10518012_656014667809381_1631992217_n.jpg\n"
       ]
      }
     ],
     "prompt_number": 30
    },
    {
     "cell_type": "code",
     "collapsed": false,
     "input": [
      "for media in mm:\n",
      "    print media.images['standard_resolution']\n",
      "    urllib.urlretrieve(media.get_standard_resolution_url(), \"/Users/Maurizio/Desktop/\"+media.id)"
     ],
     "language": "python",
     "metadata": {},
     "outputs": [
      {
       "output_type": "stream",
       "stream": "stdout",
       "text": [
        "Image: http://scontent-a.cdninstagram.com/hphotos-xap1/t51.2885-15/10518012_656014667809381_1631992217_n.jpg\n",
        "Image: http://scontent-b.cdninstagram.com/hphotos-xfp1/t51.2885-15/10507863_528983557201121_1234039368_n.jpg"
       ]
      },
      {
       "output_type": "stream",
       "stream": "stdout",
       "text": [
        "\n",
        "Image: http://scontent-a.cdninstagram.com/hphotos-xap1/t51.2885-15/925920_705799962824748_427559793_n.jpg"
       ]
      },
      {
       "output_type": "stream",
       "stream": "stdout",
       "text": [
        "\n",
        "Image: http://scontent-b.cdninstagram.com/hphotos-xpa1/t51.2885-15/926534_1514165855484083_1926718446_n.jpg"
       ]
      },
      {
       "output_type": "stream",
       "stream": "stdout",
       "text": [
        "\n",
        "Image: http://scontent-b.cdninstagram.com/hphotos-xfp1/t51.2885-15/10554229_269229496602564_1740375068_n.jpg"
       ]
      },
      {
       "output_type": "stream",
       "stream": "stdout",
       "text": [
        "\n",
        "Image: http://scontent-a.cdninstagram.com/hphotos-xfa1/t51.2885-15/914420_820688024616143_1443224566_n.jpg"
       ]
      },
      {
       "output_type": "stream",
       "stream": "stdout",
       "text": [
        "\n",
        "Image: http://scontent-b.cdninstagram.com/hphotos-xpa1/t51.2885-15/10251374_323510041147918_207010878_n.jpg"
       ]
      },
      {
       "output_type": "stream",
       "stream": "stdout",
       "text": [
        "\n",
        "Image: http://scontent-b.cdninstagram.com/hphotos-xpf1/t51.2885-15/10537283_1391240427781790_1842625407_n.jpg"
       ]
      },
      {
       "output_type": "stream",
       "stream": "stdout",
       "text": [
        "\n",
        "Image: http://scontent-a.cdninstagram.com/hphotos-xap1/t51.2885-15/924435_670446779698413_1767049891_n.jpg"
       ]
      },
      {
       "output_type": "stream",
       "stream": "stdout",
       "text": [
        "\n",
        "Image: http://scontent-b.cdninstagram.com/hphotos-xpa1/t51.2885-15/10540334_275857009285834_1786183298_n.jpg"
       ]
      },
      {
       "output_type": "stream",
       "stream": "stdout",
       "text": [
        "\n",
        "Image: http://scontent-a.cdninstagram.com/hphotos-xfp1/t51.2885-15/10547212_1498533703714889_1221919527_n.jpg"
       ]
      },
      {
       "output_type": "stream",
       "stream": "stdout",
       "text": [
        "\n",
        "Image: http://scontent-b.cdninstagram.com/hphotos-xpa1/t51.2885-15/10518019_1441765939419056_1208486081_n.jpg"
       ]
      },
      {
       "output_type": "stream",
       "stream": "stdout",
       "text": [
        "\n"
       ]
      }
     ],
     "prompt_number": 37
    },
    {
     "cell_type": "code",
     "collapsed": false,
     "input": [
      "next"
     ],
     "language": "python",
     "metadata": {},
     "outputs": [
      {
       "metadata": {},
       "output_type": "pyout",
       "prompt_number": 13,
       "text": [
        "'https://api.instagram.com/v1/locations/797/media/recent?max_id=766947027871193340&client_id=c36fd41581cb4040a6be9a1e43f96e76'"
       ]
      }
     ],
     "prompt_number": 13
    },
    {
     "cell_type": "code",
     "collapsed": false,
     "input": [],
     "language": "python",
     "metadata": {},
     "outputs": []
    }
   ],
   "metadata": {}
  }
 ]
}