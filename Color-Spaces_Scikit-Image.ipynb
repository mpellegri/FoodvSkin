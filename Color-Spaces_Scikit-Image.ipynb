{
 "metadata": {
  "name": "",
  "signature": "sha256:9651ae2c4414f0e40c732ad0753f4be094f1ea2812963737935022c58cec5203"
 },
 "nbformat": 3,
 "nbformat_minor": 0,
 "worksheets": [
  {
   "cells": [
    {
     "cell_type": "raw",
     "metadata": {},
     "source": [
      "1. make database of skin patches including diff races, lighting, etc, make color space plots\n",
      "2. make 2-3 color spaces to try to work in\n",
      "3. each classifier is based on 1 color space"
     ]
    },
    {
     "cell_type": "code",
     "collapsed": false,
     "input": [
      "#%matplotlib inline\n",
      "%matplotlib\n",
      "import matplotlib.pyplot as plt\n",
      "from matplotlib import cm\n",
      "import numpy as np\n",
      "import sys\n",
      "#plt.rcParams['figure.figsize'] = (8, 8)"
     ],
     "language": "python",
     "metadata": {},
     "outputs": [
      {
       "output_type": "stream",
       "stream": "stdout",
       "text": [
        "Using matplotlib backend: MacOSX\n"
       ]
      }
     ],
     "prompt_number": 1
    },
    {
     "cell_type": "code",
     "collapsed": false,
     "input": [
      "fname='images/img_3.jpeg'\n",
      "img = plt.imread(fname)\n",
      "plt.imshow(img)"
     ],
     "language": "python",
     "metadata": {},
     "outputs": [
      {
       "metadata": {},
       "output_type": "pyout",
       "prompt_number": 5,
       "text": [
        "<matplotlib.image.AxesImage at 0x10ecbd710>"
       ]
      }
     ],
     "prompt_number": 5
    },
    {
     "cell_type": "heading",
     "level": 1,
     "metadata": {},
     "source": [
      "Select_Region.ipynb code"
     ]
    },
    {
     "cell_type": "code",
     "collapsed": false,
     "input": [
      "import matplotlib.patches\n",
      "from matplotlib.path import Path\n",
      "\n",
      "class drawMyBox:\n",
      "    '''uses matplotlib event handling to allow user to select region from image\n",
      "    for analysis. \n",
      "    Inputs: \n",
      "        fig: plotting figure object\n",
      "        ax: plotting axis object\n",
      "        img: image\n",
      "        shape: \"b\" to extract box shape from image, \"e\" for ellipse (usually best)\n",
      "    Returns: two version of image, one with pixels of region(s) set to zero and \n",
      "        one with pixels outside of region set to zero.\n",
      "    Instructions: type \"a\" to accept regoin or type \"r\" to redraw.\n",
      "        box: mouse click 2 times, for lower/upper corner and upper/lower corner\n",
      "        ellipse: mouse click 4 times, first 2 clicks for width, last 2 clicks for height\n",
      "    '''\n",
      "    def __init__(self, fig,ax,img,shape):\n",
      "        self.fig = fig\n",
      "        self.ax = ax\n",
      "        self.img = img\n",
      "        self.shape= shape  #'b': box, 'e': ellipse\n",
      "        self.x= []\n",
      "        self.y=[]\n",
      "        self.ClickCnt=0\n",
      "        self.rect=0 #will get rect patch object\n",
      "        self.el=0 #will get ellipse patch object\n",
      "        print 'INSTRUCTIONS:\\n1.shape=\"b\" for box, \"e\" for ellipse'\n",
      "        print \"2.type 'a' to accept region OR 'r' to redraw region\"\n",
      "    def reset(self):\n",
      "        self.x= []\n",
      "        self.y=[]\n",
      "        self.ClickCnt=0\n",
      "        self.rect=0\n",
      "        self.el=0\n",
      "    def convert(self):\n",
      "        self.x = np.array(self.x)\n",
      "        self.y = np.array(self.y)\n",
      "    def connect(self):\n",
      "        'connect to all the events we need'\n",
      "        self.KeyId = self.fig.canvas.mpl_connect(\\\n",
      "                    'key_press_event', self.EndInteract) \n",
      "        if self.shape == \"b\": #draw box\n",
      "            print \"Click 2 times, for lower and upper corners of box\"\n",
      "            self.ClickId = self.fig.canvas.mpl_connect(\\\n",
      "                    'button_press_event', self.ClickBox)\n",
      "        elif self.shape == \"e\": #draw ellipse\n",
      "            print \"Click 4 times, for width and heigth of ellipse\" \n",
      "            self.ClickId = self.fig.canvas.mpl_connect(\\\n",
      "                    'button_press_event', self.ClickEllipse)\n",
      "        else:\n",
      "            print \"aborting: shape must be 'b' or 'e'\"\n",
      "            plt.close()\n",
      "    def ClickBox(self, event):\n",
      "        print 'Clicked at x,y = %f,%f' % (event.xdata,event.ydata)\n",
      "        self.x.append( int(event.xdata) )\n",
      "        self.y.append( int(event.ydata) )\n",
      "        self.ax.vlines(event.xdata,0,img.shape[0],\\\n",
      "                  colors=\"b\",linestyles=\"solid\",linewidth=2.)\n",
      "        self.ax.hlines(event.ydata,0,img.shape[1],\\\n",
      "                    colors=\"b\",linestyles=\"solid\",linewidth=2.)\n",
      "        self.ax.figure.canvas.draw()\n",
      "        \n",
      "        self.ClickCnt+=1\n",
      "        if self.ClickCnt ==2:\n",
      "            xmin=np.array(self.x).min()\n",
      "            ymin=np.array(self.y).min()\n",
      "            wid= np.array(self.x).max()-np.array(self.x).min()\n",
      "            ht= np.array(self.y).max()-np.array(self.y).min()\n",
      "            print \"xmin,ymin,wid,ht: \", xmin,ymin,wid,ht\n",
      "            self.rect=matplotlib.patches.Rectangle([xmin,ymin],wid,ht, alpha=0.5,color=\"b\",fill=True)\n",
      "            self.ax.add_patch(self.rect)\n",
      "            self.ax.figure.canvas.draw()\n",
      "        elif self.ClickCnt > 2:\n",
      "            print \"stopping interaction, Error: to many clicks\"\n",
      "            self.disconnect()  \n",
      "        sys.stdout.flush() #safety\n",
      "    def ClickEllipse(self, event):\n",
      "        print 'Clicked at x,y = %f,%f' % (event.xdata,event.ydata)\n",
      "        self.x.append( int(event.xdata) )\n",
      "        self.y.append( int(event.ydata) )\n",
      "        self.ax.vlines(event.xdata,0,img.shape[0],\\\n",
      "                  colors=\"b\",linestyles=\"solid\",linewidth=2.)\n",
      "        self.ax.hlines(event.ydata,0,img.shape[1],\\\n",
      "                    colors=\"b\",linestyles=\"solid\",linewidth=2.)\n",
      "        self.ax.figure.canvas.draw()\n",
      "        \n",
      "        self.ClickCnt+=1\n",
      "        if self.ClickCnt ==4:\n",
      "            wid= np.abs(self.x[0]-self.x[1])\n",
      "            ht= np.abs(self.y[2]-self.y[3])\n",
      "            xc= np.min(self.x[0:2])+wid/2.\n",
      "            yc= np.min(self.y[2:])+ ht/2.\n",
      "            self.el= matplotlib.patches.Ellipse([xc,yc],wid,ht,alpha=0.5,\\\n",
      "                        color=\"b\",fill=True,transform=self.ax.transData)\n",
      "            self.ax.add_patch(self.el)\n",
      "            self.ax.figure.canvas.draw()\n",
      "        elif self.ClickCnt > 4:\n",
      "            print \"stopping interaction, Error: to many clicks\"\n",
      "            self.disconnect()  \n",
      "        sys.stdout.flush() #safety\n",
      "    def EndInteract(self,event):\n",
      "        print 'Typed key: %s' % event.key\n",
      "        sys.stdout.flush() #safety\n",
      "        if event.key == \"r\":\n",
      "            print \"redraw\"\n",
      "            self.reset()\n",
      "            self.ax.cla()\n",
      "            self.ax.imshow(self.img)\n",
      "            self.ax.figure.canvas.draw()\n",
      "        elif event.key == \"a\":\n",
      "            print \"accept and quit\"\n",
      "            self.disconnect()\n",
      "            plt.close()\n",
      "        else:\n",
      "            print \"unrecognized key\"\n",
      "        sys.stdout.flush() #safety\n",
      "    def disconnect(self):\n",
      "        'disconnect all the stored connection ids'\n",
      "        self.fig.canvas.mpl_disconnect(self.ClickId)\n",
      "        self.fig.canvas.mpl_disconnect(self.KeyId)\n",
      "        \n",
      "sys.stdout.flush() #safety\n",
      "fig, ax = plt.subplots()\n",
      "ax.imshow(img)    #plot first, then enable events\n",
      "box= drawMyBox(fig,ax,img,\"e\")\n",
      "box.connect()\n"
     ],
     "language": "python",
     "metadata": {},
     "outputs": [
      {
       "output_type": "stream",
       "stream": "stdout",
       "text": [
        "INSTRUCTIONS:\n",
        "1.shape=\"b\" for box, \"e\" for ellipse\n",
        "2.type 'a' to accept region OR 'r' to redraw region\n",
        "Click 4 times, for width and heigth of ellipse\n"
       ]
      },
      {
       "output_type": "stream",
       "stream": "stdout",
       "text": [
        "Clicked at x,y = 78.516129,47.846774\n"
       ]
      },
      {
       "output_type": "stream",
       "stream": "stdout",
       "text": [
        "Clicked at x,y = 188.210685,53.187500\n"
       ]
      },
      {
       "output_type": "stream",
       "stream": "stdout",
       "text": [
        "Clicked at x,y = 130.851815,2.138105\n"
       ]
      },
      {
       "output_type": "stream",
       "stream": "stdout",
       "text": [
        "Clicked at x,y = 127.410282,76.704637\n"
       ]
      },
      {
       "output_type": "stream",
       "stream": "stdout",
       "text": [
        "Typed key: a\n"
       ]
      },
      {
       "output_type": "stream",
       "stream": "stdout",
       "text": [
        "accept and quit\n"
       ]
      }
     ],
     "prompt_number": 6
    },
    {
     "cell_type": "code",
     "collapsed": false,
     "input": [
      "\n",
      "inv = box.ax.transData.inverted() #MUST convert dispay units to data units!\n",
      "if box.shape == \"b\":\n",
      "    dataVerts= inv.transform(box.rect.get_verts())\n",
      "elif box.shape == \"e\":\n",
      "    dataVerts= inv.transform(box.el.get_verts())\n",
      "\n",
      "pts=[]  #pixel locations in image\n",
      "for x in range(img[:,:,0].shape[0]): #plt.imshow(img) shows shape[0] is y\n",
      "    for y in range(img[:,:,0].shape[1]):\n",
      "        pts.append( [y,x] )  #order of y,x is IMPORTANT\n",
      "pts=np.array(pts).astype(np.float)\n",
      "\n",
      "path = Path( dataVerts ) \n",
      "mask=path.contains_points(pts) #TRUE where pts are inside box or ellipse vertices\n",
      "\n",
      "mask2D= np.reshape(mask,img[:,:,0].shape) #try shape[::-1] if mask in wrong location \n",
      "iSkin2D= np.where(mask2D == True)\n",
      "iNotSkin2D= np.where(mask2D != True)\n"
     ],
     "language": "python",
     "metadata": {},
     "outputs": [
      {
       "metadata": {},
       "output_type": "pyout",
       "prompt_number": 7,
       "text": [
        "<matplotlib.image.AxesImage at 0x10f33a510>"
       ]
      }
     ],
     "prompt_number": 7
    },
    {
     "cell_type": "heading",
     "level": 1,
     "metadata": {},
     "source": [
      "==================================="
     ]
    },
    {
     "cell_type": "code",
     "collapsed": false,
     "input": [
      "import numpy.ma as ma\n",
      "R= ma.masked_array(img[:,:,0].copy(), mask=~mask2D)\n",
      "G= ma.masked_array(img[:,:,1].copy(), mask=~mask2D)\n",
      "B= ma.masked_array(img[:,:,2].copy(), mask=~mask2D)\n",
      "f,ax= plt.subplots(1,4)\n",
      "ax[0].imshow(img)\n",
      "ax[1].imshow(R)\n",
      "ax[2].imshow(G)\n",
      "ax[3].imshow(B)"
     ],
     "language": "python",
     "metadata": {},
     "outputs": [
      {
       "metadata": {},
       "output_type": "pyout",
       "prompt_number": 90,
       "text": [
        "<matplotlib.image.AxesImage at 0x1163c9f90>"
       ]
      }
     ],
     "prompt_number": 90
    },
    {
     "cell_type": "code",
     "collapsed": false,
     "input": [
      "#normalized rgb\n",
      "norm=R+G+B\n",
      "r = R/norm\n",
      "g=G/norm\n",
      "b=B/norm\n",
      "#alpha-beta-gamma (abg)\n",
      "alpha = 3*b*r**2/(r+b+g)**3\n",
      "beta =  (r+g+b)/(3*r) + (r-g)/(r+g+b)\n",
      "gamma = (r*b+g**2)/(g*b)\n",
      "#hsv\n",
      "top=0.5*(R-G+R-B)\n",
      "bot= np.sqrt((R-G)**2+(R-B)*(G-B))\n",
      "H=np.arccos(top/bot)\n",
      "top= np.min([R.min(),G.min(),B.min()])\n",
      "S= 1.-3*top/norm\n",
      "V=norm/3.\n",
      "#ycrcb\n",
      "Y= 0.299*R+ 0.587*G + 0.114*B\n",
      "Cr= R-Y\n",
      "Cb= B-Y"
     ],
     "language": "python",
     "metadata": {},
     "outputs": [],
     "prompt_number": 52
    },
    {
     "cell_type": "code",
     "collapsed": false,
     "input": [
      "f,ax=plt.subplots(4,3)\n",
      "ax[0][0].scatter(r,g)\n",
      "ax[0][1].scatter(r,b)\n",
      "ax[0][2].scatter(g,b)\n",
      "ax[1][0].scatter(alpha,beta)\n",
      "ax[1][1].scatter(alpha,gamma)\n",
      "ax[1][2].scatter(beta,gamma)\n",
      "ax[2][0].scatter(H,S)\n",
      "ax[2][1].scatter(H,V)\n",
      "ax[2][2].scatter(S,V)\n",
      "ax[3][0].scatter(Y,Cr)\n",
      "ax[3][1].scatter(Y,Cb)\n",
      "ax[3][2].scatter(Cr,Cb)\n",
      "f.subplots_adjust(hspace=0.5,wspace=0.5)\n",
      "titles=[\"rg\",\"rb\",\"gb\",\"alpha-beta\",\"alpha-gamma\",\"beta-gamma\"\\\n",
      "        ,\"HS\",\"HV\",\"SV\",\"YCr\",\"YCb\",\"CrCb\"]\n",
      "for cnt,axes in enumerate(ax.flatten()):\n",
      "    axes.set_title(titles[cnt])\n",
      "    #axes.set_yscale(\"log\")\n",
      "    #axes.set_xscale(\"log\")"
     ],
     "language": "python",
     "metadata": {},
     "outputs": [],
     "prompt_number": 89
    },
    {
     "cell_type": "heading",
     "level": 1,
     "metadata": {},
     "source": [
      "Class Objects for color spaces"
     ]
    },
    {
     "cell_type": "code",
     "collapsed": false,
     "input": [
      "class ColorSpaceFuncs():\n",
      "    '''functions for calculating color space values.\n",
      "    Input: RGB numpy masked arrays (original RGB values...)\n",
      "    ex) alpha or normalized R'''\n",
      "\n",
      "    def alpha(R,G,B):\n",
      "    def beta\n",
      "    def gamma\n",
      "    ...\n",
      "\n",
      "class PixelType(ColorSpaceFuncs()):\n",
      "    '''holds data for a given pixel type, could be Skin only, \n",
      "    non-skin only, etc\n",
      "    input: Input: RGB numpy MaskedArrays (original RGB values...)\n",
      "    objects inherited: funcs for computing color spaces'''\n",
      "    def __init__(self,R,G,B):\n",
      "        self.mImg= mImg #masked numpy array\n",
      "        self.alpha= self.alpha(RGB)\n",
      "        \n",
      "\n",
      "\n",
      "funcs= ColorSpaceFuncs()\n",
      "oSkin= PixelType(mSkin)\n",
      "oNoSkin= PixelType(mNoSkin)\n",
      "\n",
      "    \n",
      "    \n",
      "    \n",
      "    \n",
      "    norm=R+G+B\n",
      "r = R/norm\n",
      "g=G/norm\n",
      "b=B/norm\n",
      "#alpha-beta-gamma (abg)\n",
      "alpha = 3*b*r**2/(r+b+g)**3\n",
      "beta =  (r+g+b)/(3*r) + (r-g)/(r+g+b)\n",
      "gamma = (r*b+g**2)/(g*b)\n",
      "#hsv\n",
      "top=0.5*(R-G+R-B)\n",
      "bot= np.sqrt((R-G)**2+(R-B)*(G-B))\n",
      "H=np.arccos(top/bot)\n",
      "top= np.min([R.min(),G.min(),B.min()])\n",
      "S= 1.-3*top/norm\n",
      "V=norm/3.\n",
      "#ycrcb\n",
      "Y= 0.299*R+ 0.587*G + 0.114*B\n",
      "Cr= R-Y\n",
      "Cb= B-Y"
     ],
     "language": "python",
     "metadata": {},
     "outputs": []
    },
    {
     "cell_type": "code",
     "collapsed": false,
     "input": [
      "#histograms: img and abg\n",
      "f,ax= plt.subplots(1,3)\n",
      "axList= ax.flatten()\n",
      "axList[0].hist(,bins=100,alpha=0.25)\n",
      "axList[1].hist(alpha,bins=100,alpha=0.25)\n",
      "axList[2].hist(alpha,bins=100,alpha=0.25)\n",
      "axList[3].hist(alpha,bins=100,alpha=0.25)\n",
      "titles=[\"img\",\"alpha\",\"beta\",\"gamma\"]\n",
      "for cnt,axes in enumerate(ax.flatten()):\n",
      "    axes.set_title(titles[cnt])\n",
      "    #axes.set_yscale(\"log\")\n",
      "    #axes.set_xscale(\"log\")"
     ],
     "language": "python",
     "metadata": {},
     "outputs": [],
     "prompt_number": 91
    },
    {
     "cell_type": "heading",
     "level": 1,
     "metadata": {},
     "source": [
      "Scikit-Image"
     ]
    },
    {
     "cell_type": "code",
     "collapsed": false,
     "input": [
      "#edge-detection\n",
      "import matplotlib.pyplot as plt\n",
      "\n",
      "from skimage.data import camera\n",
      "from skimage.filter import roberts, sobel\n",
      "\n",
      "\n",
      "image = camera()\n",
      "edge_roberts = roberts(image)\n",
      "edge_sobel = sobel(image)\n",
      "image.shape\n"
     ],
     "language": "python",
     "metadata": {},
     "outputs": [
      {
       "metadata": {},
       "output_type": "pyout",
       "prompt_number": 5,
       "text": [
        "(512, 512)"
       ]
      }
     ],
     "prompt_number": 5
    },
    {
     "cell_type": "code",
     "collapsed": false,
     "input": [
      "f,ax= plt.subplots(1,3)\n",
      "\n",
      "ax[0].imshow(edge_roberts, cmap=plt.cm.gray)\n",
      "ax[0].set_title('Roberts Edge Detection')\n",
      "ax[0].axis('off')\n",
      "\n",
      "ax[1].imshow(edge_sobel, cmap=plt.cm.gray)\n",
      "ax[1].set_title('Sobel Edge Detection')\n",
      "ax[1].axis('off')\n",
      "\n",
      "ax[2].imshow(image,cmap=plt.cm.gray)\n",
      "\n",
      "plt.show()"
     ],
     "language": "python",
     "metadata": {},
     "outputs": [],
     "prompt_number": 6
    },
    {
     "cell_type": "code",
     "collapsed": false,
     "input": [
      "f,ax= plt.subplots(1,3)\n",
      "ax.flatten()\n"
     ],
     "language": "python",
     "metadata": {},
     "outputs": [
      {
       "metadata": {},
       "output_type": "pyout",
       "prompt_number": 93,
       "text": [
        "array([<matplotlib.axes.AxesSubplot object at 0x1109b6e50>,\n",
        "       <matplotlib.axes.AxesSubplot object at 0x111088110>,\n",
        "       <matplotlib.axes.AxesSubplot object at 0x1104c1890>], dtype=object)"
       ]
      }
     ],
     "prompt_number": 93
    },
    {
     "cell_type": "code",
     "collapsed": false,
     "input": [
      "f,ax= plt.subplots()\n",
      "Cb.flatten"
     ],
     "language": "python",
     "metadata": {},
     "outputs": [],
     "prompt_number": 15
    },
    {
     "cell_type": "code",
     "collapsed": false,
     "input": [],
     "language": "python",
     "metadata": {},
     "outputs": []
    },
    {
     "cell_type": "code",
     "collapsed": false,
     "input": [
      "np.min(8,4,5)"
     ],
     "language": "python",
     "metadata": {},
     "outputs": [
      {
       "ename": "TypeError",
       "evalue": "output must be an array",
       "output_type": "pyerr",
       "traceback": [
        "\u001b[0;31m---------------------------------------------------------------------------\u001b[0m\n\u001b[0;31mTypeError\u001b[0m                                 Traceback (most recent call last)",
        "\u001b[0;32m<ipython-input-25-bd12fb001bea>\u001b[0m in \u001b[0;36m<module>\u001b[0;34m()\u001b[0m\n\u001b[0;32m----> 1\u001b[0;31m \u001b[0mnp\u001b[0m\u001b[0;34m.\u001b[0m\u001b[0mmin\u001b[0m\u001b[0;34m(\u001b[0m\u001b[0;36m8\u001b[0m\u001b[0;34m,\u001b[0m\u001b[0;36m4\u001b[0m\u001b[0;34m,\u001b[0m\u001b[0;36m5\u001b[0m\u001b[0;34m)\u001b[0m\u001b[0;34m\u001b[0m\u001b[0m\n\u001b[0m",
        "\u001b[0;32m/Users/kburleigh/anaconda/lib/python2.7/site-packages/numpy/core/fromnumeric.pyc\u001b[0m in \u001b[0;36mamin\u001b[0;34m(a, axis, out, keepdims)\u001b[0m\n\u001b[1;32m   2207\u001b[0m         \u001b[0;32mexcept\u001b[0m \u001b[0mAttributeError\u001b[0m\u001b[0;34m:\u001b[0m\u001b[0;34m\u001b[0m\u001b[0m\n\u001b[1;32m   2208\u001b[0m             return _methods._amin(a, axis=axis,\n\u001b[0;32m-> 2209\u001b[0;31m                                 out=out, keepdims=keepdims)\n\u001b[0m\u001b[1;32m   2210\u001b[0m         \u001b[0;31m# NOTE: Dropping the keepdims parameter\u001b[0m\u001b[0;34m\u001b[0m\u001b[0;34m\u001b[0m\u001b[0m\n\u001b[1;32m   2211\u001b[0m         \u001b[0;32mreturn\u001b[0m \u001b[0mamin\u001b[0m\u001b[0;34m(\u001b[0m\u001b[0maxis\u001b[0m\u001b[0;34m=\u001b[0m\u001b[0maxis\u001b[0m\u001b[0;34m,\u001b[0m \u001b[0mout\u001b[0m\u001b[0;34m=\u001b[0m\u001b[0mout\u001b[0m\u001b[0;34m)\u001b[0m\u001b[0;34m\u001b[0m\u001b[0m\n",
        "\u001b[0;32m/Users/kburleigh/anaconda/lib/python2.7/site-packages/numpy/core/_methods.pyc\u001b[0m in \u001b[0;36m_amin\u001b[0;34m(a, axis, out, keepdims)\u001b[0m\n\u001b[1;32m     19\u001b[0m \u001b[0;32mdef\u001b[0m \u001b[0m_amin\u001b[0m\u001b[0;34m(\u001b[0m\u001b[0ma\u001b[0m\u001b[0;34m,\u001b[0m \u001b[0maxis\u001b[0m\u001b[0;34m=\u001b[0m\u001b[0mNone\u001b[0m\u001b[0;34m,\u001b[0m \u001b[0mout\u001b[0m\u001b[0;34m=\u001b[0m\u001b[0mNone\u001b[0m\u001b[0;34m,\u001b[0m \u001b[0mkeepdims\u001b[0m\u001b[0;34m=\u001b[0m\u001b[0mFalse\u001b[0m\u001b[0;34m)\u001b[0m\u001b[0;34m:\u001b[0m\u001b[0;34m\u001b[0m\u001b[0m\n\u001b[1;32m     20\u001b[0m     return um.minimum.reduce(a, axis=axis,\n\u001b[0;32m---> 21\u001b[0;31m                             out=out, keepdims=keepdims)\n\u001b[0m\u001b[1;32m     22\u001b[0m \u001b[0;34m\u001b[0m\u001b[0m\n\u001b[1;32m     23\u001b[0m \u001b[0;32mdef\u001b[0m \u001b[0m_sum\u001b[0m\u001b[0;34m(\u001b[0m\u001b[0ma\u001b[0m\u001b[0;34m,\u001b[0m \u001b[0maxis\u001b[0m\u001b[0;34m=\u001b[0m\u001b[0mNone\u001b[0m\u001b[0;34m,\u001b[0m \u001b[0mdtype\u001b[0m\u001b[0;34m=\u001b[0m\u001b[0mNone\u001b[0m\u001b[0;34m,\u001b[0m \u001b[0mout\u001b[0m\u001b[0;34m=\u001b[0m\u001b[0mNone\u001b[0m\u001b[0;34m,\u001b[0m \u001b[0mkeepdims\u001b[0m\u001b[0;34m=\u001b[0m\u001b[0mFalse\u001b[0m\u001b[0;34m)\u001b[0m\u001b[0;34m:\u001b[0m\u001b[0;34m\u001b[0m\u001b[0m\n",
        "\u001b[0;31mTypeError\u001b[0m: output must be an array"
       ]
      }
     ],
     "prompt_number": 25
    },
    {
     "cell_type": "code",
     "collapsed": false,
     "input": [
      "np.sqrt"
     ],
     "language": "python",
     "metadata": {},
     "outputs": [],
     "prompt_number": 4
    },
    {
     "cell_type": "code",
     "collapsed": false,
     "input": [
      "ir, ig, ib = [ img[:,:,i] for i in range(3) ]\n",
      "\n",
      "f, axes = plt.subplots(1, 4)\n",
      "\n",
      "axes[0].imshow(img)\n",
      "axes[1].imshow(ir, cmap=cm.gray) #Reds_r)\n",
      "axes[2].imshow(ig, cmap=cm.gray) #cm.Greens_r)\n",
      "axes[3].imshow(ib, cmap=cm.gray) #cm.Blues_r)"
     ],
     "language": "python",
     "metadata": {},
     "outputs": []
    },
    {
     "cell_type": "code",
     "collapsed": false,
     "input": [
      "#blog solution\n",
      "def \n",
      "norm= ir+ig+ib\n",
      "r=ir/norm\n",
      "g=ig/norm\n",
      "b=ib/norm\n",
      "rgb=r+g+b\n",
      "alpha=3*b*r**2/rgb**3\n",
      "beta= rgb/3/r + (r-g)/rgb\n",
      "gamma= (r*b + g**2)/g/b"
     ],
     "language": "python",
     "metadata": {},
     "outputs": []
    },
    {
     "cell_type": "code",
     "collapsed": false,
     "input": [
      "aind= alpha > 0.1276\n",
      "bind = beta <= 0.9498\n",
      "gind = gamma <= 2.7775\n",
      "abind= np.logical_and(aind,bind)\n",
      "skin= np.logical_and(abind,gind)\n",
      "not_skin= np.logical_not(skin)\n"
     ],
     "language": "python",
     "metadata": {},
     "outputs": [
      {
       "ename": "NameError",
       "evalue": "name 'alpha' is not defined",
       "output_type": "pyerr",
       "traceback": [
        "\u001b[0;31m---------------------------------------------------------------------------\u001b[0m\n\u001b[0;31mNameError\u001b[0m                                 Traceback (most recent call last)",
        "\u001b[0;32m<ipython-input-1-f413129525a4>\u001b[0m in \u001b[0;36m<module>\u001b[0;34m()\u001b[0m\n\u001b[0;32m----> 1\u001b[0;31m \u001b[0maind\u001b[0m\u001b[0;34m=\u001b[0m \u001b[0malpha\u001b[0m \u001b[0;34m>\u001b[0m \u001b[0;36m0.1276\u001b[0m\u001b[0;34m\u001b[0m\u001b[0m\n\u001b[0m\u001b[1;32m      2\u001b[0m \u001b[0mbind\u001b[0m \u001b[0;34m=\u001b[0m \u001b[0mbeta\u001b[0m \u001b[0;34m<=\u001b[0m \u001b[0;36m0.9498\u001b[0m\u001b[0;34m\u001b[0m\u001b[0m\n\u001b[1;32m      3\u001b[0m \u001b[0mgind\u001b[0m \u001b[0;34m=\u001b[0m \u001b[0mgamma\u001b[0m \u001b[0;34m<=\u001b[0m \u001b[0;36m2.7775\u001b[0m\u001b[0;34m\u001b[0m\u001b[0m\n\u001b[1;32m      4\u001b[0m \u001b[0mabind\u001b[0m\u001b[0;34m=\u001b[0m \u001b[0mnp\u001b[0m\u001b[0;34m.\u001b[0m\u001b[0mlogical_and\u001b[0m\u001b[0;34m(\u001b[0m\u001b[0maind\u001b[0m\u001b[0;34m,\u001b[0m\u001b[0mbind\u001b[0m\u001b[0;34m)\u001b[0m\u001b[0;34m\u001b[0m\u001b[0m\n\u001b[1;32m      5\u001b[0m \u001b[0mskin\u001b[0m\u001b[0;34m=\u001b[0m \u001b[0mnp\u001b[0m\u001b[0;34m.\u001b[0m\u001b[0mlogical_and\u001b[0m\u001b[0;34m(\u001b[0m\u001b[0mabind\u001b[0m\u001b[0;34m,\u001b[0m\u001b[0mgind\u001b[0m\u001b[0;34m)\u001b[0m\u001b[0;34m\u001b[0m\u001b[0m\n",
        "\u001b[0;31mNameError\u001b[0m: name 'alpha' is not defined"
       ]
      }
     ],
     "prompt_number": 1
    },
    {
     "cell_type": "code",
     "collapsed": false,
     "input": [
      "img2=img.copy()\n",
      "for i in range(3): \n",
      "    img2[:,:,i][skin]=1\n",
      "    img2[:,:,i][not_skin]=0\n",
      "f,ax= plt.subplots(1,2)\n",
      "ax[0].imshow(img)\n",
      "ax[1].imshow(img2)"
     ],
     "language": "python",
     "metadata": {},
     "outputs": []
    }
   ],
   "metadata": {}
  }
 ]
}