{
 "metadata": {
  "name": "",
  "signature": "sha256:44888ac21ad74aa35da319b00af2a4b8dfa6041cd96db2be6d4ba56fd72865e9"
 },
 "nbformat": 3,
 "nbformat_minor": 0,
 "worksheets": [
  {
   "cells": [
    {
     "cell_type": "heading",
     "level": 1,
     "metadata": {},
     "source": [
      "ROC plots for alphga-beta-gamma (abg) and YCrCb (cc) transformed pixel methods applied to a training data set"
     ]
    },
    {
     "cell_type": "code",
     "collapsed": false,
     "input": [],
     "language": "python",
     "metadata": {},
     "outputs": []
    },
    {
     "cell_type": "code",
     "collapsed": false,
     "input": [],
     "language": "python",
     "metadata": {},
     "outputs": []
    },
    {
     "cell_type": "code",
     "collapsed": false,
     "input": [],
     "language": "python",
     "metadata": {},
     "outputs": []
    },
    {
     "cell_type": "code",
     "collapsed": false,
     "input": [],
     "language": "python",
     "metadata": {},
     "outputs": []
    },
    {
     "cell_type": "code",
     "collapsed": false,
     "input": [
      "import matplotlib.pyplot as plt\n",
      "from matplotlib import cm\n",
      "import numpy as np\n",
      "import sys\n"
     ],
     "language": "python",
     "metadata": {},
     "outputs": [],
     "prompt_number": 2
    },
    {
     "cell_type": "heading",
     "level": 1,
     "metadata": {},
     "source": [
      "image from Instagram"
     ]
    },
    {
     "cell_type": "code",
     "collapsed": false,
     "input": [
      "from instagram.client import InstagramAPI\n",
      "import time\n",
      "import urllib2, cStringIO\n",
      "from PIL import Image"
     ],
     "language": "python",
     "metadata": {},
     "outputs": [],
     "prompt_number": 3
    },
    {
     "cell_type": "code",
     "collapsed": false,
     "input": [
      "time.sleep(1.5)\n",
      "api= InstagramAPI(client_id=\"1dcd8b9c15c24b7bb571ebe805b61c64\",\\\n",
      "                  client_secret=\"f5c62b342e3540a3b7f84cd2fd725cfa\")\n",
      "api.location_search(foursquare_v2_id=\"3fd66200f964a52018ed1ee3\")\n",
      "mm, next = api.location_recent_media(location_id=797)\n",
      "\n",
      "url = mm[1].images['standard_resolution'].url\n",
      "read= urllib2.urlopen(url).read()\n",
      "obj = Image.open( cStringIO.StringIO(read) )\n",
      "img= np.array(obj)"
     ],
     "language": "python",
     "metadata": {},
     "outputs": [],
     "prompt_number": 5
    },
    {
     "cell_type": "code",
     "collapsed": false,
     "input": [
      "plt.imshow(img)\n",
      "plt.show()"
     ],
     "language": "python",
     "metadata": {},
     "outputs": [],
     "prompt_number": 6
    },
    {
     "cell_type": "heading",
     "level": 1,
     "metadata": {},
     "source": [
      "Color Space algorithms + SciKit-image"
     ]
    },
    {
     "cell_type": "code",
     "collapsed": false,
     "input": [],
     "language": "python",
     "metadata": {},
     "outputs": []
    },
    {
     "cell_type": "code",
     "collapsed": false,
     "input": [
      "#alpha-beta-gamma canned method\n",
      "r = img[:,:,0].astype('f')\n",
      "g = img[:,:,1].astype('f')\n",
      "b = img[:,:,2].astype('f')\n",
      "# generate the three quantities \n",
      "alpha = 3*b*r**2/(r+b+g)**3\n",
      "beta =  (r+g+b)/(3*r) + (r-g)/(r+g+b)\n",
      "gamma = (r*b+g**2)/(g*b)\n",
      "# finally we apply the rules:\n",
      "newImg= (alpha>0.1276)&(beta<=0.9498)&(gamma<=2.7775)\n",
      "plt.imshow(newImg,cmap='gray')\n",
      "plt.show()\n"
     ],
     "language": "python",
     "metadata": {},
     "outputs": [],
     "prompt_number": 14
    },
    {
     "cell_type": "code",
     "collapsed": false,
     "input": [
      "#convert to YCrCb space and plot each channel\n"
     ],
     "language": "python",
     "metadata": {},
     "outputs": []
    },
    {
     "cell_type": "code",
     "collapsed": false,
     "input": [
      "#dilation/erosion\n",
      "from pycam import VideoCapturePlayer , numpyFromSurf\n",
      "from scipy.ndimage import morphology\n",
      "@numpyFromSurf\n",
      "def dilate(image):\n",
      "    return morphology.grey_dilation(image,(10,10,1))\n",
      "if __name__ == \u2019 __main__ \u2019:\n",
      "    VideoCapturePlayer(processFunction = dilate).main()"
     ],
     "language": "python",
     "metadata": {},
     "outputs": []
    },
    {
     "cell_type": "code",
     "collapsed": false,
     "input": [
      "#edge-detection\n",
      "from skimage.data import camera\n",
      "from skimage.filter import roberts, sobel\n",
      "\n",
      "image = camera()\n",
      "edge_roberts = roberts(newImg)\n",
      "edge_sobel = sobel(newImg)\n",
      "plot3(newImg,edge_roberts,edge_sobel)"
     ],
     "language": "python",
     "metadata": {},
     "outputs": [],
     "prompt_number": 17
    },
    {
     "cell_type": "code",
     "collapsed": false,
     "input": [
      "def plot3(a,b,c):\n",
      "    '''a,b,c -- each is a 2D numpy'''\n",
      "    f,ax= plt.subplots(1,3)\n",
      "    ax[0].imshow(a,cmap=plt.cm.gray)\n",
      "    ax[1].imshow(b, cmap=plt.cm.gray)\n",
      "    ax[2].imshow(c, cmap=plt.cm.gray)\n",
      "    plt.show()\n",
      "    "
     ],
     "language": "python",
     "metadata": {},
     "outputs": [],
     "prompt_number": 16
    },
    {
     "cell_type": "code",
     "collapsed": false,
     "input": [],
     "language": "python",
     "metadata": {},
     "outputs": [],
     "prompt_number": 11
    },
    {
     "cell_type": "code",
     "collapsed": false,
     "input": [],
     "language": "python",
     "metadata": {},
     "outputs": []
    }
   ],
   "metadata": {}
  }
 ]
}