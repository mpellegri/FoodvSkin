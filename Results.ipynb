{
 "metadata": {
  "name": "",
  "signature": "sha256:02390d724a0daf99715c2379ea5ff68ce153fc9fd983f7a32b7522a7120f5aed"
 },
 "nbformat": 3,
 "nbformat_minor": 0,
 "worksheets": [
  {
   "cells": [
    {
     "cell_type": "heading",
     "level": 1,
     "metadata": {},
     "source": [
      "All attempted Skin Algorithms"
     ]
    },
    {
     "cell_type": "code",
     "collapsed": false,
     "input": [
      "import matplotlib.pyplot as plt\n",
      "from matplotlib import cm\n",
      "import numpy as np\n",
      "import sys\n"
     ],
     "language": "python",
     "metadata": {},
     "outputs": [],
     "prompt_number": 2
    },
    {
     "cell_type": "heading",
     "level": 1,
     "metadata": {},
     "source": [
      "image from Instagram"
     ]
    },
    {
     "cell_type": "code",
     "collapsed": false,
     "input": [
      "from instagram.client import InstagramAPI\n",
      "import time\n",
      "import urllib2, cStringIO\n",
      "from PIL import Image"
     ],
     "language": "python",
     "metadata": {},
     "outputs": [],
     "prompt_number": 3
    },
    {
     "cell_type": "code",
     "collapsed": false,
     "input": [
      "time.sleep(1.5)\n",
      "api= InstagramAPI(client_id=\"1dcd8b9c15c24b7bb571ebe805b61c64\",\\\n",
      "                  client_secret=\"f5c62b342e3540a3b7f84cd2fd725cfa\")\n",
      "api.location_search(foursquare_v2_id=\"3fd66200f964a52018ed1ee3\")\n",
      "mm, next = api.location_recent_media(location_id=797)\n",
      "\n",
      "url = mm[1].images['standard_resolution'].url\n",
      "read= urllib2.urlopen(url).read()\n",
      "obj = Image.open( cStringIO.StringIO(read) )\n",
      "img= np.array(obj)"
     ],
     "language": "python",
     "metadata": {},
     "outputs": [],
     "prompt_number": 5
    },
    {
     "cell_type": "code",
     "collapsed": false,
     "input": [
      "plt.imshow(img)\n",
      "plt.show()"
     ],
     "language": "python",
     "metadata": {},
     "outputs": [],
     "prompt_number": 6
    },
    {
     "cell_type": "heading",
     "level": 1,
     "metadata": {},
     "source": [
      "Color Space algorithms + SciKit-image"
     ]
    },
    {
     "cell_type": "code",
     "collapsed": false,
     "input": [
      "#alpha-beta-gamma canned method\n",
      "r = img[:,:,0].astype('f')\n",
      "g = img[:,:,1].astype('f')\n",
      "b = img[:,:,2].astype('f')\n",
      "# generate the three quantities \n",
      "alpha = 3*b*r**2/(r+b+g)**3\n",
      "beta =  (r+g+b)/(3*r) + (r-g)/(r+g+b)\n",
      "gamma = (r*b+g**2)/(g*b)\n",
      "# finally we apply the rules:\n",
      "plt.imshow((alpha>0.1276)&(beta<=0.9498)&(gamma<=2.7775),cmap='gray')\n",
      "plt.show()\n"
     ],
     "language": "python",
     "metadata": {},
     "outputs": [],
     "prompt_number": 7
    },
    {
     "cell_type": "code",
     "collapsed": false,
     "input": [
      "#edge-detection\n",
      "from skimage.data import camera\n",
      "from skimage.filter import roberts, sobel\n",
      "\n",
      "image = camera()\n",
      "edge_roberts = roberts(image)\n",
      "edge_sobel = sobel(image)\n",
      "image.shape"
     ],
     "language": "python",
     "metadata": {},
     "outputs": []
    }
   ],
   "metadata": {}
  }
 ]
}