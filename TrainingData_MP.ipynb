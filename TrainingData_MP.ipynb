{
 "metadata": {
  "name": "",
  "signature": "sha256:af1ea0b306e4bd69a752fed875814eacd14fcd716e54a02d10abd69d95302dbc"
 },
 "nbformat": 3,
 "nbformat_minor": 0,
 "worksheets": [
  {
   "cells": [
    {
     "cell_type": "heading",
     "level": 1,
     "metadata": {},
     "source": [
      "Purpose: To build the training data set"
     ]
    },
    {
     "cell_type": "raw",
     "metadata": {},
     "source": [
      "HOW TO RUN IT\n",
      "=============\n",
      "\n",
      "Creating the Training Data Set\n",
      "=========\n",
      "find: SortManually(f,ax,train.A16.urlList[0:10])\n",
      "\n",
      "SortManually() launches the interactive session. \n",
      "give it your url list:   train.<yourRestaurantName>.urlList\n",
      "in addition to figure, axes objects\n",
      "the images will be plotted and you enter keyboard letters\n",
      "\n",
      "Type: \n",
      "       p: people (skin pixels) but NO food \n",
      "       f: food with OR without people (skin pixels) \n",
      "       r: reject image from sample\n",
      "       u: undo (replots previous image, replaces old p,f,r with new p,f,r you enter)\n",
      "       q: quit\n",
      "       other key stroke: nothing will happen\n",
      "\n",
      "Careful:\n",
      "        1. try not to type too fast, wait a second after each image loads at fastest. \n",
      "        2. typing unrecognized keys does nothing, but the python plotting window has a few \"hot keys\" (e.g., k) and typing one of those may do something unexpected\n",
      "\n",
      "Adding your own restaurants\n",
      "=============\n",
      "find: class TrainData()\n",
      "delete foursquareIDs and restaurant names, and replace with just the 5 you will use\n",
      "\n",
      "Number of images to look at\n",
      "find: Nurls=150 \n",
      "set this number to how many you want to look at, 100 per category per restaurant of good images\n",
      "\n",
      "Location ID\n",
      "=======\n",
      "automatic, no longer hard coded!\n",
      "\n",
      "Check no duplicates\n",
      "==========\n",
      "once you have list of Nurls, type: set(train.A16.urlList)\n",
      "using <yourRestaurantName> instead of <A16>\n",
      "the length of that set is the number of unique urls\n",
      "\n",
      "Saving the Data Set urls\n",
      "==========\n",
      "see: Save Data   \n",
      "for writing urls to files or saving entire numpy object in one go"
     ]
    },
    {
     "cell_type": "heading",
     "level": 4,
     "metadata": {},
     "source": [
      "Sudeep said ~ 1000 images per image type (with poeple, without people) and ~ 20 restaurants, so ~ 100 images per restaurant. 4 on team so 5 DIFFERENT restaurants or 500 different images each "
     ]
    },
    {
     "cell_type": "code",
     "collapsed": false,
     "input": [
      "%matplotlib\n",
      "import matplotlib.pyplot as plt\n",
      "from matplotlib import cm\n",
      "import matplotlib.patches\n",
      "from matplotlib.path import Path\n",
      "import numpy as np\n",
      "import sys\n",
      "import numpy.ma as ma\n",
      "\n",
      "from instagram.client import InstagramAPI\n",
      "import time\n",
      "import matplotlib.pyplot as plt\n",
      "import numpy as np\n",
      "import urllib2, cStringIO\n",
      "from PIL import Image"
     ],
     "language": "python",
     "metadata": {},
     "outputs": [
      {
       "output_type": "stream",
       "stream": "stdout",
       "text": [
        "Using matplotlib backend: WXAgg\n"
       ]
      }
     ],
     "prompt_number": 47
    },
    {
     "cell_type": "heading",
     "level": 1,
     "metadata": {},
     "source": [
      "Class Objects to hold restaurant info: foursquare IDs, url List, sorted url Lists, etc"
     ]
    },
    {
     "cell_type": "heading",
     "level": 4,
     "metadata": {},
     "source": [
      "Sudeep said ~ 1000 images per image type (with poeple, without people) and ~ 20 restaurants, so ~ 100 images per restaurant"
     ]
    },
    {
     "cell_type": "code",
     "collapsed": false,
     "input": [
      "foursquareIDs = {}\n",
      "foursquareIDs['The_Stinking_Rose'] = '3fd66200f964a520a9ed1ee3'\n",
      "foursquareIDs['Foreign_Cinema'] = '3fd66200f964a520a0ec1ee3'\n",
      "foursquareIDs['Kuletos'] = '43d9e87ff964a520732e1fe3'\n",
      "foursquareIDs['Redd'] = '4a98aee3f964a520112d20e3'\n",
      "\n",
      "class Restaurant():\n",
      "    def __init__(self,foursquareID):\n",
      "        self.foursquareID= foursquareID\n",
      "        self.urlList=[]\n",
      "        self.People=[]\n",
      "        self.NoPeople=[]\n",
      "        self.Blurry=[]\n",
      "\n",
      "class TrainData():\n",
      "    def __init__(self,foursquareIDs):\n",
      "        self.The_Stinking_Rose= Restaurant( foursquareIDs['The_Stinking_Rose'] )\n",
      "        self.Foreign_Cinema= Restaurant( foursquareIDs['Foreign_Cinema'] )\n",
      "        self.Kuletos= Restaurant( foursquareIDs['Kuletos'] )\n",
      "        self.Redd= Restaurant( foursquareIDs['Redd'] )\n",
      "\n",
      "train= TrainData(foursquareIDs)"
     ],
     "language": "python",
     "metadata": {},
     "outputs": [],
     "prompt_number": 48
    },
    {
     "cell_type": "code",
     "collapsed": false,
     "input": [
      "train.The_Stinking_Rose.foursquareID"
     ],
     "language": "python",
     "metadata": {},
     "outputs": [
      {
       "metadata": {},
       "output_type": "pyout",
       "prompt_number": 3,
       "text": [
        "'3fd66200f964a520a9ed1ee3'"
       ]
      }
     ],
     "prompt_number": 3
    },
    {
     "cell_type": "heading",
     "level": 1,
     "metadata": {},
     "source": [
      "Instagram API to get ~ 100 image url's per restaurant"
     ]
    },
    {
     "cell_type": "heading",
     "level": 4,
     "metadata": {},
     "source": [
      "done for A16 below"
     ]
    },
    {
     "cell_type": "code",
     "collapsed": false,
     "input": [
      "time.sleep(1.5)\n",
      "api= InstagramAPI(client_id=\"c36fd41581cb4040a6be9a1e43f96e76\",\\\n",
      "                  client_secret=\"7091310e62f346038651ecacc55ef943\")"
     ],
     "language": "python",
     "metadata": {},
     "outputs": [],
     "prompt_number": 49
    },
    {
     "cell_type": "code",
     "collapsed": false,
     "input": [
      "Nurls=200\n",
      "\n",
      "def maxId(apiNext):\n",
      "    beg=apiNext.find(\"max_id=\")+len(\"max_id=\")\n",
      "    end=apiNext.find(\"&\",beg)\n",
      "    return int(apiNext[beg:end])\n",
      "\n",
      "def GetUrlList(foursquareID):\n",
      "    List=[]\n",
      "    LocId= api.location_search(foursquare_v2_id=foursquareID)[0].id\n",
      "    mm, nextStr = api.location_recent_media(location_id= LocId) #tag=\"Food\"  if want include that tag\n",
      "    while len(List) <= Nurls:\n",
      "        for m in mm:\n",
      "            List.append( m.images['standard_resolution'].url )\n",
      "        mid= maxId(nextStr)\n",
      "        mm, nextStr = api.location_recent_media(location_id= LocId, max_id= mid)\n",
      "    while len(List) > Nurls: List.pop(-1) #remove the last few urls that pushed over 100\n",
      "    return List\n",
      "\n",
      "train.Redd.urlList= GetUrlList(train.Redd.foursquareID)"
     ],
     "language": "python",
     "metadata": {},
     "outputs": [],
     "prompt_number": 65
    },
    {
     "cell_type": "code",
     "collapsed": false,
     "input": [
      "test=set(train.Redd.urlList)\n",
      "len(test), train.Redd.urlList[0:10]"
     ],
     "language": "python",
     "metadata": {},
     "outputs": [
      {
       "metadata": {},
       "output_type": "pyout",
       "prompt_number": 66,
       "text": [
        "(200,\n",
        " ['http://scontent-b.cdninstagram.com/hphotos-xap1/t51.2885-15/10520295_342419892575450_1933741269_n.jpg',\n",
        "  'http://scontent-a.cdninstagram.com/hphotos-xap1/t51.2885-15/10539177_658407407561044_56309214_n.jpg',\n",
        "  'http://scontent-b.cdninstagram.com/hphotos-xpa1/t51.2885-15/10514029_343932539092179_1783378918_n.jpg',\n",
        "  'http://scontent-a.cdninstagram.com/hphotos-xfp1/t51.2885-15/10507785_1451947008395235_1918186486_n.jpg',\n",
        "  'http://scontent-a.cdninstagram.com/hphotos-xfp1/t51.2885-15/10467754_797644943602321_1832189381_n.jpg',\n",
        "  'http://scontent-b.cdninstagram.com/hphotos-xfp1/t51.2885-15/10453911_1520325298181744_1501008412_n.jpg',\n",
        "  'http://scontent-a.cdninstagram.com/hphotos-xpa1/t51.2885-15/10369550_682111505158994_1484310296_n.jpg',\n",
        "  'http://scontent-b.cdninstagram.com/hphotos-xpa1/t51.2885-15/10375870_685510038181170_513360568_n.jpg',\n",
        "  'http://scontent-b.cdninstagram.com/hphotos-xpa1/t51.2885-15/10349717_1446903382217881_1851449406_n.jpg',\n",
        "  'http://scontent-a.cdninstagram.com/hphotos-xpf1/t51.2885-15/891374_635559033198616_1410656693_n.jpg'])"
       ]
      }
     ],
     "prompt_number": 66
    },
    {
     "cell_type": "heading",
     "level": 1,
     "metadata": {},
     "source": [
      "Sort urls interactively into a list of People, No People, and Blurry (ie bad image, want to remove from sample)"
     ]
    },
    {
     "cell_type": "code",
     "collapsed": false,
     "input": [
      "def url2image(url):\n",
      "    '''read url into image, return image as numpy array'''\n",
      "    read= urllib2.urlopen(url).read()\n",
      "    obj = Image.open( cStringIO.StringIO(read) )\n",
      "    return np.array(obj)\n",
      "\n",
      "class SortManually():\n",
      "    '''\n",
      "    To Run: \n",
      "            f,ax=plt.subplots()\n",
      "            obj=Train(f,ax,urlList)\n",
      "    Type: \n",
      "            p: people (skin pixels) but NO food \n",
      "            f: food with OR without people (skin pixels) \n",
      "            r: reject image from sample\n",
      "            u: undo, go back to previous image re-enter keyboard command\n",
      "            q: quit\n",
      "    '''\n",
      "    def __init__(self,fig,ax,urlList):\n",
      "        self.fig=fig\n",
      "        self.ax=ax\n",
      "        self.urlList=urlList\n",
      "        self.index=0\n",
      "        self.People=[]\n",
      "        self.Food=[]\n",
      "        self.Reject=[] \n",
      "        self.AllKeys=[]  #gets every key entered\n",
      "        self.connect()\n",
      "    def connect(self):\n",
      "        self.KeyPressId = self.fig.canvas.mpl_connect('key_press_event', self.OnKeyPress)\n",
      "#         self.KeyReleaseId = self.fig.canvas.mpl_connect('key_release_event', self.OnKeyRelease)\n",
      "        self.img= url2image(self.url() )\n",
      "        self.ax.imshow( self.img)\n",
      "    def OnKeyPress(self,event):\n",
      "        '''sort image url into list corresponding to key pressed'''\n",
      "        self.AllKeys.append( event.key)\n",
      "        print \"Entered: %s\" % self.AllKeys[-1]\n",
      "        if event.key!=\"p\" and event.key!=\"f\" and event.key!=\"r\": \n",
      "            #special case\n",
      "            if event.key== \"q\":\n",
      "                print \"typed 'q', quitting\"\n",
      "                plt.close()\n",
      "            elif event.key==\"u\":\n",
      "                #undo: go back to previous image and get rid of previous url append\n",
      "                wrongKey= self.AllKeys[-2]\n",
      "                if wrongKey== \"p\":\n",
      "                    self.People.pop(-1)\n",
      "                elif wrongKey == \"f\":\n",
      "                    self.Food.pop(-1)\n",
      "                elif event.key == \"r\":\n",
      "                    self.Reject.pop(-1)\n",
      "                self.index-=1 #go back\n",
      "                self.plotImg()\n",
      "            else:\n",
      "                pass  #unknown key, do nothing\n",
      "            self.AllKeys.pop(-1) #in ALL cases, get rid of bad key\n",
      "        else:\n",
      "            #good key, append url and plot next image\n",
      "            if event.key == \"p\":\n",
      "                self.People.append( self.url())\n",
      "            elif event.key == \"f\":\n",
      "                self.Food.append( self.url())\n",
      "            elif event.key == \"r\":\n",
      "                self.Reject.append( self.url())\n",
      "            self.printInfo()\n",
      "            self.index+=1 #go forward\n",
      "            self.plotImg()\n",
      "    def url(self):\n",
      "        return self.urlList[self.index]\n",
      "    def plotImg(self):\n",
      "        self.img= url2image( self.url())\n",
      "        self.ax.imshow( self.img )\n",
      "        self.ax.figure.canvas.draw()\n",
      "    def printInfo(self):\n",
      "        print \"length lists People, Food, Reject = %d, %d, %d\" % \\\n",
      "                        (len(self.People),len(self.Food),len(self.Reject))\n",
      "        \n"
     ],
     "language": "python",
     "metadata": {},
     "outputs": [],
     "prompt_number": 67
    },
    {
     "cell_type": "heading",
     "level": 1,
     "metadata": {},
     "source": [
      "Instructions:"
     ]
    },
    {
     "cell_type": "raw",
     "metadata": {},
     "source": [
      "Type: \n",
      "       p: people (skin pixels) but NO food \n",
      "       f: food with OR without people (skin pixels) \n",
      "       r: reject image from sample\n",
      "       u: undo, go back to previous image re-enter keyboard command\n",
      "       q: quit"
     ]
    },
    {
     "cell_type": "code",
     "collapsed": false,
     "input": [
      "f,ax=plt.subplots()\n",
      "a=SortManually(f,ax,train.Redd.urlList)\n"
     ],
     "language": "python",
     "metadata": {},
     "outputs": [
      {
       "output_type": "stream",
       "stream": "stdout",
       "text": [
        "Entered: f\n",
        "length lists People, Food, Reject = 0, 1, 0\n",
        "Entered: f"
       ]
      },
      {
       "output_type": "stream",
       "stream": "stdout",
       "text": [
        "\n",
        "length lists People, Food, Reject = 0, 2, 0\n",
        "Entered: f"
       ]
      },
      {
       "output_type": "stream",
       "stream": "stdout",
       "text": [
        "\n",
        "length lists People, Food, Reject = 0, 3, 0\n",
        "Entered: p"
       ]
      },
      {
       "output_type": "stream",
       "stream": "stdout",
       "text": [
        "\n",
        "length lists People, Food, Reject = 1, 3, 0\n",
        "Entered: p"
       ]
      },
      {
       "output_type": "stream",
       "stream": "stdout",
       "text": [
        "\n",
        "length lists People, Food, Reject = 2, 3, 0\n",
        "Entered: r"
       ]
      },
      {
       "output_type": "stream",
       "stream": "stdout",
       "text": [
        "\n",
        "length lists People, Food, Reject = 2, 3, 1\n",
        "Entered: r"
       ]
      },
      {
       "output_type": "stream",
       "stream": "stdout",
       "text": [
        "\n",
        "length lists People, Food, Reject = 2, 3, 2\n",
        "Entered: p"
       ]
      },
      {
       "output_type": "stream",
       "stream": "stdout",
       "text": [
        "\n",
        "length lists People, Food, Reject = 3, 3, 2\n",
        "Entered: p"
       ]
      },
      {
       "output_type": "stream",
       "stream": "stdout",
       "text": [
        "\n",
        "length lists People, Food, Reject = 4, 3, 2\n",
        "Entered: f"
       ]
      },
      {
       "output_type": "stream",
       "stream": "stdout",
       "text": [
        "\n",
        "length lists People, Food, Reject = 4, 4, 2\n",
        "Entered: f"
       ]
      },
      {
       "output_type": "stream",
       "stream": "stdout",
       "text": [
        "\n",
        "length lists People, Food, Reject = 4, 5, 2\n",
        "Entered: f"
       ]
      },
      {
       "output_type": "stream",
       "stream": "stdout",
       "text": [
        "\n",
        "length lists People, Food, Reject = 4, 6, 2\n",
        "Entered: f"
       ]
      },
      {
       "output_type": "stream",
       "stream": "stdout",
       "text": [
        "\n",
        "length lists People, Food, Reject = 4, 7, 2\n",
        "Entered: p"
       ]
      },
      {
       "output_type": "stream",
       "stream": "stdout",
       "text": [
        "\n",
        "length lists People, Food, Reject = 5, 7, 2\n",
        "Entered: f"
       ]
      },
      {
       "output_type": "stream",
       "stream": "stdout",
       "text": [
        "\n",
        "length lists People, Food, Reject = 5, 8, 2\n",
        "Entered: r"
       ]
      },
      {
       "output_type": "stream",
       "stream": "stdout",
       "text": [
        "\n",
        "length lists People, Food, Reject = 5, 8, 3\n",
        "Entered: r"
       ]
      },
      {
       "output_type": "stream",
       "stream": "stdout",
       "text": [
        "\n",
        "length lists People, Food, Reject = 5, 8, 4\n",
        "Entered: f"
       ]
      },
      {
       "output_type": "stream",
       "stream": "stdout",
       "text": [
        "\n",
        "length lists People, Food, Reject = 5, 9, 4\n",
        "Entered: r"
       ]
      },
      {
       "output_type": "stream",
       "stream": "stdout",
       "text": [
        "\n",
        "length lists People, Food, Reject = 5, 9, 5\n",
        "Entered: f"
       ]
      },
      {
       "output_type": "stream",
       "stream": "stdout",
       "text": [
        "\n",
        "length lists People, Food, Reject = 5, 10, 5\n",
        "Entered: r"
       ]
      },
      {
       "output_type": "stream",
       "stream": "stdout",
       "text": [
        "\n",
        "length lists People, Food, Reject = 5, 10, 6\n",
        "Entered: f"
       ]
      },
      {
       "output_type": "stream",
       "stream": "stdout",
       "text": [
        "\n",
        "length lists People, Food, Reject = 5, 11, 6\n",
        "Entered: f"
       ]
      },
      {
       "output_type": "stream",
       "stream": "stdout",
       "text": [
        "\n",
        "length lists People, Food, Reject = 5, 12, 6\n",
        "Entered: p"
       ]
      },
      {
       "output_type": "stream",
       "stream": "stdout",
       "text": [
        "\n",
        "length lists People, Food, Reject = 6, 12, 6\n",
        "Entered: p"
       ]
      },
      {
       "output_type": "stream",
       "stream": "stdout",
       "text": [
        "\n",
        "length lists People, Food, Reject = 7, 12, 6\n",
        "Entered: f"
       ]
      },
      {
       "output_type": "stream",
       "stream": "stdout",
       "text": [
        "\n",
        "length lists People, Food, Reject = 7, 13, 6\n",
        "Entered: r"
       ]
      },
      {
       "output_type": "stream",
       "stream": "stdout",
       "text": [
        "\n",
        "length lists People, Food, Reject = 7, 13, 7\n",
        "Entered: p"
       ]
      },
      {
       "output_type": "stream",
       "stream": "stdout",
       "text": [
        "\n",
        "length lists People, Food, Reject = 8, 13, 7\n",
        "Entered: r"
       ]
      },
      {
       "output_type": "stream",
       "stream": "stdout",
       "text": [
        "\n",
        "length lists People, Food, Reject = 8, 13, 8\n",
        "Entered: p"
       ]
      },
      {
       "output_type": "stream",
       "stream": "stdout",
       "text": [
        "\n",
        "length lists People, Food, Reject = 9, 13, 8\n",
        "Entered: r"
       ]
      },
      {
       "output_type": "stream",
       "stream": "stdout",
       "text": [
        "\n",
        "length lists People, Food, Reject = 9, 13, 9\n",
        "Entered: f"
       ]
      },
      {
       "output_type": "stream",
       "stream": "stdout",
       "text": [
        "\n",
        "length lists People, Food, Reject = 9, 14, 9\n",
        "Entered: r"
       ]
      },
      {
       "output_type": "stream",
       "stream": "stdout",
       "text": [
        "\n",
        "length lists People, Food, Reject = 9, 14, 10\n",
        "Entered: r"
       ]
      },
      {
       "output_type": "stream",
       "stream": "stdout",
       "text": [
        "\n",
        "length lists People, Food, Reject = 9, 14, 11\n",
        "Entered: f"
       ]
      },
      {
       "output_type": "stream",
       "stream": "stdout",
       "text": [
        "\n",
        "length lists People, Food, Reject = 9, 15, 11\n",
        "Entered: f"
       ]
      },
      {
       "output_type": "stream",
       "stream": "stdout",
       "text": [
        "\n",
        "length lists People, Food, Reject = 9, 16, 11\n",
        "Entered: r"
       ]
      },
      {
       "output_type": "stream",
       "stream": "stdout",
       "text": [
        "\n",
        "length lists People, Food, Reject = 9, 16, 12\n",
        "Entered: r"
       ]
      },
      {
       "output_type": "stream",
       "stream": "stdout",
       "text": [
        "\n",
        "length lists People, Food, Reject = 9, 16, 13\n",
        "Entered: r"
       ]
      },
      {
       "output_type": "stream",
       "stream": "stdout",
       "text": [
        "\n",
        "length lists People, Food, Reject = 9, 16, 14\n",
        "Entered: r"
       ]
      },
      {
       "output_type": "stream",
       "stream": "stdout",
       "text": [
        "\n",
        "length lists People, Food, Reject = 9, 16, 15\n",
        "Entered: p"
       ]
      },
      {
       "output_type": "stream",
       "stream": "stdout",
       "text": [
        "\n",
        "length lists People, Food, Reject = 10, 16, 15\n",
        "Entered: r"
       ]
      },
      {
       "output_type": "stream",
       "stream": "stdout",
       "text": [
        "\n",
        "length lists People, Food, Reject = 10, 16, 16\n",
        "Entered: f"
       ]
      },
      {
       "output_type": "stream",
       "stream": "stdout",
       "text": [
        "\n",
        "length lists People, Food, Reject = 10, 17, 16\n",
        "Entered: f"
       ]
      },
      {
       "output_type": "stream",
       "stream": "stdout",
       "text": [
        "\n",
        "length lists People, Food, Reject = 10, 18, 16\n",
        "Entered: f"
       ]
      },
      {
       "output_type": "stream",
       "stream": "stdout",
       "text": [
        "\n",
        "length lists People, Food, Reject = 10, 19, 16\n",
        "Entered: f"
       ]
      },
      {
       "output_type": "stream",
       "stream": "stdout",
       "text": [
        "\n",
        "length lists People, Food, Reject = 10, 20, 16\n",
        "Entered: f"
       ]
      },
      {
       "output_type": "stream",
       "stream": "stdout",
       "text": [
        "\n",
        "length lists People, Food, Reject = 10, 21, 16\n",
        "Entered: f"
       ]
      },
      {
       "output_type": "stream",
       "stream": "stdout",
       "text": [
        "\n",
        "length lists People, Food, Reject = 10, 22, 16\n",
        "Entered: f"
       ]
      },
      {
       "output_type": "stream",
       "stream": "stdout",
       "text": [
        "\n",
        "length lists People, Food, Reject = 10, 23, 16\n",
        "Entered: p"
       ]
      },
      {
       "output_type": "stream",
       "stream": "stdout",
       "text": [
        "\n",
        "length lists People, Food, Reject = 11, 23, 16\n",
        "Entered: f"
       ]
      },
      {
       "output_type": "stream",
       "stream": "stdout",
       "text": [
        "\n",
        "length lists People, Food, Reject = 11, 24, 16\n",
        "Entered: r"
       ]
      },
      {
       "output_type": "stream",
       "stream": "stdout",
       "text": [
        "\n",
        "length lists People, Food, Reject = 11, 24, 17\n",
        "Entered: f"
       ]
      },
      {
       "output_type": "stream",
       "stream": "stdout",
       "text": [
        "\n",
        "length lists People, Food, Reject = 11, 25, 17\n",
        "Entered: r"
       ]
      },
      {
       "output_type": "stream",
       "stream": "stdout",
       "text": [
        "\n",
        "length lists People, Food, Reject = 11, 25, 18\n",
        "Entered: f"
       ]
      },
      {
       "output_type": "stream",
       "stream": "stdout",
       "text": [
        "\n",
        "length lists People, Food, Reject = 11, 26, 18\n",
        "Entered: f"
       ]
      },
      {
       "output_type": "stream",
       "stream": "stdout",
       "text": [
        "\n",
        "length lists People, Food, Reject = 11, 27, 18\n",
        "Entered: f"
       ]
      },
      {
       "output_type": "stream",
       "stream": "stdout",
       "text": [
        "\n",
        "length lists People, Food, Reject = 11, 28, 18\n",
        "Entered: f"
       ]
      },
      {
       "output_type": "stream",
       "stream": "stdout",
       "text": [
        "\n",
        "length lists People, Food, Reject = 11, 29, 18\n",
        "Entered: f"
       ]
      },
      {
       "output_type": "stream",
       "stream": "stdout",
       "text": [
        "\n",
        "length lists People, Food, Reject = 11, 30, 18\n",
        "Entered: r"
       ]
      },
      {
       "output_type": "stream",
       "stream": "stdout",
       "text": [
        "\n",
        "length lists People, Food, Reject = 11, 30, 19\n",
        "Entered: f"
       ]
      },
      {
       "output_type": "stream",
       "stream": "stdout",
       "text": [
        "\n",
        "length lists People, Food, Reject = 11, 31, 19\n",
        "Entered: r"
       ]
      },
      {
       "output_type": "stream",
       "stream": "stdout",
       "text": [
        "\n",
        "length lists People, Food, Reject = 11, 31, 20\n",
        "Entered: f"
       ]
      },
      {
       "output_type": "stream",
       "stream": "stdout",
       "text": [
        "\n",
        "length lists People, Food, Reject = 11, 32, 20\n",
        "Entered: r"
       ]
      },
      {
       "output_type": "stream",
       "stream": "stdout",
       "text": [
        "\n",
        "length lists People, Food, Reject = 11, 32, 21\n",
        "Entered: f"
       ]
      },
      {
       "output_type": "stream",
       "stream": "stdout",
       "text": [
        "\n",
        "length lists People, Food, Reject = 11, 33, 21\n",
        "Entered: r"
       ]
      },
      {
       "output_type": "stream",
       "stream": "stdout",
       "text": [
        "\n",
        "length lists People, Food, Reject = 11, 33, 22\n",
        "Entered: p"
       ]
      },
      {
       "output_type": "stream",
       "stream": "stdout",
       "text": [
        "\n",
        "length lists People, Food, Reject = 12, 33, 22\n",
        "Entered: p"
       ]
      },
      {
       "output_type": "stream",
       "stream": "stdout",
       "text": [
        "\n",
        "length lists People, Food, Reject = 13, 33, 22\n",
        "Entered: r"
       ]
      },
      {
       "output_type": "stream",
       "stream": "stdout",
       "text": [
        "\n",
        "length lists People, Food, Reject = 13, 33, 23\n",
        "Entered: p"
       ]
      },
      {
       "output_type": "stream",
       "stream": "stdout",
       "text": [
        "\n",
        "length lists People, Food, Reject = 14, 33, 23\n",
        "Entered: r"
       ]
      },
      {
       "output_type": "stream",
       "stream": "stdout",
       "text": [
        "\n",
        "length lists People, Food, Reject = 14, 33, 24\n",
        "Entered: f"
       ]
      },
      {
       "output_type": "stream",
       "stream": "stdout",
       "text": [
        "\n",
        "length lists People, Food, Reject = 14, 34, 24\n",
        "Entered: p"
       ]
      },
      {
       "output_type": "stream",
       "stream": "stdout",
       "text": [
        "\n",
        "length lists People, Food, Reject = 15, 34, 24\n",
        "Entered: f"
       ]
      },
      {
       "output_type": "stream",
       "stream": "stdout",
       "text": [
        "\n",
        "length lists People, Food, Reject = 15, 35, 24\n",
        "Entered: r"
       ]
      },
      {
       "output_type": "stream",
       "stream": "stdout",
       "text": [
        "\n",
        "length lists People, Food, Reject = 15, 35, 25\n",
        "Entered: r"
       ]
      },
      {
       "output_type": "stream",
       "stream": "stdout",
       "text": [
        "\n",
        "length lists People, Food, Reject = 15, 35, 26\n",
        "Entered: r"
       ]
      },
      {
       "output_type": "stream",
       "stream": "stdout",
       "text": [
        "\n",
        "length lists People, Food, Reject = 15, 35, 27\n",
        "Entered: r"
       ]
      },
      {
       "output_type": "stream",
       "stream": "stdout",
       "text": [
        "\n",
        "length lists People, Food, Reject = 15, 35, 28\n",
        "Entered: f"
       ]
      },
      {
       "output_type": "stream",
       "stream": "stdout",
       "text": [
        "\n",
        "length lists People, Food, Reject = 15, 36, 28\n",
        "Entered: r"
       ]
      },
      {
       "output_type": "stream",
       "stream": "stdout",
       "text": [
        "\n",
        "length lists People, Food, Reject = 15, 36, 29\n",
        "Entered: r"
       ]
      },
      {
       "output_type": "stream",
       "stream": "stdout",
       "text": [
        "\n",
        "length lists People, Food, Reject = 15, 36, 30\n",
        "Entered: f"
       ]
      },
      {
       "output_type": "stream",
       "stream": "stdout",
       "text": [
        "\n",
        "length lists People, Food, Reject = 15, 37, 30\n",
        "Entered: p"
       ]
      },
      {
       "output_type": "stream",
       "stream": "stdout",
       "text": [
        "\n",
        "length lists People, Food, Reject = 16, 37, 30\n",
        "Entered: r"
       ]
      },
      {
       "output_type": "stream",
       "stream": "stdout",
       "text": [
        "\n",
        "length lists People, Food, Reject = 16, 37, 31\n",
        "Entered: r"
       ]
      },
      {
       "output_type": "stream",
       "stream": "stdout",
       "text": [
        "\n",
        "length lists People, Food, Reject = 16, 37, 32\n",
        "Entered: p"
       ]
      },
      {
       "output_type": "stream",
       "stream": "stdout",
       "text": [
        "\n",
        "length lists People, Food, Reject = 17, 37, 32\n",
        "Entered: p"
       ]
      },
      {
       "output_type": "stream",
       "stream": "stdout",
       "text": [
        "\n",
        "length lists People, Food, Reject = 18, 37, 32\n",
        "Entered: f"
       ]
      },
      {
       "output_type": "stream",
       "stream": "stdout",
       "text": [
        "\n",
        "length lists People, Food, Reject = 18, 38, 32\n",
        "Entered: r"
       ]
      },
      {
       "output_type": "stream",
       "stream": "stdout",
       "text": [
        "\n",
        "length lists People, Food, Reject = 18, 38, 33\n",
        "Entered: r"
       ]
      },
      {
       "output_type": "stream",
       "stream": "stdout",
       "text": [
        "\n",
        "length lists People, Food, Reject = 18, 38, 34\n",
        "Entered: r"
       ]
      },
      {
       "output_type": "stream",
       "stream": "stdout",
       "text": [
        "\n",
        "length lists People, Food, Reject = 18, 38, 35\n",
        "Entered: r"
       ]
      },
      {
       "output_type": "stream",
       "stream": "stdout",
       "text": [
        "\n",
        "length lists People, Food, Reject = 18, 38, 36\n",
        "Entered: f"
       ]
      },
      {
       "output_type": "stream",
       "stream": "stdout",
       "text": [
        "\n",
        "length lists People, Food, Reject = 18, 39, 36\n",
        "Entered: f"
       ]
      },
      {
       "output_type": "stream",
       "stream": "stdout",
       "text": [
        "\n",
        "length lists People, Food, Reject = 18, 40, 36\n",
        "Entered: r"
       ]
      },
      {
       "output_type": "stream",
       "stream": "stdout",
       "text": [
        "\n",
        "length lists People, Food, Reject = 18, 40, 37\n",
        "Entered: r"
       ]
      },
      {
       "output_type": "stream",
       "stream": "stdout",
       "text": [
        "\n",
        "length lists People, Food, Reject = 18, 40, 38\n",
        "Entered: r"
       ]
      },
      {
       "output_type": "stream",
       "stream": "stdout",
       "text": [
        "\n",
        "length lists People, Food, Reject = 18, 40, 39\n",
        "Entered: f"
       ]
      },
      {
       "output_type": "stream",
       "stream": "stdout",
       "text": [
        "\n",
        "length lists People, Food, Reject = 18, 41, 39\n",
        "Entered: r"
       ]
      },
      {
       "output_type": "stream",
       "stream": "stdout",
       "text": [
        "\n",
        "length lists People, Food, Reject = 18, 41, 40\n",
        "Entered: r"
       ]
      },
      {
       "output_type": "stream",
       "stream": "stdout",
       "text": [
        "\n",
        "length lists People, Food, Reject = 18, 41, 41\n",
        "Entered: f"
       ]
      },
      {
       "output_type": "stream",
       "stream": "stdout",
       "text": [
        "\n",
        "length lists People, Food, Reject = 18, 42, 41\n",
        "Entered: f"
       ]
      },
      {
       "output_type": "stream",
       "stream": "stdout",
       "text": [
        "\n",
        "length lists People, Food, Reject = 18, 43, 41\n",
        "Entered: p"
       ]
      },
      {
       "output_type": "stream",
       "stream": "stdout",
       "text": [
        "\n",
        "length lists People, Food, Reject = 19, 43, 41\n",
        "Entered: r"
       ]
      },
      {
       "output_type": "stream",
       "stream": "stdout",
       "text": [
        "\n",
        "length lists People, Food, Reject = 19, 43, 42\n",
        "Entered: r"
       ]
      },
      {
       "output_type": "stream",
       "stream": "stdout",
       "text": [
        "\n",
        "length lists People, Food, Reject = 19, 43, 43\n",
        "Entered: r"
       ]
      },
      {
       "output_type": "stream",
       "stream": "stdout",
       "text": [
        "\n",
        "length lists People, Food, Reject = 19, 43, 44\n",
        "Entered: f"
       ]
      },
      {
       "output_type": "stream",
       "stream": "stdout",
       "text": [
        "\n",
        "length lists People, Food, Reject = 19, 44, 44\n",
        "Entered: f"
       ]
      },
      {
       "output_type": "stream",
       "stream": "stdout",
       "text": [
        "\n",
        "length lists People, Food, Reject = 19, 45, 44\n",
        "Entered: p"
       ]
      },
      {
       "output_type": "stream",
       "stream": "stdout",
       "text": [
        "\n",
        "length lists People, Food, Reject = 20, 45, 44\n",
        "Entered: r"
       ]
      },
      {
       "output_type": "stream",
       "stream": "stdout",
       "text": [
        "\n",
        "length lists People, Food, Reject = 20, 45, 45\n",
        "Entered: r"
       ]
      },
      {
       "output_type": "stream",
       "stream": "stdout",
       "text": [
        "\n",
        "length lists People, Food, Reject = 20, 45, 46\n",
        "Entered: p"
       ]
      },
      {
       "output_type": "stream",
       "stream": "stdout",
       "text": [
        "\n",
        "length lists People, Food, Reject = 21, 45, 46\n",
        "Entered: r"
       ]
      },
      {
       "output_type": "stream",
       "stream": "stdout",
       "text": [
        "\n",
        "length lists People, Food, Reject = 21, 45, 47\n",
        "Entered: r"
       ]
      },
      {
       "output_type": "stream",
       "stream": "stdout",
       "text": [
        "\n",
        "length lists People, Food, Reject = 21, 45, 48\n",
        "Entered: f"
       ]
      },
      {
       "output_type": "stream",
       "stream": "stdout",
       "text": [
        "\n",
        "length lists People, Food, Reject = 21, 46, 48\n",
        "Entered: f"
       ]
      },
      {
       "output_type": "stream",
       "stream": "stdout",
       "text": [
        "\n",
        "length lists People, Food, Reject = 21, 47, 48\n",
        "Entered: p"
       ]
      },
      {
       "output_type": "stream",
       "stream": "stdout",
       "text": [
        "\n",
        "length lists People, Food, Reject = 22, 47, 48\n",
        "Entered: p"
       ]
      },
      {
       "output_type": "stream",
       "stream": "stdout",
       "text": [
        "\n",
        "length lists People, Food, Reject = 23, 47, 48\n",
        "Entered: p"
       ]
      },
      {
       "output_type": "stream",
       "stream": "stdout",
       "text": [
        "\n",
        "length lists People, Food, Reject = 24, 47, 48\n",
        "Entered: r"
       ]
      },
      {
       "output_type": "stream",
       "stream": "stdout",
       "text": [
        "\n",
        "length lists People, Food, Reject = 24, 47, 49\n",
        "Entered: f"
       ]
      },
      {
       "output_type": "stream",
       "stream": "stdout",
       "text": [
        "\n",
        "length lists People, Food, Reject = 24, 48, 49\n",
        "Entered: f"
       ]
      },
      {
       "output_type": "stream",
       "stream": "stdout",
       "text": [
        "\n",
        "length lists People, Food, Reject = 24, 49, 49\n",
        "Entered: f"
       ]
      },
      {
       "output_type": "stream",
       "stream": "stdout",
       "text": [
        "\n",
        "length lists People, Food, Reject = 24, 50, 49\n",
        "Entered: p"
       ]
      },
      {
       "output_type": "stream",
       "stream": "stdout",
       "text": [
        "\n",
        "length lists People, Food, Reject = 25, 50, 49\n",
        "Entered: p"
       ]
      },
      {
       "output_type": "stream",
       "stream": "stdout",
       "text": [
        "\n",
        "length lists People, Food, Reject = 26, 50, 49\n",
        "Entered: f"
       ]
      },
      {
       "output_type": "stream",
       "stream": "stdout",
       "text": [
        "\n",
        "length lists People, Food, Reject = 26, 51, 49\n",
        "Entered: f"
       ]
      },
      {
       "output_type": "stream",
       "stream": "stdout",
       "text": [
        "\n",
        "length lists People, Food, Reject = 26, 52, 49\n",
        "Entered: f"
       ]
      },
      {
       "output_type": "stream",
       "stream": "stdout",
       "text": [
        "\n",
        "length lists People, Food, Reject = 26, 53, 49\n",
        "Entered: r"
       ]
      },
      {
       "output_type": "stream",
       "stream": "stdout",
       "text": [
        "\n",
        "length lists People, Food, Reject = 26, 53, 50\n",
        "Entered: f"
       ]
      },
      {
       "output_type": "stream",
       "stream": "stdout",
       "text": [
        "\n",
        "length lists People, Food, Reject = 26, 54, 50\n",
        "Entered: u"
       ]
      },
      {
       "output_type": "stream",
       "stream": "stdout",
       "text": [
        "\n",
        "Entered: p"
       ]
      },
      {
       "output_type": "stream",
       "stream": "stdout",
       "text": [
        "\n",
        "length lists People, Food, Reject = 27, 53, 50\n",
        "Entered: f"
       ]
      },
      {
       "output_type": "stream",
       "stream": "stdout",
       "text": [
        "\n",
        "length lists People, Food, Reject = 27, 54, 50\n",
        "Entered: f"
       ]
      },
      {
       "output_type": "stream",
       "stream": "stdout",
       "text": [
        "\n",
        "length lists People, Food, Reject = 27, 55, 50\n",
        "Entered: f"
       ]
      },
      {
       "output_type": "stream",
       "stream": "stdout",
       "text": [
        "\n",
        "length lists People, Food, Reject = 27, 56, 50\n",
        "Entered: p"
       ]
      },
      {
       "output_type": "stream",
       "stream": "stdout",
       "text": [
        "\n",
        "length lists People, Food, Reject = 28, 56, 50\n",
        "Entered: f"
       ]
      },
      {
       "output_type": "stream",
       "stream": "stdout",
       "text": [
        "\n",
        "length lists People, Food, Reject = 28, 57, 50\n",
        "Entered: f"
       ]
      },
      {
       "output_type": "stream",
       "stream": "stdout",
       "text": [
        "\n",
        "length lists People, Food, Reject = 28, 58, 50\n",
        "Entered: p"
       ]
      },
      {
       "output_type": "stream",
       "stream": "stdout",
       "text": [
        "\n",
        "length lists People, Food, Reject = 29, 58, 50\n",
        "Entered: f"
       ]
      },
      {
       "output_type": "stream",
       "stream": "stdout",
       "text": [
        "\n",
        "length lists People, Food, Reject = 29, 59, 50\n",
        "Entered: f"
       ]
      },
      {
       "output_type": "stream",
       "stream": "stdout",
       "text": [
        "\n",
        "length lists People, Food, Reject = 29, 60, 50\n",
        "Entered: r"
       ]
      },
      {
       "output_type": "stream",
       "stream": "stdout",
       "text": [
        "\n",
        "length lists People, Food, Reject = 29, 60, 51\n",
        "Entered: r"
       ]
      },
      {
       "output_type": "stream",
       "stream": "stdout",
       "text": [
        "\n",
        "length lists People, Food, Reject = 29, 60, 52\n",
        "Entered: r"
       ]
      },
      {
       "output_type": "stream",
       "stream": "stdout",
       "text": [
        "\n",
        "length lists People, Food, Reject = 29, 60, 53\n",
        "Entered: r"
       ]
      },
      {
       "output_type": "stream",
       "stream": "stdout",
       "text": [
        "\n",
        "length lists People, Food, Reject = 29, 60, 54\n",
        "Entered: f"
       ]
      },
      {
       "output_type": "stream",
       "stream": "stdout",
       "text": [
        "\n",
        "length lists People, Food, Reject = 29, 61, 54\n",
        "Entered: r"
       ]
      },
      {
       "output_type": "stream",
       "stream": "stdout",
       "text": [
        "\n",
        "length lists People, Food, Reject = 29, 61, 55\n",
        "Entered: p"
       ]
      },
      {
       "output_type": "stream",
       "stream": "stdout",
       "text": [
        "\n",
        "length lists People, Food, Reject = 30, 61, 55\n",
        "Entered: f"
       ]
      },
      {
       "output_type": "stream",
       "stream": "stdout",
       "text": [
        "\n",
        "length lists People, Food, Reject = 30, 62, 55\n",
        "Entered: r"
       ]
      },
      {
       "output_type": "stream",
       "stream": "stdout",
       "text": [
        "\n",
        "length lists People, Food, Reject = 30, 62, 56\n",
        "Entered: f"
       ]
      },
      {
       "output_type": "stream",
       "stream": "stdout",
       "text": [
        "\n",
        "length lists People, Food, Reject = 30, 63, 56\n",
        "Entered: f"
       ]
      },
      {
       "output_type": "stream",
       "stream": "stdout",
       "text": [
        "\n",
        "length lists People, Food, Reject = 30, 64, 56\n",
        "Entered: f"
       ]
      },
      {
       "output_type": "stream",
       "stream": "stdout",
       "text": [
        "\n",
        "length lists People, Food, Reject = 30, 65, 56\n",
        "Entered: p"
       ]
      },
      {
       "output_type": "stream",
       "stream": "stdout",
       "text": [
        "\n",
        "length lists People, Food, Reject = 31, 65, 56\n",
        "Entered: f"
       ]
      },
      {
       "output_type": "stream",
       "stream": "stdout",
       "text": [
        "\n",
        "length lists People, Food, Reject = 31, 66, 56\n",
        "Entered: r"
       ]
      },
      {
       "output_type": "stream",
       "stream": "stdout",
       "text": [
        "\n",
        "length lists People, Food, Reject = 31, 66, 57\n",
        "Entered: r"
       ]
      },
      {
       "output_type": "stream",
       "stream": "stdout",
       "text": [
        "\n",
        "length lists People, Food, Reject = 31, 66, 58\n",
        "Entered: r"
       ]
      },
      {
       "output_type": "stream",
       "stream": "stdout",
       "text": [
        "\n",
        "length lists People, Food, Reject = 31, 66, 59\n",
        "Entered: p"
       ]
      },
      {
       "output_type": "stream",
       "stream": "stdout",
       "text": [
        "\n",
        "length lists People, Food, Reject = 32, 66, 59\n",
        "Entered: f"
       ]
      },
      {
       "output_type": "stream",
       "stream": "stdout",
       "text": [
        "\n",
        "length lists People, Food, Reject = 32, 67, 59\n",
        "Entered: r"
       ]
      },
      {
       "output_type": "stream",
       "stream": "stdout",
       "text": [
        "\n",
        "length lists People, Food, Reject = 32, 67, 60\n",
        "Entered: f"
       ]
      },
      {
       "output_type": "stream",
       "stream": "stdout",
       "text": [
        "\n",
        "length lists People, Food, Reject = 32, 68, 60\n",
        "Entered: f"
       ]
      },
      {
       "output_type": "stream",
       "stream": "stdout",
       "text": [
        "\n",
        "length lists People, Food, Reject = 32, 69, 60\n",
        "Entered: r"
       ]
      },
      {
       "output_type": "stream",
       "stream": "stdout",
       "text": [
        "\n",
        "length lists People, Food, Reject = 32, 69, 61\n",
        "Entered: p"
       ]
      },
      {
       "output_type": "stream",
       "stream": "stdout",
       "text": [
        "\n",
        "length lists People, Food, Reject = 33, 69, 61\n",
        "Entered: f"
       ]
      },
      {
       "output_type": "stream",
       "stream": "stdout",
       "text": [
        "\n",
        "length lists People, Food, Reject = 33, 70, 61\n",
        "Entered: f"
       ]
      },
      {
       "output_type": "stream",
       "stream": "stdout",
       "text": [
        "\n",
        "length lists People, Food, Reject = 33, 71, 61\n",
        "Entered: f"
       ]
      },
      {
       "output_type": "stream",
       "stream": "stdout",
       "text": [
        "\n",
        "length lists People, Food, Reject = 33, 72, 61\n",
        "Entered: f"
       ]
      },
      {
       "output_type": "stream",
       "stream": "stdout",
       "text": [
        "\n",
        "length lists People, Food, Reject = 33, 73, 61\n",
        "Entered: r"
       ]
      },
      {
       "output_type": "stream",
       "stream": "stdout",
       "text": [
        "\n",
        "length lists People, Food, Reject = 33, 73, 62\n",
        "Entered: r"
       ]
      },
      {
       "output_type": "stream",
       "stream": "stdout",
       "text": [
        "\n",
        "length lists People, Food, Reject = 33, 73, 63\n",
        "Entered: r"
       ]
      },
      {
       "output_type": "stream",
       "stream": "stdout",
       "text": [
        "\n",
        "length lists People, Food, Reject = 33, 73, 64\n",
        "Entered: f"
       ]
      },
      {
       "output_type": "stream",
       "stream": "stdout",
       "text": [
        "\n",
        "length lists People, Food, Reject = 33, 74, 64\n",
        "Entered: p"
       ]
      },
      {
       "output_type": "stream",
       "stream": "stdout",
       "text": [
        "\n",
        "length lists People, Food, Reject = 34, 74, 64\n",
        "Entered: f"
       ]
      },
      {
       "output_type": "stream",
       "stream": "stdout",
       "text": [
        "\n",
        "length lists People, Food, Reject = 34, 75, 64\n",
        "Entered: r"
       ]
      },
      {
       "output_type": "stream",
       "stream": "stdout",
       "text": [
        "\n",
        "length lists People, Food, Reject = 34, 75, 65\n",
        "Entered: f"
       ]
      },
      {
       "output_type": "stream",
       "stream": "stdout",
       "text": [
        "\n",
        "length lists People, Food, Reject = 34, 76, 65\n",
        "Entered: f"
       ]
      },
      {
       "output_type": "stream",
       "stream": "stdout",
       "text": [
        "\n",
        "length lists People, Food, Reject = 34, 77, 65\n",
        "Entered: f"
       ]
      },
      {
       "output_type": "stream",
       "stream": "stdout",
       "text": [
        "\n",
        "length lists People, Food, Reject = 34, 78, 65\n",
        "Entered: r"
       ]
      },
      {
       "output_type": "stream",
       "stream": "stdout",
       "text": [
        "\n",
        "length lists People, Food, Reject = 34, 78, 66\n",
        "Entered: r"
       ]
      },
      {
       "output_type": "stream",
       "stream": "stdout",
       "text": [
        "\n",
        "length lists People, Food, Reject = 34, 78, 67\n",
        "Entered: f"
       ]
      },
      {
       "output_type": "stream",
       "stream": "stdout",
       "text": [
        "\n",
        "length lists People, Food, Reject = 34, 79, 67\n",
        "Entered: f"
       ]
      },
      {
       "output_type": "stream",
       "stream": "stdout",
       "text": [
        "\n",
        "length lists People, Food, Reject = 34, 80, 67\n",
        "Entered: f"
       ]
      },
      {
       "output_type": "stream",
       "stream": "stdout",
       "text": [
        "\n",
        "length lists People, Food, Reject = 34, 81, 67\n",
        "Entered: f"
       ]
      },
      {
       "output_type": "stream",
       "stream": "stdout",
       "text": [
        "\n",
        "length lists People, Food, Reject = 34, 82, 67\n",
        "Entered: f"
       ]
      },
      {
       "output_type": "stream",
       "stream": "stdout",
       "text": [
        "\n",
        "length lists People, Food, Reject = 34, 83, 67\n",
        "Entered: f"
       ]
      },
      {
       "output_type": "stream",
       "stream": "stdout",
       "text": [
        "\n",
        "length lists People, Food, Reject = 34, 84, 67\n",
        "Entered: r"
       ]
      },
      {
       "output_type": "stream",
       "stream": "stdout",
       "text": [
        "\n",
        "length lists People, Food, Reject = 34, 84, 68\n",
        "Entered: r"
       ]
      },
      {
       "output_type": "stream",
       "stream": "stdout",
       "text": [
        "\n",
        "length lists People, Food, Reject = 34, 84, 69\n",
        "Entered: p"
       ]
      },
      {
       "output_type": "stream",
       "stream": "stdout",
       "text": [
        "\n",
        "length lists People, Food, Reject = 35, 84, 69\n",
        "Entered: r"
       ]
      },
      {
       "output_type": "stream",
       "stream": "stdout",
       "text": [
        "\n",
        "length lists People, Food, Reject = 35, 84, 70\n",
        "Entered: p"
       ]
      },
      {
       "output_type": "stream",
       "stream": "stdout",
       "text": [
        "\n",
        "length lists People, Food, Reject = 36, 84, 70\n",
        "Entered: p"
       ]
      },
      {
       "output_type": "stream",
       "stream": "stdout",
       "text": [
        "\n",
        "length lists People, Food, Reject = 37, 84, 70\n",
        "Entered: p"
       ]
      },
      {
       "output_type": "stream",
       "stream": "stdout",
       "text": [
        "\n",
        "length lists People, Food, Reject = 38, 84, 70\n",
        "Entered: p"
       ]
      },
      {
       "output_type": "stream",
       "stream": "stdout",
       "text": [
        "\n",
        "length lists People, Food, Reject = 39, 84, 70\n",
        "Entered: r"
       ]
      },
      {
       "output_type": "stream",
       "stream": "stdout",
       "text": [
        "\n",
        "length lists People, Food, Reject = 39, 84, 71\n",
        "Entered: f"
       ]
      },
      {
       "output_type": "stream",
       "stream": "stdout",
       "text": [
        "\n",
        "length lists People, Food, Reject = 39, 85, 71\n",
        "Entered: r"
       ]
      },
      {
       "output_type": "stream",
       "stream": "stdout",
       "text": [
        "\n",
        "length lists People, Food, Reject = 39, 85, 72\n",
        "Entered: f"
       ]
      },
      {
       "output_type": "stream",
       "stream": "stdout",
       "text": [
        "\n",
        "length lists People, Food, Reject = 39, 86, 72\n",
        "Entered: f"
       ]
      },
      {
       "output_type": "stream",
       "stream": "stdout",
       "text": [
        "\n",
        "length lists People, Food, Reject = 39, 87, 72\n",
        "Entered: f"
       ]
      },
      {
       "output_type": "stream",
       "stream": "stdout",
       "text": [
        "\n",
        "length lists People, Food, Reject = 39, 88, 72\n",
        "Entered: f"
       ]
      }
     ],
     "prompt_number": 68
    },
    {
     "cell_type": "code",
     "collapsed": false,
     "input": [
      "len(a.People),len(a.Food),len(a.Reject), len(a.AllKeys)\n"
     ],
     "language": "python",
     "metadata": {},
     "outputs": [
      {
       "output_type": "stream",
       "stream": "stdout",
       "text": [
        "\n",
        "length lists People, Food, Reject = 39, 89, 72\n"
       ]
      },
      {
       "metadata": {},
       "output_type": "pyout",
       "prompt_number": 69,
       "text": [
        "(39, 89, 72, 201)"
       ]
      }
     ],
     "prompt_number": 69
    },
    {
     "cell_type": "heading",
     "level": 1,
     "metadata": {},
     "source": [
      "Check if list is correct"
     ]
    },
    {
     "cell_type": "code",
     "collapsed": false,
     "input": [
      "#for url in a.People:\n",
      "#    img = url2image(url)\n",
      "#    fig, ax = plt.subplots(figsize=(10,7))\n",
      "#    ax.imshow(img)\n",
      "#    plt.show()\n",
      "len(set(train.Redd.urlList))"
     ],
     "language": "python",
     "metadata": {},
     "outputs": [
      {
       "metadata": {},
       "output_type": "pyout",
       "prompt_number": 70,
       "text": [
        "200"
       ]
      }
     ],
     "prompt_number": 70
    },
    {
     "cell_type": "heading",
     "level": 1,
     "metadata": {},
     "source": [
      "Save data"
     ]
    },
    {
     "cell_type": "heading",
     "level": 4,
     "metadata": {},
     "source": [
      "1. Save to file"
     ]
    },
    {
     "cell_type": "code",
     "collapsed": false,
     "input": [
      "fout=open(\"Redd.Reject.txt\",\"w\")"
     ],
     "language": "python",
     "metadata": {},
     "outputs": [],
     "prompt_number": 77
    },
    {
     "cell_type": "code",
     "collapsed": false,
     "input": [
      "fout.write(\"#urls of rejected images\\n\")\n",
      "for url in a.Reject:\n",
      "    text=\"%s\\n\" % url\n",
      "    fout.write(text)"
     ],
     "language": "python",
     "metadata": {},
     "outputs": [],
     "prompt_number": 78
    },
    {
     "cell_type": "code",
     "collapsed": false,
     "input": [
      "fout.close()"
     ],
     "language": "python",
     "metadata": {},
     "outputs": [],
     "prompt_number": 79
    },
    {
     "cell_type": "heading",
     "level": 4,
     "metadata": {},
     "source": [
      "2. Save numpy object to file for restore later"
     ]
    },
    {
     "cell_type": "code",
     "collapsed": false,
     "input": [
      "train.The_Stinking_Rose.People= a.People\n",
      "train.The_Stinking_Rose.NoPeople= a.Food\n",
      "train.The_Stinking_Rose.Blurry= a.Reject"
     ],
     "language": "python",
     "metadata": {},
     "outputs": [],
     "prompt_number": 34
    },
    {
     "cell_type": "code",
     "collapsed": false,
     "input": [
      "import pickle\n",
      "fout = open(\"Foreign_Cinema.People.dump\", 'w') \n",
      "pickle.dump(train, fout)\n",
      "fout.close()"
     ],
     "language": "python",
     "metadata": {},
     "outputs": [],
     "prompt_number": 20
    },
    {
     "cell_type": "code",
     "collapsed": false,
     "input": [
      "fin=open(\"Foreign_Cinema.People.dump\",\"r\")\n",
      "restored = pickle.load(fin)\n",
      "fin.close()"
     ],
     "language": "python",
     "metadata": {},
     "outputs": [],
     "prompt_number": 21
    },
    {
     "cell_type": "code",
     "collapsed": false,
     "input": [
      "len(restored.The_Stinking_Rose.People),len(restored.The_Stinking_Rose.Food),len(restored.The_Stinking_Rose.Reject)"
     ],
     "language": "python",
     "metadata": {},
     "outputs": [
      {
       "metadata": {},
       "output_type": "pyout",
       "prompt_number": 23,
       "text": [
        "(6, 4, 0)"
       ]
      }
     ],
     "prompt_number": 23
    },
    {
     "cell_type": "code",
     "collapsed": false,
     "input": [],
     "language": "python",
     "metadata": {},
     "outputs": []
    }
   ],
   "metadata": {}
  }
 ]
}