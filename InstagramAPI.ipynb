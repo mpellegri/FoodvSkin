{
 "metadata": {
  "name": "",
  "signature": "sha256:e7585ee2e8e90fe174c397c021bfe7e5669b7b118d5111d5c18b1af3ad36a134"
 },
 "nbformat": 3,
 "nbformat_minor": 0,
 "worksheets": [
  {
   "cells": [
    {
     "cell_type": "code",
     "collapsed": false,
     "input": [
      "from instagram.client import InstagramAPI\n",
      "import time\n",
      "import matplotlib.pyplot as plt\n",
      "import numpy as np\n",
      "import urllib2, cStringIO\n",
      "from PIL import Image"
     ],
     "language": "python",
     "metadata": {},
     "outputs": [],
     "prompt_number": 1
    },
    {
     "cell_type": "code",
     "collapsed": false,
     "input": [
      "time.sleep(1.5)"
     ],
     "language": "python",
     "metadata": {},
     "outputs": [],
     "prompt_number": 2
    },
    {
     "cell_type": "code",
     "collapsed": false,
     "input": [
      "api= InstagramAPI(client_id=\"1dcd8b9c15c24b7bb571ebe805b61c64\",\\\n",
      "                  client_secret=\"f5c62b342e3540a3b7f84cd2fd725cfa\")"
     ],
     "language": "python",
     "metadata": {},
     "outputs": [],
     "prompt_number": 3
    },
    {
     "cell_type": "code",
     "collapsed": false,
     "input": [
      "api.location_search(foursquare_v2_id=\"3fd66200f964a52018ed1ee3\")\n"
     ],
     "language": "python",
     "metadata": {},
     "outputs": [
      {
       "metadata": {},
       "output_type": "pyout",
       "prompt_number": 4,
       "text": [
        "[Location: 797 (Point: (37.796141979, -122.393799209))]"
       ]
      }
     ],
     "prompt_number": 4
    },
    {
     "cell_type": "code",
     "collapsed": false,
     "input": [
      "mm, next = api.location_recent_media(location_id=797)"
     ],
     "language": "python",
     "metadata": {},
     "outputs": [],
     "prompt_number": 5
    },
    {
     "cell_type": "code",
     "collapsed": false,
     "input": [
      "mm\n"
     ],
     "language": "python",
     "metadata": {},
     "outputs": [
      {
       "metadata": {},
       "output_type": "pyout",
       "prompt_number": 6,
       "text": [
        "[Media: 768444116641415107_8712462,\n",
        " Media: 768288470165075359_18393564,\n",
        " Media: 768226223993173831_13844140,\n",
        " Media: 768196138342353909_18528649,\n",
        " Media: 768162287138128079_367078599,\n",
        " Media: 768159156079793887_1431931636,\n",
        " Media: 767860873431344208_936999856,\n",
        " Media: 767787572075747009_353520564,\n",
        " Media: 767780139025641125_196923658]"
       ]
      }
     ],
     "prompt_number": 6
    },
    {
     "cell_type": "code",
     "collapsed": false,
     "input": [],
     "language": "python",
     "metadata": {},
     "outputs": [
      {
       "metadata": {},
       "output_type": "pyout",
       "prompt_number": 7,
       "text": [
        "'http://scontent-a.cdninstagram.com/hphotos-xpa1/t51.2885-15/10518097_596400347142278_272550832_n.jpg'"
       ]
      }
     ],
     "prompt_number": 7
    },
    {
     "cell_type": "code",
     "collapsed": false,
     "input": [
      "url = mm[0].images['standard_resolution'].url\n",
      "url\n"
     ],
     "language": "python",
     "metadata": {},
     "outputs": [
      {
       "metadata": {},
       "output_type": "pyout",
       "prompt_number": 8,
       "text": [
        "'http://scontent-a.cdninstagram.com/hphotos-xpa1/t51.2885-15/10518097_596400347142278_272550832_n.jpg'"
       ]
      }
     ],
     "prompt_number": 8
    },
    {
     "cell_type": "code",
     "collapsed": false,
     "input": [
      "read= urllib2.urlopen(url).read()\n",
      "obj = Image.open( cStringIO.StringIO(read) )\n",
      "img= np.array(obj)\n",
      "plt.imshow(img)\n",
      "plt.show()"
     ],
     "language": "python",
     "metadata": {},
     "outputs": [],
     "prompt_number": 9
    },
    {
     "cell_type": "code",
     "collapsed": false,
     "input": [],
     "language": "python",
     "metadata": {},
     "outputs": []
    },
    {
     "cell_type": "code",
     "collapsed": false,
     "input": [],
     "language": "python",
     "metadata": {},
     "outputs": []
    },
    {
     "cell_type": "code",
     "collapsed": false,
     "input": [],
     "language": "python",
     "metadata": {},
     "outputs": []
    },
    {
     "cell_type": "code",
     "collapsed": false,
     "input": [],
     "language": "python",
     "metadata": {},
     "outputs": []
    },
    {
     "cell_type": "code",
     "collapsed": false,
     "input": [],
     "language": "python",
     "metadata": {},
     "outputs": []
    },
    {
     "cell_type": "code",
     "collapsed": false,
     "input": [
      "for media in mm:\n",
      "    print media.images['standard_resolution']"
     ],
     "language": "python",
     "metadata": {},
     "outputs": [
      {
       "output_type": "stream",
       "stream": "stdout",
       "text": [
        "Image: http://scontent-b.cdninstagram.com/hphotos-xpf1/t51.2885-15/10549811_763493813701830_649650611_n.jpg\n",
        "Image: http://scontent-b.cdninstagram.com/hphotos-xpf1/t51.2885-15/10513973_1526026170953671_398910656_n.jpg\n",
        "Image: http://scontent-a.cdninstagram.com/hphotos-xpa1/t51.2885-15/10537934_241725539370878_109995798_n.jpg\n",
        "Image: http://scontent-a.cdninstagram.com/hphotos-xap1/t51.2885-15/10518012_656014667809381_1631992217_n.jpg\n",
        "Image: http://scontent-b.cdninstagram.com/hphotos-xfp1/t51.2885-15/10507863_528983557201121_1234039368_n.jpg\n",
        "Image: http://scontent-a.cdninstagram.com/hphotos-xap1/t51.2885-15/925920_705799962824748_427559793_n.jpg\n",
        "Image: http://scontent-b.cdninstagram.com/hphotos-xpa1/t51.2885-15/926534_1514165855484083_1926718446_n.jpg\n"
       ]
      }
     ],
     "prompt_number": 31
    },
    {
     "cell_type": "code",
     "collapsed": false,
     "input": [
      "next"
     ],
     "language": "python",
     "metadata": {},
     "outputs": [
      {
       "metadata": {},
       "output_type": "pyout",
       "prompt_number": 32,
       "text": [
        "'https://api.instagram.com/v1/locations/797/media/recent?max_id=767478355771656240&client_id=1dcd8b9c15c24b7bb571ebe805b61c64'"
       ]
      }
     ],
     "prompt_number": 32
    },
    {
     "cell_type": "code",
     "collapsed": false,
     "input": [
      "mm, next = api.location_recent_media(location_id=797,max_id=767478355771656240)\n",
      "\n"
     ],
     "language": "python",
     "metadata": {},
     "outputs": [],
     "prompt_number": 34
    },
    {
     "cell_type": "code",
     "collapsed": false,
     "input": [
      "mm"
     ],
     "language": "python",
     "metadata": {},
     "outputs": [
      {
       "metadata": {},
       "output_type": "pyout",
       "prompt_number": 35,
       "text": [
        "[Media: 767474529156713029_26005753,\n",
        " Media: 767043051367640413_332223274,\n",
        " Media: 767042373157804273_1463989,\n",
        " Media: 767031884392502115_6546859,\n",
        " Media: 767026853997590024_41128468,\n",
        " Media: 766981827942135600_33317796,\n",
        " Media: 766960839661068725_47562183,\n",
        " Media: 766952131280495735_19558320,\n",
        " Media: 766910559597228402_12504731,\n",
        " Media: 766864469753630841_263685547,\n",
        " Media: 766812541059098864_16042329,\n",
        " Media: 766801492423953896_19487770,\n",
        " Media: 766790761739681722_18645734]"
       ]
      }
     ],
     "prompt_number": 35
    },
    {
     "cell_type": "code",
     "collapsed": false,
     "input": [
      "for media in mm:\n",
      "    print media.images['standard_resolution']"
     ],
     "language": "python",
     "metadata": {},
     "outputs": [
      {
       "output_type": "stream",
       "stream": "stdout",
       "text": [
        "Image: http://scontent-b.cdninstagram.com/hphotos-xfp1/t51.2885-15/10554229_269229496602564_1740375068_n.jpg\n",
        "Image: http://scontent-a.cdninstagram.com/hphotos-xfa1/t51.2885-15/914420_820688024616143_1443224566_n.jpg\n",
        "Image: http://scontent-b.cdninstagram.com/hphotos-xpa1/t51.2885-15/10251374_323510041147918_207010878_n.jpg\n",
        "Image: http://scontent-b.cdninstagram.com/hphotos-xpf1/t51.2885-15/10537283_1391240427781790_1842625407_n.jpg\n",
        "Image: http://scontent-a.cdninstagram.com/hphotos-xap1/t51.2885-15/924435_670446779698413_1767049891_n.jpg\n",
        "Image: http://scontent-b.cdninstagram.com/hphotos-xpa1/t51.2885-15/10540334_275857009285834_1786183298_n.jpg\n",
        "Image: http://scontent-a.cdninstagram.com/hphotos-xfp1/t51.2885-15/10547212_1498533703714889_1221919527_n.jpg\n",
        "Image: http://scontent-b.cdninstagram.com/hphotos-xpa1/t51.2885-15/10518019_1441765939419056_1208486081_n.jpg\n",
        "Image: http://scontent-a.cdninstagram.com/hphotos-xfp1/t51.2885-15/891444_876258462403945_499962130_n.jpg\n",
        "Image: http://scontent-b.cdninstagram.com/hphotos-xap1/t51.2885-15/10537995_414229002048452_2107929331_n.jpg\n",
        "Image: http://scontent-a.cdninstagram.com/hphotos-xpa1/t51.2885-15/924866_709505075786809_540339280_n.jpg\n",
        "Image: http://scontent-a.cdninstagram.com/hphotos-xpf1/t51.2885-15/10499033_1484521765121842_1592791813_n.jpg\n",
        "Image: http://scontent-a.cdninstagram.com/hphotos-xfp1/t51.2885-15/10369378_1460624024185936_197410441_n.jpg\n"
       ]
      }
     ],
     "prompt_number": 36
    }
   ],
   "metadata": {}
  }
 ]
}