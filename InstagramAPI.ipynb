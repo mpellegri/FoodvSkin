{
 "metadata": {
  "name": "",
  "signature": "sha256:65f6593761d156d1d5f3c4464e10ea6a50b50be224fa6432b33c3fb79803d5d2"
 },
 "nbformat": 3,
 "nbformat_minor": 0,
 "worksheets": [
  {
   "cells": [
    {
     "cell_type": "code",
     "collapsed": false,
     "input": [
      "from instagram.client import InstagramAPI\n",
      "import time\n",
      "import matplotlib.pyplot as plt\n",
      "import numpy as np\n",
      "import urllib2, cStringIO\n",
      "from PIL import Image"
     ],
     "language": "python",
     "metadata": {},
     "outputs": [],
     "prompt_number": 1
    },
    {
     "cell_type": "code",
     "collapsed": false,
     "input": [
      "time.sleep(1.5)"
     ],
     "language": "python",
     "metadata": {},
     "outputs": [],
     "prompt_number": 2
    },
    {
     "cell_type": "code",
     "collapsed": false,
     "input": [
      "api= InstagramAPI(client_id=\"1dcd8b9c15c24b7bb571ebe805b61c64\",\\\n",
      "                  client_secret=\"f5c62b342e3540a3b7f84cd2fd725cfa\")"
     ],
     "language": "python",
     "metadata": {},
     "outputs": [],
     "prompt_number": 3
    },
    {
     "cell_type": "code",
     "collapsed": false,
     "input": [
      "api.location_search(foursquare_v2_id=\"3fd66200f964a52018ed1ee3\")\n"
     ],
     "language": "python",
     "metadata": {},
     "outputs": [
      {
       "metadata": {},
       "output_type": "pyout",
       "prompt_number": 4,
       "text": [
        "[Location: 797 (Point: (37.796141979, -122.393799209))]"
       ]
      }
     ],
     "prompt_number": 4
    },
    {
     "cell_type": "code",
     "collapsed": false,
     "input": [
      "mm, next = api.location_recent_media(location_id=797)"
     ],
     "language": "python",
     "metadata": {},
     "outputs": [],
     "prompt_number": 17
    },
    {
     "cell_type": "code",
     "collapsed": false,
     "input": [
      "mm\n"
     ],
     "language": "python",
     "metadata": {},
     "outputs": [
      {
       "metadata": {},
       "output_type": "pyout",
       "prompt_number": 18,
       "text": [
        "[Media: 770002489364792519_199804176,\n",
        " Media: 769938015746000978_20361793,\n",
        " Media: 769926415725385110_3255020,\n",
        " Media: 769872808530203867_17557868,\n",
        " Media: 769724046792569304_144907411,\n",
        " Media: 769102094909184214_18561157]"
       ]
      }
     ],
     "prompt_number": 18
    },
    {
     "cell_type": "code",
     "collapsed": false,
     "input": [
      "for m in mm:\n",
      "    url= m.images['standard_resolution'].url\n",
      "    url2plot(url)"
     ],
     "language": "python",
     "metadata": {},
     "outputs": [],
     "prompt_number": 20
    },
    {
     "cell_type": "code",
     "collapsed": false,
     "input": [
      "next"
     ],
     "language": "python",
     "metadata": {},
     "outputs": [
      {
       "metadata": {},
       "output_type": "pyout",
       "prompt_number": 11,
       "text": [
        "'https://api.instagram.com/v1/locations/797/media/recent?max_id=769031230472694489&client_id=1dcd8b9c15c24b7bb571ebe805b61c64'"
       ]
      }
     ],
     "prompt_number": 11
    },
    {
     "cell_type": "code",
     "collapsed": false,
     "input": [
      "mm, next = api.location_recent_media(location_id=797,max_id=769031230472694489)\n",
      "mm"
     ],
     "language": "python",
     "metadata": {},
     "outputs": [
      {
       "metadata": {},
       "output_type": "pyout",
       "prompt_number": 19,
       "text": [
        "[Media: 768591413577868290_37168672,\n",
        " Media: 768444116641415107_8712462,\n",
        " Media: 768288470165075359_18393564]"
       ]
      }
     ],
     "prompt_number": 19
    },
    {
     "cell_type": "code",
     "collapsed": false,
     "input": [
      "for m in mm:\n",
      "    url= m.images['standard_resolution'].url\n",
      "    url2plot(url)"
     ],
     "language": "python",
     "metadata": {},
     "outputs": [],
     "prompt_number": 21
    },
    {
     "cell_type": "code",
     "collapsed": false,
     "input": [
      "next"
     ],
     "language": "python",
     "metadata": {},
     "outputs": [
      {
       "metadata": {},
       "output_type": "pyout",
       "prompt_number": 13,
       "text": [
        "'https://api.instagram.com/v1/locations/797/media/recent?max_id=768245736650002938&client_id=1dcd8b9c15c24b7bb571ebe805b61c64'"
       ]
      }
     ],
     "prompt_number": 13
    },
    {
     "cell_type": "code",
     "collapsed": false,
     "input": [
      "mm, next = api.location_recent_media(location_id=797,max_id=768245736650002938)\n",
      "mm"
     ],
     "language": "python",
     "metadata": {},
     "outputs": [
      {
       "metadata": {},
       "output_type": "pyout",
       "prompt_number": 22,
       "text": [
        "[Media: 768226223993173831_13844140,\n",
        " Media: 768196138342353909_18528649,\n",
        " Media: 768162287138128079_367078599,\n",
        " Media: 768159156079793887_1431931636,\n",
        " Media: 767860873431344208_936999856,\n",
        " Media: 767787572075747009_353520564,\n",
        " Media: 767780139025641125_196923658,\n",
        " Media: 767694843214554942_19558320]"
       ]
      }
     ],
     "prompt_number": 22
    },
    {
     "cell_type": "code",
     "collapsed": false,
     "input": [
      "for m in mm:\n",
      "    url= m.images['standard_resolution'].url\n",
      "    url2plot(url)\n"
     ],
     "language": "python",
     "metadata": {},
     "outputs": [],
     "prompt_number": 23
    },
    {
     "cell_type": "code",
     "collapsed": false,
     "input": [
      "read= urllib2.urlopen(url).read()\n",
      "obj = Image.open( cStringIO.StringIO(read) )\n",
      "img= np.array(obj)\n",
      "plt.imshow(img)\n",
      "plt.show()"
     ],
     "language": "python",
     "metadata": {},
     "outputs": [],
     "prompt_number": 9
    },
    {
     "cell_type": "code",
     "collapsed": false,
     "input": [
      "def url2plot(url):\n",
      "    read= urllib2.urlopen(url).read()\n",
      "    obj = Image.open( cStringIO.StringIO(read) )\n",
      "    img= np.array(obj)\n",
      "    plt.imshow(img)\n",
      "    plt.show()\n",
      "    \n",
      "for m in mm:\n",
      "    url= m.images['standard_resolution'].url\n",
      "    url2plot(url)\n"
     ],
     "language": "python",
     "metadata": {},
     "outputs": [],
     "prompt_number": 15
    },
    {
     "cell_type": "code",
     "collapsed": false,
     "input": [
      "#with tag='Food'\n",
      "import string\n",
      "mm, hello = api.location_recent_media(location_id=797,tag_name='Food')\n",
      "hello\n"
     ],
     "language": "python",
     "metadata": {},
     "outputs": [
      {
       "metadata": {},
       "output_type": "pyout",
       "prompt_number": 41,
       "text": [
        "'https://api.instagram.com/v1/locations/797/media/recent?tag_name=Food&max_id=769031230472694489&client_id=1dcd8b9c15c24b7bb571ebe805b61c64'"
       ]
      }
     ],
     "prompt_number": 41
    },
    {
     "cell_type": "code",
     "collapsed": false,
     "input": [
      "foursquareIDs = {}\n",
      "foursquareIDs['A16'] = '4587a2b6f964a520c63f1fe3'\n",
      "foursquareIDs['SlantedInn'] = '3fd66200f964a52018ed1ee3'\n",
      "foursquareIDs['AbbottsCellar'] = '5008ae27e4b0d0fe136e0003'\n",
      "foursquareIDs['TonysPizza'] = '4a469839f964a52029a91fe3'\n",
      "foursquareIDs['Humphrey'] = '49972b39f964a52089521fe3'\n",
      "foursquareIDs['ZeroZero'] = '4c44d4b9dcd61b8df9e67b56'\n",
      "foursquareIDs['Delfina'] = '44088735f964a52058301fe3'\n",
      "foursquareIDs['HogIsland'] = '43fed1fff964a520fe2f1fe3'\n",
      "foursquareIDs['LersRosThai'] = '49dd8602f964a52018601fe3'\n",
      "foursquareIDs['PanchoVilla'] = '43917d6df964a5205c2b1fe3'"
     ],
     "language": "python",
     "metadata": {},
     "outputs": [],
     "prompt_number": 64
    },
    {
     "cell_type": "code",
     "collapsed": false,
     "input": [
      "a=test(foursquareIDs)\n",
      "a.HogIsLand"
     ],
     "language": "python",
     "metadata": {},
     "outputs": [
      {
       "ename": "AttributeError",
       "evalue": "test instance has no attribute 'HogIsLand'",
       "output_type": "pyerr",
       "traceback": [
        "\u001b[0;31m---------------------------------------------------------------------------\u001b[0m\n\u001b[0;31mAttributeError\u001b[0m                            Traceback (most recent call last)",
        "\u001b[0;32m<ipython-input-67-cb35dfe79104>\u001b[0m in \u001b[0;36m<module>\u001b[0;34m()\u001b[0m\n\u001b[1;32m      1\u001b[0m \u001b[0ma\u001b[0m\u001b[0;34m=\u001b[0m\u001b[0mtest\u001b[0m\u001b[0;34m(\u001b[0m\u001b[0mfoursquareIDs\u001b[0m\u001b[0;34m)\u001b[0m\u001b[0;34m\u001b[0m\u001b[0m\n\u001b[0;32m----> 2\u001b[0;31m \u001b[0ma\u001b[0m\u001b[0;34m.\u001b[0m\u001b[0mHogIsLand\u001b[0m\u001b[0;34m\u001b[0m\u001b[0m\n\u001b[0m",
        "\u001b[0;31mAttributeError\u001b[0m: test instance has no attribute 'HogIsLand'"
       ]
      }
     ],
     "prompt_number": 67
    },
    {
     "cell_type": "code",
     "collapsed": false,
     "input": [
      "foursquareIDs = {}\n",
      "foursquareIDs['A16'] = '4587a2b6f964a520c63f1fe3'\n",
      "foursquareIDs['SlantedInn'] = '3fd66200f964a52018ed1ee3'\n",
      "foursquareIDs['AbbottsCellar'] = '5008ae27e4b0d0fe136e0003'\n",
      "foursquareIDs['TonysPizza'] = '4a469839f964a52029a91fe3'\n",
      "foursquareIDs['Humphrey'] = '49972b39f964a52089521fe3'\n",
      "foursquareIDs['ZeroZero'] = '4c44d4b9dcd61b8df9e67b56'\n",
      "foursquareIDs['Delfina'] = '44088735f964a52058301fe3'\n",
      "foursquareIDs['HogIsland'] = '43fed1fff964a520fe2f1fe3'\n",
      "foursquareIDs['LersRosThai'] = '49dd8602f964a52018601fe3'\n",
      "foursquareIDs['PanchoVilla'] = '43917d6df964a5205c2b1fe3'\n",
      "\n",
      "class Restaurant():\n",
      "    def __init__(self,foursquareID):\n",
      "        self.foursquareID= foursquareID\n",
      "        self.urlList=[]\n",
      "        self.People=[]\n",
      "        self.NoPeople=[]\n",
      "        self.Blurry=[]\n",
      "\n",
      "class TrainData():\n",
      "    def __init__(self,foursquareIDs):\n",
      "        self.A16= Restaurant( foursquareIDs['A16'] )\n",
      "        self.SlantedInn= Restaurant( foursquareIDs['SlantedInn'] )\n",
      "        self.AbbottsCellar= Restaurant( foursquareIDs['AbbottsCellar'] )\n",
      "        self.TonysPizza= Restaurant( foursquareIDs['TonysPizza'] )\n",
      "        self.Humphrey= Restaurant( foursquareIDs['Humphrey'] )\n",
      "        self.ZeroZero= Restaurant( foursquareIDs['ZeroZero'] )\n",
      "        self.Delfina= Restaurant( foursquareIDs['Delfina'] )\n",
      "        self.HogIsland= Restaurant( foursquareIDs['HogIsland'] )\n",
      "        self.LersRosThai= Restaurant( foursquareIDs['LersRosThai'] )\n",
      "        self.PanchoVilla= Restaurant( foursquareIDs['PanchoVilla'] )\n",
      "\n",
      "train= TrainData(foursquareIDs)\n"
     ],
     "language": "python",
     "metadata": {},
     "outputs": [],
     "prompt_number": 69
    },
    {
     "cell_type": "code",
     "collapsed": false,
     "input": [
      "train.A16.foursquareID"
     ],
     "language": "python",
     "metadata": {},
     "outputs": [
      {
       "metadata": {},
       "output_type": "pyout",
       "prompt_number": 71,
       "text": [
        "'4587a2b6f964a520c63f1fe3'"
       ]
      }
     ],
     "prompt_number": 71
    },
    {
     "cell_type": "code",
     "collapsed": false,
     "input": [
      "def maxId(apiNext):\n",
      "    beg=hello.find(\"max_id=\")+len(\"max_id=\")\n",
      "    end=hello.find(\"&\",beg)\n",
      "    return int(hello[beg:end])\n",
      "\n",
      "def GetUrlList(foursquareID):\n",
      "    List=[]\n",
      "    api.location_search(foursquare_v2_id=str(foursquareIDs))\n",
      "    mm, nextStr = api.location_recent_media(location_id=797) #tag=\"Food\"\n",
      "    while len(List) <= 100:\n",
      "        for m in mm:\n",
      "            List.append( m.images['standard_resolution'].url )\n",
      "        mid= maxId(nextStr)\n",
      "        mm, nextStr = api.location_recent_media(location_id=797,max_id=769031230472694489)\n",
      "    while len(List) > 100: List.pop(-1) #remove the last few urls that pushed over 100\n",
      "    return List\n",
      "\n",
      "train.A16.urlList= GetUrlList(train.A16.foursquareID)\n",
      "print len(train.A16.urlList),train.A16.urlList"
     ],
     "language": "python",
     "metadata": {},
     "outputs": [
      {
       "output_type": "stream",
       "stream": "stdout",
       "text": [
        "100 ['http://scontent-b.cdninstagram.com/hphotos-xap1/t51.2885-15/10522305_731963200195135_617376825_n.jpg', 'http://scontent-b.cdninstagram.com/hphotos-xaf1/t51.2885-15/10535040_420339938105903_799111938_n.jpg', 'http://scontent-b.cdninstagram.com/hphotos-xfa1/t51.2885-15/10483589_1446889755582163_973640396_n.jpg', 'http://scontent-b.cdninstagram.com/hphotos-xpa1/t51.2885-15/927368_718829141522908_1457156672_n.jpg', 'http://scontent-a.cdninstagram.com/hphotos-xpa1/t51.2885-15/10540240_670884059654348_692445208_n.jpg', 'http://scontent-a.cdninstagram.com/hphotos-xap1/t51.2885-15/10522245_426823767460390_501575775_n.jpg', 'http://scontent-b.cdninstagram.com/hphotos-xaf1/t51.2885-15/10570078_1443159999280675_1074346344_n.jpg', 'http://scontent-a.cdninstagram.com/hphotos-xpa1/t51.2885-15/10518097_596400347142278_272550832_n.jpg', 'http://scontent-b.cdninstagram.com/hphotos-xpa1/t51.2885-15/10546844_602152033231540_1150243997_n.jpg', 'http://scontent-b.cdninstagram.com/hphotos-xaf1/t51.2885-15/10570078_1443159999280675_1074346344_n.jpg', 'http://scontent-a.cdninstagram.com/hphotos-xpa1/t51.2885-15/10518097_596400347142278_272550832_n.jpg', 'http://scontent-b.cdninstagram.com/hphotos-xpa1/t51.2885-15/10546844_602152033231540_1150243997_n.jpg', 'http://scontent-b.cdninstagram.com/hphotos-xaf1/t51.2885-15/10570078_1443159999280675_1074346344_n.jpg', 'http://scontent-a.cdninstagram.com/hphotos-xpa1/t51.2885-15/10518097_596400347142278_272550832_n.jpg', 'http://scontent-b.cdninstagram.com/hphotos-xpa1/t51.2885-15/10546844_602152033231540_1150243997_n.jpg', 'http://scontent-b.cdninstagram.com/hphotos-xaf1/t51.2885-15/10570078_1443159999280675_1074346344_n.jpg', 'http://scontent-a.cdninstagram.com/hphotos-xpa1/t51.2885-15/10518097_596400347142278_272550832_n.jpg', 'http://scontent-b.cdninstagram.com/hphotos-xpa1/t51.2885-15/10546844_602152033231540_1150243997_n.jpg', 'http://scontent-b.cdninstagram.com/hphotos-xaf1/t51.2885-15/10570078_1443159999280675_1074346344_n.jpg', 'http://scontent-a.cdninstagram.com/hphotos-xpa1/t51.2885-15/10518097_596400347142278_272550832_n.jpg', 'http://scontent-b.cdninstagram.com/hphotos-xpa1/t51.2885-15/10546844_602152033231540_1150243997_n.jpg', 'http://scontent-b.cdninstagram.com/hphotos-xaf1/t51.2885-15/10570078_1443159999280675_1074346344_n.jpg', 'http://scontent-a.cdninstagram.com/hphotos-xpa1/t51.2885-15/10518097_596400347142278_272550832_n.jpg', 'http://scontent-b.cdninstagram.com/hphotos-xpa1/t51.2885-15/10546844_602152033231540_1150243997_n.jpg', 'http://scontent-b.cdninstagram.com/hphotos-xaf1/t51.2885-15/10570078_1443159999280675_1074346344_n.jpg', 'http://scontent-a.cdninstagram.com/hphotos-xpa1/t51.2885-15/10518097_596400347142278_272550832_n.jpg', 'http://scontent-b.cdninstagram.com/hphotos-xpa1/t51.2885-15/10546844_602152033231540_1150243997_n.jpg', 'http://scontent-b.cdninstagram.com/hphotos-xaf1/t51.2885-15/10570078_1443159999280675_1074346344_n.jpg', 'http://scontent-a.cdninstagram.com/hphotos-xpa1/t51.2885-15/10518097_596400347142278_272550832_n.jpg', 'http://scontent-b.cdninstagram.com/hphotos-xpa1/t51.2885-15/10546844_602152033231540_1150243997_n.jpg', 'http://scontent-b.cdninstagram.com/hphotos-xaf1/t51.2885-15/10570078_1443159999280675_1074346344_n.jpg', 'http://scontent-a.cdninstagram.com/hphotos-xpa1/t51.2885-15/10518097_596400347142278_272550832_n.jpg', 'http://scontent-b.cdninstagram.com/hphotos-xpa1/t51.2885-15/10546844_602152033231540_1150243997_n.jpg', 'http://scontent-b.cdninstagram.com/hphotos-xaf1/t51.2885-15/10570078_1443159999280675_1074346344_n.jpg', 'http://scontent-a.cdninstagram.com/hphotos-xpa1/t51.2885-15/10518097_596400347142278_272550832_n.jpg', 'http://scontent-b.cdninstagram.com/hphotos-xpa1/t51.2885-15/10546844_602152033231540_1150243997_n.jpg', 'http://scontent-b.cdninstagram.com/hphotos-xaf1/t51.2885-15/10570078_1443159999280675_1074346344_n.jpg', 'http://scontent-a.cdninstagram.com/hphotos-xpa1/t51.2885-15/10518097_596400347142278_272550832_n.jpg', 'http://scontent-b.cdninstagram.com/hphotos-xpa1/t51.2885-15/10546844_602152033231540_1150243997_n.jpg', 'http://scontent-b.cdninstagram.com/hphotos-xaf1/t51.2885-15/10570078_1443159999280675_1074346344_n.jpg', 'http://scontent-a.cdninstagram.com/hphotos-xpa1/t51.2885-15/10518097_596400347142278_272550832_n.jpg', 'http://scontent-b.cdninstagram.com/hphotos-xpa1/t51.2885-15/10546844_602152033231540_1150243997_n.jpg', 'http://scontent-b.cdninstagram.com/hphotos-xaf1/t51.2885-15/10570078_1443159999280675_1074346344_n.jpg', 'http://scontent-a.cdninstagram.com/hphotos-xpa1/t51.2885-15/10518097_596400347142278_272550832_n.jpg', 'http://scontent-b.cdninstagram.com/hphotos-xpa1/t51.2885-15/10546844_602152033231540_1150243997_n.jpg', 'http://scontent-b.cdninstagram.com/hphotos-xaf1/t51.2885-15/10570078_1443159999280675_1074346344_n.jpg', 'http://scontent-a.cdninstagram.com/hphotos-xpa1/t51.2885-15/10518097_596400347142278_272550832_n.jpg', 'http://scontent-b.cdninstagram.com/hphotos-xpa1/t51.2885-15/10546844_602152033231540_1150243997_n.jpg', 'http://scontent-b.cdninstagram.com/hphotos-xaf1/t51.2885-15/10570078_1443159999280675_1074346344_n.jpg', 'http://scontent-a.cdninstagram.com/hphotos-xpa1/t51.2885-15/10518097_596400347142278_272550832_n.jpg', 'http://scontent-b.cdninstagram.com/hphotos-xpa1/t51.2885-15/10546844_602152033231540_1150243997_n.jpg', 'http://scontent-b.cdninstagram.com/hphotos-xaf1/t51.2885-15/10570078_1443159999280675_1074346344_n.jpg', 'http://scontent-a.cdninstagram.com/hphotos-xpa1/t51.2885-15/10518097_596400347142278_272550832_n.jpg', 'http://scontent-b.cdninstagram.com/hphotos-xpa1/t51.2885-15/10546844_602152033231540_1150243997_n.jpg', 'http://scontent-b.cdninstagram.com/hphotos-xaf1/t51.2885-15/10570078_1443159999280675_1074346344_n.jpg', 'http://scontent-a.cdninstagram.com/hphotos-xpa1/t51.2885-15/10518097_596400347142278_272550832_n.jpg', 'http://scontent-b.cdninstagram.com/hphotos-xpa1/t51.2885-15/10546844_602152033231540_1150243997_n.jpg', 'http://scontent-b.cdninstagram.com/hphotos-xaf1/t51.2885-15/10570078_1443159999280675_1074346344_n.jpg', 'http://scontent-a.cdninstagram.com/hphotos-xpa1/t51.2885-15/10518097_596400347142278_272550832_n.jpg', 'http://scontent-b.cdninstagram.com/hphotos-xpa1/t51.2885-15/10546844_602152033231540_1150243997_n.jpg', 'http://scontent-b.cdninstagram.com/hphotos-xaf1/t51.2885-15/10570078_1443159999280675_1074346344_n.jpg', 'http://scontent-a.cdninstagram.com/hphotos-xpa1/t51.2885-15/10518097_596400347142278_272550832_n.jpg', 'http://scontent-b.cdninstagram.com/hphotos-xpa1/t51.2885-15/10546844_602152033231540_1150243997_n.jpg', 'http://scontent-b.cdninstagram.com/hphotos-xaf1/t51.2885-15/10570078_1443159999280675_1074346344_n.jpg', 'http://scontent-a.cdninstagram.com/hphotos-xpa1/t51.2885-15/10518097_596400347142278_272550832_n.jpg', 'http://scontent-b.cdninstagram.com/hphotos-xpa1/t51.2885-15/10546844_602152033231540_1150243997_n.jpg', 'http://scontent-b.cdninstagram.com/hphotos-xaf1/t51.2885-15/10570078_1443159999280675_1074346344_n.jpg', 'http://scontent-a.cdninstagram.com/hphotos-xpa1/t51.2885-15/10518097_596400347142278_272550832_n.jpg', 'http://scontent-b.cdninstagram.com/hphotos-xpa1/t51.2885-15/10546844_602152033231540_1150243997_n.jpg', 'http://scontent-b.cdninstagram.com/hphotos-xaf1/t51.2885-15/10570078_1443159999280675_1074346344_n.jpg', 'http://scontent-a.cdninstagram.com/hphotos-xpa1/t51.2885-15/10518097_596400347142278_272550832_n.jpg', 'http://scontent-b.cdninstagram.com/hphotos-xpa1/t51.2885-15/10546844_602152033231540_1150243997_n.jpg', 'http://scontent-b.cdninstagram.com/hphotos-xaf1/t51.2885-15/10570078_1443159999280675_1074346344_n.jpg', 'http://scontent-a.cdninstagram.com/hphotos-xpa1/t51.2885-15/10518097_596400347142278_272550832_n.jpg', 'http://scontent-b.cdninstagram.com/hphotos-xpa1/t51.2885-15/10546844_602152033231540_1150243997_n.jpg', 'http://scontent-b.cdninstagram.com/hphotos-xaf1/t51.2885-15/10570078_1443159999280675_1074346344_n.jpg', 'http://scontent-a.cdninstagram.com/hphotos-xpa1/t51.2885-15/10518097_596400347142278_272550832_n.jpg', 'http://scontent-b.cdninstagram.com/hphotos-xpa1/t51.2885-15/10546844_602152033231540_1150243997_n.jpg', 'http://scontent-b.cdninstagram.com/hphotos-xaf1/t51.2885-15/10570078_1443159999280675_1074346344_n.jpg', 'http://scontent-a.cdninstagram.com/hphotos-xpa1/t51.2885-15/10518097_596400347142278_272550832_n.jpg', 'http://scontent-b.cdninstagram.com/hphotos-xpa1/t51.2885-15/10546844_602152033231540_1150243997_n.jpg', 'http://scontent-b.cdninstagram.com/hphotos-xaf1/t51.2885-15/10570078_1443159999280675_1074346344_n.jpg', 'http://scontent-a.cdninstagram.com/hphotos-xpa1/t51.2885-15/10518097_596400347142278_272550832_n.jpg', 'http://scontent-b.cdninstagram.com/hphotos-xpa1/t51.2885-15/10546844_602152033231540_1150243997_n.jpg', 'http://scontent-b.cdninstagram.com/hphotos-xaf1/t51.2885-15/10570078_1443159999280675_1074346344_n.jpg', 'http://scontent-a.cdninstagram.com/hphotos-xpa1/t51.2885-15/10518097_596400347142278_272550832_n.jpg', 'http://scontent-b.cdninstagram.com/hphotos-xpa1/t51.2885-15/10546844_602152033231540_1150243997_n.jpg', 'http://scontent-b.cdninstagram.com/hphotos-xaf1/t51.2885-15/10570078_1443159999280675_1074346344_n.jpg', 'http://scontent-a.cdninstagram.com/hphotos-xpa1/t51.2885-15/10518097_596400347142278_272550832_n.jpg', 'http://scontent-b.cdninstagram.com/hphotos-xpa1/t51.2885-15/10546844_602152033231540_1150243997_n.jpg', 'http://scontent-b.cdninstagram.com/hphotos-xaf1/t51.2885-15/10570078_1443159999280675_1074346344_n.jpg', 'http://scontent-a.cdninstagram.com/hphotos-xpa1/t51.2885-15/10518097_596400347142278_272550832_n.jpg', 'http://scontent-b.cdninstagram.com/hphotos-xpa1/t51.2885-15/10546844_602152033231540_1150243997_n.jpg', 'http://scontent-b.cdninstagram.com/hphotos-xaf1/t51.2885-15/10570078_1443159999280675_1074346344_n.jpg', 'http://scontent-a.cdninstagram.com/hphotos-xpa1/t51.2885-15/10518097_596400347142278_272550832_n.jpg', 'http://scontent-b.cdninstagram.com/hphotos-xpa1/t51.2885-15/10546844_602152033231540_1150243997_n.jpg', 'http://scontent-b.cdninstagram.com/hphotos-xaf1/t51.2885-15/10570078_1443159999280675_1074346344_n.jpg', 'http://scontent-a.cdninstagram.com/hphotos-xpa1/t51.2885-15/10518097_596400347142278_272550832_n.jpg', 'http://scontent-b.cdninstagram.com/hphotos-xpa1/t51.2885-15/10546844_602152033231540_1150243997_n.jpg', 'http://scontent-b.cdninstagram.com/hphotos-xaf1/t51.2885-15/10570078_1443159999280675_1074346344_n.jpg']\n"
       ]
      }
     ],
     "prompt_number": 75
    },
    {
     "cell_type": "code",
     "collapsed": false,
     "input": [
      "for m in mm:\n",
      "    url= m.images['standard_resolution'].url\n",
      "    url2plot(url)"
     ],
     "language": "python",
     "metadata": {},
     "outputs": [],
     "prompt_number": 25
    },
    {
     "cell_type": "code",
     "collapsed": false,
     "input": [
      "mm, next = api.location_recent_media(location_id=797,tag_name='Food',max_id=769031230472694489)"
     ],
     "language": "python",
     "metadata": {},
     "outputs": [],
     "prompt_number": 39
    },
    {
     "cell_type": "code",
     "collapsed": false,
     "input": [
      "for m in mm:\n",
      "    url= m.images['standard_resolution'].url\n",
      "    url2plot(url)"
     ],
     "language": "python",
     "metadata": {},
     "outputs": [],
     "prompt_number": 40
    },
    {
     "cell_type": "code",
     "collapsed": false,
     "input": [
      "for media in mm:\n",
      "    print media.images['standard_resolution']"
     ],
     "language": "python",
     "metadata": {},
     "outputs": [
      {
       "output_type": "stream",
       "stream": "stdout",
       "text": [
        "Image: http://scontent-b.cdninstagram.com/hphotos-xpf1/t51.2885-15/10549811_763493813701830_649650611_n.jpg\n",
        "Image: http://scontent-b.cdninstagram.com/hphotos-xpf1/t51.2885-15/10513973_1526026170953671_398910656_n.jpg\n",
        "Image: http://scontent-a.cdninstagram.com/hphotos-xpa1/t51.2885-15/10537934_241725539370878_109995798_n.jpg\n",
        "Image: http://scontent-a.cdninstagram.com/hphotos-xap1/t51.2885-15/10518012_656014667809381_1631992217_n.jpg\n",
        "Image: http://scontent-b.cdninstagram.com/hphotos-xfp1/t51.2885-15/10507863_528983557201121_1234039368_n.jpg\n",
        "Image: http://scontent-a.cdninstagram.com/hphotos-xap1/t51.2885-15/925920_705799962824748_427559793_n.jpg\n",
        "Image: http://scontent-b.cdninstagram.com/hphotos-xpa1/t51.2885-15/926534_1514165855484083_1926718446_n.jpg\n"
       ]
      }
     ],
     "prompt_number": 31
    },
    {
     "cell_type": "code",
     "collapsed": false,
     "input": [
      "next"
     ],
     "language": "python",
     "metadata": {},
     "outputs": [
      {
       "metadata": {},
       "output_type": "pyout",
       "prompt_number": 32,
       "text": [
        "'https://api.instagram.com/v1/locations/797/media/recent?max_id=767478355771656240&client_id=1dcd8b9c15c24b7bb571ebe805b61c64'"
       ]
      }
     ],
     "prompt_number": 32
    },
    {
     "cell_type": "code",
     "collapsed": false,
     "input": [
      "mm, next = api.location_recent_media(location_id=797,max_id=767478355771656240)\n",
      "\n"
     ],
     "language": "python",
     "metadata": {},
     "outputs": [],
     "prompt_number": 34
    },
    {
     "cell_type": "code",
     "collapsed": false,
     "input": [
      "mm"
     ],
     "language": "python",
     "metadata": {},
     "outputs": [
      {
       "metadata": {},
       "output_type": "pyout",
       "prompt_number": 35,
       "text": [
        "[Media: 767474529156713029_26005753,\n",
        " Media: 767043051367640413_332223274,\n",
        " Media: 767042373157804273_1463989,\n",
        " Media: 767031884392502115_6546859,\n",
        " Media: 767026853997590024_41128468,\n",
        " Media: 766981827942135600_33317796,\n",
        " Media: 766960839661068725_47562183,\n",
        " Media: 766952131280495735_19558320,\n",
        " Media: 766910559597228402_12504731,\n",
        " Media: 766864469753630841_263685547,\n",
        " Media: 766812541059098864_16042329,\n",
        " Media: 766801492423953896_19487770,\n",
        " Media: 766790761739681722_18645734]"
       ]
      }
     ],
     "prompt_number": 35
    },
    {
     "cell_type": "code",
     "collapsed": false,
     "input": [
      "for media in mm:\n",
      "    print media.images['standard_resolution']"
     ],
     "language": "python",
     "metadata": {},
     "outputs": [
      {
       "output_type": "stream",
       "stream": "stdout",
       "text": [
        "Image: http://scontent-b.cdninstagram.com/hphotos-xfp1/t51.2885-15/10554229_269229496602564_1740375068_n.jpg\n",
        "Image: http://scontent-a.cdninstagram.com/hphotos-xfa1/t51.2885-15/914420_820688024616143_1443224566_n.jpg\n",
        "Image: http://scontent-b.cdninstagram.com/hphotos-xpa1/t51.2885-15/10251374_323510041147918_207010878_n.jpg\n",
        "Image: http://scontent-b.cdninstagram.com/hphotos-xpf1/t51.2885-15/10537283_1391240427781790_1842625407_n.jpg\n",
        "Image: http://scontent-a.cdninstagram.com/hphotos-xap1/t51.2885-15/924435_670446779698413_1767049891_n.jpg\n",
        "Image: http://scontent-b.cdninstagram.com/hphotos-xpa1/t51.2885-15/10540334_275857009285834_1786183298_n.jpg\n",
        "Image: http://scontent-a.cdninstagram.com/hphotos-xfp1/t51.2885-15/10547212_1498533703714889_1221919527_n.jpg\n",
        "Image: http://scontent-b.cdninstagram.com/hphotos-xpa1/t51.2885-15/10518019_1441765939419056_1208486081_n.jpg\n",
        "Image: http://scontent-a.cdninstagram.com/hphotos-xfp1/t51.2885-15/891444_876258462403945_499962130_n.jpg\n",
        "Image: http://scontent-b.cdninstagram.com/hphotos-xap1/t51.2885-15/10537995_414229002048452_2107929331_n.jpg\n",
        "Image: http://scontent-a.cdninstagram.com/hphotos-xpa1/t51.2885-15/924866_709505075786809_540339280_n.jpg\n",
        "Image: http://scontent-a.cdninstagram.com/hphotos-xpf1/t51.2885-15/10499033_1484521765121842_1592791813_n.jpg\n",
        "Image: http://scontent-a.cdninstagram.com/hphotos-xfp1/t51.2885-15/10369378_1460624024185936_197410441_n.jpg\n"
       ]
      }
     ],
     "prompt_number": 36
    }
   ],
   "metadata": {}
  }
 ]
}