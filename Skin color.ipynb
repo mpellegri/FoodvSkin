{
 "metadata": {
  "name": "",
  "signature": "sha256:b5d33efd87de02fe4fa8f9fa69f258f4a7ec8bf1a1a869d07ef8732f5e1c21ff"
 },
 "nbformat": 3,
 "nbformat_minor": 0,
 "worksheets": [
  {
   "cells": [
    {
     "cell_type": "code",
     "collapsed": false,
     "input": [
      "%matplotlib inline\n",
      "#%matplotlib"
     ],
     "language": "python",
     "metadata": {},
     "outputs": [],
     "prompt_number": 84
    },
    {
     "cell_type": "code",
     "collapsed": false,
     "input": [
      "# Import standard libraries\n",
      "from os import chdir\n",
      "from glob import glob"
     ],
     "language": "python",
     "metadata": {},
     "outputs": [],
     "prompt_number": 85
    },
    {
     "cell_type": "code",
     "collapsed": false,
     "input": [
      "# Import common libraries\n",
      "import matplotlib.image as mpimg\n",
      "import matplotlib.pyplot as plt\n",
      "from matplotlib.widgets import Slider, Button\n",
      "import numpy as np\n",
      "import pylab\n",
      "from matplotlib.ticker import NullFormatter\n",
      "import scipy.ndimage\n",
      "import Image\n",
      "#%matplotlib"
     ],
     "language": "python",
     "metadata": {},
     "outputs": [],
     "prompt_number": 86
    },
    {
     "cell_type": "code",
     "collapsed": false,
     "input": [
      "from instagram.client import InstagramAPI\n",
      "import time\n",
      "import urllib2, cStringIO\n",
      "from PIL import Image\n",
      "time.sleep(1.5)\n",
      "api= InstagramAPI(client_id=\"1dcd8b9c15c24b7bb571ebe805b61c64\",\\\n",
      "                  client_secret=\"f5c62b342e3540a3b7f84cd2fd725cfa\")\n",
      "api.location_search(foursquare_v2_id=\"3fd66200f964a52018ed1ee3\")\n",
      "mm, next = api.location_recent_media(location_id=797)\n",
      "\n",
      "url = mm[1].images['standard_resolution'].url\n",
      "read= urllib2.urlopen(url).read()\n",
      "obj = Image.open( cStringIO.StringIO(read) )\n",
      "img= np.array(obj)\n",
      "# plt.imshow(img)\n",
      "# plt.show()\n",
      "img.shape"
     ],
     "language": "python",
     "metadata": {},
     "outputs": [
      {
       "metadata": {},
       "output_type": "pyout",
       "prompt_number": 87,
       "text": [
        "(640, 640, 3)"
       ]
      }
     ],
     "prompt_number": 87
    },
    {
     "cell_type": "code",
     "collapsed": false,
     "input": [
      "# Get list of files\n",
      "chdir('/Users/Maurizio/Data_science/git/FoodvSkin/')\n",
      "files = glob('*.jpg')\n",
      "img = mpimg.imread(files[0])"
     ],
     "language": "python",
     "metadata": {},
     "outputs": [
      {
       "ename": "OSError",
       "evalue": "[Errno 2] No such file or directory: '/Users/Maurizio/Data_science/git/FoodvSkin/'",
       "output_type": "pyerr",
       "traceback": [
        "\u001b[0;31m---------------------------------------------------------------------------\u001b[0m\n\u001b[0;31mOSError\u001b[0m                                   Traceback (most recent call last)",
        "\u001b[0;32m<ipython-input-3-56bfdf336224>\u001b[0m in \u001b[0;36m<module>\u001b[0;34m()\u001b[0m\n\u001b[1;32m      1\u001b[0m \u001b[0;31m# Get list of files\u001b[0m\u001b[0;34m\u001b[0m\u001b[0;34m\u001b[0m\u001b[0m\n\u001b[0;32m----> 2\u001b[0;31m \u001b[0mchdir\u001b[0m\u001b[0;34m(\u001b[0m\u001b[0;34m'/Users/Maurizio/Data_science/git/FoodvSkin/'\u001b[0m\u001b[0;34m)\u001b[0m\u001b[0;34m\u001b[0m\u001b[0m\n\u001b[0m\u001b[1;32m      3\u001b[0m \u001b[0mfiles\u001b[0m \u001b[0;34m=\u001b[0m \u001b[0mglob\u001b[0m\u001b[0;34m(\u001b[0m\u001b[0;34m'*.jpg'\u001b[0m\u001b[0;34m)\u001b[0m\u001b[0;34m\u001b[0m\u001b[0m\n\u001b[1;32m      4\u001b[0m \u001b[0mimg\u001b[0m \u001b[0;34m=\u001b[0m \u001b[0mmpimg\u001b[0m\u001b[0;34m.\u001b[0m\u001b[0mimread\u001b[0m\u001b[0;34m(\u001b[0m\u001b[0mfiles\u001b[0m\u001b[0;34m[\u001b[0m\u001b[0;36m0\u001b[0m\u001b[0;34m]\u001b[0m\u001b[0;34m)\u001b[0m\u001b[0;34m\u001b[0m\u001b[0m\n",
        "\u001b[0;31mOSError\u001b[0m: [Errno 2] No such file or directory: '/Users/Maurizio/Data_science/git/FoodvSkin/'"
       ]
      }
     ],
     "prompt_number": 3
    },
    {
     "cell_type": "code",
     "collapsed": false,
     "input": [
      "#Show original image\n",
      "fig, ax = plt.subplots()\n",
      "ax.imshow(img[::-1])"
     ],
     "language": "python",
     "metadata": {},
     "outputs": [
      {
       "metadata": {},
       "output_type": "pyout",
       "prompt_number": 241,
       "text": [
        "<matplotlib.image.AxesImage at 0x2b381090>"
       ]
      }
     ],
     "prompt_number": 241
    },
    {
     "cell_type": "code",
     "collapsed": false,
     "input": [
      "#Define thresholds in YCbCr color space\n",
      "y_min = 80\n",
      "cb_min = 77\n",
      "cb_max = 135\n",
      "cr_min = 133\n",
      "cr_max = 185\n",
      "\n",
      "#Get R G B channels\n",
      "R = img[:,:,0].astype('f')\n",
      "G = img[:,:,1].astype('f')\n",
      "B = img[:,:,2].astype('f')\n",
      "\n",
      "#Transform R G B in Y Cb Cr\n",
      "y = 0.299*R + 0.587*G + 0.114*B\n",
      "cr = R - y + 128\n",
      "cb = B - y + 128\n",
      "\n",
      "#Normalize R G B channels\n",
      "r = np.divide(R,(R+G+B))\n",
      "g = np.divide(G,(R+G+B))\n",
      "b = np.divide(B,(R+G+B))\n",
      "\n",
      "#Define alpha beta and gamma for r g b thresholding\n",
      "alpha = (3*b*(r**2))/((r+g+b)**3)\n",
      "beta = (r+g+b)/(3*r) + (r-g)/(r+g+b)\n",
      "gamma = (r*b+(g**2))/(g*b)\n",
      "\n",
      "#Define thresholds in r g b color space\n",
      "alpha0 = 0.1276\n",
      "beta0 = 0.9498\n",
      "gamma0 = 2.7775\n",
      "\n",
      "#Plot Y Cb Cr skin pixels\n",
      "img_cbcr = img[:,:,0].copy()\n",
      "img_cbcr = (y>y_min)&(cb>cb_min)&(cb<cb_max)&(cr>cr_min)&(cr<cr_max)\n",
      "\n",
      "fig, ax = plt.subplots(1,3)\n",
      "ax[0].imshow(img_cbcr, cmap='gray')\n",
      "ax[0].set_title(\"cbcr\")\n",
      "#Plot r g b skin pixels\n",
      "img_rgb = img[:,:,0].copy()\n",
      "img_rgb = (alpha>alpha0)&(beta<=beta0)&(gamma<=gamma0)\n",
      "\n",
      "ax[1].imshow(img_rgb,cmap='gray')\n",
      "ax[1].set_title(\"abg\")\n",
      "\n",
      "ax[2].imshow(img[:,:,0],cmap=\"gray\")\n",
      "plt.show()"
     ],
     "language": "python",
     "metadata": {},
     "outputs": [
      {
       "metadata": {},
       "output_type": "display_data",
       "png": "[encoded data removed]",
       "text": [
        "<matplotlib.figure.Figure at 0x1164f8510>"
       ]
      }
     ],
     "prompt_number": 88
    },
    {
     "cell_type": "code",
     "collapsed": false,
     "input": [
      "f1= scipy.ndimage.morphology.binary_fill_holes(img_cbcr, structure=patt1,origin= (0.5,0.5))"
     ],
     "language": "python",
     "metadata": {},
     "outputs": [],
     "prompt_number": 135
    },
    {
     "cell_type": "code",
     "collapsed": false,
     "input": [
      "#Define a 3x3 array with connectivity 2, in which all elements of the array are True\n",
      "patt1 = scipy.ndimage.generate_binary_structure(2, 1)\n",
      "patt2 = scipy.ndimage.generate_binary_structure(2, 2)\n",
      "\n",
      "center=(0.5,0.5)\n",
      "#center=[img.shape[0]/2,img.shape[1]/2]\n",
      "f1= scipy.ndimage.morphology.binary_fill_holes(img_cbcr, structure=patt1,origin= center)\n",
      "f2= scipy.ndimage.morphology.binary_fill_holes(~img_cbcr, structure=patt1,origin= center)#origin=(x,y)\n",
      "#center=(img.shape[0]/2,int(0.75*img.shape[1]))\n",
      "center=(0.5,0.75)\n",
      "f3= scipy.ndimage.morphology.binary_fill_holes(img_cbcr, structure=patt1,origin= center)#origin=(x,y)\n",
      "#fill2=scipy.ndimage.morphology.binary_fill_holes(~imgFill, structure=patt1)#origin=(x,y)\n",
      "imgErod=scipy.ndimage.morphology.binary_erosion(\n",
      "            img_cbcr,iterations = 2, structure =patt1)\n",
      "imgDil= scipy.ndimage.morphology.binary_dilation(~imgErod, iterations=1, structure=patt1,\\\n",
      "                                                    )#origin=(x,y)"
     ],
     "language": "python",
     "metadata": {},
     "outputs": [],
     "prompt_number": 138
    },
    {
     "cell_type": "code",
     "collapsed": false,
     "input": [
      "scipy.ndimage.morphology.binary_erosion?"
     ],
     "language": "python",
     "metadata": {},
     "outputs": [],
     "prompt_number": 154
    },
    {
     "cell_type": "code",
     "collapsed": false,
     "input": [
      "f,ax=plt.subplots(1,4)\n",
      "a=ax[0]"
     ],
     "language": "python",
     "metadata": {},
     "outputs": [
      {
       "metadata": {},
       "output_type": "display_data",
       "png": "[encoded data removed]",
       "text": [
        "<matplotlib.figure.Figure at 0x103a49f90>"
       ]
      }
     ],
     "prompt_number": 116
    },
    {
     "cell_type": "code",
     "collapsed": false,
     "input": [],
     "language": "python",
     "metadata": {},
     "outputs": []
    },
    {
     "cell_type": "code",
     "collapsed": false,
     "input": [
      "f,axarr=plt.subplots(2,2)\n",
      "ax=axarr.flatten()\n",
      "ax[0].imshow(img_cbcr,cmap=\"gray\")\n",
      "ax[1].imshow(f1,cmap=\"gray\")\n",
      "ax[2].imshow(f2,cmap=\"gray\")\n",
      "ax[3].imshow(f3,cmap=\"gray\")\n",
      "plt.show()"
     ],
     "language": "python",
     "metadata": {},
     "outputs": [
      {
       "metadata": {},
       "output_type": "display_data",
       "png": "[encoded data removed]",
       "text": [
        "<matplotlib.figure.Figure at 0x116c7f690>"
       ]
      }
     ],
     "prompt_number": 139
    },
    {
     "cell_type": "code",
     "collapsed": false,
     "input": [
      "scipy.ndimage.morphology.binary_dilation?"
     ],
     "language": "python",
     "metadata": {},
     "outputs": [],
     "prompt_number": 140
    },
    {
     "cell_type": "code",
     "collapsed": false,
     "input": [
      "#Define a 3x3 array with connectivity 2, in which all elements of the array are True\n",
      "patt1 = scipy.ndimage.generate_binary_structure(2, 1)\n",
      "patt2 = scipy.ndimage.generate_binary_structure(2, 2)\n",
      "\n",
      "center=(0.5,0.5)\n",
      "d3=scipy.ndimage.morphology.binary_dilation(img_cbcr, iterations=5, structure=patt1,origin=center)\n",
      "fpos= scipy.ndimage.morphology.binary_fill_holes(d3, structure=patt1,origin= center)\n",
      "eMain3=scipy.ndimage.morphology.binary_erosion(img_cbcr,iterations = 3, structure =patt1)\n",
      "ed3=scipy.ndimage.morphology.binary_erosion(d3,iterations = 3, structure =patt1)\n",
      "efpos=scipy.ndimage.morphology.binary_erosion(fpos,iterations = 3, structure =patt1)\n",
      "d3eMain=scipy.ndimage.morphology.binary_erosion(eMain3,iterations = 3, structure =patt1)\n",
      "fdeMain=scipy.ndimage.morphology.binary_fill_holes(d3eMain, structure=patt1,origin= center)\n",
      "fnegdeMain=scipy.ndimage.morphology.binary_fill_holes(~d3eMain, structure =patt1,origin= center)"
     ],
     "language": "python",
     "metadata": {},
     "outputs": [],
     "prompt_number": 174
    },
    {
     "cell_type": "code",
     "collapsed": false,
     "input": [
      "f,axarr=plt.subplots(3,3)\n",
      "ax=axarr.flatten()\n",
      "ax[0].imshow(img_cbcr,cmap=\"gray\")\n",
      "ax[1].imshow(d3,cmap=\"gray\")\n",
      "ax[2].imshow(fpos,cmap=\"gray\")\n",
      "ax[3].imshow(eMain3,cmap=\"gray\")\n",
      "ax[4].imshow(ed3,cmap=\"gray\")\n",
      "ax[5].imshow(efpos,cmap=\"gray\")\n",
      "ax[6].imshow(d3eMain,cmap=\"gray\")\n",
      "ax[7].imshow(fdeMain,cmap=\"gray\")\n",
      "ax[8].imshow(fnegdeMain,cmap=\"gray\")\n",
      "plt.show()"
     ],
     "language": "python",
     "metadata": {},
     "outputs": [
      {
       "metadata": {},
       "output_type": "display_data",
       "png": "[encoded data removed]",
       "text": [
        "<matplotlib.figure.Figure at 0x11715d1d0>"
       ]
      }
     ],
     "prompt_number": 175
    },
    {
     "cell_type": "code",
     "collapsed": false,
     "input": [
      "scipy.ndimage.generate_binary_structure(3,2)"
     ],
     "language": "python",
     "metadata": {},
     "outputs": [
      {
       "metadata": {},
       "output_type": "pyout",
       "prompt_number": 35,
       "text": [
        "array([[[False,  True, False],\n",
        "        [ True,  True,  True],\n",
        "        [False,  True, False]],\n",
        "\n",
        "       [[ True,  True,  True],\n",
        "        [ True,  True,  True],\n",
        "        [ True,  True,  True]],\n",
        "\n",
        "       [[False,  True, False],\n",
        "        [ True,  True,  True],\n",
        "        [False,  True, False]]], dtype=bool)"
       ]
      }
     ],
     "prompt_number": 35
    },
    {
     "cell_type": "code",
     "collapsed": false,
     "input": [
      "scipy.ndimage.binary_dilation(a).astype(a.dtype)"
     ],
     "language": "python",
     "metadata": {},
     "outputs": [
      {
       "metadata": {},
       "output_type": "pyout",
       "prompt_number": 31,
       "text": [
        "array([[[ True,  True,  True],\n",
        "        [ True,  True,  True],\n",
        "        [ True,  True,  True]],\n",
        "\n",
        "       [[ True,  True,  True],\n",
        "        [ True,  True,  True],\n",
        "        [ True,  True,  True]],\n",
        "\n",
        "       [[ True,  True,  True],\n",
        "        [ True,  True,  True],\n",
        "        [ True,  True,  True]]], dtype=bool)"
       ]
      }
     ],
     "prompt_number": 31
    },
    {
     "cell_type": "code",
     "collapsed": false,
     "input": [
      "#Draw the different steps of image processing in one plot\n",
      "fig, ax = plt.subplots(2,2)\n",
      "lax= ax.flatten()\n",
      "lax[0].imshow(img_cbcr,cmap='gray')\n",
      "lax[1].imshow(img_dilated,cmap='gray')\n",
      "lax[2].imshow(img_filled,cmap='gray')\n",
      "#ax[1,1].imshow(img_eroded[::-1],cmap='gray')\n",
      "lax[3].imshow(img_eroded,cmap='gray')\n",
      "titles=[\"cbcr\",'dilated','filled','eroded']\n",
      "for cnt,la in enumerate(lax):\n",
      "    la.set_title(titles[cnt])\n",
      "plt.show()"
     ],
     "language": "python",
     "metadata": {},
     "outputs": [],
     "prompt_number": 19
    },
    {
     "cell_type": "code",
     "collapsed": false,
     "input": [
      "###To select more than one file in the folder\n",
      "\n",
      "# For now select a single file\n",
      "# Convert into alpha, beta and gamma matrices\n",
      "for fName in files[:]:\n",
      "    \n",
      "    values = mpimg.imread(fName)\n",
      "    \n",
      "    plt.imshow(values)\n",
      "        \n",
      "    R = values[:,:,0].astype('f')\n",
      "    G = values[:,:,1].astype('f')\n",
      "    B = values[:,:,2].astype('f')\n",
      "    \n",
      "    r = np.divide(R,(R+G+B))\n",
      "    g = np.divide(G,(R+G+B))\n",
      "    b = np.divide(B,(R+G+B))\n",
      "    \n",
      "    alpha = 3*b*r**2/(r+g+b)**3\n",
      "    beta = (r+g+b)/(3*r) + (r-g)/(r+g+b)\n",
      "    gamma = (r*b+g**2)/(g*b)\n",
      "    \n",
      "    y = 0.299*R + 0.587*G + 0.114*B\n",
      "    cr = R - y + 128\n",
      "    cb = B - y + 128"
     ],
     "language": "python",
     "metadata": {},
     "outputs": [
      {
       "output_type": "stream",
       "stream": "stderr",
       "text": [
        "-c:18: RuntimeWarning: divide by zero encountered in divide\n",
        "-c:19: RuntimeWarning: divide by zero encountered in divide\n",
        "-c:19: RuntimeWarning: invalid value encountered in divide\n"
       ]
      }
     ],
     "prompt_number": 107
    },
    {
     "cell_type": "code",
     "collapsed": false,
     "input": [
      "fig, ax = plt.subplots()\n",
      "plt.subplots_adjust(left=0.25, bottom=0.3)\n",
      "y_min = 80\n",
      "cb_min = 85\n",
      "cb_max = 135\n",
      "cr_min = 135\n",
      "cr_max = 185\n",
      "ax.imshow((y>y_min)&(cb>cb_min)&(cb<cb_max)&(cr>cr_min)&(cr<cr_max),cmap='gray')"
     ],
     "language": "python",
     "metadata": {},
     "outputs": [
      {
       "metadata": {},
       "output_type": "pyout",
       "prompt_number": 88,
       "text": [
        "<matplotlib.image.AxesImage at 0x18b5d090>"
       ]
      }
     ],
     "prompt_number": 88
    },
    {
     "cell_type": "code",
     "collapsed": false,
     "input": [
      "fig, ax = plt.subplots()\n",
      "plt.subplots_adjust(left=0.25, bottom=0.3)\n",
      "alpha0 = 0.1276\n",
      "beta0 = 0.9498\n",
      "gamma0 = 2.7775\n",
      "ax.imshow((alpha>alpha0)&(beta<=beta0)&(gamma<=gamma0),cmap='gray')"
     ],
     "language": "python",
     "metadata": {},
     "outputs": [
      {
       "metadata": {},
       "output_type": "pyout",
       "prompt_number": 102,
       "text": [
        "<matplotlib.image.AxesImage at 0x6c69e90>"
       ]
      }
     ],
     "prompt_number": 102
    },
    {
     "cell_type": "code",
     "collapsed": false,
     "input": [],
     "language": "python",
     "metadata": {},
     "outputs": []
    }
   ],
   "metadata": {}
  }
 ]
}