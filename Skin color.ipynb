{
 "metadata": {
  "name": "",
  "signature": "sha256:7e3103638105c1f5783814f82275522b37e07602097cab79e54001ecbb023bfc"
 },
 "nbformat": 3,
 "nbformat_minor": 0,
 "worksheets": [
  {
   "cells": [
    {
     "cell_type": "code",
     "collapsed": false,
     "input": [
      "# Import standard libraries\n",
      "from os import chdir\n",
      "from glob import glob"
     ],
     "language": "python",
     "metadata": {},
     "outputs": [],
     "prompt_number": 4
    },
    {
     "cell_type": "code",
     "collapsed": false,
     "input": [
      "# Import common libraries\n",
      "import matplotlib.image as mpimg\n",
      "import matplotlib.pyplot as plt\n",
      "from matplotlib.widgets import Slider, Button\n",
      "import numpy as np\n",
      "from matplotlib.ticker import NullFormatter\n",
      "%matplotlib"
     ],
     "language": "python",
     "metadata": {},
     "outputs": [
      {
       "output_type": "stream",
       "stream": "stdout",
       "text": [
        "Using matplotlib backend: WXAgg\n"
       ]
      }
     ],
     "prompt_number": 1
    },
    {
     "cell_type": "code",
     "collapsed": false,
     "input": [
      "# Get list of files\n",
      "chdir('/Users/Maurizio/Data_science/git/')\n",
      "files = glob('*.jpg')\n",
      "img = mpimg.imread(files[0])"
     ],
     "language": "python",
     "metadata": {},
     "outputs": [],
     "prompt_number": 7
    },
    {
     "cell_type": "code",
     "collapsed": false,
     "input": [
      "img.shape"
     ],
     "language": "python",
     "metadata": {},
     "outputs": [
      {
       "metadata": {},
       "output_type": "pyout",
       "prompt_number": 29,
       "text": [
        "(366, 650, 3)"
       ]
      }
     ],
     "prompt_number": 29
    },
    {
     "cell_type": "code",
     "collapsed": false,
     "input": [
      "# For now select a single file\n",
      "# Convert into alpha, beta and gamma matrices\n",
      "for fName in files[:]:\n",
      "    \n",
      "    values = mpimg.imread(fName)\n",
      "    \n",
      "    plt.imshow(values)\n",
      "        \n",
      "    R = values[:,:,0].astype('f')\n",
      "    G = values[:,:,1].astype('f')\n",
      "    B = values[:,:,2].astype('f')\n",
      "    \n",
      "    r = np.divide(R,(R+G+B))\n",
      "    g = np.divide(G,(R+G+B))\n",
      "    b = np.divide(B,(R+G+B))\n",
      "    \n",
      "    alpha = 3*b*r**2/(r+g+b)**3\n",
      "    beta = (r+g+b)/(3*r) + (r-g)/(r+g+b)\n",
      "    gamma = (r*b+g**2)/(g*b)\n",
      "    \n",
      "    y = 0.299*R + 0.587*G + 0.114*B\n",
      "    cr = R - y + 128\n",
      "    cb = B - y + 128"
     ],
     "language": "python",
     "metadata": {},
     "outputs": [],
     "prompt_number": 100
    },
    {
     "cell_type": "code",
     "collapsed": false,
     "input": [
      "fig, ax = plt.subplots()\n",
      "plt.subplots_adjust(left=0.25, bottom=0.3)\n",
      "y_min = 80\n",
      "cb_min = 85\n",
      "cb_max = 135\n",
      "cr_min = 135\n",
      "cr_max = 185\n",
      "ax.imshow((y>y_min)&(cb>cb_min)&(cb<max)&(cr>cr_min)&(cr<cr_max),cmap='gray')"
     ],
     "language": "python",
     "metadata": {},
     "outputs": [
      {
       "metadata": {},
       "output_type": "pyout",
       "prompt_number": 101,
       "text": [
        "<matplotlib.image.AxesImage at 0x1096edb0>"
       ]
      }
     ],
     "prompt_number": 101
    },
    {
     "cell_type": "code",
     "collapsed": false,
     "input": [
      "fig, ax = plt.subplots()\n",
      "plt.subplots_adjust(left=0.25, bottom=0.3)\n",
      "alpha0 = 0.1276\n",
      "beta0 = 0.9498\n",
      "gamma0 = 2.7775\n",
      "ax.imshow((alpha>alpha0)&(beta<=beta0)&(gamma<=gamma0),cmap='gray')"
     ],
     "language": "python",
     "metadata": {},
     "outputs": [
      {
       "metadata": {},
       "output_type": "pyout",
       "prompt_number": 102,
       "text": [
        "<matplotlib.image.AxesImage at 0x6c69e90>"
       ]
      }
     ],
     "prompt_number": 102
    },
    {
     "cell_type": "code",
     "collapsed": false,
     "input": [],
     "language": "python",
     "metadata": {},
     "outputs": []
    }
   ],
   "metadata": {}
  }
 ]
}