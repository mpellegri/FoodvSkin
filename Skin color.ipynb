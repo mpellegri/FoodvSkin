{
 "metadata": {
  "name": "",
  "signature": "sha256:06bb591cea4caeedb7ef718f4080be34412a62bff768c7e9df072e7d12f5adbc"
 },
 "nbformat": 3,
 "nbformat_minor": 0,
 "worksheets": [
  {
   "cells": [
    {
     "cell_type": "code",
     "collapsed": false,
     "input": [
      "# Import standard libraries\n",
      "from os import chdir\n",
      "from glob import glob"
     ],
     "language": "python",
     "metadata": {},
     "outputs": [],
     "prompt_number": 1
    },
    {
     "cell_type": "code",
     "collapsed": false,
     "input": [
      "# Import common libraries\n",
      "import matplotlib.image as mpimg\n",
      "import matplotlib.pyplot as plt\n",
      "from matplotlib.widgets import Slider, Button\n",
      "from matplotlib.ticker import NullFormatter\n",
      "import numpy as np\n",
      "import pylab as py\n",
      "from scipy import ndimage, fftpack\n",
      "import Image\n",
      "from skimage import filter, morphology, exposure, color, measure\n",
      "\n",
      "%matplotlib\n",
      "\n",
      "#import pyfits"
     ],
     "language": "python",
     "metadata": {},
     "outputs": [
      {
       "output_type": "stream",
       "stream": "stdout",
       "text": [
        "Using matplotlib backend: WXAgg\n"
       ]
      }
     ],
     "prompt_number": 44
    },
    {
     "cell_type": "code",
     "collapsed": false,
     "input": [
      "# Get list of files\n",
      "chdir('/Users/Maurizio/Data_science/git/FoodvSkin/')\n",
      "files = glob('*.jpg')\n",
      "img = mpimg.imread(files[0])"
     ],
     "language": "python",
     "metadata": {},
     "outputs": [],
     "prompt_number": 10
    },
    {
     "cell_type": "code",
     "collapsed": false,
     "input": [
      "#Show original image\n",
      "fig, ax = plt.subplots()\n",
      "ax.imshow(img[::-1])"
     ],
     "language": "python",
     "metadata": {},
     "outputs": [
      {
       "metadata": {},
       "output_type": "pyout",
       "prompt_number": 27,
       "text": [
        "<matplotlib.image.AxesImage at 0x1daecd90>"
       ]
      }
     ],
     "prompt_number": 27
    },
    {
     "cell_type": "code",
     "collapsed": false,
     "input": [
      "#Define thresholds in YCbCr color space\n",
      "y_min = 80\n",
      "cb_min = 77\n",
      "cb_max = 135\n",
      "cr_min = 133\n",
      "cr_max = 185\n",
      "\n",
      "#Get R G B channels\n",
      "R = img[:,:,0].astype('f')\n",
      "G = img[:,:,1].astype('f')\n",
      "B = img[:,:,2].astype('f')\n",
      "\n",
      "#Transform R G B in Y Cb Cr\n",
      "y = 0.299*R + 0.587*G + 0.114*B\n",
      "cr = R - y + 128\n",
      "cb = B - y + 128\n",
      "\n",
      "#Plot Y Cb Cr skin pixels\n",
      "img_cbcr = img[:,:,0].copy()\n",
      "img_cbcr = (y>y_min)&(cb>cb_min)&(cb<cb_max)&(cr>cr_min)&(cr<cr_max)\n",
      "\n",
      "fig, ax = plt.subplots(2)\n",
      "ax[0].imshow(img_cbcr[::-1], cmap='gray')"
     ],
     "language": "python",
     "metadata": {},
     "outputs": [
      {
       "output_type": "stream",
       "stream": "stderr",
       "text": [
        "-c:25: RuntimeWarning: divide by zero encountered in divide\n",
        "-c:26: RuntimeWarning: divide by zero encountered in divide\n",
        "-c:26: RuntimeWarning: invalid value encountered in divide\n"
       ]
      },
      {
       "metadata": {},
       "output_type": "pyout",
       "prompt_number": 28,
       "text": [
        "<matplotlib.image.AxesImage at 0x1f4123d0>"
       ]
      }
     ],
     "prompt_number": 28
    },
    {
     "cell_type": "code",
     "collapsed": false,
     "input": [
      "#Define a 3x3 array with connectivity 2, in which all elements of the array are True\n",
      "#http://docs.scipy.org/doc/scipy/reference/ndimage.html#module-scipy.ndimage.morphology\n",
      "struct1 = ndimage.generate_binary_structure(2, 2)\n",
      "\n",
      "#Dilate image\n",
      "img_dilated = img_cbcr.copy()\n",
      "ndimage.morphology.binary_dilation(img_cbcr, iterations=1, structure=struct1, output = img_dilated)\n",
      "\n",
      "#Fill holes in the image\n",
      "img_filled = ndimage.morphology.binary_fill_holes(img_dilated)\n",
      "\n",
      "#Erode image\n",
      "img_eroded = img_filled.copy()\n",
      "ndimage.morphology.binary_erosion(img_filled, iterations = 2, structure = struct1, output = img_eroded)\n",
      "\n",
      "#Draw the different steps of image processing in one plot\n",
      "fig, ax = plt.subplots(2,2)\n",
      "ax[0,0].imshow(img_cbcr[::-1],cmap='gray')\n",
      "ax[0,1].imshow(img_dilated[::-1],cmap='gray')\n",
      "ax[1,0].imshow(img_filled[::-1],cmap='gray')\n",
      "ax[1,1].imshow(img_eroded[::-1],cmap='gray')"
     ],
     "language": "python",
     "metadata": {},
     "outputs": [],
     "prompt_number": 29
    },
    {
     "cell_type": "code",
     "collapsed": false,
     "input": [
      "#Labeling and counting shapes in an image\n",
      "#http://pythonvision.org/basic-tutorial\n",
      "\n",
      "img_gaussian = ndimage.gaussian_filter(img_eroded,1)\n",
      "labeled, shapes = ndimage.label(img_gaussian > 0)\n",
      "py.imshow(labeled[::-1])\n",
      "\n",
      "props = measure.regionprops(labeled)\n",
      "\n",
      "num_labels = 0;\n",
      "area_covered = []\n",
      "density_cbcr = []\n",
      "hwratio = []\n",
      "circularity = []\n",
      "density_hull = []\n",
      "img_size = (labeled.shape)[0]*(labeled.shape)[1]\n",
      "\n",
      "for label in range(1, shapes+1):\n",
      "    density = float(((labeled==label)&img_cbcr).sum())/float((labeled==label).sum())\n",
      "    #defines a region of interest if at least 50% of its pixels are skin color, but less than 100%,\n",
      "    #and if the area is bigger than an arbritary number\n",
      "    if density>0.5 and density<1 and props[label-1].area > 50: \n",
      "        density_cbcr.append(density)\n",
      "        area_covered.append(props[label-1].area/img_size)\n",
      "        hwratio.append(props[label-1].major_axis_length/props[label-1].minor_axis_length)\n",
      "        density_hull.append(props[label-1].solidity)\n",
      "        circularity.append(props[label-1].eccentricity)\n",
      "num_labels = len(density_cbcr)\n",
      "        \n",
      "#py.imshow(labeled==label, cmap = 'gray')\n",
      "#plt.contour(labeled==1)\n",
      "\n",
      "#FEATURES\n",
      "#img_size = (labeled.shape)[0]*(labeled.shape)[1]\n",
      "#area_covered = ((labeled == label).sum())/img_size\n",
      "#density = float(((labeled==1)&img_cbcr).sum())/float((labeled==1).sum())\n",
      "#if area_covered > define a threshold here:\n",
      "\n",
      "# DONE\n",
      "# %area covered - in area_covered\n",
      "# number of blobs - in shapes\n",
      "# density of blobs - in density\n",
      "# number of pixels to define a blob - in (labeled == label).sum()\n",
      "\n",
      "#TO DO\n",
      "# ratio h/w, circularity\n",
      "# look at openCV to see other feature definitions of contours (straightness of lines)\n",
      "# % of points close to contour lines delimiting the blob (difference between the blob and a convex hull)"
     ],
     "language": "python",
     "metadata": {},
     "outputs": [],
     "prompt_number": 121
    },
    {
     "cell_type": "heading",
     "level": 1,
     "metadata": {},
     "source": [
      "Code not useful at the moment"
     ]
    },
    {
     "cell_type": "code",
     "collapsed": false,
     "input": [
      "#Normalize R G B channels\n",
      "r = np.divide(R,(R+G+B))\n",
      "g = np.divide(G,(R+G+B))\n",
      "b = np.divide(B,(R+G+B))\n",
      "\n",
      "#Define alpha beta and gamma for r g b thresholding\n",
      "alpha = (3*b*(r**2))/((r+g+b)**3)\n",
      "beta = (r+g+b)/(3*r) + (r-g)/(r+g+b)\n",
      "gamma = (r*b+(g**2))/(g*b)\n",
      "\n",
      "#Define thresholds in r g b color space\n",
      "alpha0 = 0.1276\n",
      "beta0 = 0.9498\n",
      "gamma0 = 2.7775\n",
      "\n",
      "#Plot r g b skin pixels\n",
      "img_rgb = img[:,:,0].copy()\n",
      "img_rgb = (alpha>alpha0)&(beta<=beta0)&(gamma<=gamma0)\n",
      "\n",
      "ax[1].imshow(img_rgb[::-1],cmap='gray')"
     ],
     "language": "python",
     "metadata": {},
     "outputs": []
    },
    {
     "cell_type": "code",
     "collapsed": false,
     "input": [
      "#Detecting blobs using Determinant of Hessian\n",
      "#http://scikit-image.org/docs/dev/auto_examples/plot_blob.html\n",
      "\n",
      "#blobs_doh = blob_doh(img_eroded)\n",
      "\n",
      "#fig, ax = plt.subplots(1, 1)\n",
      "#ax.imshow(img_eroded, cmap='gray')\n",
      "#for blob in blobs_doh:\n",
      "#    y, x, r = blob\n",
      "#    c = plt.Circle((x, y), r, color='r', linewidth=2, fill=False)\n",
      "#    ax.add_patch(c)"
     ],
     "language": "python",
     "metadata": {},
     "outputs": [],
     "prompt_number": 31
    },
    {
     "cell_type": "code",
     "collapsed": false,
     "input": [
      "#Skeletonize\n",
      "\n",
      "#out1 = morphology.skeletonize(img_cbcr>0)\n",
      "#out2 = morphology.skeletonize(img_dilated>0)\n",
      "#out3 = morphology.skeletonize(img_filled>0)\n",
      "#out4 = morphology.skeletonize(img_eroded>0)\n",
      "#fig, ax = plt.subplots(2,2)\n",
      "#ax[0,0].imshow(out1[::-1], cmap='gray')\n",
      "#ax[0,1].imshow(out2[::-1], cmap='gray')\n",
      "#ax[1,0].imshow(out3[::-1], cmap='gray')\n",
      "#ax[1,1].imshow(out4[::-1], cmap='gray')"
     ],
     "language": "python",
     "metadata": {},
     "outputs": []
    },
    {
     "cell_type": "code",
     "collapsed": false,
     "input": [
      "#Using Canny filter\n",
      "#http://scikit-image.org/docs/dev/auto_examples/plot_canny.html\n",
      "edges1 = filter.canny(img_eroded)\n",
      "edges2 = filter.canny(img_eroded, sigma=2)\n",
      "\n",
      "fig, (ax1, ax2, ax3) = plt.subplots(1, 3)\n",
      "\n",
      "ax1.imshow(img_eroded[::-1], cmap='gray')\n",
      "ax2.imshow(edges1[::-1], cmap='gray')\n",
      "ax3.imshow(edges2[::-1], cmap='gray')"
     ],
     "language": "python",
     "metadata": {},
     "outputs": [
      {
       "metadata": {},
       "output_type": "pyout",
       "prompt_number": 43,
       "text": [
        "<matplotlib.image.AxesImage at 0x97394f0>"
       ]
      }
     ],
     "prompt_number": 43
    },
    {
     "cell_type": "code",
     "collapsed": false,
     "input": [
      "#Trying to see spatial correlation using fft2D\n",
      "#From http://www.astrobetter.com/fourier-transforms-of-images-in-python/\n",
      "\n",
      "F1 = scipy.fftpack.fft2(img_eroded[::-1], axes = (0,1))\n",
      "F2 = scipy.fftpack.fftshift(F1)\n",
      "psf2D = np.abs(F2)**2\n",
      "\n",
      "#py.figure()\n",
      "#py.imshow(np.log10(img_eroded[::-1]), cmap=py.cm.Greys)\n",
      "\n",
      "py.figure()\n",
      "py.imshow(np.log10(psf2D))"
     ],
     "language": "python",
     "metadata": {},
     "outputs": [
      {
       "output_type": "stream",
       "stream": "stdout",
       "text": [
        "1256206249.0\n",
        "0.00559379304168\n"
       ]
      },
      {
       "metadata": {},
       "output_type": "pyout",
       "prompt_number": 61,
       "text": [
        "<matplotlib.image.AxesImage at 0x20ad9df0>"
       ]
      }
     ],
     "prompt_number": 61
    },
    {
     "cell_type": "code",
     "collapsed": false,
     "input": [
      "#Normalization\n",
      "#img_grey = color.rgb2gray(img)\n",
      "#p2 = np.percentile(img_grey, 2)\n",
      "#p98 = np.percentile(img_grey, 98)\n",
      "#img_rescale = exposure.rescale_intensity(img_grey, out_range=(0, 1))\n",
      "#ax[1].imshow(img_grey[::-1], cmap = 'gray')\n",
      "#ax[2].imshow(img_rescale[::-1], cmap = 'gray')\n",
      "\n",
      "# Equalization\n",
      "#img_eq = exposure.equalize_hist(img_rescale)\n",
      "#ax[1].imshow(img_eq[::-1], cmap = 'gray')\n",
      "\n",
      "# Adaptive Equalization\n",
      "#img_adapteq = exposure.equalize_adapthist(img_rescale, clip_limit=0.03)\n",
      "#ax[1].imshow(img_adapteq[::-1], cmap = 'gray')"
     ],
     "language": "python",
     "metadata": {},
     "outputs": []
    },
    {
     "cell_type": "code",
     "collapsed": false,
     "input": [
      "#Adapted from http://code.activestate.com/recipes/66527-finding-the-convex-hull-of-a-set-of-2d-points/\n",
      "#Implemented by Dinu C. Gherman\n",
      "#Calculate the convex hull of a set of n 2D-points in O(n log n) time.  \n",
      "#Taken from Berg et al., Computational Geometry, Springer-Verlag, 1997.\n",
      "\n",
      "#It doesn't work at the moment\n",
      "import sys, string, random\n",
      "\n",
      "######################################################################\n",
      "# Helpers\n",
      "######################################################################\n",
      "\n",
      "def _myDet(p, q, r):\n",
      "    \"\"\"Calc. determinant of a special matrix with three 2D points.\n",
      "\n",
      "    The sign, \"-\" or \"+\", determines the side, right or left,\n",
      "    respectivly, on which the point r lies, when measured against\n",
      "    a directed vector from p to q.\n",
      "    \"\"\"\n",
      "\n",
      "    # We use Sarrus' Rule to calculate the determinant.\n",
      "    # (could also use the Numeric package...)\n",
      "    sum1 = q[0]*r[1] + p[0]*q[1] + r[0]*p[1]\n",
      "    sum2 = q[0]*p[1] + r[0]*q[1] + p[0]*r[1]\n",
      "\n",
      "    return sum1 - sum2\n",
      "\n",
      "\n",
      "def _isRightTurn((p, q, r)):\n",
      "    \"Do the vectors pq:qr form a right turn, or not?\"\n",
      "\n",
      "    assert p != q and q != r and p != r\n",
      "            \n",
      "    if _myDet(p, q, r) < 0:\n",
      "        return 1\n",
      "    else:\n",
      "        return 0\n",
      "\n",
      "\n",
      "def _isPointInPolygon(r, P):\n",
      "    \"Is point r inside a given polygon P?\"\n",
      "\n",
      "    # We assume the polygon is a list of points, listed clockwise!\n",
      "    for i in xrange(len(P[:-1])):\n",
      "        p, q = P[i], P[i+1]\n",
      "        if not _isRightTurn((p, q, r)):\n",
      "            return 0 # Out!        \n",
      "\n",
      "    return 1 # It's within!\n",
      "\n",
      "######################################################################\n",
      "# Public interface\n",
      "######################################################################\n",
      "\n",
      "def convexHull(P):\n",
      "    \"Calculate the convex hull of a set of points.\"\n",
      "\n",
      "    # Get a local list copy of the points and sort them lexically.\n",
      "    points = map(None, P)\n",
      "    points.sort()\n",
      "\n",
      "    # Build upper half of the hull.\n",
      "    upper = [points[0], points[1]]\n",
      "    for p in points[2:]:\n",
      "        upper.append(p)\n",
      "        while len(upper) > 2 and not _isRightTurn(upper[-3:]):\n",
      "            del upper[-2]\n",
      "\n",
      "    # Build lower half of the hull.\n",
      "    points.reverse()\n",
      "    lower = [points[0], points[1]]\n",
      "    for p in points[2:]:\n",
      "        lower.append(p)\n",
      "        while len(lower) > 2 and not _isRightTurn(lower[-3:]):\n",
      "            del lower[-2]\n",
      "\n",
      "    # Remove duplicates.\n",
      "    del lower[0]\n",
      "    del lower[-1]\n",
      "\n",
      "    # Concatenate both halfs and return.\n",
      "    return tuple(upper + lower)\n",
      "\n",
      "c = convexHull((labeled==1).astype(int))"
     ],
     "language": "python",
     "metadata": {},
     "outputs": []
    }
   ],
   "metadata": {}
  }
 ]
}