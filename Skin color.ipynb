{
 "metadata": {
  "name": "",
  "signature": "sha256:c706756974bfb246844341b16ca868a0d0e1e63a97f7143e385864ce3a7acc96"
 },
 "nbformat": 3,
 "nbformat_minor": 0,
 "worksheets": [
  {
   "cells": [
    {
     "cell_type": "code",
     "collapsed": false,
     "input": [
      "# Import standard libraries\n",
      "from os import chdir\n",
      "from glob import glob"
     ],
     "language": "python",
     "metadata": {},
     "outputs": [],
     "prompt_number": 6
    },
    {
     "cell_type": "code",
     "collapsed": false,
     "input": [
      "# Import common libraries\n",
      "import matplotlib.image as mpimg\n",
      "import matplotlib.pyplot as plt\n",
      "from matplotlib.widgets import Slider, Button\n",
      "from matplotlib.ticker import NullFormatter\n",
      "import numpy as np\n",
      "import pylab as py\n",
      "import scipy.ndimage\n",
      "import scipy.fftpack\n",
      "import Image\n",
      "#%matplotlib\n",
      "\n",
      "import pyfits\n",
      "#import radialProfile"
     ],
     "language": "python",
     "metadata": {},
     "outputs": [],
     "prompt_number": 20
    },
    {
     "cell_type": "code",
     "collapsed": false,
     "input": [
      "# Get list of files\n",
      "chdir('/Users/Maurizio/Data_science/git/FoodvSkin/')\n",
      "files = glob('*.jpg')\n",
      "img = mpimg.imread(files[0])"
     ],
     "language": "python",
     "metadata": {},
     "outputs": [],
     "prompt_number": 14
    },
    {
     "cell_type": "code",
     "collapsed": false,
     "input": [
      "#Show original image\n",
      "fig, ax = plt.subplots()\n",
      "ax.imshow(img[::-1])"
     ],
     "language": "python",
     "metadata": {},
     "outputs": [
      {
       "metadata": {},
       "output_type": "pyout",
       "prompt_number": 15,
       "text": [
        "<matplotlib.image.AxesImage at 0x69af3b0>"
       ]
      }
     ],
     "prompt_number": 15
    },
    {
     "cell_type": "code",
     "collapsed": false,
     "input": [
      "#Define thresholds in YCbCr color space\n",
      "y_min = 80\n",
      "cb_min = 77\n",
      "cb_max = 135\n",
      "cr_min = 133\n",
      "cr_max = 185\n",
      "\n",
      "#Get R G B channels\n",
      "R = img[:,:,0].astype('f')\n",
      "G = img[:,:,1].astype('f')\n",
      "B = img[:,:,2].astype('f')\n",
      "\n",
      "#Transform R G B in Y Cb Cr\n",
      "y = 0.299*R + 0.587*G + 0.114*B\n",
      "cr = R - y + 128\n",
      "cb = B - y + 128\n",
      "\n",
      "#Normalize R G B channels\n",
      "r = np.divide(R,(R+G+B))\n",
      "g = np.divide(G,(R+G+B))\n",
      "b = np.divide(B,(R+G+B))\n",
      "\n",
      "#Define alpha beta and gamma for r g b thresholding\n",
      "alpha = (3*b*(r**2))/((r+g+b)**3)\n",
      "beta = (r+g+b)/(3*r) + (r-g)/(r+g+b)\n",
      "gamma = (r*b+(g**2))/(g*b)\n",
      "\n",
      "#Define thresholds in r g b color space\n",
      "alpha0 = 0.1276\n",
      "beta0 = 0.9498\n",
      "gamma0 = 2.7775\n",
      "\n",
      "#Plot Y Cb Cr skin pixels\n",
      "img_cbcr = img[:,:,0].copy()\n",
      "img_cbcr = (y>y_min)&(cb>cb_min)&(cb<cb_max)&(cr>cr_min)&(cr<cr_max)\n",
      "\n",
      "fig, ax = plt.subplots(2)\n",
      "ax[0].imshow(img_cbcr[::-1], cmap='gray')\n",
      "\n",
      "#Plot r g b skin pixels\n",
      "img_rgb = img[:,:,0].copy()\n",
      "img_rgb = (alpha>alpha0)&(beta<=beta0)&(gamma<=gamma0)\n",
      "\n",
      "ax[1].imshow(img_rgb[::-1],cmap='gray')"
     ],
     "language": "python",
     "metadata": {},
     "outputs": [
      {
       "metadata": {},
       "output_type": "pyout",
       "prompt_number": 17,
       "text": [
        "<matplotlib.image.AxesImage at 0x6714430>"
       ]
      }
     ],
     "prompt_number": 17
    },
    {
     "cell_type": "code",
     "collapsed": false,
     "input": [
      "#Define a 3x3 array with connectivity 2, in which all elements of the array are True\n",
      "struct1 = scipy.ndimage.generate_binary_structure(2, 2)\n",
      "\n",
      "#Dilate image\n",
      "img_dilated = img_cbcr.copy()\n",
      "scipy.ndimage.morphology.binary_dilation(img_cbcr, iterations=1, structure=struct1, output = img_dilated)\n",
      "\n",
      "#Fill holes in the image\n",
      "img_filled = scipy.ndimage.morphology.binary_fill_holes(img_dilated)\n",
      "\n",
      "#Erode image\n",
      "img_eroded = img_filled.copy()\n",
      "scipy.ndimage.morphology.binary_erosion(img_filled, iterations = 2, structure = struct1, output = img_eroded)"
     ],
     "language": "python",
     "metadata": {},
     "outputs": [],
     "prompt_number": 18
    },
    {
     "cell_type": "code",
     "collapsed": false,
     "input": [
      "#Draw the different steps of image processing in one plot\n",
      "fig, ax = plt.subplots(2,2)\n",
      "ax[0,0].imshow(img_cbcr[::-1],cmap='gray')\n",
      "ax[0,1].imshow(img_dilated[::-1],cmap='gray')\n",
      "ax[1,0].imshow(img_filled[::-1],cmap='gray')\n",
      "#ax[1,1].imshow(img_eroded[::-1],cmap='gray')\n",
      "ax[1,1].imshow(img_eroded[::-1],cmap='gray')"
     ],
     "language": "python",
     "metadata": {},
     "outputs": [
      {
       "metadata": {},
       "output_type": "pyout",
       "prompt_number": 24,
       "text": [
        "<matplotlib.image.AxesImage at 0x12284630>"
       ]
      }
     ],
     "prompt_number": 24
    },
    {
     "cell_type": "code",
     "collapsed": false,
     "input": [
      "#Trying to see spatial correlation using fft2D\n",
      "#From http://www.astrobetter.com/fourier-transforms-of-images-in-python/\n",
      "\n",
      "F1 = scipy.fftpack.fft2(img_eroded[::-1], axes = (0,1))\n",
      "F2 = scipy.fftpack.fftshift(F1)\n",
      "psf2D = np.abs(F2)**2\n",
      "\n",
      "#py.figure()\n",
      "#py.imshow(np.log10(img_eroded[::-1]), cmap=py.cm.Greys)\n",
      "\n",
      "py.figure()\n",
      "py.imshow(np.log10(psf2D))"
     ],
     "language": "python",
     "metadata": {},
     "outputs": [
      {
       "output_type": "stream",
       "stream": "stdout",
       "text": [
        "1256206249.0\n",
        "0.00559379304168\n"
       ]
      },
      {
       "metadata": {},
       "output_type": "pyout",
       "prompt_number": 61,
       "text": [
        "<matplotlib.image.AxesImage at 0x20ad9df0>"
       ]
      }
     ],
     "prompt_number": 61
    },
    {
     "cell_type": "code",
     "collapsed": false,
     "input": [
      "###To select more than one file in the folder\n",
      "\n",
      "# For now select a single file\n",
      "# Convert into alpha, beta and gamma matrices\n",
      "for fName in files[:]:\n",
      "    \n",
      "    values = mpimg.imread(fName)\n",
      "    \n",
      "    plt.imshow(values)\n",
      "        \n",
      "    R = values[:,:,0].astype('f')\n",
      "    G = values[:,:,1].astype('f')\n",
      "    B = values[:,:,2].astype('f')\n",
      "    \n",
      "    r = np.divide(R,(R+G+B))\n",
      "    g = np.divide(G,(R+G+B))\n",
      "    b = np.divide(B,(R+G+B))\n",
      "    \n",
      "    alpha = 3*b*r**2/(r+g+b)**3\n",
      "    beta = (r+g+b)/(3*r) + (r-g)/(r+g+b)\n",
      "    gamma = (r*b+g**2)/(g*b)\n",
      "    \n",
      "    y = 0.299*R + 0.587*G + 0.114*B\n",
      "    cr = R - y + 128\n",
      "    cb = B - y + 128"
     ],
     "language": "python",
     "metadata": {},
     "outputs": [
      {
       "output_type": "stream",
       "stream": "stderr",
       "text": [
        "-c:18: RuntimeWarning: divide by zero encountered in divide\n",
        "-c:19: RuntimeWarning: divide by zero encountered in divide\n",
        "-c:19: RuntimeWarning: invalid value encountered in divide\n"
       ]
      }
     ],
     "prompt_number": 107
    },
    {
     "cell_type": "code",
     "collapsed": false,
     "input": [
      "fig, ax = plt.subplots()\n",
      "plt.subplots_adjust(left=0.25, bottom=0.3)\n",
      "y_min = 80\n",
      "cb_min = 85\n",
      "cb_max = 135\n",
      "cr_min = 135\n",
      "cr_max = 185\n",
      "ax.imshow((y>y_min)&(cb>cb_min)&(cb<cb_max)&(cr>cr_min)&(cr<cr_max),cmap='gray')"
     ],
     "language": "python",
     "metadata": {},
     "outputs": [
      {
       "metadata": {},
       "output_type": "pyout",
       "prompt_number": 88,
       "text": [
        "<matplotlib.image.AxesImage at 0x18b5d090>"
       ]
      }
     ],
     "prompt_number": 88
    },
    {
     "cell_type": "code",
     "collapsed": false,
     "input": [
      "fig, ax = plt.subplots()\n",
      "plt.subplots_adjust(left=0.25, bottom=0.3)\n",
      "alpha0 = 0.1276\n",
      "beta0 = 0.9498\n",
      "gamma0 = 2.7775\n",
      "ax.imshow((alpha>alpha0)&(beta<=beta0)&(gamma<=gamma0),cmap='gray')"
     ],
     "language": "python",
     "metadata": {},
     "outputs": [
      {
       "metadata": {},
       "output_type": "pyout",
       "prompt_number": 102,
       "text": [
        "<matplotlib.image.AxesImage at 0x6c69e90>"
       ]
      }
     ],
     "prompt_number": 102
    },
    {
     "cell_type": "code",
     "collapsed": false,
     "input": [],
     "language": "python",
     "metadata": {},
     "outputs": []
    }
   ],
   "metadata": {}
  }
 ]
}