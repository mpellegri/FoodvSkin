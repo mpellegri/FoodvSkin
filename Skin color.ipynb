{
 "metadata": {
  "name": "",
  "signature": "sha256:cba3d4527e13b9ea67baaf3181da5adf7ee80420bcb7f39988807ec281dfb6a4"
 },
 "nbformat": 3,
 "nbformat_minor": 0,
 "worksheets": [
  {
   "cells": [
    {
     "cell_type": "code",
     "collapsed": false,
     "input": [
      "# Import standard libraries\n",
      "from os import chdir\n",
      "from glob import glob"
     ],
     "language": "python",
     "metadata": {},
     "outputs": [],
     "prompt_number": 39
    },
    {
     "cell_type": "code",
     "collapsed": false,
     "input": [
      "# Import common libraries\n",
      "import matplotlib.image as mpimg\n",
      "import matplotlib.pyplot as plt\n",
      "from matplotlib.widgets import Slider, Button\n",
      "from matplotlib.ticker import NullFormatter\n",
      "import numpy as np\n",
      "import pylab as py\n",
      "from scipy import ndimage, fftpack\n",
      "import Image\n",
      "from skimage import filter, morphology\n",
      "\n",
      "%matplotlib\n",
      "\n",
      "#import pyfits"
     ],
     "language": "python",
     "metadata": {},
     "outputs": [
      {
       "output_type": "stream",
       "stream": "stdout",
       "text": [
        "0.10.1\n",
        "Using matplotlib backend: WXAgg"
       ]
      },
      {
       "output_type": "stream",
       "stream": "stdout",
       "text": [
        "\n"
       ]
      }
     ],
     "prompt_number": 80
    },
    {
     "cell_type": "code",
     "collapsed": false,
     "input": [
      "# Get list of files\n",
      "chdir('/Users/Maurizio/Data_science/git/FoodvSkin/')\n",
      "files = glob('*.jpg')\n",
      "img = mpimg.imread(files[0])"
     ],
     "language": "python",
     "metadata": {},
     "outputs": [],
     "prompt_number": 41
    },
    {
     "cell_type": "code",
     "collapsed": false,
     "input": [
      "#Show original image\n",
      "fig, ax = plt.subplots()\n",
      "ax.imshow(img[::-1])"
     ],
     "language": "python",
     "metadata": {},
     "outputs": [
      {
       "metadata": {},
       "output_type": "pyout",
       "prompt_number": 42,
       "text": [
        "<matplotlib.image.AxesImage at 0x12373cb0>"
       ]
      }
     ],
     "prompt_number": 42
    },
    {
     "cell_type": "code",
     "collapsed": false,
     "input": [
      "#Define thresholds in YCbCr color space\n",
      "y_min = 80\n",
      "cb_min = 77\n",
      "cb_max = 135\n",
      "cr_min = 133\n",
      "cr_max = 185\n",
      "\n",
      "#Get R G B channels\n",
      "R = img[:,:,0].astype('f')\n",
      "G = img[:,:,1].astype('f')\n",
      "B = img[:,:,2].astype('f')\n",
      "\n",
      "#Transform R G B in Y Cb Cr\n",
      "y = 0.299*R + 0.587*G + 0.114*B\n",
      "cr = R - y + 128\n",
      "cb = B - y + 128\n",
      "\n",
      "#Normalize R G B channels\n",
      "r = np.divide(R,(R+G+B))\n",
      "g = np.divide(G,(R+G+B))\n",
      "b = np.divide(B,(R+G+B))\n",
      "\n",
      "#Define alpha beta and gamma for r g b thresholding\n",
      "alpha = (3*b*(r**2))/((r+g+b)**3)\n",
      "beta = (r+g+b)/(3*r) + (r-g)/(r+g+b)\n",
      "gamma = (r*b+(g**2))/(g*b)\n",
      "\n",
      "#Define thresholds in r g b color space\n",
      "alpha0 = 0.1276\n",
      "beta0 = 0.9498\n",
      "gamma0 = 2.7775\n",
      "\n",
      "#Plot Y Cb Cr skin pixels\n",
      "img_cbcr = img[:,:,0].copy()\n",
      "img_cbcr = (y>y_min)&(cb>cb_min)&(cb<cb_max)&(cr>cr_min)&(cr<cr_max)\n",
      "\n",
      "fig, ax = plt.subplots(2)\n",
      "ax[0].imshow(img_cbcr[::-1], cmap='gray')\n",
      "\n",
      "#Plot r g b skin pixels\n",
      "img_rgb = img[:,:,0].copy()\n",
      "img_rgb = (alpha>alpha0)&(beta<=beta0)&(gamma<=gamma0)\n",
      "\n",
      "ax[1].imshow(img_rgb[::-1],cmap='gray')"
     ],
     "language": "python",
     "metadata": {},
     "outputs": [
      {
       "metadata": {},
       "output_type": "pyout",
       "prompt_number": 33,
       "text": [
        "<matplotlib.image.AxesImage at 0x6844530>"
       ]
      },
      {
       "metadata": {},
       "output_type": "display_data",
       "png": "[encoded data removed]",
       "text": [
        "<matplotlib.figure.Figure at 0x12735f70>"
       ]
      }
     ],
     "prompt_number": 33
    },
    {
     "cell_type": "code",
     "collapsed": false,
     "input": [
      "#Define a 3x3 array with connectivity 2, in which all elements of the array are True\n",
      "#http://docs.scipy.org/doc/scipy/reference/ndimage.html#module-scipy.ndimage.morphology\n",
      "struct1 = ndimage.generate_binary_structure(2, 2)\n",
      "\n",
      "#Dilate image\n",
      "img_dilated = img_cbcr.copy()\n",
      "ndimage.morphology.binary_dilation(img_cbcr, iterations=1, structure=struct1, output = img_dilated)\n",
      "\n",
      "#Fill holes in the image\n",
      "img_filled = ndimage.morphology.binary_fill_holes(img_dilated)\n",
      "\n",
      "#Erode image\n",
      "img_eroded = img_filled.copy()\n",
      "ndimage.morphology.binary_erosion(img_filled, iterations = 2, structure = struct1, output = img_eroded)"
     ],
     "language": "python",
     "metadata": {},
     "outputs": [],
     "prompt_number": 34
    },
    {
     "cell_type": "code",
     "collapsed": false,
     "input": [
      "#Draw the different steps of image processing in one plot\n",
      "fig, ax = plt.subplots(2,2)\n",
      "ax[0,0].imshow(img_cbcr[::-1],cmap='gray')\n",
      "ax[0,1].imshow(img_dilated[::-1],cmap='gray')\n",
      "ax[1,0].imshow(img_filled[::-1],cmap='gray')\n",
      "ax[1,1].imshow(img_eroded[::-1],cmap='gray')"
     ],
     "language": "python",
     "metadata": {},
     "outputs": [
      {
       "metadata": {},
       "output_type": "pyout",
       "prompt_number": 57,
       "text": [
        "<matplotlib.image.AxesImage at 0x1cc035f0>"
       ]
      }
     ],
     "prompt_number": 57
    },
    {
     "cell_type": "code",
     "collapsed": false,
     "input": [
      "#Labeling and counting shapes in an image\n",
      "#http://pythonvision.org/basic-tutorial\n",
      "img_gaussian = ndimage.gaussian_filter(img_eroded,2)\n",
      "labeled, shapes = ndimage.label(img_gaussian > 0)\n",
      "py.imshow(labeled[::-1])\n",
      "#for label in range(0, shapes):\n",
      "py.imshow(labeled==1, cmap = 'gray')\n",
      "\n",
      "#plt.contour(labeled==1)\n",
      "#FEATURES\n",
      "#img_size = (labeled.shape)[0]*(labeled.shape)[1]\n",
      "#area_covered = ((labeled == label).sum())/img_size\n",
      "#density = float(((labeled==1)&img_cbcr).sum())/float((labeled==1).sum())\n",
      "#if area_covered > define a threshold here:\n",
      "\n",
      "# DONE\n",
      "# %area covered - in area_covered\n",
      "# number of blobs - in shapes\n",
      "# density of blobs - in density\n",
      "# number of pixels to define a blob - in (labeled == label).sum()\n",
      "\n",
      "#TO DO\n",
      "# ratio h/w, circularity\n",
      "# look at openCV to see other feature definitions of contours (straightness of lines)\n",
      "# % of points close to contour lines delimiting the blob (difference between the blob and a convex hull)"
     ],
     "language": "python",
     "metadata": {},
     "outputs": [
      {
       "output_type": "stream",
       "stream": "stdout",
       "text": [
        "0.781432896065\n"
       ]
      }
     ],
     "prompt_number": 71
    },
    {
     "cell_type": "code",
     "collapsed": false,
     "input": [
      "#Adapted from http://code.activestate.com/recipes/66527-finding-the-convex-hull-of-a-set-of-2d-points/\n",
      "#Implemented by Dinu C. Gherman\n",
      "#Calculate the convex hull of a set of n 2D-points in O(n log n) time.  \n",
      "#Taken from Berg et al., Computational Geometry, Springer-Verlag, 1997.\n",
      "\n",
      "#It doesn't work at the moment\n",
      "import sys, string, random\n",
      "\n",
      "######################################################################\n",
      "# Helpers\n",
      "######################################################################\n",
      "\n",
      "def _myDet(p, q, r):\n",
      "    \"\"\"Calc. determinant of a special matrix with three 2D points.\n",
      "\n",
      "    The sign, \"-\" or \"+\", determines the side, right or left,\n",
      "    respectivly, on which the point r lies, when measured against\n",
      "    a directed vector from p to q.\n",
      "    \"\"\"\n",
      "\n",
      "    # We use Sarrus' Rule to calculate the determinant.\n",
      "    # (could also use the Numeric package...)\n",
      "    sum1 = q[0]*r[1] + p[0]*q[1] + r[0]*p[1]\n",
      "    sum2 = q[0]*p[1] + r[0]*q[1] + p[0]*r[1]\n",
      "\n",
      "    return sum1 - sum2\n",
      "\n",
      "\n",
      "def _isRightTurn((p, q, r)):\n",
      "    \"Do the vectors pq:qr form a right turn, or not?\"\n",
      "\n",
      "    assert p != q and q != r and p != r\n",
      "            \n",
      "    if _myDet(p, q, r) < 0:\n",
      "        return 1\n",
      "    else:\n",
      "        return 0\n",
      "\n",
      "\n",
      "def _isPointInPolygon(r, P):\n",
      "    \"Is point r inside a given polygon P?\"\n",
      "\n",
      "    # We assume the polygon is a list of points, listed clockwise!\n",
      "    for i in xrange(len(P[:-1])):\n",
      "        p, q = P[i], P[i+1]\n",
      "        if not _isRightTurn((p, q, r)):\n",
      "            return 0 # Out!        \n",
      "\n",
      "    return 1 # It's within!\n",
      "\n",
      "######################################################################\n",
      "# Public interface\n",
      "######################################################################\n",
      "\n",
      "def convexHull(P):\n",
      "    \"Calculate the convex hull of a set of points.\"\n",
      "\n",
      "    # Get a local list copy of the points and sort them lexically.\n",
      "    points = map(None, P)\n",
      "    points.sort()\n",
      "\n",
      "    # Build upper half of the hull.\n",
      "    upper = [points[0], points[1]]\n",
      "    for p in points[2:]:\n",
      "        upper.append(p)\n",
      "        while len(upper) > 2 and not _isRightTurn(upper[-3:]):\n",
      "            del upper[-2]\n",
      "\n",
      "    # Build lower half of the hull.\n",
      "    points.reverse()\n",
      "    lower = [points[0], points[1]]\n",
      "    for p in points[2:]:\n",
      "        lower.append(p)\n",
      "        while len(lower) > 2 and not _isRightTurn(lower[-3:]):\n",
      "            del lower[-2]\n",
      "\n",
      "    # Remove duplicates.\n",
      "    del lower[0]\n",
      "    del lower[-1]\n",
      "\n",
      "    # Concatenate both halfs and return.\n",
      "    return tuple(upper + lower)\n",
      "\n",
      "c = convexHull((labeled==1).astype(int))"
     ],
     "language": "python",
     "metadata": {},
     "outputs": [
      {
       "ename": "ValueError",
       "evalue": "The truth value of an array with more than one element is ambiguous. Use a.any() or a.all()",
       "output_type": "pyerr",
       "traceback": [
        "\u001b[0;31m---------------------------------------------------------------------------\u001b[0m\n\u001b[0;31mValueError\u001b[0m                                Traceback (most recent call last)",
        "\u001b[0;32m<ipython-input-89-45cb5edfd7c5>\u001b[0m in \u001b[0;36m<module>\u001b[0;34m()\u001b[0m\n\u001b[1;32m     82\u001b[0m \u001b[0;34m\u001b[0m\u001b[0m\n\u001b[1;32m     83\u001b[0m \u001b[0mtry_this\u001b[0m \u001b[0;34m=\u001b[0m \u001b[0;34m(\u001b[0m\u001b[0mlabeled\u001b[0m\u001b[0;34m==\u001b[0m\u001b[0;36m1\u001b[0m\u001b[0;34m)\u001b[0m\u001b[0;34m.\u001b[0m\u001b[0mastype\u001b[0m\u001b[0;34m(\u001b[0m\u001b[0mint\u001b[0m\u001b[0;34m)\u001b[0m\u001b[0;34m\u001b[0m\u001b[0m\n\u001b[0;32m---> 84\u001b[0;31m \u001b[0mc\u001b[0m \u001b[0;34m=\u001b[0m \u001b[0mconvexHull\u001b[0m\u001b[0;34m(\u001b[0m\u001b[0mtry_this\u001b[0m\u001b[0;34m)\u001b[0m\u001b[0;34m\u001b[0m\u001b[0m\n\u001b[0m",
        "\u001b[0;32m<ipython-input-89-45cb5edfd7c5>\u001b[0m in \u001b[0;36mconvexHull\u001b[0;34m(P)\u001b[0m\n\u001b[1;32m     57\u001b[0m     \u001b[0;31m# Get a local list copy of the points and sort them lexically.\u001b[0m\u001b[0;34m\u001b[0m\u001b[0;34m\u001b[0m\u001b[0m\n\u001b[1;32m     58\u001b[0m     \u001b[0mpoints\u001b[0m \u001b[0;34m=\u001b[0m \u001b[0mmap\u001b[0m\u001b[0;34m(\u001b[0m\u001b[0mNone\u001b[0m\u001b[0;34m,\u001b[0m \u001b[0mP\u001b[0m\u001b[0;34m)\u001b[0m\u001b[0;34m\u001b[0m\u001b[0m\n\u001b[0;32m---> 59\u001b[0;31m     \u001b[0mpoints\u001b[0m\u001b[0;34m.\u001b[0m\u001b[0msort\u001b[0m\u001b[0;34m(\u001b[0m\u001b[0;34m)\u001b[0m\u001b[0;34m\u001b[0m\u001b[0m\n\u001b[0m\u001b[1;32m     60\u001b[0m \u001b[0;34m\u001b[0m\u001b[0m\n\u001b[1;32m     61\u001b[0m     \u001b[0;31m# Build upper half of the hull.\u001b[0m\u001b[0;34m\u001b[0m\u001b[0;34m\u001b[0m\u001b[0m\n",
        "\u001b[0;31mValueError\u001b[0m: The truth value of an array with more than one element is ambiguous. Use a.any() or a.all()"
       ]
      }
     ],
     "prompt_number": 89
    },
    {
     "cell_type": "code",
     "collapsed": false,
     "input": [],
     "language": "python",
     "metadata": {},
     "outputs": []
    },
    {
     "cell_type": "heading",
     "level": 1,
     "metadata": {},
     "source": [
      "Code not useful at the moment"
     ]
    },
    {
     "cell_type": "code",
     "collapsed": false,
     "input": [
      "#Detecting blobs using Determinant of Hessian\n",
      "#http://scikit-image.org/docs/dev/auto_examples/plot_blob.html\n",
      "\n",
      "#blobs_doh = blob_doh(img_eroded)\n",
      "\n",
      "#fig, ax = plt.subplots(1, 1)\n",
      "#ax.imshow(img_eroded, cmap='gray')\n",
      "#for blob in blobs_doh:\n",
      "#    y, x, r = blob\n",
      "#    c = plt.Circle((x, y), r, color='r', linewidth=2, fill=False)\n",
      "#    ax.add_patch(c)"
     ],
     "language": "python",
     "metadata": {},
     "outputs": [],
     "prompt_number": 31
    },
    {
     "cell_type": "code",
     "collapsed": false,
     "input": [
      "#Using Canny filter\n",
      "#http://scikit-image.org/docs/dev/auto_examples/plot_canny.html\n",
      "edges1 = filter.canny(img_eroded)\n",
      "edges2 = filter.canny(img_eroded, sigma=2)\n",
      "\n",
      "fig, (ax1, ax2, ax3) = plt.subplots(1, 3)\n",
      "\n",
      "ax1.imshow(img_eroded[::-1], cmap='gray')\n",
      "ax2.imshow(edges1[::-1], cmap='gray')\n",
      "ax3.imshow(edges2[::-1], cmap='gray')"
     ],
     "language": "python",
     "metadata": {},
     "outputs": [
      {
       "metadata": {},
       "output_type": "pyout",
       "prompt_number": 43,
       "text": [
        "<matplotlib.image.AxesImage at 0x97394f0>"
       ]
      }
     ],
     "prompt_number": 43
    },
    {
     "cell_type": "code",
     "collapsed": false,
     "input": [
      "#Trying to see spatial correlation using fft2D\n",
      "#From http://www.astrobetter.com/fourier-transforms-of-images-in-python/\n",
      "\n",
      "F1 = scipy.fftpack.fft2(img_eroded[::-1], axes = (0,1))\n",
      "F2 = scipy.fftpack.fftshift(F1)\n",
      "psf2D = np.abs(F2)**2\n",
      "\n",
      "#py.figure()\n",
      "#py.imshow(np.log10(img_eroded[::-1]), cmap=py.cm.Greys)\n",
      "\n",
      "py.figure()\n",
      "py.imshow(np.log10(psf2D))"
     ],
     "language": "python",
     "metadata": {},
     "outputs": [
      {
       "output_type": "stream",
       "stream": "stdout",
       "text": [
        "1256206249.0\n",
        "0.00559379304168\n"
       ]
      },
      {
       "metadata": {},
       "output_type": "pyout",
       "prompt_number": 61,
       "text": [
        "<matplotlib.image.AxesImage at 0x20ad9df0>"
       ]
      }
     ],
     "prompt_number": 61
    },
    {
     "cell_type": "code",
     "collapsed": false,
     "input": [],
     "language": "python",
     "metadata": {},
     "outputs": []
    }
   ],
   "metadata": {}
  }
 ]
}