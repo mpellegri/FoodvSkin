{
 "metadata": {
  "name": "",
  "signature": "sha256:4f328acf20dff5903649154e3171d30f2c4184717464fb68b58e411adb05fb17"
 },
 "nbformat": 3,
 "nbformat_minor": 0,
 "worksheets": [
  {
   "cells": [
    {
     "cell_type": "code",
     "collapsed": false,
     "input": [
      "# Import standard libraries\n",
      "from os import chdir\n",
      "from glob import glob"
     ],
     "language": "python",
     "metadata": {},
     "outputs": [],
     "prompt_number": 11
    },
    {
     "cell_type": "code",
     "collapsed": false,
     "input": [
      "# Import common libraries\n",
      "import matplotlib.image as mpimg\n",
      "import matplotlib.pyplot as plt\n",
      "from matplotlib.widgets import Slider, Button\n",
      "import numpy as np"
     ],
     "language": "python",
     "metadata": {},
     "outputs": [],
     "prompt_number": 12
    },
    {
     "cell_type": "code",
     "collapsed": false,
     "input": [
      "# Get list of files\n",
      "chdir('/home/tdoughty1/Dropbox/FoodvSkin/')\n",
      "files = glob('*.jpg')"
     ],
     "language": "python",
     "metadata": {},
     "outputs": [],
     "prompt_number": 13
    },
    {
     "cell_type": "code",
     "collapsed": false,
     "input": [
      "# For now select a single file\n",
      "# Convert into alpha, beta and gamma matrices\n",
      "for fName in files[0:1]:\n",
      "    \n",
      "    values = mpimg.imread(fName)\n",
      "    \n",
      "    plt.imshow(values)\n",
      "        \n",
      "    R = values[:,:,0].astype('f')\n",
      "    G = values[:,:,1].astype('f')\n",
      "    B = values[:,:,2].astype('f')\n",
      "    \n",
      "    r = R/(R+G+B)\n",
      "    g = G/(R+G+B)\n",
      "    b = B/(R+G+B)\n",
      "    \n",
      "    alpha = 3*b*r**2/(r+g+b)**3\n",
      "    beta = (r+g+b)/(3*r) + (r-g)/(r+g+b)\n",
      "    gamma = (r*b+g**2)/(g*b) "
     ],
     "language": "python",
     "metadata": {},
     "outputs": [],
     "prompt_number": 20
    },
    {
     "cell_type": "code",
     "collapsed": false,
     "input": [
      "# Create Plot with sliders\n",
      "fig, ax = plt.subplots()\n",
      "plt.subplots_adjust(left=0.25, bottom=0.3)\n",
      "alpha0 = 0.1276\n",
      "beta0 = 0.9498\n",
      "gamma0 = 2.7775\n",
      "ax.imshow((alpha>alpha0)&(beta<=beta0)&(gamma<=gamma0),cmap='gray')\n",
      "\n",
      "axAlpha = plt.axes([0.25, 0.2, 0.65, 0.03])\n",
      "axBeta = plt.axes([0.25, 0.15, 0.65, 0.03])\n",
      "axGamma = plt.axes([0.25, 0.1, 0.65, 0.03])\n",
      "\n",
      "sAlpha = Slider(axAlpha, 'Alpha', 0, 3, valinit=alpha0)\n",
      "sBeta = Slider(axBeta, 'Beta', .8, 1, valinit=beta0)\n",
      "sGamma = Slider(axGamma, 'Gamma', 0, 5, valinit=gamma0)\n",
      "\n",
      "resetax = plt.axes([0.8, 0.025, 0.1, 0.04])\n",
      "button = Button(resetax, 'Reset', hovercolor='0.975')\n",
      "def reset(event):\n",
      "    sAlpha.reset()\n",
      "    sBeta.reset()\n",
      "    sGamma.reset()\n",
      "button.on_clicked(reset)\n",
      "\n",
      "def update(val):\n",
      "    alphaC = sAlpha.val\n",
      "    betaC = sBeta.val\n",
      "    gammaC = sGamma.val\n",
      "    ax.imshow((alpha>alphaC)&(beta<=betaC)&(gamma<=gammaC),cmap='gray')\n",
      "    fig.canvas.draw()\n",
      "sAlpha.on_changed(update)\n",
      "sBeta.on_changed(update)\n",
      "sGamma.on_changed(update)\n",
      "\n",
      "plt.show()"
     ],
     "language": "python",
     "metadata": {},
     "outputs": [],
     "prompt_number": 21
    },
    {
     "cell_type": "code",
     "collapsed": false,
     "input": [
      "test = plt.imshow((alpha>alpha0)&(beta<=beta0)&(gamma<=gamma0),cmap='gray')"
     ],
     "language": "python",
     "metadata": {},
     "outputs": [
      {
       "output_type": "stream",
       "stream": "stderr",
       "text": [
        "-c:1: RuntimeWarning: invalid value encountered in less_equal\n"
       ]
      }
     ],
     "prompt_number": 15
    },
    {
     "cell_type": "code",
     "collapsed": false,
     "input": [
      "type(test)"
     ],
     "language": "python",
     "metadata": {},
     "outputs": [
      {
       "metadata": {},
       "output_type": "pyout",
       "prompt_number": 16,
       "text": [
        "matplotlib.image.AxesImage"
       ]
      }
     ],
     "prompt_number": 16
    },
    {
     "cell_type": "code",
     "collapsed": false,
     "input": [
      "ax"
     ],
     "language": "python",
     "metadata": {},
     "outputs": [
      {
       "metadata": {},
       "output_type": "pyout",
       "prompt_number": 20,
       "text": [
        "<matplotlib.axes.AxesSubplot at 0x5b9b890>"
       ]
      }
     ],
     "prompt_number": 20
    },
    {
     "cell_type": "code",
     "collapsed": false,
     "input": [
      "ax1.draw?"
     ],
     "language": "python",
     "metadata": {},
     "outputs": [],
     "prompt_number": 22
    },
    {
     "cell_type": "code",
     "collapsed": false,
     "input": [
      "ax1"
     ],
     "language": "python",
     "metadata": {},
     "outputs": [
      {
       "metadata": {},
       "output_type": "pyout",
       "prompt_number": 19,
       "text": [
        "<matplotlib.image.AxesImage at 0x5b73fd0>"
       ]
      }
     ],
     "prompt_number": 19
    },
    {
     "cell_type": "code",
     "collapsed": false,
     "input": [
      "RGB == 0"
     ],
     "language": "python",
     "metadata": {},
     "outputs": []
    },
    {
     "cell_type": "code",
     "collapsed": false,
     "input": [
      "R+G+B == 0"
     ],
     "language": "python",
     "metadata": {},
     "outputs": [
      {
       "metadata": {},
       "output_type": "pyout",
       "prompt_number": 5,
       "text": [
        "array([[False, False, False, ..., False, False, False],\n",
        "       [False, False, False, ..., False, False, False],\n",
        "       [False, False, False, ..., False, False, False],\n",
        "       ..., \n",
        "       [False, False, False, ..., False, False, False],\n",
        "       [False, False, False, ..., False, False, False],\n",
        "       [False, False, False, ..., False, False, False]], dtype=bool)"
       ]
      }
     ],
     "prompt_number": 5
    },
    {
     "cell_type": "code",
     "collapsed": false,
     "input": [
      "np.sum(R+G+B == 1)"
     ],
     "language": "python",
     "metadata": {},
     "outputs": [
      {
       "metadata": {},
       "output_type": "pyout",
       "prompt_number": 7,
       "text": [
        "31"
       ]
      }
     ],
     "prompt_number": 7
    },
    {
     "cell_type": "code",
     "collapsed": false,
     "input": [
      "np.sum(r+g+b == 1)"
     ],
     "language": "python",
     "metadata": {},
     "outputs": [
      {
       "metadata": {},
       "output_type": "pyout",
       "prompt_number": 8,
       "text": [
        "93743"
       ]
      }
     ],
     "prompt_number": 8
    },
    {
     "cell_type": "code",
     "collapsed": false,
     "input": [
      "(r+g+b).shape"
     ],
     "language": "python",
     "metadata": {},
     "outputs": [
      {
       "metadata": {},
       "output_type": "pyout",
       "prompt_number": 9,
       "text": [
        "(366, 650)"
       ]
      }
     ],
     "prompt_number": 9
    },
    {
     "cell_type": "code",
     "collapsed": false,
     "input": [
      "366*650"
     ],
     "language": "python",
     "metadata": {},
     "outputs": [
      {
       "metadata": {},
       "output_type": "pyout",
       "prompt_number": 10,
       "text": [
        "237900"
       ]
      }
     ],
     "prompt_number": 10
    },
    {
     "cell_type": "code",
     "collapsed": false,
     "input": [],
     "language": "python",
     "metadata": {},
     "outputs": []
    }
   ],
   "metadata": {}
  }
 ]
}