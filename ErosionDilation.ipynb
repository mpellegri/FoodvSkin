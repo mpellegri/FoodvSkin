{
 "metadata": {
  "name": "",
  "signature": "sha256:dea592230607a9d07f146298f519f421b95f606116429636ca9c438b1c4da710"
 },
 "nbformat": 3,
 "nbformat_minor": 0,
 "worksheets": [
  {
   "cells": [
    {
     "cell_type": "code",
     "collapsed": false,
     "input": [
      "%matplotlib\n",
      "import matplotlib.pyplot as plt\n",
      "from matplotlib import cm\n",
      "import numpy as np\n",
      "import sys"
     ],
     "language": "python",
     "metadata": {},
     "outputs": [
      {
       "output_type": "stream",
       "stream": "stdout",
       "text": [
        "Using matplotlib backend: MacOSX\n"
       ]
      }
     ],
     "prompt_number": 1
    },
    {
     "cell_type": "code",
     "collapsed": false,
     "input": [
      "fname='images/blog_img2.png'\n",
      "img = plt.imread(fname)\n",
      "plt.imshow(img)"
     ],
     "language": "python",
     "metadata": {},
     "outputs": [
      {
       "metadata": {},
       "output_type": "pyout",
       "prompt_number": 2,
       "text": [
        "<matplotlib.image.AxesImage at 0x108e87050>"
       ]
      }
     ],
     "prompt_number": 2
    },
    {
     "cell_type": "code",
     "collapsed": false,
     "input": [
      "r = img[:,:,0].astype('f')\n",
      "g = img[:,:,1].astype('f')\n",
      "b = img[:,:,2].astype('f')\n",
      "# generate the three quantities \n",
      "alpha = 3*b*r**2/(r+b+g)**3\n",
      "beta =  (r+g+b)/(3*r) + (r-g)/(r+g+b)\n",
      "gamma = (r*b+g**2)/(g*b)\n",
      "# finally we apply the rules:\n",
      "plt.imshow((alpha>0.1276)&(beta<=0.9498)&(gamma<=2.7775),cmap='gray')\n",
      "plt.show()\n"
     ],
     "language": "python",
     "metadata": {},
     "outputs": [
      {
       "output_type": "stream",
       "stream": "stderr",
       "text": [
        "-c:6: RuntimeWarning: divide by zero encountered in divide\n"
       ]
      }
     ],
     "prompt_number": 3
    },
    {
     "cell_type": "code",
     "collapsed": false,
     "input": [
      "def image_dilation(col, row, image, r):\n",
      "    mask1 = []\n",
      "    mask2 = []\n",
      "    circle_points = init_circ_mask_nocenter(mask1, mask2, r)\n",
      "\n",
      "    for i in range(0, row):\n",
      "        for j in range(0, col):\n",
      "            curr_point = col*i+j\n",
      "\n",
      "            cell_value = 0\n",
      "            if(list[curr_point] >= 1):\n",
      "                dil_list[curr_point] = 1\n",
      "                for n in range(0, circle_points):\n",
      "                    curr_point_circle = curr_point + mask1[n]\n",
      "                    if(curr_point_circle >= 0 && curr_point_circle < row*col):\n",
      "                        if((curr_point_circle/col) == (i + mask2[n])):\n",
      "                            dil_list[curr_point_circle] = 1\n",
      "    return dil_list\n",
      "\n",
      "\n",
      "def image_dilation(col, row, image, r):\n",
      "    circle_points = init_circ_mask_nocenter(mask1, mask2, r);\n",
      "    for i in range(0, row):\n",
      "        for j in range(0, col):\n",
      "            curr_point = col*i+j\n",
      "\n",
      "            cell_value = 1\n",
      "            for n in range(0, circle_points):\n",
      "                curr_point_circle = curr_point + mask1[n]\n",
      "\n",
      "                if(curr_point_circle >= 0 && curr_point_circle < row*col):\n",
      "                    if((curr_point_circle/col) == (i + mask2[n])):\n",
      "                        if(list[curr_point_circle] == 0):\n",
      "                            cell_value = 0\n",
      "                            break\n",
      "            eros_list[curr_point] = cell+value\n",
      "    return dil_list\n",
      "\n",
      "\n",
      "def init_mask(stack_items1, stack_items2, radius, col):\n",
      "    circle_col = 2*radius + 1\n",
      "    r_square = radius*radius\n",
      "    area = 2*3.14*r_square + 1\n",
      "\n",
      "    for nrow in range(0:circle_col):\n",
      "        for ncol in range(0:circle_col):\n",
      "            nx = nrow-radius\n",
      "            ny = ncol-radius\n",
      "            if(nx||ny):\n",
      "                if (ny*ny)+(nx*nx) <= r_square:\n",
      "                    stack_items1.add() = col*nx+ny\n",
      "                    stack_items2.add() = nx\n",
      "    return stack_items"
     ],
     "language": "python",
     "metadata": {},
     "outputs": [
      {
       "ename": "SyntaxError",
       "evalue": "invalid syntax (<ipython-input-4-65b5a13accac>, line 15)",
       "output_type": "pyerr",
       "traceback": [
        "\u001b[0;36m  File \u001b[0;32m\"<ipython-input-4-65b5a13accac>\"\u001b[0;36m, line \u001b[0;32m15\u001b[0m\n\u001b[0;31m    if(curr_point_circle >= 0 && curr_point_circle < row*col):\u001b[0m\n\u001b[0m                               ^\u001b[0m\n\u001b[0;31mSyntaxError\u001b[0m\u001b[0;31m:\u001b[0m invalid syntax\n"
       ]
      }
     ],
     "prompt_number": 4
    },
    {
     "cell_type": "code",
     "collapsed": false,
     "input": [],
     "language": "python",
     "metadata": {},
     "outputs": []
    }
   ],
   "metadata": {}
  }
 ]
}