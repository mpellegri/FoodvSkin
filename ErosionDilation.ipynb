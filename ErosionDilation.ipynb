{
 "metadata": {
  "name": "",
  "signature": "sha256:f56c8ded986bcfc8d0a8a80029b291e2904f7db60feaa8defc30ac3e9e234acd"
 },
 "nbformat": 3,
 "nbformat_minor": 0,
 "worksheets": [
  {
   "cells": [
    {
     "cell_type": "code",
     "collapsed": false,
     "input": [
      "def image_dilation(col, row, image, r):\n",
      "    mask1 = []\n",
      "    mask2 = []\n",
      "    circle_points = init_circ_mask_nocenter(mask1, mask2, r)\n",
      "\n",
      "    for i in range(0, row):\n",
      "        for j in range(0, col):\n",
      "            curr_point = col*i+j\n",
      "\n",
      "            cell_value = 0\n",
      "            if(list[curr_point] >= 1):\n",
      "                dil_list[curr_point] = 1\n",
      "                for n in range(0, circle_points):\n",
      "                    curr_point_circle = curr_point + mask1[n]\n",
      "                    if(curr_point_circle >= 0 && curr_point_circle < row*col):\n",
      "                        if((curr_point_circle/col) == (i + mask2[n])):\n",
      "                            dil_list[curr_point_circle] = 1\n",
      "    return dil_list\n",
      "\n",
      "\n",
      "def image_dilation(col, row, image, r):\n",
      "    circle_points = init_circ_mask_nocenter(mask1, mask2, r);\n",
      "    for i in range(0, row):\n",
      "        for j in range(0, col):\n",
      "            curr_point = col*i+j\n",
      "\n",
      "            cell_value = 1\n",
      "            for n in range(0, circle_points):\n",
      "                curr_point_circle = curr_point + mask1[n]\n",
      "\n",
      "                if(curr_point_circle >= 0 && curr_point_circle < row*col):\n",
      "                    if((curr_point_circle/col) == (i + mask2[n])):\n",
      "                        if(list[curr_point_circle] == 0):\n",
      "                            cell_value = 0\n",
      "                            break\n",
      "            eros_list[curr_point] = cell+value\n",
      "    return dil_list\n",
      "\n",
      "\n",
      "def init_mask(stack_items1, stack_items2, radius, col):\n",
      "    circle_col = 2*radius + 1\n",
      "    r_square = radius*radius\n",
      "    area = 2*3.14*r_square + 1\n",
      "\n",
      "    for nrow in range(0:circle_col):\n",
      "        for ncol in range(0:circle_col):\n",
      "            nx = nrow-radius\n",
      "            ny = ncol-radius\n",
      "            if(nx||ny):\n",
      "                if (ny*ny)+(nx*nx) <= r_square:\n",
      "                    stack_items1.add() = col*nx+ny\n",
      "                    stack_items2.add() = nx\n",
      "    return stack_items"
     ],
     "language": "python",
     "metadata": {},
     "outputs": []
    }
   ],
   "metadata": {}
  }
 ]
}