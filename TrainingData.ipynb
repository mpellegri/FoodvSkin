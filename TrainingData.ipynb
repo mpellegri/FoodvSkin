{
 "metadata": {
  "name": "",
  "signature": "sha256:308bafb22c69c42a2fdc410e8f4af1f2ef876ea8f9f03edfe4fafd6626486e72"
 },
 "nbformat": 3,
 "nbformat_minor": 0,
 "worksheets": [
  {
   "cells": [
    {
     "cell_type": "heading",
     "level": 1,
     "metadata": {},
     "source": [
      "Purpose: use select_region code to create set of skin pixel only RGB images and non-skin pixel only RGB images"
     ]
    },
    {
     "cell_type": "code",
     "collapsed": false,
     "input": [
      "%matplotlib\n",
      "import matplotlib.pyplot as plt\n",
      "from matplotlib import cm\n",
      "import matplotlib.patches\n",
      "from matplotlib.path import Path\n",
      "import numpy as np\n",
      "import sys\n",
      "import numpy.ma as ma\n",
      "\n",
      "from instagram.client import InstagramAPI\n",
      "import time\n",
      "import matplotlib.pyplot as plt\n",
      "import numpy as np\n",
      "import urllib2, cStringIO\n",
      "from PIL import Image"
     ],
     "language": "python",
     "metadata": {},
     "outputs": [
      {
       "output_type": "stream",
       "stream": "stdout",
       "text": [
        "Using matplotlib backend: MacOSX\n"
       ]
      }
     ],
     "prompt_number": 3
    },
    {
     "cell_type": "heading",
     "level": 1,
     "metadata": {},
     "source": [
      "Get url list from Instagram"
     ]
    },
    {
     "cell_type": "code",
     "collapsed": false,
     "input": [],
     "language": "python",
     "metadata": {},
     "outputs": [],
     "prompt_number": 3
    },
    {
     "cell_type": "code",
     "collapsed": false,
     "input": [
      "foursquareIDs = {}\n",
      "foursquareIDs['A16'] = '4587a2b6f964a520c63f1fe3'\n",
      "foursquareIDs['SlantedInn'] = '3fd66200f964a52018ed1ee3'\n",
      "foursquareIDs['AbbottsCellar'] = '5008ae27e4b0d0fe136e0003'\n",
      "foursquareIDs['TonysPizza'] = '4a469839f964a52029a91fe3'\n",
      "foursquareIDs['Humphrey'] = '49972b39f964a52089521fe3'\n",
      "foursquareIDs['ZeroZero'] = '4c44d4b9dcd61b8df9e67b56'\n",
      "foursquareIDs['Delfina'] = '44088735f964a52058301fe3'\n",
      "foursquareIDs['HogIsland'] = '43fed1fff964a520fe2f1fe3'\n",
      "foursquareIDs['LersRosThai'] = '49dd8602f964a52018601fe3'\n",
      "foursquareIDs['PanchoVilla'] = '43917d6df964a5205c2b1fe3'\n",
      "\n",
      "class Restaurant():\n",
      "    def __init__(self,foursquareID):\n",
      "        self.foursquareID= foursquareID\n",
      "        self.urlList=[]\n",
      "        self.People=[]\n",
      "        self.NoPeople=[]\n",
      "        self.Blurry=[]\n",
      "\n",
      "class TrainData():\n",
      "    def __init__(self,foursquareIDs):\n",
      "        self.A16= Restaurant( foursquareIDs['A16'] )\n",
      "        self.SlantedInn= Restaurant( foursquareIDs['SlantedInn'] )\n",
      "        self.AbbottsCellar= Restaurant( foursquareIDs['AbbottsCellar'] )\n",
      "        self.TonysPizza= Restaurant( foursquareIDs['TonysPizza'] )\n",
      "        self.Humphrey= Restaurant( foursquareIDs['Humphrey'] )\n",
      "        self.ZeroZero= Restaurant( foursquareIDs['ZeroZero'] )\n",
      "        self.Delfina= Restaurant( foursquareIDs['Delfina'] )\n",
      "        self.HogIsland= Restaurant( foursquareIDs['HogIsland'] )\n",
      "        self.LersRosThai= Restaurant( foursquareIDs['LersRosThai'] )\n",
      "        self.PanchoVilla= Restaurant( foursquareIDs['PanchoVilla'] )\n",
      "\n",
      "train= TrainData(foursquareIDs)\n"
     ],
     "language": "python",
     "metadata": {},
     "outputs": [],
     "prompt_number": 4
    },
    {
     "cell_type": "code",
     "collapsed": false,
     "input": [
      "train.A16.foursquareID"
     ],
     "language": "python",
     "metadata": {},
     "outputs": [
      {
       "metadata": {},
       "output_type": "pyout",
       "prompt_number": 5,
       "text": [
        "'4587a2b6f964a520c63f1fe3'"
       ]
      }
     ],
     "prompt_number": 5
    },
    {
     "cell_type": "code",
     "collapsed": false,
     "input": [
      "time.sleep(1.5)\n",
      "api= InstagramAPI(client_id=\"1dcd8b9c15c24b7bb571ebe805b61c64\",\\\n",
      "                  client_secret=\"f5c62b342e3540a3b7f84cd2fd725cfa\")"
     ],
     "language": "python",
     "metadata": {},
     "outputs": [],
     "prompt_number": 6
    },
    {
     "cell_type": "code",
     "collapsed": false,
     "input": [
      "def maxId(apiNext):\n",
      "    beg=apiNext.find(\"max_id=\")+len(\"max_id=\")\n",
      "    end=apiNext.find(\"&\",beg)\n",
      "    return int(apiNext[beg:end])\n",
      "\n",
      "def GetUrlList(foursquareID):\n",
      "    List=[]\n",
      "    api.location_search(foursquare_v2_id=foursquareIDs)\n",
      "    mm, nextStr = api.location_recent_media(location_id=797) #tag=\"Food\"\n",
      "    while len(List) <= 100:\n",
      "        for m in mm:\n",
      "            List.append( m.images['standard_resolution'].url )\n",
      "        mid= maxId(nextStr)\n",
      "        mm, nextStr = api.location_recent_media(location_id=797,max_id= mid)\n",
      "    while len(List) > 100: List.pop(-1) #remove the last few urls that pushed over 100\n",
      "    return List\n",
      "\n",
      "train.A16.urlList= GetUrlList(train.A16.foursquareID)"
     ],
     "language": "python",
     "metadata": {},
     "outputs": [],
     "prompt_number": 8
    },
    {
     "cell_type": "code",
     "collapsed": false,
     "input": [
      "print len(train.A16.urlList),train.A16.urlList"
     ],
     "language": "python",
     "metadata": {},
     "outputs": [
      {
       "output_type": "stream",
       "stream": "stdout",
       "text": [
        "100 ['http://scontent-b.cdninstagram.com/hphotos-xap1/t51.2885-15/10522305_731963200195135_617376825_n.jpg', 'http://scontent-b.cdninstagram.com/hphotos-xaf1/t51.2885-15/10535040_420339938105903_799111938_n.jpg', 'http://scontent-b.cdninstagram.com/hphotos-xfa1/t51.2885-15/10483589_1446889755582163_973640396_n.jpg', 'http://scontent-b.cdninstagram.com/hphotos-xpa1/t51.2885-15/927368_718829141522908_1457156672_n.jpg', 'http://scontent-a.cdninstagram.com/hphotos-xpa1/t51.2885-15/10540240_670884059654348_692445208_n.jpg', 'http://scontent-a.cdninstagram.com/hphotos-xap1/t51.2885-15/10522245_426823767460390_501575775_n.jpg', 'http://scontent-b.cdninstagram.com/hphotos-xaf1/t51.2885-15/10570078_1443159999280675_1074346344_n.jpg', 'http://scontent-a.cdninstagram.com/hphotos-xpa1/t51.2885-15/10518097_596400347142278_272550832_n.jpg', 'http://scontent-b.cdninstagram.com/hphotos-xpa1/t51.2885-15/10546844_602152033231540_1150243997_n.jpg', 'http://scontent-b.cdninstagram.com/hphotos-xap1/t51.2885-15/10554075_263876730480553_1098741849_n.jpg', 'http://scontent-a.cdninstagram.com/hphotos-xpf1/t51.2885-15/10554257_606331436154034_547776898_n.jpg', 'http://scontent-b.cdninstagram.com/hphotos-xfp1/t51.2885-15/10554271_768855683135533_1342738656_n.jpg', 'http://scontent-b.cdninstagram.com/hphotos-xpa1/t51.2885-15/927376_1450326925242368_145131903_n.jpg', 'http://scontent-b.cdninstagram.com/hphotos-xpf1/t51.2885-15/10549811_763493813701830_649650611_n.jpg', 'http://scontent-b.cdninstagram.com/hphotos-xpf1/t51.2885-15/10513973_1526026170953671_398910656_n.jpg', 'http://scontent-a.cdninstagram.com/hphotos-xpa1/t51.2885-15/10537934_241725539370878_109995798_n.jpg', 'http://scontent-a.cdninstagram.com/hphotos-xap1/t51.2885-15/10518012_656014667809381_1631992217_n.jpg', 'http://scontent-b.cdninstagram.com/hphotos-xfp1/t51.2885-15/10507863_528983557201121_1234039368_n.jpg', 'http://scontent-a.cdninstagram.com/hphotos-xap1/t51.2885-15/925920_705799962824748_427559793_n.jpg', 'http://scontent-b.cdninstagram.com/hphotos-xpa1/t51.2885-15/926534_1514165855484083_1926718446_n.jpg', 'http://scontent-b.cdninstagram.com/hphotos-xfp1/t51.2885-15/10554229_269229496602564_1740375068_n.jpg', 'http://scontent-a.cdninstagram.com/hphotos-xfa1/t51.2885-15/914420_820688024616143_1443224566_n.jpg', 'http://scontent-b.cdninstagram.com/hphotos-xpa1/t51.2885-15/10251374_323510041147918_207010878_n.jpg', 'http://scontent-b.cdninstagram.com/hphotos-xpf1/t51.2885-15/10537283_1391240427781790_1842625407_n.jpg', 'http://scontent-a.cdninstagram.com/hphotos-xap1/t51.2885-15/924435_670446779698413_1767049891_n.jpg', 'http://scontent-b.cdninstagram.com/hphotos-xpa1/t51.2885-15/10540334_275857009285834_1786183298_n.jpg', 'http://scontent-a.cdninstagram.com/hphotos-xfp1/t51.2885-15/10547212_1498533703714889_1221919527_n.jpg', 'http://scontent-b.cdninstagram.com/hphotos-xpa1/t51.2885-15/10518019_1441765939419056_1208486081_n.jpg', 'http://scontent-a.cdninstagram.com/hphotos-xfp1/t51.2885-15/891444_876258462403945_499962130_n.jpg', 'http://scontent-b.cdninstagram.com/hphotos-xap1/t51.2885-15/10537995_414229002048452_2107929331_n.jpg', 'http://scontent-a.cdninstagram.com/hphotos-xpa1/t51.2885-15/924866_709505075786809_540339280_n.jpg', 'http://scontent-a.cdninstagram.com/hphotos-xpf1/t51.2885-15/10499033_1484521765121842_1592791813_n.jpg', 'http://scontent-a.cdninstagram.com/hphotos-xfp1/t51.2885-15/10369378_1460624024185936_197410441_n.jpg', 'http://scontent-b.cdninstagram.com/hphotos-xap1/t51.2885-15/926529_653715948053790_1906096435_n.jpg', 'http://scontent-b.cdninstagram.com/hphotos-xap1/t51.2885-15/10518042_814298445277145_14203689_n.jpg', 'http://scontent-a.cdninstagram.com/hphotos-xpa1/t51.2885-15/10507828_703510753055873_1968505194_n.jpg', 'http://scontent-a.cdninstagram.com/hphotos-xpa1/t51.2885-15/924434_309392145896077_2008423269_n.jpg', 'http://scontent-a.cdninstagram.com/hphotos-xaf1/t51.2885-15/915681_1430806093811041_1690288192_n.jpg', 'http://scontent-b.cdninstagram.com/hphotos-xfp1/t51.2885-15/10535101_1523588081196069_1641365711_n.jpg', 'http://scontent-a.cdninstagram.com/hphotos-xpf1/t51.2885-15/10499149_488076014658663_847689181_n.jpg', 'http://scontent-b.cdninstagram.com/hphotos-xfa1/t51.2885-15/915605_277619825756006_1762223006_n.jpg', 'http://scontent-b.cdninstagram.com/hphotos-xfa1/t51.2885-15/914770_315901568591018_1516411062_n.jpg', 'http://scontent-a.cdninstagram.com/hphotos-xpa1/t51.2885-15/10546730_1440351259563308_1309314323_n.jpg', 'http://scontent-a.cdninstagram.com/hphotos-xap1/t51.2885-15/928017_574600949318024_505245301_n.jpg', 'http://scontent-a.cdninstagram.com/hphotos-xpa1/t51.2885-15/10499221_1527057370850485_917509074_n.jpg', 'http://scontent-a.cdninstagram.com/hphotos-xpa1/t51.2885-15/10499284_739295809463763_1363205932_n.jpg', 'http://scontent-b.cdninstagram.com/hphotos-xfa1/t51.2885-15/915674_749569058419490_1049012691_n.jpg', 'http://scontent-a.cdninstagram.com/hphotos-xaf1/t51.2885-15/10546716_677291052345274_496591833_n.jpg', 'http://scontent-b.cdninstagram.com/hphotos-xpf1/t51.2885-15/10554227_788307134543766_102838881_n.jpg', 'http://scontent-b.cdninstagram.com/hphotos-xfp1/t51.2885-15/10535101_249025665221699_1898572628_n.jpg', 'http://scontent-a.cdninstagram.com/hphotos-xap1/t51.2885-15/10520241_297281793786552_528577905_n.jpg', 'http://scontent-a.cdninstagram.com/hphotos-xpa1/t51.2885-15/923713_1535751249982170_1563811090_n.jpg', 'http://scontent-a.cdninstagram.com/hphotos-xpa1/t51.2885-15/928036_600365953413110_1359357282_n.jpg', 'http://scontent-b.cdninstagram.com/hphotos-xfp1/t51.2885-15/10549824_301125253401730_1925789178_n.jpg', 'http://scontent-a.cdninstagram.com/hphotos-xaf1/t51.2885-15/914769_1452703638318485_357699181_n.jpg', 'http://scontent-a.cdninstagram.com/hphotos-xfp1/t51.2885-15/10499146_777642818934214_1487027855_n.jpg', 'http://scontent-b.cdninstagram.com/hphotos-xfp1/t51.2885-15/10547112_660714774007121_2146035362_n.jpg', 'http://scontent-b.cdninstagram.com/hphotos-xpa1/t51.2885-15/925573_519076044887937_1505624124_n.jpg', 'http://scontent-b.cdninstagram.com/hphotos-xap1/t51.2885-15/10475004_1433802240233856_61109302_n.jpg', 'http://scontent-b.cdninstagram.com/hphotos-xpa1/t51.2885-15/10554158_1472521779654771_1710440451_n.jpg', 'http://scontent-a.cdninstagram.com/hphotos-xpa1/t51.2885-15/10518010_283015341877412_327137877_n.jpg', 'http://scontent-b.cdninstagram.com/hphotos-prn/t51.2885-15/929151_743224349067912_606636842_n.jpg', 'http://scontent-b.cdninstagram.com/hphotos-xap1/t51.2885-15/10507857_314570498706145_1927285871_n.jpg', 'http://scontent-b.cdninstagram.com/hphotos-xap1/t51.2885-15/10507990_270847509765772_866765375_n.jpg', 'http://scontent-a.cdninstagram.com/hphotos-xfp1/t51.2885-15/10534824_339856102834637_1849781175_n.jpg', 'http://scontent-a.cdninstagram.com/hphotos-xfp1/t51.2885-15/10549803_678281128926693_670002446_n.jpg', 'http://scontent-b.cdninstagram.com/hphotos-xap1/t51.2885-15/10549917_552545734850064_1595959470_n.jpg', 'http://scontent-b.cdninstagram.com/hphotos-xaf1/t51.2885-15/917187_314659228709182_1052363238_n.jpg', 'http://scontent-a.cdninstagram.com/hphotos-xfp1/t51.2885-15/10358378_712415915460833_1438159670_n.jpg', 'http://scontent-b.cdninstagram.com/hphotos-xaf1/t51.2885-15/914412_690526464317864_1989691926_n.jpg', 'http://scontent-b.cdninstagram.com/hphotos-xfp1/t51.2885-15/10547310_261391894054089_1570434626_n.jpg', 'http://scontent-a.cdninstagram.com/hphotos-xfp1/t51.2885-15/10547029_488659317935834_430341695_n.jpg', 'http://scontent-a.cdninstagram.com/hphotos-xpf1/t51.2885-15/10537261_251589735037453_1907808081_n.jpg', 'http://scontent-b.cdninstagram.com/hphotos-xfp1/t51.2885-15/10471851_712873382112002_822887350_n.jpg', 'http://scontent-b.cdninstagram.com/hphotos-xap1/t51.2885-15/10413909_299250610249303_1239375977_n.jpg', 'http://scontent-a.cdninstagram.com/hphotos-xpa1/t51.2885-15/10523246_1469970129918158_864690011_n.jpg', 'http://scontent-b.cdninstagram.com/hphotos-xfp1/t51.2885-15/10513827_1437105883243295_2124034069_n.jpg', 'http://scontent-a.cdninstagram.com/hphotos-xpa1/t51.2885-15/10499173_249389798603925_891510050_n.jpg', 'http://scontent-a.cdninstagram.com/hphotos-xfp1/t51.2885-15/10547284_709420829122949_1648875495_n.jpg', 'http://scontent-b.cdninstagram.com/hphotos-xfp1/t51.2885-15/10547289_658971614187385_1605687458_n.jpg', 'http://scontent-a.cdninstagram.com/hphotos-xfa1/t51.2885-15/915665_1398819600342896_99740091_n.jpg', 'http://scontent-a.cdninstagram.com/hphotos-xpf1/t51.2885-15/10488632_1529717997247091_1959241786_n.jpg', 'http://scontent-a.cdninstagram.com/hphotos-xap1/t51.2885-15/10540479_706256386097524_1628775951_n.jpg', 'http://scontent-b.cdninstagram.com/hphotos-xfp1/t51.2885-15/10467915_726793964045386_480051579_n.jpg', 'http://scontent-a.cdninstagram.com/hphotos-xfp1/t51.2885-15/10533595_299907733512716_634501726_n.jpg', 'http://scontent-b.cdninstagram.com/hphotos-xpa1/t51.2885-15/927725_490273921105148_687622978_n.jpg', 'http://scontent-a.cdninstagram.com/hphotos-xpa1/t51.2885-15/10518205_258466664348016_455684475_n.jpg', 'http://scontent-b.cdninstagram.com/hphotos-xap1/t51.2885-15/10369410_1525795857649107_1085787905_n.jpg', 'http://scontent-a.cdninstagram.com/hphotos-xpa1/t51.2885-15/10522294_338606792960730_1744938690_n.jpg', 'http://scontent-b.cdninstagram.com/hphotos-xfp1/t51.2885-15/10467835_152735784917318_834165106_n.jpg', 'http://scontent-a.cdninstagram.com/hphotos-xap1/t51.2885-15/10513968_1516122498617683_967321605_n.jpg', 'http://scontent-a.cdninstagram.com/hphotos-xpa1/t51.2885-15/10472059_1474565652787945_133125053_n.jpg', 'http://scontent-b.cdninstagram.com/hphotos-xfp1/t51.2885-15/10523598_259375400924094_1887883339_n.jpg', 'http://scontent-a.cdninstagram.com/hphotos-xpa1/t51.2885-15/10518148_295735987270836_713634987_n.jpg', 'http://scontent-b.cdninstagram.com/hphotos-xfp1/t51.2885-15/10499191_679302938808614_899770432_n.jpg', 'http://scontent-a.cdninstagram.com/hphotos-xpa1/t51.2885-15/10483333_624240037673652_655688646_n.jpg', 'http://scontent-a.cdninstagram.com/hphotos-xfp1/t51.2885-15/10488672_281475932037066_2126147757_n.jpg', 'http://scontent-b.cdninstagram.com/hphotos-xpa1/t51.2885-15/928594_745804648811073_80426736_n.jpg', 'http://scontent-a.cdninstagram.com/hphotos-xpf1/t51.2885-15/10471925_289420357905555_1727645820_n.jpg', 'http://scontent-b.cdninstagram.com/hphotos-xap1/t51.2885-15/10520373_251336221657428_418445184_n.jpg']\n"
       ]
      }
     ],
     "prompt_number": 9
    },
    {
     "cell_type": "heading",
     "level": 1,
     "metadata": {},
     "source": [
      "Train() -- sort urls by interactively plotting images"
     ]
    },
    {
     "cell_type": "code",
     "collapsed": false,
     "input": [
      "def url2image(url):\n",
      "    '''read url into image, return image as numpy array'''\n",
      "    read= urllib2.urlopen(url).read()\n",
      "    obj = Image.open( cStringIO.StringIO(read) )\n",
      "    return np.array(obj)\n",
      "\n",
      "class SortManually():\n",
      "    '''\n",
      "    To Run: \n",
      "            f,ax=plt.subplots()\n",
      "            obj=Train(f,ax,urlList)\n",
      "            ...user interaction...\n",
      "            obj.People: list of urls with people in them\n",
      "    Type: \n",
      "            y: if image has People, \n",
      "            n: if no People, \n",
      "            b: if bad image and shouldn't use it, \n",
      "            q: to quit'''\n",
      "    def __init__(self,fig,ax,urlList):\n",
      "        self.fig=fig\n",
      "        self.ax=ax\n",
      "        self.urlList=urlList\n",
      "        self.index=0\n",
      "        self.People=[]\n",
      "        self.NoPeople=[]\n",
      "        self.Blurry=[] #should rarely be used\n",
      "        self.connect()\n",
      "    def connect(self):\n",
      "        self.KeyId = self.fig.canvas.mpl_connect('key_press_event', self.OnKey)\n",
      "        self.img= url2image(self.url() )\n",
      "        self.ax.imshow( self.img)\n",
      "    def OnKey(self,event):\n",
      "        print 'Typed key: %s' % event.key\n",
      "        if event.key == \"y\":\n",
      "            self.People.append( self.url())\n",
      "        elif event.key == \"n\":\n",
      "            self.NoPeople.append( self.url())\n",
      "        elif event.key == \"b\":\n",
      "            self.Bad.append( self.url())\n",
      "        elif event.key == \"q\":\n",
      "            print \"Quitting\"\n",
      "            plt.close()\n",
      "        else:\n",
      "            print \"unrecognized key, try again\"\n",
      "        self.plusIndex()\n",
      "        self.img= url2image( self.url())\n",
      "        self.ax.imshow( self.img )\n",
      "        self.ax.figure.canvas.draw()\n",
      "    def url(self):\n",
      "        return self.urlList[self.index]\n",
      "    def plusIndex(self):\n",
      "        self.index+=1\n",
      "        if self.index >= len(self.urlList):\n",
      "            plt.close()"
     ],
     "language": "python",
     "metadata": {},
     "outputs": [],
     "prompt_number": 15
    },
    {
     "cell_type": "code",
     "collapsed": false,
     "input": [
      "f,ax=plt.subplots()\n",
      "a=SortManually(f,ax,train.A16.urlList[0:10])\n"
     ],
     "language": "python",
     "metadata": {},
     "outputs": [
      {
       "output_type": "stream",
       "stream": "stdout",
       "text": [
        "Typed key: y\n",
        "Typed key: y"
       ]
      },
      {
       "output_type": "stream",
       "stream": "stdout",
       "text": [
        "\n",
        "Typed key: y"
       ]
      },
      {
       "output_type": "stream",
       "stream": "stdout",
       "text": [
        "\n",
        "Typed key: n"
       ]
      },
      {
       "output_type": "stream",
       "stream": "stdout",
       "text": [
        "\n",
        "Typed key: n"
       ]
      },
      {
       "output_type": "stream",
       "stream": "stdout",
       "text": [
        "\n",
        "Typed key: y"
       ]
      },
      {
       "output_type": "stream",
       "stream": "stdout",
       "text": [
        "\n",
        "Typed key: n"
       ]
      },
      {
       "output_type": "stream",
       "stream": "stdout",
       "text": [
        "\n",
        "Typed key: y"
       ]
      },
      {
       "output_type": "stream",
       "stream": "stdout",
       "text": [
        "\n",
        "Typed key: n"
       ]
      },
      {
       "output_type": "stream",
       "stream": "stdout",
       "text": [
        "\n",
        "Typed key: y"
       ]
      }
     ],
     "prompt_number": 16
    },
    {
     "cell_type": "code",
     "collapsed": false,
     "input": [
      "len(a.People),len(a.NoPeople),len(a.Blurry)"
     ],
     "language": "python",
     "metadata": {},
     "outputs": [
      {
       "output_type": "stream",
       "stream": "stdout",
       "text": [
        "\n"
       ]
      },
      {
       "metadata": {},
       "output_type": "pyout",
       "prompt_number": 17,
       "text": [
        "(6, 4, 0)"
       ]
      }
     ],
     "prompt_number": 17
    },
    {
     "cell_type": "code",
     "collapsed": false,
     "input": [
      "train.A16.People= a.People\n",
      "train.A16.NoPeople= a.NoPeople\n",
      "train.A16.Blurry= a.Blurry"
     ],
     "language": "python",
     "metadata": {},
     "outputs": [],
     "prompt_number": 18
    },
    {
     "cell_type": "heading",
     "level": 1,
     "metadata": {},
     "source": [
      "Pickle: Save TrainData() instance \"as is\" to file, saving progress for later"
     ]
    },
    {
     "cell_type": "code",
     "collapsed": false,
     "input": [
      "import pickle\n",
      "fout = open(\"TrainingData.dump\", 'w') \n",
      "pickle.dump(train, fout)\n",
      "fout.close()"
     ],
     "language": "python",
     "metadata": {},
     "outputs": [],
     "prompt_number": 20
    },
    {
     "cell_type": "code",
     "collapsed": false,
     "input": [
      "fin=open(\"TrainingData.dump\",\"r\")\n",
      "restored = pickle.load(fin)\n",
      "fin.close()"
     ],
     "language": "python",
     "metadata": {},
     "outputs": [],
     "prompt_number": 21
    },
    {
     "cell_type": "code",
     "collapsed": false,
     "input": [
      "len(restored.A16.People),len(restored.A16.NoPeople),len(restored.A16.Blurry)"
     ],
     "language": "python",
     "metadata": {},
     "outputs": [
      {
       "metadata": {},
       "output_type": "pyout",
       "prompt_number": 23,
       "text": [
        "(6, 4, 0)"
       ]
      }
     ],
     "prompt_number": 23
    },
    {
     "cell_type": "code",
     "collapsed": false,
     "input": [],
     "language": "python",
     "metadata": {},
     "outputs": []
    }
   ],
   "metadata": {}
  }
 ]
}