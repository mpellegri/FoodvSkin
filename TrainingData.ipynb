{
 "metadata": {
  "name": "",
  "signature": "sha256:aa997add2cde3f31016c9ccb9bd8af0338d540c954814fea66b5c1f45bd61c89"
 },
 "nbformat": 3,
 "nbformat_minor": 0,
 "worksheets": [
  {
   "cells": [
    {
     "cell_type": "heading",
     "level": 1,
     "metadata": {},
     "source": [
      "Build training data set"
     ]
    },
    {
     "cell_type": "heading",
     "level": 4,
     "metadata": {},
     "source": [
      "Sudeep said ~ 1000 images per image type (with poeple, without people) and ~ 20 restaurants, so ~ 100 images per restaurant. 4 on team so 5 DIFFERENT restaurants or 500 different images each "
     ]
    },
    {
     "cell_type": "code",
     "collapsed": false,
     "input": [
      "%matplotlib\n",
      "import matplotlib.pyplot as plt\n",
      "from matplotlib import cm\n",
      "import matplotlib.patches\n",
      "from matplotlib.path import Path\n",
      "import numpy as np\n",
      "import sys\n",
      "import numpy.ma as ma\n",
      "\n",
      "from instagram.client import InstagramAPI\n",
      "import time\n",
      "import matplotlib.pyplot as plt\n",
      "import numpy as np\n",
      "import urllib2, cStringIO\n",
      "from PIL import Image"
     ],
     "language": "python",
     "metadata": {},
     "outputs": [
      {
       "output_type": "stream",
       "stream": "stdout",
       "text": [
        "Using matplotlib backend: MacOSX\n"
       ]
      }
     ],
     "prompt_number": 3
    },
    {
     "cell_type": "heading",
     "level": 1,
     "metadata": {},
     "source": [
      "Class Objects to hold restaurant info: foursquare IDs, url List, sorted url Lists, etc"
     ]
    },
    {
     "cell_type": "heading",
     "level": 4,
     "metadata": {},
     "source": [
      "Sudeep said ~ 1000 images per image type (with poeple, without people) and ~ 20 restaurants, so ~ 100 images per restaurant"
     ]
    },
    {
     "cell_type": "code",
     "collapsed": false,
     "input": [
      "foursquareIDs = {}\n",
      "foursquareIDs['A16'] = '4587a2b6f964a520c63f1fe3'\n",
      "foursquareIDs['SlantedInn'] = '3fd66200f964a52018ed1ee3'\n",
      "foursquareIDs['AbbottsCellar'] = '5008ae27e4b0d0fe136e0003'\n",
      "foursquareIDs['TonysPizza'] = '4a469839f964a52029a91fe3'\n",
      "foursquareIDs['Humphrey'] = '49972b39f964a52089521fe3'\n",
      "foursquareIDs['ZeroZero'] = '4c44d4b9dcd61b8df9e67b56'\n",
      "foursquareIDs['Delfina'] = '44088735f964a52058301fe3'\n",
      "foursquareIDs['HogIsland'] = '43fed1fff964a520fe2f1fe3'\n",
      "foursquareIDs['LersRosThai'] = '49dd8602f964a52018601fe3'\n",
      "foursquareIDs['PanchoVilla'] = '43917d6df964a5205c2b1fe3'\n",
      "\n",
      "class Restaurant():\n",
      "    def __init__(self,foursquareID):\n",
      "        self.foursquareID= foursquareID\n",
      "        self.urlList=[]\n",
      "        self.People=[]\n",
      "        self.NoPeople=[]\n",
      "        self.Blurry=[]\n",
      "\n",
      "class TrainData():\n",
      "    def __init__(self,foursquareIDs):\n",
      "        self.A16= Restaurant( foursquareIDs['A16'] )\n",
      "        self.SlantedInn= Restaurant( foursquareIDs['SlantedInn'] )\n",
      "        self.AbbottsCellar= Restaurant( foursquareIDs['AbbottsCellar'] )\n",
      "        self.TonysPizza= Restaurant( foursquareIDs['TonysPizza'] )\n",
      "        self.Humphrey= Restaurant( foursquareIDs['Humphrey'] )\n",
      "        self.ZeroZero= Restaurant( foursquareIDs['ZeroZero'] )\n",
      "        self.Delfina= Restaurant( foursquareIDs['Delfina'] )\n",
      "        self.HogIsland= Restaurant( foursquareIDs['HogIsland'] )\n",
      "        self.LersRosThai= Restaurant( foursquareIDs['LersRosThai'] )\n",
      "        self.PanchoVilla= Restaurant( foursquareIDs['PanchoVilla'] )\n",
      "\n",
      "train= TrainData(foursquareIDs)\n"
     ],
     "language": "python",
     "metadata": {},
     "outputs": [],
     "prompt_number": 4
    },
    {
     "cell_type": "code",
     "collapsed": false,
     "input": [
      "train.A16.foursquareID"
     ],
     "language": "python",
     "metadata": {},
     "outputs": [
      {
       "metadata": {},
       "output_type": "pyout",
       "prompt_number": 5,
       "text": [
        "'4587a2b6f964a520c63f1fe3'"
       ]
      }
     ],
     "prompt_number": 5
    },
    {
     "cell_type": "heading",
     "level": 1,
     "metadata": {},
     "source": [
      "Instagram API to get ~ 100 image url's per restaurant"
     ]
    },
    {
     "cell_type": "heading",
     "level": 4,
     "metadata": {},
     "source": [
      "done for A16 below"
     ]
    },
    {
     "cell_type": "code",
     "collapsed": false,
     "input": [
      "time.sleep(1.5)\n",
      "api= InstagramAPI(client_id=\"1dcd8b9c15c24b7bb571ebe805b61c64\",\\\n",
      "                  client_secret=\"f5c62b342e3540a3b7f84cd2fd725cfa\")"
     ],
     "language": "python",
     "metadata": {},
     "outputs": [],
     "prompt_number": 6
    },
    {
     "cell_type": "code",
     "collapsed": false,
     "input": [
      "Nurls=100\n",
      "\n",
      "def maxId(apiNext):\n",
      "    beg=apiNext.find(\"max_id=\")+len(\"max_id=\")\n",
      "    end=apiNext.find(\"&\",beg)\n",
      "    return int(apiNext[beg:end])\n",
      "\n",
      "def GetUrlList(foursquareID):\n",
      "    List=[]\n",
      "    api.location_search(foursquare_v2_id=foursquareIDs)\n",
      "    mm, nextStr = api.location_recent_media(location_id=797) #tag=\"Food\"  if want include that tag\n",
      "    while len(List) <= Nurls:\n",
      "        for m in mm:\n",
      "            List.append( m.images['standard_resolution'].url )\n",
      "        mid= maxId(nextStr)\n",
      "        mm, nextStr = api.location_recent_media(location_id=797,max_id= mid)\n",
      "    while len(List) > Nurls: List.pop(-1) #remove the last few urls that pushed over 100\n",
      "    return List\n",
      "\n",
      "train.A16.urlList= GetUrlList(train.A16.foursquareID)"
     ],
     "language": "python",
     "metadata": {},
     "outputs": [],
     "prompt_number": 8
    },
    {
     "cell_type": "code",
     "collapsed": false,
     "input": [
      "print len(train.A16.urlList),train.A16.urlList[0:10]"
     ],
     "language": "python",
     "metadata": {},
     "outputs": [
      {
       "output_type": "stream",
       "stream": "stdout",
       "text": [
        "100 ['http://scontent-b.cdninstagram.com/hphotos-xap1/t51.2885-15/10522305_731963200195135_617376825_n.jpg', 'http://scontent-b.cdninstagram.com/hphotos-xaf1/t51.2885-15/10535040_420339938105903_799111938_n.jpg', 'http://scontent-b.cdninstagram.com/hphotos-xfa1/t51.2885-15/10483589_1446889755582163_973640396_n.jpg', 'http://scontent-b.cdninstagram.com/hphotos-xpa1/t51.2885-15/927368_718829141522908_1457156672_n.jpg', 'http://scontent-a.cdninstagram.com/hphotos-xpa1/t51.2885-15/10540240_670884059654348_692445208_n.jpg', 'http://scontent-a.cdninstagram.com/hphotos-xap1/t51.2885-15/10522245_426823767460390_501575775_n.jpg', 'http://scontent-b.cdninstagram.com/hphotos-xaf1/t51.2885-15/10570078_1443159999280675_1074346344_n.jpg', 'http://scontent-a.cdninstagram.com/hphotos-xpa1/t51.2885-15/10518097_596400347142278_272550832_n.jpg', 'http://scontent-b.cdninstagram.com/hphotos-xpa1/t51.2885-15/10546844_602152033231540_1150243997_n.jpg', 'http://scontent-b.cdninstagram.com/hphotos-xap1/t51.2885-15/10554075_263876730480553_1098741849_n.jpg']\n"
       ]
      }
     ],
     "prompt_number": 38
    },
    {
     "cell_type": "heading",
     "level": 1,
     "metadata": {},
     "source": [
      "Sort urls interactively into a list of People, No People, and Blurry (ie bad image, want to remove from sample)"
     ]
    },
    {
     "cell_type": "code",
     "collapsed": false,
     "input": [
      "def url2image(url):\n",
      "    '''read url into image, return image as numpy array'''\n",
      "    read= urllib2.urlopen(url).read()\n",
      "    obj = Image.open( cStringIO.StringIO(read) )\n",
      "    return np.array(obj)\n",
      "\n",
      "class SortManually():\n",
      "    '''\n",
      "    To Run: \n",
      "            f,ax=plt.subplots()\n",
      "            obj=Train(f,ax,urlList)\n",
      "    Type: \n",
      "            p: if has people or any skin pixels \n",
      "            n: if has no People and no skin pixels \n",
      "            b: if blurry or want to throw out image from sample\n",
      "            u: undo previous command, replot previous image and enter new key to store\n",
      "            q: to quit'''\n",
      "    def __init__(self,fig,ax,urlList):\n",
      "        self.fig=fig\n",
      "        self.ax=ax\n",
      "        self.urlList=urlList\n",
      "        self.index=0\n",
      "        self.PrevKey=0 #store previous key incase need redo\n",
      "        self.People=[]\n",
      "        self.NoPeople=[]\n",
      "        self.Blurry=[] #should rarely be used\n",
      "        self.connect()\n",
      "    def connect(self):\n",
      "        self.KeyId = self.fig.canvas.mpl_connect('key_press_event', self.OnKey)\n",
      "        self.img= url2image(self.url() )\n",
      "        self.ax.imshow( self.img)\n",
      "    def OnKey(self,event):\n",
      "        print 'Typed key: %s' % event.key\n",
      "        if event.key == \"p\":\n",
      "            self.People.append( self.url())\n",
      "        elif event.key == \"n\":\n",
      "            self.NoPeople.append( self.url())\n",
      "        elif event.key == \"b\":\n",
      "            self.Blurry.append( self.url())\n",
      "        elif event.key == \"u\":\n",
      "            self.undo()\n",
      "        elif event.key == \"q\":\n",
      "            print \"Quitting\"\n",
      "            plt.close()\n",
      "        else:\n",
      "            print \"unrecognized key, try again\"\n",
      "        self.PrevKey= event.key #need know this for undo case\n",
      "        self.plusIndex()\n",
      "        self.img= url2image( self.url())\n",
      "        self.ax.imshow( self.img )\n",
      "        self.ax.figure.canvas.draw()\n",
      "    def url(self):\n",
      "        return self.urlList[self.index]\n",
      "    def plusIndex(self):\n",
      "        self.index+=1\n",
      "        if self.index >= len(self.urlList):\n",
      "            plt.close()\n",
      "    def undo(self):\n",
      "        self.index-=1\n",
      "        self.index-=1 #not sure why subtracting 1 twice works, but it does work\n",
      "        if self.PrevKey == \"p\": self.People.pop(-1)\n",
      "        elif self.PrevKey == \"n\": self.NoPeople.pop(-1)\n",
      "        elif self.PrevKey == \"b\": self.Blurry.pop(-1)\n",
      "        "
     ],
     "language": "python",
     "metadata": {},
     "outputs": [
      {
       "output_type": "stream",
       "stream": "stdout",
       "text": [
        "\n"
       ]
      }
     ],
     "prompt_number": 27
    },
    {
     "cell_type": "heading",
     "level": 1,
     "metadata": {},
     "source": [
      "Instructions:"
     ]
    },
    {
     "cell_type": "raw",
     "metadata": {},
     "source": [
      "Type: \n",
      "    p: if has people or any skin pixels \n",
      "    n: if has no People and no skin pixels \n",
      "    b: if blurry or want to throw out image from sample\n",
      "    u: undo previous command, replot previous image and enter new key to store\n",
      "    q: to quit'''"
     ]
    },
    {
     "cell_type": "heading",
     "level": 4,
     "metadata": {},
     "source": [
      "done for first 10 urls as example"
     ]
    },
    {
     "cell_type": "code",
     "collapsed": false,
     "input": [
      "f,ax=plt.subplots()\n",
      "a=SortManually(f,ax,train.A16.urlList[0:10])\n"
     ],
     "language": "python",
     "metadata": {},
     "outputs": [
      {
       "output_type": "stream",
       "stream": "stdout",
       "text": [
        "\n"
       ]
      },
      {
       "output_type": "stream",
       "stream": "stdout",
       "text": [
        "Typed key: y\n",
        "Typed key: u"
       ]
      },
      {
       "output_type": "stream",
       "stream": "stdout",
       "text": [
        "\n",
        "Typed key: y"
       ]
      },
      {
       "output_type": "stream",
       "stream": "stdout",
       "text": [
        "\n",
        "Typed key: u"
       ]
      },
      {
       "output_type": "stream",
       "stream": "stdout",
       "text": [
        "\n",
        "Typed key: n"
       ]
      },
      {
       "output_type": "stream",
       "stream": "stdout",
       "text": [
        "\n",
        "Typed key: u"
       ]
      },
      {
       "output_type": "stream",
       "stream": "stdout",
       "text": [
        "\n",
        "Typed key: b"
       ]
      },
      {
       "output_type": "stream",
       "stream": "stdout",
       "text": [
        "\n",
        "Typed key: u"
       ]
      },
      {
       "output_type": "stream",
       "stream": "stdout",
       "text": [
        "\n",
        "Typed key: y"
       ]
      },
      {
       "output_type": "stream",
       "stream": "stdout",
       "text": [
        "\n",
        "Typed key: u"
       ]
      },
      {
       "output_type": "stream",
       "stream": "stdout",
       "text": [
        "\n",
        "Typed key: b"
       ]
      },
      {
       "output_type": "stream",
       "stream": "stdout",
       "text": [
        "\n",
        "Typed key: y"
       ]
      },
      {
       "output_type": "stream",
       "stream": "stdout",
       "text": [
        "\n",
        "Typed key: y"
       ]
      },
      {
       "output_type": "stream",
       "stream": "stdout",
       "text": [
        "\n",
        "Typed key: y"
       ]
      },
      {
       "output_type": "stream",
       "stream": "stdout",
       "text": [
        "\n",
        "Typed key: y"
       ]
      },
      {
       "output_type": "stream",
       "stream": "stdout",
       "text": [
        "\n",
        "Typed key: y"
       ]
      },
      {
       "output_type": "stream",
       "stream": "stdout",
       "text": [
        "\n",
        "Typed key: y"
       ]
      },
      {
       "output_type": "stream",
       "stream": "stdout",
       "text": [
        "\n",
        "Typed key: y"
       ]
      },
      {
       "output_type": "stream",
       "stream": "stdout",
       "text": [
        "\n",
        "Typed key: y"
       ]
      },
      {
       "output_type": "stream",
       "stream": "stdout",
       "text": [
        "\n",
        "Typed key: y"
       ]
      }
     ],
     "prompt_number": 29
    },
    {
     "cell_type": "code",
     "collapsed": false,
     "input": [
      "len(a.People),len(a.NoPeople),len(a.Blurry)"
     ],
     "language": "python",
     "metadata": {},
     "outputs": [
      {
       "metadata": {},
       "output_type": "pyout",
       "prompt_number": 33,
       "text": [
        "(9, 0, 1)"
       ]
      }
     ],
     "prompt_number": 33
    },
    {
     "cell_type": "code",
     "collapsed": false,
     "input": [
      "train.A16.People= a.People\n",
      "train.A16.NoPeople= a.NoPeople\n",
      "train.A16.Blurry= a.Blurry"
     ],
     "language": "python",
     "metadata": {},
     "outputs": [],
     "prompt_number": 34
    },
    {
     "cell_type": "heading",
     "level": 1,
     "metadata": {},
     "source": [
      "We must save our progress to file! Pickle module can save entire class object"
     ]
    },
    {
     "cell_type": "code",
     "collapsed": false,
     "input": [
      "import pickle\n",
      "fout = open(\"TrainingData.dump\", 'w') \n",
      "pickle.dump(train, fout)\n",
      "fout.close()"
     ],
     "language": "python",
     "metadata": {},
     "outputs": [],
     "prompt_number": 20
    },
    {
     "cell_type": "code",
     "collapsed": false,
     "input": [
      "fin=open(\"TrainingData.dump\",\"r\")\n",
      "restored = pickle.load(fin)\n",
      "fin.close()"
     ],
     "language": "python",
     "metadata": {},
     "outputs": [],
     "prompt_number": 21
    },
    {
     "cell_type": "code",
     "collapsed": false,
     "input": [
      "len(restored.A16.People),len(restored.A16.NoPeople),len(restored.A16.Blurry)"
     ],
     "language": "python",
     "metadata": {},
     "outputs": [
      {
       "metadata": {},
       "output_type": "pyout",
       "prompt_number": 23,
       "text": [
        "(6, 4, 0)"
       ]
      }
     ],
     "prompt_number": 23
    },
    {
     "cell_type": "code",
     "collapsed": false,
     "input": [],
     "language": "python",
     "metadata": {},
     "outputs": []
    }
   ],
   "metadata": {}
  }
 ]
}