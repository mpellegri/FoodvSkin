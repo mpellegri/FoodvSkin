{
 "metadata": {
  "name": "",
  "signature": "sha256:98c61eae815780e6d2aa57c591f73ccc6bb3955b63bcc499afeb7f91d447e54a"
 },
 "nbformat": 3,
 "nbformat_minor": 0,
 "worksheets": [
  {
   "cells": [
    {
     "cell_type": "heading",
     "level": 1,
     "metadata": {},
     "source": [
      "Purpose: use select_region code to create set of skin pixel only RGB images and non-skin pixel only RGB images"
     ]
    },
    {
     "cell_type": "code",
     "collapsed": false,
     "input": [
      "%matplotlib\n",
      "import matplotlib.pyplot as plt\n",
      "from matplotlib import cm\n",
      "import matplotlib.patches\n",
      "from matplotlib.path import Path\n",
      "import numpy as np\n",
      "import sys\n",
      "import numpy.ma as ma\n",
      "\n",
      "from instagram.client import InstagramAPI\n",
      "import time\n",
      "import matplotlib.pyplot as plt\n",
      "import numpy as np\n",
      "import urllib2, cStringIO\n",
      "from PIL import Image"
     ],
     "language": "python",
     "metadata": {},
     "outputs": [
      {
       "output_type": "stream",
       "stream": "stdout",
       "text": [
        "Using matplotlib backend: TkAgg\n"
       ]
      }
     ],
     "prompt_number": 1
    },
    {
     "cell_type": "heading",
     "level": 1,
     "metadata": {},
     "source": [
      "Get url list from Instagram"
     ]
    },
    {
     "cell_type": "code",
     "collapsed": false,
     "input": [
      "time.sleep(1.5)\n",
      "api= InstagramAPI(client_id=\"1dcd8b9c15c24b7bb571ebe805b61c64\",\\\n",
      "                  client_secret=\"f5c62b342e3540a3b7f84cd2fd725cfa\")\n",
      "api.location_search(foursquare_v2_id=\"3fd66200f964a52018ed1ee3\")\n",
      "mm, next = api.location_recent_media(location_id=797)\n",
      "url = mm[0].images['standard_resolution'].url"
     ],
     "language": "python",
     "metadata": {},
     "outputs": [],
     "prompt_number": 2
    },
    {
     "cell_type": "code",
     "collapsed": false,
     "input": [
      "urlList=[]\n",
      "for a in mm:\n",
      "    urlList.append( a.images['standard_resolution'].url)\n"
     ],
     "language": "python",
     "metadata": {},
     "outputs": [],
     "prompt_number": 3
    },
    {
     "cell_type": "heading",
     "level": 1,
     "metadata": {},
     "source": [
      "Train() -- sort urls by interactively plotting images"
     ]
    },
    {
     "cell_type": "code",
     "collapsed": false,
     "input": [
      "def url2image(url):\n",
      "    '''read url into image, return image as numpy array'''\n",
      "    read= urllib2.urlopen(url).read()\n",
      "    obj = Image.open( cStringIO.StringIO(read) )\n",
      "    return np.array(obj)\n",
      "\n",
      "class Train():\n",
      "    '''\n",
      "    To Run: \n",
      "            f,ax=plt.subplots()\n",
      "            obj=Train(f,ax,urlList)\n",
      "            ...user interaction...\n",
      "            obj.People: list of urls with people in them\n",
      "    Type: \n",
      "            y: if image has People, \n",
      "            n: if no People, \n",
      "            b: if bad image and shouldn't use it, \n",
      "            q: to quit'''\n",
      "    def __init__(self,fig,ax,urlList):\n",
      "        self.fig=fig\n",
      "        self.ax=ax\n",
      "        self.urlList=urlList\n",
      "        self.index=0\n",
      "        self.People=[]\n",
      "        self.NoPeople=[]\n",
      "        self.Bad=[] #should rarely be used\n",
      "        self.connect()\n",
      "    def connect(self):\n",
      "        self.KeyId = self.fig.canvas.mpl_connect('key_press_event', self.OnKey)\n",
      "        self.img= url2image(self.url() )\n",
      "        self.ax.imshow( self.img)\n",
      "    def OnKey(self,event):\n",
      "        print 'Typed key: %s' % event.key\n",
      "        if event.key == \"y\":\n",
      "            self.People.append( self.url())\n",
      "        elif event.key == \"n\":\n",
      "            self.NoPeople.append( self.url())\n",
      "        elif event.key == \"b\":\n",
      "            self.Bad.append( self.url())\n",
      "        elif event.key == \"q\":\n",
      "            print \"Quitting\"\n",
      "            plt.close()\n",
      "        else:\n",
      "            print \"unrecognized key, try again\"\n",
      "        self.plusIndex()\n",
      "        self.img= url2image( self.url())\n",
      "        self.ax.imshow( self.img )\n",
      "        self.ax.figure.canvas.draw()\n",
      "    def url(self):\n",
      "        return self.urlList[self.index]\n",
      "    def plusIndex(self):\n",
      "        self.index+=1\n",
      "        if self.index >= len(self.urlList):\n",
      "            plt.close()"
     ],
     "language": "python",
     "metadata": {},
     "outputs": [],
     "prompt_number": 4
    },
    {
     "cell_type": "code",
     "collapsed": false,
     "input": [
      "f,ax=plt.subplots()\n",
      "a=Train(f,ax,urlList)\n"
     ],
     "language": "python",
     "metadata": {},
     "outputs": [],
     "prompt_number": 5
    },
    {
     "cell_type": "code",
     "collapsed": false,
     "input": [
      "a.People,a.NoPeople,a.Bad"
     ],
     "language": "python",
     "metadata": {},
     "outputs": [
      {
       "output_type": "stream",
       "stream": "stdout",
       "text": [
        "\n"
       ]
      },
      {
       "metadata": {},
       "output_type": "pyout",
       "prompt_number": 234,
       "text": [
        "(['http://scontent-a.cdninstagram.com/hphotos-xpa1/t51.2885-15/10540240_670884059654348_692445208_n.jpg',\n",
        "  'http://scontent-a.cdninstagram.com/hphotos-xap1/t51.2885-15/10522245_426823767460390_501575775_n.jpg'],\n",
        " ['http://scontent-b.cdninstagram.com/hphotos-xaf1/t51.2885-15/10570078_1443159999280675_1074346344_n.jpg'],\n",
        " [])"
       ]
      }
     ],
     "prompt_number": 234
    },
    {
     "cell_type": "code",
     "collapsed": false,
     "input": [
      "def urlPlot(url):\n",
      "    read= urllib2.urlopen(url).read()\n",
      "    obj = Image.open( cStringIO.StringIO(read) )\n",
      "    plt.imshow(np.array(obj))\n",
      "    plt.show()\n",
      "urlPlot(a.Skin[0])"
     ],
     "language": "python",
     "metadata": {},
     "outputs": [],
     "prompt_number": 216
    }
   ],
   "metadata": {}
  }
 ]
}