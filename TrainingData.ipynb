{
 "metadata": {
  "name": "",
  "signature": "sha256:91686f19e542a5ed35f1f23fb7f7d789e0a449d43407764e2b3bcbb4ad8c2d1b"
 },
 "nbformat": 3,
 "nbformat_minor": 0,
 "worksheets": [
  {
   "cells": [
    {
     "cell_type": "heading",
     "level": 1,
     "metadata": {},
     "source": [
      "Purpose: To build the training data set"
     ]
    },
    {
     "cell_type": "raw",
     "metadata": {},
     "source": [
      "HOW TO RUN IT\n",
      "=============\n",
      "\n",
      "Creating the Training Data Set\n",
      "=========\n",
      "find: SortManually(f,ax,train.A16.urlList[0:10])\n",
      "\n",
      "SortManually() launches the interactive session. \n",
      "give it your url list:   train.<yourRestaurantName>.urlList\n",
      "in addition to figure, axes objects\n",
      "the images will be plotted and you enter keyboard letters\n",
      "\n",
      "Type: \n",
      "       p: people (skin pixels) but NO food \n",
      "       f: food with OR without people (skin pixels) \n",
      "       r: reject image from sample\n",
      "       u: undo (replots previous image, replaces old p,f,r with new p,f,r you enter)\n",
      "       q: quit\n",
      "       other key stroke: nothing will happen\n",
      "\n",
      "Careful:\n",
      "        1. try not to type too fast, wait a second after each image loads at fastest. \n",
      "        2. typing unrecognized keys does nothing, but the python plotting window has a few \"hot keys\" (e.g., k) and typing one of those may do something unexpected\n",
      "\n",
      "Adding your own restaurants\n",
      "=============\n",
      "find: class TrainData()\n",
      "delete foursquareIDs and restaurant names, and replace with just the 5 you will use\n",
      "\n",
      "Number of images to look at\n",
      "find: Nurls=150 \n",
      "set this number to how many you want to look at, 100 per category per restaurant of good images\n",
      "\n",
      "Location ID\n",
      "=======\n",
      "automatic, no longer hard coded!\n",
      "\n",
      "Check no duplicates\n",
      "==========\n",
      "once you have list of Nurls, type: set(train.A16.urlList)\n",
      "using <yourRestaurantName> instead of <A16>\n",
      "the length of that set is the number of unique urls\n",
      "\n",
      "Saving the Data Set urls\n",
      "==========\n",
      "see: Save Data   \n",
      "for writing urls to files or saving entire numpy object in one go"
     ]
    },
    {
     "cell_type": "heading",
     "level": 4,
     "metadata": {},
     "source": [
      "Sudeep said ~ 1000 images per image type (with poeple, without people) and ~ 20 restaurants, so ~ 100 images per restaurant. 4 on team so 5 DIFFERENT restaurants or 500 different images each "
     ]
    },
    {
     "cell_type": "code",
     "collapsed": false,
     "input": [
      "%matplotlib\n",
      "import matplotlib.pyplot as plt\n",
      "from matplotlib import cm\n",
      "import matplotlib.patches\n",
      "from matplotlib.path import Path\n",
      "import numpy as np\n",
      "import sys\n",
      "import numpy.ma as ma\n",
      "\n",
      "from instagram.client import InstagramAPI\n",
      "import time\n",
      "import matplotlib.pyplot as plt\n",
      "import numpy as np\n",
      "import urllib2, cStringIO\n",
      "from PIL import Image"
     ],
     "language": "python",
     "metadata": {},
     "outputs": [
      {
       "output_type": "stream",
       "stream": "stdout",
       "text": [
        "Using matplotlib backend: MacOSX\n"
       ]
      }
     ],
     "prompt_number": 48
    },
    {
     "cell_type": "heading",
     "level": 1,
     "metadata": {},
     "source": [
      "Class Objects to hold restaurant info: foursquare IDs, url List, sorted url Lists, etc"
     ]
    },
    {
     "cell_type": "heading",
     "level": 4,
     "metadata": {},
     "source": [
      "Sudeep said ~ 1000 images per image type (with poeple, without people) and ~ 20 restaurants, so ~ 100 images per restaurant"
     ]
    },
    {
     "cell_type": "code",
     "collapsed": false,
     "input": [
      "foursquareIDs = {}\n",
      "foursquareIDs['A16'] = '4587a2b6f964a520c63f1fe3'\n",
      "foursquareIDs['SlantedInn'] = '3fd66200f964a52018ed1ee3'\n",
      "foursquareIDs['AbbottsCellar'] = '5008ae27e4b0d0fe136e0003'\n",
      "foursquareIDs['TonysPizza'] = '4a469839f964a52029a91fe3'\n",
      "foursquareIDs['Humphrey'] = '49972b39f964a52089521fe3'\n",
      "foursquareIDs['ZeroZero'] = '4c44d4b9dcd61b8df9e67b56'\n",
      "foursquareIDs['Delfina'] = '44088735f964a52058301fe3'\n",
      "foursquareIDs['HogIsland'] = '43fed1fff964a520fe2f1fe3'\n",
      "foursquareIDs['LersRosThai'] = '49dd8602f964a52018601fe3'\n",
      "foursquareIDs['PanchoVilla'] = '43917d6df964a5205c2b1fe3'\n",
      "\n",
      "class Restaurant():\n",
      "    def __init__(self,foursquareID):\n",
      "        self.foursquareID= foursquareID\n",
      "        self.urlList=[]\n",
      "        self.People=[]\n",
      "        self.NoPeople=[]\n",
      "        self.Blurry=[]\n",
      "\n",
      "class TrainData():\n",
      "    def __init__(self,foursquareIDs):\n",
      "        self.A16= Restaurant( foursquareIDs['A16'] )\n",
      "        self.SlantedInn= Restaurant( foursquareIDs['SlantedInn'] )\n",
      "        self.AbbottsCellar= Restaurant( foursquareIDs['AbbottsCellar'] )\n",
      "        self.TonysPizza= Restaurant( foursquareIDs['TonysPizza'] )\n",
      "        self.Humphrey= Restaurant( foursquareIDs['Humphrey'] )\n",
      "        self.ZeroZero= Restaurant( foursquareIDs['ZeroZero'] )\n",
      "        self.Delfina= Restaurant( foursquareIDs['Delfina'] )\n",
      "        self.HogIsland= Restaurant( foursquareIDs['HogIsland'] )\n",
      "        self.LersRosThai= Restaurant( foursquareIDs['LersRosThai'] )\n",
      "        self.PanchoVilla= Restaurant( foursquareIDs['PanchoVilla'] )\n",
      "\n",
      "train= TrainData(foursquareIDs)\n"
     ],
     "language": "python",
     "metadata": {},
     "outputs": [],
     "prompt_number": 110
    },
    {
     "cell_type": "code",
     "collapsed": false,
     "input": [
      "train.A16.foursquareID"
     ],
     "language": "python",
     "metadata": {},
     "outputs": [
      {
       "metadata": {},
       "output_type": "pyout",
       "prompt_number": 111,
       "text": [
        "'4587a2b6f964a520c63f1fe3'"
       ]
      }
     ],
     "prompt_number": 111
    },
    {
     "cell_type": "heading",
     "level": 1,
     "metadata": {},
     "source": [
      "Instagram API to get ~ 100 image url's per restaurant"
     ]
    },
    {
     "cell_type": "heading",
     "level": 4,
     "metadata": {},
     "source": [
      "done for A16 below"
     ]
    },
    {
     "cell_type": "code",
     "collapsed": false,
     "input": [
      "time.sleep(1.5)\n",
      "api= InstagramAPI(client_id=\"1dcd8b9c15c24b7bb571ebe805b61c64\",\\\n",
      "                  client_secret=\"f5c62b342e3540a3b7f84cd2fd725cfa\")"
     ],
     "language": "python",
     "metadata": {},
     "outputs": [],
     "prompt_number": 112
    },
    {
     "cell_type": "code",
     "collapsed": false,
     "input": [
      "Nurls=150\n",
      "\n",
      "def maxId(apiNext):\n",
      "    beg=apiNext.find(\"max_id=\")+len(\"max_id=\")\n",
      "    end=apiNext.find(\"&\",beg)\n",
      "    return int(apiNext[beg:end])\n",
      "\n",
      "def GetUrlList(foursquareID):\n",
      "    List=[]\n",
      "    LocId= api.location_search(foursquare_v2_id=foursquareID)[0].id\n",
      "    mm, nextStr = api.location_recent_media(location_id= LocId) #tag=\"Food\"  if want include that tag\n",
      "    while len(List) <= Nurls:\n",
      "        for m in mm:\n",
      "            List.append( m.images['standard_resolution'].url )\n",
      "        mid= maxId(nextStr)\n",
      "        mm, nextStr = api.location_recent_media(location_id= LocId, max_id= mid)\n",
      "    while len(List) > Nurls: List.pop(-1) #remove the last few urls that pushed over 100\n",
      "    return List\n",
      "\n",
      "train.A16.urlList= GetUrlList(train.A16.foursquareID)"
     ],
     "language": "python",
     "metadata": {},
     "outputs": [],
     "prompt_number": 113
    },
    {
     "cell_type": "code",
     "collapsed": false,
     "input": [
      "test=set(train.A16.urlList)\n",
      "len(test), train.A16.urlList[0:10]"
     ],
     "language": "python",
     "metadata": {},
     "outputs": [
      {
       "metadata": {},
       "output_type": "pyout",
       "prompt_number": 115,
       "text": [
        "(150,\n",
        " ['http://scontent-a.cdninstagram.com/hphotos-xfa1/t51.2885-15/10570085_1459233131000333_1490809005_n.jpg',\n",
        "  'http://scontent-a.cdninstagram.com/hphotos-xaf1/t51.2885-15/10570060_1515208308691053_1001987171_n.jpg',\n",
        "  'http://scontent-b.cdninstagram.com/hphotos-xpa1/t51.2885-15/10507802_1442703452674475_635644745_n.jpg',\n",
        "  'http://scontent-a.cdninstagram.com/hphotos-xpa1/t51.2885-15/10520255_1456082611314012_1968975149_n.jpg',\n",
        "  'http://scontent-a.cdninstagram.com/hphotos-xfa1/t51.2885-15/10326441_533120206817528_1566560107_n.jpg',\n",
        "  'http://scontent-a.cdninstagram.com/hphotos-xfp1/t51.2885-15/10549654_1535984326630085_71225650_n.jpg',\n",
        "  'http://scontent-a.cdninstagram.com/hphotos-xpa1/t51.2885-15/10507828_266077863588130_542061825_n.jpg',\n",
        "  'http://scontent-a.cdninstagram.com/hphotos-xap1/t51.2885-15/10518156_260816304119585_1935549247_n.jpg',\n",
        "  'http://scontent-b.cdninstagram.com/hphotos-xfa1/t51.2885-15/10483589_946669042026121_599925772_n.jpg',\n",
        "  'http://scontent-b.cdninstagram.com/hphotos-xpf1/t51.2885-15/10475101_255620694632675_1883382715_n.jpg'])"
       ]
      }
     ],
     "prompt_number": 115
    },
    {
     "cell_type": "heading",
     "level": 1,
     "metadata": {},
     "source": [
      "Sort urls interactively into a list of People, No People, and Blurry (ie bad image, want to remove from sample)"
     ]
    },
    {
     "cell_type": "code",
     "collapsed": false,
     "input": [
      "def url2image(url):\n",
      "    '''read url into image, return image as numpy array'''\n",
      "    read= urllib2.urlopen(url).read()\n",
      "    obj = Image.open( cStringIO.StringIO(read) )\n",
      "    return np.array(obj)\n",
      "\n",
      "class SortManually():\n",
      "    '''\n",
      "    To Run: \n",
      "            f,ax=plt.subplots()\n",
      "            obj=Train(f,ax,urlList)\n",
      "    Type: \n",
      "            p: people (skin pixels) but NO food \n",
      "            f: food with OR without people (skin pixels) \n",
      "            r: reject image from sample\n",
      "            u: undo, go back to previous image re-enter keyboard command\n",
      "            q: quit\n",
      "    '''\n",
      "    def __init__(self,fig,ax,urlList):\n",
      "        self.fig=fig\n",
      "        self.ax=ax\n",
      "        self.urlList=urlList\n",
      "        self.index=0\n",
      "        self.People=[]\n",
      "        self.Food=[]\n",
      "        self.Reject=[] \n",
      "        self.AllKeys=[]  #gets every key entered\n",
      "        self.connect()\n",
      "    def connect(self):\n",
      "        self.KeyPressId = self.fig.canvas.mpl_connect('key_press_event', self.OnKeyPress)\n",
      "#         self.KeyReleaseId = self.fig.canvas.mpl_connect('key_release_event', self.OnKeyRelease)\n",
      "        self.img= url2image(self.url() )\n",
      "        self.ax.imshow( self.img)\n",
      "    def OnKeyPress(self,event):\n",
      "        '''sort image url into list corresponding to key pressed'''\n",
      "        self.AllKeys.append( event.key)\n",
      "        print \"Entered: %s\" % self.AllKeys[-1]\n",
      "        if event.key!=\"p\" and event.key!=\"f\" and event.key!=\"r\": \n",
      "            #special case\n",
      "            if event.key== \"q\":\n",
      "                print \"typed 'q', quitting\"\n",
      "                plt.close()\n",
      "            elif event.key==\"u\":\n",
      "                #undo: go back to previous image and get rid of previous url append\n",
      "                wrongKey= self.AllKeys[-2]\n",
      "                if wrongKey== \"p\":\n",
      "                    self.People.pop(-1)\n",
      "                elif wrongKey == \"f\":\n",
      "                    self.Food.pop(-1)\n",
      "                elif event.key == \"r\":\n",
      "                    self.Reject.pop(-1)\n",
      "                self.index-=1 #go back\n",
      "                self.plotImg()\n",
      "            else:\n",
      "                pass  #unknown key, do nothing\n",
      "            self.AllKeys.pop(-1) #in ALL cases, get rid of bad key\n",
      "        else:\n",
      "            #good key, append url and plot next image\n",
      "            if event.key == \"p\":\n",
      "                self.People.append( self.url())\n",
      "            elif event.key == \"f\":\n",
      "                self.Food.append( self.url())\n",
      "            elif event.key == \"r\":\n",
      "                self.Reject.append( self.url())\n",
      "            self.printInfo()\n",
      "            self.index+=1 #go forward\n",
      "            self.plotImg()\n",
      "    def url(self):\n",
      "        return self.urlList[self.index]\n",
      "    def plotImg(self):\n",
      "        self.img= url2image( self.url())\n",
      "        self.ax.imshow( self.img )\n",
      "        self.ax.figure.canvas.draw()\n",
      "    def printInfo(self):\n",
      "        print \"length lists People, Food, Reject = %d, %d, %d\" % \\\n",
      "                        (len(self.People),len(self.Food),len(self.Reject))\n",
      "        \n"
     ],
     "language": "python",
     "metadata": {},
     "outputs": [
      {
       "output_type": "stream",
       "stream": "stdout",
       "text": [
        "\n",
        "length lists People, Food, Reject = 7, 0, 4\n"
       ]
      }
     ],
     "prompt_number": 125
    },
    {
     "cell_type": "heading",
     "level": 1,
     "metadata": {},
     "source": [
      "Instructions:"
     ]
    },
    {
     "cell_type": "raw",
     "metadata": {},
     "source": [
      "Type: \n",
      "       p: people (skin pixels) but NO food \n",
      "       f: food with OR without people (skin pixels) \n",
      "       r: reject image from sample\n",
      "       u: undo, go back to previous image re-enter keyboard command\n",
      "       q: quit"
     ]
    },
    {
     "cell_type": "code",
     "collapsed": false,
     "input": [
      "f,ax=plt.subplots()\n",
      "a=SortManually(f,ax,train.A16.urlList[0:10])\n"
     ],
     "language": "python",
     "metadata": {},
     "outputs": [
      {
       "output_type": "stream",
       "stream": "stdout",
       "text": [
        "Entered: p\n",
        "length lists People, Food, Reject = 1, 0, 0\n",
        "Entered: p"
       ]
      },
      {
       "output_type": "stream",
       "stream": "stdout",
       "text": [
        "\n",
        "length lists People, Food, Reject = 2, 0, 0\n",
        "Entered: p"
       ]
      },
      {
       "output_type": "stream",
       "stream": "stdout",
       "text": [
        "\n",
        "length lists People, Food, Reject = 3, 0, 0\n",
        "Entered: p"
       ]
      },
      {
       "output_type": "stream",
       "stream": "stdout",
       "text": [
        "\n",
        "length lists People, Food, Reject = 4, 0, 0\n",
        "Entered: p"
       ]
      },
      {
       "output_type": "stream",
       "stream": "stdout",
       "text": [
        "\n",
        "length lists People, Food, Reject = 5, 0, 0\n",
        "Entered: u"
       ]
      },
      {
       "output_type": "stream",
       "stream": "stdout",
       "text": [
        "\n",
        "Entered: u"
       ]
      },
      {
       "output_type": "stream",
       "stream": "stdout",
       "text": [
        "\n",
        "Entered: r"
       ]
      },
      {
       "output_type": "stream",
       "stream": "stdout",
       "text": [
        "\n",
        "length lists People, Food, Reject = 3, 0, 1\n",
        "Entered: r"
       ]
      },
      {
       "output_type": "stream",
       "stream": "stdout",
       "text": [
        "\n",
        "length lists People, Food, Reject = 3, 0, 2\n",
        "Entered: f"
       ]
      },
      {
       "output_type": "stream",
       "stream": "stdout",
       "text": [
        "\n",
        "length lists People, Food, Reject = 3, 1, 2\n",
        "Entered: f"
       ]
      },
      {
       "output_type": "stream",
       "stream": "stdout",
       "text": [
        "\n",
        "length lists People, Food, Reject = 3, 2, 2\n",
        "Entered: f"
       ]
      },
      {
       "output_type": "stream",
       "stream": "stdout",
       "text": [
        "\n",
        "length lists People, Food, Reject = 3, 3, 2\n",
        "Entered: f"
       ]
      },
      {
       "output_type": "stream",
       "stream": "stdout",
       "text": [
        "\n",
        "length lists People, Food, Reject = 3, 4, 2\n",
        "Entered: u"
       ]
      },
      {
       "output_type": "stream",
       "stream": "stdout",
       "text": [
        "\n",
        "Entered: f"
       ]
      },
      {
       "output_type": "stream",
       "stream": "stdout",
       "text": [
        "\n",
        "length lists People, Food, Reject = 3, 4, 2\n",
        "Entered: p"
       ]
      }
     ],
     "prompt_number": 126
    },
    {
     "cell_type": "code",
     "collapsed": false,
     "input": [
      "len(a.People),len(a.Food),len(a.Reject), len(a.AllKeys)\n"
     ],
     "language": "python",
     "metadata": {},
     "outputs": [
      {
       "metadata": {},
       "output_type": "pyout",
       "prompt_number": 128,
       "text": [
        "(4, 4, 2, 13)"
       ]
      }
     ],
     "prompt_number": 128
    },
    {
     "cell_type": "heading",
     "level": 1,
     "metadata": {},
     "source": [
      "Check if list is correct"
     ]
    },
    {
     "cell_type": "code",
     "collapsed": false,
     "input": [
      "for url in a.People:\n",
      "    img = url2image(url)\n",
      "    fig, ax = plt.subplots(figsize=(10,7))\n",
      "    ax.imshow(img)\n",
      "    plt.show()"
     ],
     "language": "python",
     "metadata": {},
     "outputs": [],
     "prompt_number": 129
    },
    {
     "cell_type": "heading",
     "level": 1,
     "metadata": {},
     "source": [
      "Save data"
     ]
    },
    {
     "cell_type": "heading",
     "level": 4,
     "metadata": {},
     "source": [
      "1. Save to file"
     ]
    },
    {
     "cell_type": "code",
     "collapsed": false,
     "input": [
      "fout=open(\"RestaurantName.People.txt\",\"w\")\n"
     ],
     "language": "python",
     "metadata": {},
     "outputs": [],
     "prompt_number": 139
    },
    {
     "cell_type": "code",
     "collapsed": false,
     "input": [
      "fout.write(\"#urls of people images\\n\")\n",
      "for url in a.People:\n",
      "    text=\"%s\\n\" % url\n",
      "    fout.write(text)"
     ],
     "language": "python",
     "metadata": {},
     "outputs": [],
     "prompt_number": 140
    },
    {
     "cell_type": "code",
     "collapsed": false,
     "input": [
      "fout.close()"
     ],
     "language": "python",
     "metadata": {},
     "outputs": [],
     "prompt_number": 141
    },
    {
     "cell_type": "heading",
     "level": 4,
     "metadata": {},
     "source": [
      "2. Save numpy object to file for restore later"
     ]
    },
    {
     "cell_type": "code",
     "collapsed": false,
     "input": [
      "train.A16.People= a.People\n",
      "train.A16.NoPeople= a.NoPeople\n",
      "train.A16.Blurry= a.Blurry"
     ],
     "language": "python",
     "metadata": {},
     "outputs": [],
     "prompt_number": 34
    },
    {
     "cell_type": "code",
     "collapsed": false,
     "input": [
      "import pickle\n",
      "fout = open(\"TrainingData.dump\", 'w') \n",
      "pickle.dump(train, fout)\n",
      "fout.close()"
     ],
     "language": "python",
     "metadata": {},
     "outputs": [],
     "prompt_number": 20
    },
    {
     "cell_type": "code",
     "collapsed": false,
     "input": [
      "fin=open(\"TrainingData.dump\",\"r\")\n",
      "restored = pickle.load(fin)\n",
      "fin.close()"
     ],
     "language": "python",
     "metadata": {},
     "outputs": [],
     "prompt_number": 21
    },
    {
     "cell_type": "code",
     "collapsed": false,
     "input": [
      "len(restored.A16.People),len(restored.A16.NoPeople),len(restored.A16.Blurry)"
     ],
     "language": "python",
     "metadata": {},
     "outputs": [
      {
       "metadata": {},
       "output_type": "pyout",
       "prompt_number": 23,
       "text": [
        "(6, 4, 0)"
       ]
      }
     ],
     "prompt_number": 23
    },
    {
     "cell_type": "code",
     "collapsed": false,
     "input": [],
     "language": "python",
     "metadata": {},
     "outputs": []
    }
   ],
   "metadata": {}
  }
 ]
}