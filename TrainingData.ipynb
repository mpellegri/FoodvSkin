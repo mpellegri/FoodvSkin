{
 "metadata": {
  "name": "",
  "signature": "sha256:24034a275901ecc4f48a636bb3448745192bdf971cb2b7a068928e129092b324"
 },
 "nbformat": 3,
 "nbformat_minor": 0,
 "worksheets": [
  {
   "cells": [
    {
     "cell_type": "heading",
     "level": 1,
     "metadata": {},
     "source": [
      "Purpose: To build the training data set"
     ]
    },
    {
     "cell_type": "raw",
     "metadata": {},
     "source": [
      "HOW TO RUN IT\n",
      "=============\n",
      "\n",
      "Creating the Training Data Set\n",
      "=========\n",
      "find: SortManually(f,ax,train.A16.urlList[0:10])\n",
      "\n",
      "SortManually() launches the interactive session. \n",
      "give it your url list:   train.<yourRestaurantName>.urlList\n",
      "in addition to figure, axes objects\n",
      "the images will be plotted and you enter keyboard letters\n",
      "\n",
      "Type: \n",
      "       p: people (skin pixels) but NO food \n",
      "       f: food with OR without people (skin pixels) \n",
      "       r: reject image from sample\n",
      "       u: undo (replots previous image, replaces old p,f,r with new p,f,r you enter)\n",
      "       q: quit\n",
      "       other key stroke: nothing will happen\n",
      "\n",
      "Careful:\n",
      "        1. try not to type too fast, wait a second after each image loads at fastest. \n",
      "        2. typing unrecognized keys does nothing, but the python plotting window has a few \"hot keys\" (e.g., k) and typing one of those may do something unexpected\n",
      "\n",
      "Adding your own restaurants\n",
      "=============\n",
      "find: class TrainData()\n",
      "delete foursquareIDs and restaurant names, and replace with just the 5 you will use\n",
      "\n",
      "Number of images to look at\n",
      "find: Nurls=150 \n",
      "set this number to how many you want to look at, 100 per category per restaurant of good images\n",
      "\n",
      "Location ID\n",
      "=======\n",
      "automatic, no longer hard coded!\n",
      "\n",
      "Check no duplicates\n",
      "==========\n",
      "once you have list of Nurls, type: set(train.A16.urlList)\n",
      "using <yourRestaurantName> instead of <A16>\n",
      "the length of that set is the number of unique urls\n",
      "\n",
      "Saving the Data Set urls\n",
      "==========\n",
      "see: Save Data   \n",
      "for writing urls to files or saving entire numpy object in one go"
     ]
    },
    {
     "cell_type": "heading",
     "level": 4,
     "metadata": {},
     "source": [
      "Sudeep said ~ 1000 images per image type (with poeple, without people) and ~ 20 restaurants, so ~ 100 images per restaurant. 4 on team so 5 DIFFERENT restaurants or 500 different images each "
     ]
    },
    {
     "cell_type": "code",
     "collapsed": false,
     "input": [
      "%matplotlib\n",
      "import matplotlib.pyplot as plt\n",
      "from matplotlib import cm\n",
      "import matplotlib.patches\n",
      "from matplotlib.path import Path\n",
      "import numpy as np\n",
      "import sys\n",
      "import numpy.ma as ma\n",
      "\n",
      "from instagram.client import InstagramAPI\n",
      "import time\n",
      "import matplotlib.pyplot as plt\n",
      "import numpy as np\n",
      "import urllib2, cStringIO\n",
      "from PIL import Image"
     ],
     "language": "python",
     "metadata": {},
     "outputs": []
    },
    {
     "cell_type": "heading",
     "level": 1,
     "metadata": {},
     "source": [
      "Class Objects to hold restaurant info: foursquare IDs, url List, sorted url Lists, etc"
     ]
    },
    {
     "cell_type": "heading",
     "level": 4,
     "metadata": {},
     "source": [
      "Sudeep said ~ 1000 images per image type (with poeple, without people) and ~ 20 restaurants, so ~ 100 images per restaurant"
     ]
    },
    {
     "cell_type": "code",
     "collapsed": false,
     "input": [
      "foursquareIDs = {}\n",
      "foursquareIDs['AdHoc'] = '4a0474bcf964a520fd711fe3'\n",
      "foursquareIDs['SanTung'] = '4ab0402ff964a520ad6620e3'\n",
      "foursquareIDs['WayfareTavern'] = '4c05a764191f20a11473e314'\n",
      "foursquareIDs['KokkariEstiatorio'] = '4570691ff964a5205c3e1fe3'\n",
      "foursquareIDs['ZuniCafe'] = '435d7580f964a5201a291fe3'\n",
      "\n",
      "class Restaurant():\n",
      "    def __init__(self,foursquareID):\n",
      "        self.foursquareID= foursquareID\n",
      "        self.urlList=[]\n",
      "        self.People=[]\n",
      "        self.NoPeople=[]\n",
      "        self.Blurry=[]\n",
      "\n",
      "class TrainData():\n",
      "    def __init__(self,foursquareIDs):\n",
      "        self.AdHoc= Restaurant( foursquareIDs['AdHoc'] )\n",
      "        self.SanTung= Restaurant( foursquareIDs['SanTung'] )\n",
      "        self.WayfareTavern= Restaurant( foursquareIDs['WayfareTavern'] )\n",
      "        self.KokkariEstiatorio= Restaurant( foursquareIDs['KokkariEstiatorio'] )\n",
      "        self.ZuniCafe= Restaurant( foursquareIDs['ZuniCafe'] )\n",
      "\n",
      "train= TrainData(foursquareIDs)\n"
     ],
     "language": "python",
     "metadata": {},
     "outputs": []
    },
    {
     "cell_type": "code",
     "collapsed": false,
     "input": [
      "train.AdHoc.foursquareID"
     ],
     "language": "python",
     "metadata": {},
     "outputs": []
    },
    {
     "cell_type": "heading",
     "level": 1,
     "metadata": {},
     "source": [
      "Instagram API to get ~ 100 image url's per restaurant"
     ]
    },
    {
     "cell_type": "heading",
     "level": 4,
     "metadata": {},
     "source": [
      "done for A16 below"
     ]
    },
    {
     "cell_type": "code",
     "collapsed": false,
     "input": [
      "time.sleep(1.5)\n",
      "api= InstagramAPI(client_id=\"1dcd8b9c15c24b7bb571ebe805b61c64\",\\\n",
      "                  client_secret=\"f5c62b342e3540a3b7f84cd2fd725cfa\")"
     ],
     "language": "python",
     "metadata": {},
     "outputs": []
    },
    {
     "cell_type": "code",
     "collapsed": false,
     "input": [
      "Nurls=150\n",
      "\n",
      "def maxId(apiNext):\n",
      "    beg=apiNext.find(\"max_id=\")+len(\"max_id=\")\n",
      "    end=apiNext.find(\"&\",beg)\n",
      "    return int(apiNext[beg:end])\n",
      "\n",
      "def GetUrlList(foursquareID):\n",
      "    List=[]\n",
      "    LocId= api.location_search(foursquare_v2_id=foursquareID)[0].id\n",
      "    mm, nextStr = api.location_recent_media(location_id= LocId) #tag=\"Food\"  if want include that tag\n",
      "    while len(List) <= Nurls:\n",
      "        for m in mm:\n",
      "            List.append( m.images['standard_resolution'].url )\n",
      "        mid= maxId(nextStr)\n",
      "        mm, nextStr = api.location_recent_media(location_id= LocId, max_id= mid)\n",
      "    while len(List) > Nurls: List.pop(-1) #remove the last few urls that pushed over 100\n",
      "    return List\n",
      "\n",
      "train.AdHoc.urlList= GetUrlList(train.AdHoc.foursquareID)\n",
      "train.SanTung.urlList= GetUrlList(train.SanTung.foursquareID)\n",
      "train.WayfareTavern.urlList= GetUrlList(train.WayfareTavern.foursquareID)\n",
      "train.KokkariEstiatorio.urlList= GetUrlList(train.KokkariEstiatorio.foursquareID)\n",
      "train.ZuniCafe.urlList= GetUrlList(train.ZuniCafe.foursquareID)"
     ],
     "language": "python",
     "metadata": {},
     "outputs": []
    },
    {
     "cell_type": "code",
     "collapsed": false,
     "input": [
      "test=set(train.AdHoc.urlList)\n",
      "len(test), train.AdHoc.urlList[0:10]"
     ],
     "language": "python",
     "metadata": {},
     "outputs": []
    },
    {
     "cell_type": "heading",
     "level": 1,
     "metadata": {},
     "source": [
      "Sort urls interactively into a list of People, No People, and Blurry (ie bad image, want to remove from sample)"
     ]
    },
    {
     "cell_type": "code",
     "collapsed": false,
     "input": [
      "def url2image(url):\n",
      "    '''read url into image, return image as numpy array'''\n",
      "    read= urllib2.urlopen(url).read()\n",
      "    obj = Image.open( cStringIO.StringIO(read) )\n",
      "    return np.array(obj)\n",
      "\n",
      "class SortManually():\n",
      "    '''\n",
      "    To Run: \n",
      "            f,ax=plt.subplots()\n",
      "            obj=Train(f,ax,urlList)\n",
      "    Type: \n",
      "            P - skin (people) with or without Food\n",
      "            f - food WITHOUT skin \n",
      "            r - reject image from sample\n",
      "            u - undo, go back to previous image re-enter keyboard command\n",
      "            q - quit\n",
      "    '''\n",
      "    def __init__(self,fig,ax,urlList):\n",
      "        self.fig=fig\n",
      "        self.ax=ax\n",
      "        self.urlList=urlList\n",
      "        self.index=0\n",
      "        self.People=[]\n",
      "        self.Food=[]\n",
      "        self.Reject=[] \n",
      "        self.AllKeys=[]  #gets every key entered\n",
      "        self.connect()\n",
      "    def connect(self):\n",
      "        self.KeyPressId = self.fig.canvas.mpl_connect('key_press_event', self.OnKeyPress)\n",
      "#         self.KeyReleaseId = self.fig.canvas.mpl_connect('key_release_event', self.OnKeyRelease)\n",
      "        self.img= url2image(self.url() )\n",
      "        self.ax.imshow( self.img)\n",
      "    def OnKeyPress(self,event):\n",
      "        '''sort image url into list corresponding to key pressed'''\n",
      "        self.AllKeys.append( event.key)\n",
      "        print \"Entered: %s\" % self.AllKeys[-1]\n",
      "        if event.key!=\"p\" and event.key!=\"f\" and event.key!=\"r\": \n",
      "            #special case\n",
      "            if event.key== \"q\":\n",
      "                print \"typed 'q', quitting\"\n",
      "                plt.close()\n",
      "            elif event.key==\"u\":\n",
      "                #undo: go back to previous image and get rid of previous url append\n",
      "                wrongKey= self.AllKeys[-2]\n",
      "                if wrongKey== \"p\":\n",
      "                    self.People.pop(-1)\n",
      "                elif wrongKey == \"f\":\n",
      "                    self.Food.pop(-1)\n",
      "                elif event.key == \"r\":\n",
      "                    self.Reject.pop(-1)\n",
      "                self.index-=1 #go back\n",
      "                self.plotImg()\n",
      "            else:\n",
      "                pass  #unknown key, do nothing\n",
      "            self.AllKeys.pop(-1) #in ALL cases, get rid of bad key\n",
      "        else:\n",
      "            #good key, append url and plot next image\n",
      "            if event.key == \"p\":\n",
      "                self.People.append( self.url())\n",
      "            elif event.key == \"f\":\n",
      "                self.Food.append( self.url())\n",
      "            elif event.key == \"r\":\n",
      "                self.Reject.append( self.url())\n",
      "            self.printInfo()\n",
      "            self.index+=1 #go forward\n",
      "            self.plotImg()\n",
      "    def url(self):\n",
      "        return self.urlList[self.index]\n",
      "    def plotImg(self):\n",
      "        self.img= url2image( self.url())\n",
      "        self.ax.imshow( self.img )\n",
      "        self.ax.figure.canvas.draw()\n",
      "    def printInfo(self):\n",
      "        print \"length lists People, Food, Reject = %d, %d, %d\" % \\\n",
      "                        (len(self.People),len(self.Food),len(self.Reject))\n",
      "        \n"
     ],
     "language": "python",
     "metadata": {},
     "outputs": []
    },
    {
     "cell_type": "heading",
     "level": 1,
     "metadata": {},
     "source": [
      "Instructions:"
     ]
    },
    {
     "cell_type": "raw",
     "metadata": {},
     "source": [
      "Type: \n",
      "       p: skin (people) with or without Food\n",
      "       f: food WITHOUT skin  \n",
      "       r: reject image from sample\n",
      "       u: undo, go back to previous image re-enter keyboard command\n",
      "       q: quit"
     ]
    },
    {
     "cell_type": "code",
     "collapsed": false,
     "input": [
      "f,ax=plt.subplots()\n",
      "a=SortManually(f,ax,train.KokkariEstiatorio.urlList[:50])\n"
     ],
     "language": "python",
     "metadata": {},
     "outputs": []
    },
    {
     "cell_type": "code",
     "collapsed": false,
     "input": [
      "f,ax=plt.subplots()\n",
      "b=SortManually(f,ax,train.KokkariEstiatorio.urlList[50:100])\n"
     ],
     "language": "python",
     "metadata": {},
     "outputs": []
    },
    {
     "cell_type": "code",
     "collapsed": false,
     "input": [
      "f,ax=plt.subplots()\n",
      "c=SortManually(f,ax,train.KokkariEstiatorio.urlList[100:])\n"
     ],
     "language": "python",
     "metadata": {},
     "outputs": []
    },
    {
     "cell_type": "code",
     "collapsed": false,
     "input": [
      "train.KokkariEstiatorio.People=a.People+b.People+c.People\n",
      "train.KokkariEstiatorio.Food=a.Food+b.Food+c.Food\n",
      "train.KokkariEstiatorio.Reject=a.Reject+b.Reject+c.Reject"
     ],
     "language": "python",
     "metadata": {},
     "outputs": []
    },
    {
     "cell_type": "code",
     "collapsed": false,
     "input": [
      "len(a.People),len(a.Food),len(a.Reject), len(a.AllKeys)\n"
     ],
     "language": "python",
     "metadata": {},
     "outputs": []
    },
    {
     "cell_type": "code",
     "collapsed": false,
     "input": [
      "train.SanTung.People=a.People\n",
      "train.SanTung.Food=a.Food\n",
      "train.SanTung.Reject=a.Reject"
     ],
     "language": "python",
     "metadata": {},
     "outputs": []
    },
    {
     "cell_type": "code",
     "collapsed": false,
     "input": [
      "len(train.KokkariEstiatorio.People),len(train.KokkariEstiatorio.Food),len(train.KokkariEstiatorio.Reject)"
     ],
     "language": "python",
     "metadata": {},
     "outputs": []
    },
    {
     "cell_type": "heading",
     "level": 1,
     "metadata": {},
     "source": [
      "Check if list is correct"
     ]
    },
    {
     "cell_type": "code",
     "collapsed": false,
     "input": [
      "for url in a.People:\n",
      "    img = url2image(url)\n",
      "    fig, ax = plt.subplots(figsize=(10,7))\n",
      "    ax.imshow(img)\n",
      "    plt.show()"
     ],
     "language": "python",
     "metadata": {},
     "outputs": []
    },
    {
     "cell_type": "heading",
     "level": 1,
     "metadata": {},
     "source": [
      "Save data"
     ]
    },
    {
     "cell_type": "heading",
     "level": 4,
     "metadata": {},
     "source": [
      "1. Save to file"
     ]
    },
    {
     "cell_type": "code",
     "collapsed": false,
     "input": [
      "fout=open(\"RestaurantName.People.txt\",\"w\")\n"
     ],
     "language": "python",
     "metadata": {},
     "outputs": []
    },
    {
     "cell_type": "code",
     "collapsed": false,
     "input": [
      "fout.write(\"#urls of people images\\n\")\n",
      "for url in a.People:\n",
      "    text=\"%s\\n\" % url\n",
      "    fout.write(text)"
     ],
     "language": "python",
     "metadata": {},
     "outputs": []
    },
    {
     "cell_type": "code",
     "collapsed": false,
     "input": [
      "fout.close()"
     ],
     "language": "python",
     "metadata": {},
     "outputs": []
    },
    {
     "cell_type": "heading",
     "level": 4,
     "metadata": {},
     "source": [
      "2. Save numpy object to file for restore later"
     ]
    },
    {
     "cell_type": "code",
     "collapsed": false,
     "input": [
      "train.A16.People= a.People\n",
      "train.A16.NoPeople= a.NoPeople\n",
      "train.A16.Blurry= a.Blurry"
     ],
     "language": "python",
     "metadata": {},
     "outputs": []
    },
    {
     "cell_type": "code",
     "collapsed": false,
     "input": [
      "import pickle\n",
      "fout = open(\"KokkariEstiatorio.dump\", 'w') \n",
      "pickle.dump(train.KokkariEstiatorio, fout)\n",
      "fout.close()"
     ],
     "language": "python",
     "metadata": {},
     "outputs": []
    },
    {
     "cell_type": "code",
     "collapsed": false,
     "input": [
      "fin=open(\"KokkariEstiatorio.dump\",\"r\")\n",
      "restored = pickle.load(fin)\n",
      "fin.close()"
     ],
     "language": "python",
     "metadata": {},
     "outputs": []
    },
    {
     "cell_type": "code",
     "collapsed": false,
     "input": [
      "len(restored.People),len(restored.Food),len(restored.Reject)"
     ],
     "language": "python",
     "metadata": {},
     "outputs": []
    },
    {
     "cell_type": "heading",
     "level": 1,
     "metadata": {},
     "source": [
      "testing pixel dn selection from image"
     ]
    },
    {
     "cell_type": "code",
     "collapsed": false,
     "input": [
      "import glob\n",
      "path=\"/Users/kburleigh/GradSchool/Programming/DataSciShop_CDIPS/SkinPix/MainRepo/images/TestSet/\"\n",
      "patt = \"*.jpeg\"\n",
      "files=glob.glob(path+patt)\n",
      "img = plt.imread(files[2])"
     ],
     "language": "python",
     "metadata": {},
     "outputs": []
    },
    {
     "cell_type": "code",
     "collapsed": false,
     "input": [
      "from scipy import fftpack\n",
      "image=img[:,:,1]\n",
      "# Take the fourier transform of the image.\n",
      "F1 = fftpack.fft2(image)\n",
      "\n",
      "# Now shift the quadrants around so that low spatial frequencies are in\n",
      "# the center of the 2D fourier transformed image.\n",
      "F2 = fftpack.fftshift( F1 )\n",
      "\n",
      "# Calculate a 2D power spectrum\n",
      "ps2D = np.abs( F2 )**2\n",
      "\n",
      "f,ax= plt.subplots(1,2)\n",
      "ax[1].imshow(np.log10(ps2D))\n",
      "ax[0].imshow(image,cmap=\"gray\")\n",
      "plt.show()"
     ],
     "language": "python",
     "metadata": {},
     "outputs": []
    },
    {
     "cell_type": "code",
     "collapsed": false,
     "input": [
      "import scipy.ndimage\n",
      "gauss = scipy.ndimage.gaussian_filter(np.log10(ps2D),2)\n",
      "f,ax=plt.subplots(1,2)\n",
      "ax[0].imshow(np.log10(ps2D))\n",
      "ax[1].imshow(gauss)"
     ],
     "language": "python",
     "metadata": {},
     "outputs": []
    },
    {
     "cell_type": "code",
     "collapsed": false,
     "input": [],
     "language": "python",
     "metadata": {},
     "outputs": []
    }
   ],
   "metadata": {}
  }
 ]
}