{
 "metadata": {
  "name": "",
  "signature": "sha256:224c425ecbd14375e6fcbbbbe446f1df8b59c497f4db7cb680fedb938326d015"
 },
 "nbformat": 3,
 "nbformat_minor": 0,
 "worksheets": [
  {
   "cells": [
    {
     "cell_type": "code",
     "collapsed": false,
     "input": [
      "import numpy as np\n",
      "import matplotlib.pyplot as plt\n",
      "from matplotlib.ticker import NullFormatter, MaxNLocator\n",
      "plt.ion()"
     ],
     "language": "python",
     "metadata": {},
     "outputs": [],
     "prompt_number": 18
    },
    {
     "cell_type": "code",
     "collapsed": false,
     "input": [
      "def ellipse(ra,rb,ang,x0,y0,Nb=100):\n",
      "    xpos,ypos=x0,y0\n",
      "    radm,radn=ra,rb\n",
      "    an=ang\n",
      "    co,si=np.cos(an),np.sin(an)\n",
      "    the=np.linspace(0,2*np.pi,Nb)\n",
      "    X=radm*np.cos(the)*co-si*radn*np.sin(the)+xpos\n",
      "    Y=radm*np.cos(the)*si+co*radn*np.sin(the)+ypos\n",
      "    return X,Y"
     ],
     "language": "python",
     "metadata": {},
     "outputs": [],
     "prompt_number": 10
    },
    {
     "cell_type": "code",
     "collapsed": false,
     "input": [
      "x = np.random.randn(10000)\n",
      "y = np.random.randn(10000)"
     ],
     "language": "python",
     "metadata": {},
     "outputs": [],
     "prompt_number": 11
    },
    {
     "cell_type": "code",
     "collapsed": false,
     "input": [
      "xlims = [min(x),max(x)]\n",
      "ylims = [min(y),max(y)]\n",
      "\n",
      "xlabel = '$\\mathrm{Your\\\\ X\\\\ Label}$'\n",
      "ylabel = '$\\mathrm{Your\\\\ Y\\\\ Label}$'\n",
      " \n",
      "# Define the locations for the axes\n",
      "left, width = 0.12, 0.55\n",
      "bottom, height = 0.12, 0.55\n",
      "bottom_h = left_h = left+width+0.02"
     ],
     "language": "python",
     "metadata": {},
     "outputs": [],
     "prompt_number": 12
    },
    {
     "cell_type": "code",
     "collapsed": false,
     "input": [
      "rect_temperature = [left, bottom, width, height] # dimensions of temp plot\n",
      "rect_histx = [left, bottom_h, width, 0.25] # dimensions of x-histogram\n",
      "rect_histy = [left_h, bottom, 0.25, height] # dimensions of y-histogram"
     ],
     "language": "python",
     "metadata": {},
     "outputs": [],
     "prompt_number": 13
    },
    {
     "cell_type": "code",
     "collapsed": false,
     "input": [
      "fig = plt.figure(1, figsize=(9.5,9))"
     ],
     "language": "python",
     "metadata": {},
     "outputs": [],
     "prompt_number": 14
    },
    {
     "cell_type": "code",
     "collapsed": false,
     "input": [
      "# Make the three plots\n",
      "axTemperature = plt.axes(rect_temperature) # temperature plot\n",
      "axHistx = plt.axes(rect_histx) # x histogram\n",
      "axHisty = plt.axes(rect_histy) # y histogram"
     ],
     "language": "python",
     "metadata": {},
     "outputs": [],
     "prompt_number": 15
    },
    {
     "cell_type": "code",
     "collapsed": false,
     "input": [
      "# Remove the inner axes numbers of the histograms\n",
      "nullfmt = NullFormatter()\n",
      "axHistx.xaxis.set_major_formatter(nullfmt)\n",
      "axHisty.yaxis.set_major_formatter(nullfmt)\n",
      " \n",
      "# Find the min/max of the data\n",
      "xmin = min(xlims)\n",
      "xmax = max(xlims)\n",
      "ymin = min(ylims)\n",
      "ymax = max(y)\n",
      " \n",
      "# Make the 'main' temperature plot\n",
      "# Define the number of bins\n",
      "nxbins = 50\n",
      "nybins = 50\n",
      "nbins = 100\n",
      " \n",
      "xbins = np.linspace(start = xmin, stop = xmax, num = nxbins)\n",
      "ybins = np.linspace(start = ymin, stop = ymax, num = nybins)\n",
      "xcenter = (xbins[0:-1]+xbins[1:])/2.0\n",
      "ycenter = (ybins[0:-1]+ybins[1:])/2.0\n",
      "aspectratio = 1.0*(xmax - 0)/(1.0*ymax - 0)\n",
      " \n",
      "H, xedges,yedges = np.histogram2d(y,x,bins=(ybins,xbins))\n",
      "X = xcenter\n",
      "Y = ycenter\n",
      "Z = H\n",
      " \n",
      "# Plot the temperature data\n",
      "cax = (axTemperature.imshow(H, extent=[xmin,xmax,ymin,ymax],\n",
      "       interpolation='nearest', origin='lower',aspect=aspectratio))\n",
      " \n",
      "# Plot the temperature plot contours\n",
      "contourcolor = 'white'\n",
      "xcenter = np.mean(x)\n",
      "ycenter = np.mean(y)\n",
      "ra = np.std(x)\n",
      "rb = np.std(y)\n",
      "ang = 0\n",
      " \n",
      "X,Y=ellipse(ra,rb,ang,xcenter,ycenter)\n",
      "axTemperature.plot(X,Y,\"k:\",ms=1,linewidth=2.0)\n",
      "axTemperature.annotate('$1\\\\sigma$', xy=(X[15], Y[15]), xycoords='data',xytext=(10, 10),\n",
      "                       textcoords='offset points', horizontalalignment='right',\n",
      "                       verticalalignment='bottom',fontsize=25)\n",
      " \n",
      "X,Y=ellipse(2*ra,2*rb,ang,xcenter,ycenter)\n",
      "axTemperature.plot(X,Y,\"k:\",color = contourcolor,ms=1,linewidth=2.0)\n",
      "axTemperature.annotate('$2\\\\sigma$', xy=(X[15], Y[15]), xycoords='data',xytext=(10, 10),\n",
      "                       textcoords='offset points',horizontalalignment='right',\n",
      "                       verticalalignment='bottom',fontsize=25, color = contourcolor)\n",
      " \n",
      "X,Y=ellipse(3*ra,3*rb,ang,xcenter,ycenter)\n",
      "axTemperature.plot(X,Y,\"k:\",color = contourcolor, ms=1,linewidth=2.0)\n",
      "axTemperature.annotate('$3\\\\sigma$', xy=(X[15], Y[15]), xycoords='data',xytext=(10, 10),\n",
      "                       textcoords='offset points',horizontalalignment='right',\n",
      "                       verticalalignment='bottom',fontsize=25, color = contourcolor)\n",
      " \n",
      "#Plot the axes labels\n",
      "axTemperature.set_xlabel(xlabel,fontsize=25)\n",
      "axTemperature.set_ylabel(ylabel,fontsize=25)\n",
      " \n",
      "#Make the tickmarks pretty\n",
      "ticklabels = axTemperature.get_xticklabels()\n",
      "for label in ticklabels:\n",
      "    label.set_fontsize(18)\n",
      "    label.set_family('serif')\n",
      " \n",
      "ticklabels = axTemperature.get_yticklabels()\n",
      "for label in ticklabels:\n",
      "    label.set_fontsize(18)\n",
      "    label.set_family('serif')\n",
      " \n",
      "#Set up the plot limits\n",
      "axTemperature.set_xlim(xlims)\n",
      "axTemperature.set_ylim(ylims)\n",
      " \n",
      "#Set up the histogram bins\n",
      "xbins = np.arange(xmin, xmax, (xmax-xmin)/nbins)\n",
      "ybins = np.arange(ymin, ymax, (ymax-ymin)/nbins)\n",
      " \n",
      "#Plot the histograms\n",
      "axHistx.hist(x, bins=xbins, color = 'blue')\n",
      "axHisty.hist(y, bins=ybins, orientation='horizontal', color = 'red')\n",
      " \n",
      "#Set up the histogram limits\n",
      "axHistx.set_xlim( min(x), max(x) )\n",
      "axHisty.set_ylim( min(y), max(y) )\n",
      " \n",
      "#Make the tickmarks pretty\n",
      "ticklabels = axHistx.get_yticklabels()\n",
      "for label in ticklabels:\n",
      "    label.set_fontsize(12)\n",
      "    label.set_family('serif')\n",
      " \n",
      "#Make the tickmarks pretty\n",
      "ticklabels = axHisty.get_xticklabels()\n",
      "for label in ticklabels:\n",
      "    label.set_fontsize(12)\n",
      "    label.set_family('serif')\n",
      " \n",
      "#Cool trick that changes the number of tickmarks for the histogram axes\n",
      "axHisty.xaxis.set_major_locator(MaxNLocator(4))\n",
      "axHistx.yaxis.set_major_locator(MaxNLocator(4))\n",
      " \n",
      "#Show the plot\n",
      "plt.draw()"
     ],
     "language": "python",
     "metadata": {},
     "outputs": [
      {
       "ename": "NameError",
       "evalue": "global name 'linspace' is not defined",
       "output_type": "pyerr",
       "traceback": [
        "\u001b[1;31m---------------------------------------------------------------------------\u001b[0m\n\u001b[1;31mNameError\u001b[0m                                 Traceback (most recent call last)",
        "\u001b[1;32m<ipython-input-17-8cc3dbf13c3c>\u001b[0m in \u001b[0;36m<module>\u001b[1;34m()\u001b[0m\n\u001b[0;32m     39\u001b[0m \u001b[0mang\u001b[0m \u001b[1;33m=\u001b[0m \u001b[1;36m0\u001b[0m\u001b[1;33m\u001b[0m\u001b[0m\n\u001b[0;32m     40\u001b[0m \u001b[1;33m\u001b[0m\u001b[0m\n\u001b[1;32m---> 41\u001b[1;33m \u001b[0mX\u001b[0m\u001b[1;33m,\u001b[0m\u001b[0mY\u001b[0m\u001b[1;33m=\u001b[0m\u001b[0mellipse\u001b[0m\u001b[1;33m(\u001b[0m\u001b[0mra\u001b[0m\u001b[1;33m,\u001b[0m\u001b[0mrb\u001b[0m\u001b[1;33m,\u001b[0m\u001b[0mang\u001b[0m\u001b[1;33m,\u001b[0m\u001b[0mxcenter\u001b[0m\u001b[1;33m,\u001b[0m\u001b[0mycenter\u001b[0m\u001b[1;33m)\u001b[0m\u001b[1;33m\u001b[0m\u001b[0m\n\u001b[0m\u001b[0;32m     42\u001b[0m \u001b[0maxTemperature\u001b[0m\u001b[1;33m.\u001b[0m\u001b[0mplot\u001b[0m\u001b[1;33m(\u001b[0m\u001b[0mX\u001b[0m\u001b[1;33m,\u001b[0m\u001b[0mY\u001b[0m\u001b[1;33m,\u001b[0m\u001b[1;34m\"k:\"\u001b[0m\u001b[1;33m,\u001b[0m\u001b[0mms\u001b[0m\u001b[1;33m=\u001b[0m\u001b[1;36m1\u001b[0m\u001b[1;33m,\u001b[0m\u001b[0mlinewidth\u001b[0m\u001b[1;33m=\u001b[0m\u001b[1;36m2.0\u001b[0m\u001b[1;33m)\u001b[0m\u001b[1;33m\u001b[0m\u001b[0m\n\u001b[0;32m     43\u001b[0m axTemperature.annotate('$1\\\\sigma$', xy=(X[15], Y[15]), xycoords='data',xytext=(10, 10),\n",
        "\u001b[1;32m<ipython-input-10-1490b96cfe4d>\u001b[0m in \u001b[0;36mellipse\u001b[1;34m(ra, rb, ang, x0, y0, Nb)\u001b[0m\n\u001b[0;32m      4\u001b[0m     \u001b[0man\u001b[0m\u001b[1;33m=\u001b[0m\u001b[0mang\u001b[0m\u001b[1;33m\u001b[0m\u001b[0m\n\u001b[0;32m      5\u001b[0m     \u001b[0mco\u001b[0m\u001b[1;33m,\u001b[0m\u001b[0msi\u001b[0m\u001b[1;33m=\u001b[0m\u001b[0mnp\u001b[0m\u001b[1;33m.\u001b[0m\u001b[0mcos\u001b[0m\u001b[1;33m(\u001b[0m\u001b[0man\u001b[0m\u001b[1;33m)\u001b[0m\u001b[1;33m,\u001b[0m\u001b[0mnp\u001b[0m\u001b[1;33m.\u001b[0m\u001b[0msin\u001b[0m\u001b[1;33m(\u001b[0m\u001b[0man\u001b[0m\u001b[1;33m)\u001b[0m\u001b[1;33m\u001b[0m\u001b[0m\n\u001b[1;32m----> 6\u001b[1;33m     \u001b[0mthe\u001b[0m\u001b[1;33m=\u001b[0m\u001b[0mlinspace\u001b[0m\u001b[1;33m(\u001b[0m\u001b[1;36m0\u001b[0m\u001b[1;33m,\u001b[0m\u001b[1;36m2\u001b[0m\u001b[1;33m*\u001b[0m\u001b[0mnp\u001b[0m\u001b[1;33m.\u001b[0m\u001b[0mpi\u001b[0m\u001b[1;33m,\u001b[0m\u001b[0mNb\u001b[0m\u001b[1;33m)\u001b[0m\u001b[1;33m\u001b[0m\u001b[0m\n\u001b[0m\u001b[0;32m      7\u001b[0m     \u001b[0mX\u001b[0m\u001b[1;33m=\u001b[0m\u001b[0mradm\u001b[0m\u001b[1;33m*\u001b[0m\u001b[0mnp\u001b[0m\u001b[1;33m.\u001b[0m\u001b[0mcos\u001b[0m\u001b[1;33m(\u001b[0m\u001b[0mthe\u001b[0m\u001b[1;33m)\u001b[0m\u001b[1;33m*\u001b[0m\u001b[0mco\u001b[0m\u001b[1;33m-\u001b[0m\u001b[0msi\u001b[0m\u001b[1;33m*\u001b[0m\u001b[0mradn\u001b[0m\u001b[1;33m*\u001b[0m\u001b[0mnp\u001b[0m\u001b[1;33m.\u001b[0m\u001b[0msin\u001b[0m\u001b[1;33m(\u001b[0m\u001b[0mthe\u001b[0m\u001b[1;33m)\u001b[0m\u001b[1;33m+\u001b[0m\u001b[0mxpos\u001b[0m\u001b[1;33m\u001b[0m\u001b[0m\n\u001b[0;32m      8\u001b[0m     \u001b[0mY\u001b[0m\u001b[1;33m=\u001b[0m\u001b[0mradm\u001b[0m\u001b[1;33m*\u001b[0m\u001b[0mnp\u001b[0m\u001b[1;33m.\u001b[0m\u001b[0mcos\u001b[0m\u001b[1;33m(\u001b[0m\u001b[0mthe\u001b[0m\u001b[1;33m)\u001b[0m\u001b[1;33m*\u001b[0m\u001b[0msi\u001b[0m\u001b[1;33m+\u001b[0m\u001b[0mco\u001b[0m\u001b[1;33m*\u001b[0m\u001b[0mradn\u001b[0m\u001b[1;33m*\u001b[0m\u001b[0mnp\u001b[0m\u001b[1;33m.\u001b[0m\u001b[0msin\u001b[0m\u001b[1;33m(\u001b[0m\u001b[0mthe\u001b[0m\u001b[1;33m)\u001b[0m\u001b[1;33m+\u001b[0m\u001b[0mypos\u001b[0m\u001b[1;33m\u001b[0m\u001b[0m\n",
        "\u001b[1;31mNameError\u001b[0m: global name 'linspace' is not defined"
       ]
      }
     ],
     "prompt_number": 17
    },
    {
     "cell_type": "code",
     "collapsed": false,
     "input": [],
     "language": "python",
     "metadata": {},
     "outputs": []
    }
   ],
   "metadata": {}
  }
 ]
}