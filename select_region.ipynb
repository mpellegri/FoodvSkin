{
 "metadata": {
  "name": "",
  "signature": "sha256:be8efacb62c3c44608101064a379ca86a35c0396b7e6583ef6f4b6465cfa57ed"
 },
 "nbformat": 3,
 "nbformat_minor": 0,
 "worksheets": [
  {
   "cells": [
    {
     "cell_type": "code",
     "collapsed": true,
     "input": [
      "#%matplotlib inline\n",
      "%matplotlib\n",
      "import matplotlib.pyplot as plt\n",
      "from matplotlib.path import Path\n",
      "import matplotlib.patches\n",
      "from matplotlib import cm\n",
      "import numpy as np\n",
      "import sys\n",
      "#plt.rcParams['figure.figsize'] = (8, 8)"
     ],
     "language": "python",
     "metadata": {},
     "outputs": [
      {
       "output_type": "stream",
       "stream": "stdout",
       "text": [
        "Using matplotlib backend: MacOSX\n"
       ]
      }
     ],
     "prompt_number": 1
    },
    {
     "cell_type": "markdown",
     "metadata": {},
     "source": [
      "Now we define the file we're going to load and read it as an image"
     ]
    },
    {
     "cell_type": "code",
     "collapsed": true,
     "input": [
      "fname='images/blog_img2.png'\n",
      "img = plt.imread(fname)\n",
      "plt.imshow(img)\n"
     ],
     "language": "python",
     "metadata": {},
     "outputs": [
      {
       "metadata": {},
       "output_type": "pyout",
       "prompt_number": 2,
       "text": [
        "<matplotlib.image.AxesImage at 0x10a563b10>"
       ]
      }
     ],
     "prompt_number": 2
    },
    {
     "cell_type": "code",
     "collapsed": false,
     "input": [
      "#interactive region selector, user draws box on image\n",
      "class drawMyBox:\n",
      "    def __init__(self, fig,ax,img,shape):\n",
      "        self.fig = fig\n",
      "        self.ax = ax\n",
      "        self.img = img\n",
      "        self.shape= shape #'b' -- draw box, 'e' -- draw ellipse\n",
      "        self.x= []\n",
      "        self.y=[]\n",
      "        self.ClickCnt=0\n",
      "        self.rect=0 #will get rect patch object\n",
      "        self.el=0 #will get ellipse patch object\n",
      "        print 'INSTRUCTIONS:\\n1.shape=\"b\" for box, \"e\" for ellipse'\n",
      "        print \"2.type 'a' to accept region OR 'r' to redraw region\"\n",
      "    def reset(self):\n",
      "        self.x= []\n",
      "        self.y=[]\n",
      "        self.ClickCnt=0\n",
      "        self.rect=0\n",
      "        self.el=0\n",
      "    def convert(self):\n",
      "        self.x = np.array(self.x)\n",
      "        self.y = np.array(self.y)\n",
      "    def connect(self):\n",
      "        'connect to all the events we need'\n",
      "        self.KeyId = self.fig.canvas.mpl_connect(\\\n",
      "                    'key_press_event', self.EndInteract) \n",
      "        if self.shape == \"b\": #draw box\n",
      "            print \"Click 2 times, for lower and upper corners of box\"\n",
      "            self.ClickId = self.fig.canvas.mpl_connect(\\\n",
      "                    'button_press_event', self.ClickBox)\n",
      "        elif self.shape == \"e\": #draw ellipse\n",
      "            print \"Click 4 times, for width and heigth of ellipse\" \n",
      "            self.ClickId = self.fig.canvas.mpl_connect(\\\n",
      "                    'button_press_event', self.ClickEllipse)\n",
      "        else:\n",
      "            print \"aborting: shape must be 'b' or 'e'\"\n",
      "            plt.close()\n",
      "    def ClickBox(self, event):\n",
      "        print 'onclick: xAxes-xData, yAxes-yData: %f %f' % \\\n",
      "            (event.x-event.xdata,event.y-event.ydata)\n",
      "        self.x.append( int(event.xdata) )\n",
      "        self.y.append( int(event.ydata) )\n",
      "        self.ax.vlines(event.xdata,0,img.shape[0],\\\n",
      "                  colors=\"b\",linestyles=\"solid\",linewidth=2.)\n",
      "        self.ax.hlines(event.ydata,0,img.shape[1],\\\n",
      "                    colors=\"b\",linestyles=\"solid\",linewidth=2.)\n",
      "        self.ax.figure.canvas.draw()\n",
      "        \n",
      "        self.ClickCnt+=1\n",
      "        if self.ClickCnt ==2:\n",
      "            xmin=np.array(self.x).min()\n",
      "            ymin=np.array(self.y).min()\n",
      "            wid= np.array(self.x).max()-np.array(self.x).min()\n",
      "            ht= np.array(self.y).max()-np.array(self.y).min()\n",
      "            print \"xmin,ymin,wid,ht: \", xmin,ymin,wid,ht\n",
      "            self.rect=matplotlib.patches.Rectangle([xmin,ymin],wid,ht, alpha=0.5,color=\"b\",fill=True)\n",
      "            self.ax.add_patch(self.rect)\n",
      "            self.ax.figure.canvas.draw()\n",
      "        elif self.ClickCnt > 2:\n",
      "            print \"stopping interaction, Error: to many clicks\"\n",
      "            self.disconnect()  \n",
      "        sys.stdout.flush() #safety\n",
      "    def ClickEllipse(self, event):\n",
      "        self.x.append( int(event.xdata) )\n",
      "        self.y.append( int(event.ydata) )\n",
      "        self.ax.vlines(event.xdata,0,img.shape[0],\\\n",
      "                  colors=\"b\",linestyles=\"solid\",linewidth=2.)\n",
      "        self.ax.hlines(event.ydata,0,img.shape[1],\\\n",
      "                    colors=\"b\",linestyles=\"solid\",linewidth=2.)\n",
      "        self.ax.figure.canvas.draw()\n",
      "        \n",
      "        self.ClickCnt+=1\n",
      "        if self.ClickCnt ==4:\n",
      "            wid= np.abs(self.x[0]-self.x[1])\n",
      "            ht= np.abs(self.y[2]-self.y[3])\n",
      "            xc= np.min(self.x[0:2])+wid/2.\n",
      "            yc= np.min(self.y[2:])+ ht/2.\n",
      "            self.el= matplotlib.patches.Ellipse([xc,yc],wid,ht,alpha=0.5,\\\n",
      "                        color=\"b\",fill=True,transform=self.ax.transData)\n",
      "            self.ax.add_patch(self.el)\n",
      "            self.ax.figure.canvas.draw()\n",
      "        elif self.ClickCnt > 4:\n",
      "            print \"stopping interaction, Error: to many clicks\"\n",
      "            self.disconnect()  \n",
      "        sys.stdout.flush() #safety\n",
      "    def EndInteract(self,event):\n",
      "        print 'EndClicking: key=%s, xdata=%f, ydata=%f' % \\\n",
      "            (event.key,event.xdata,event.ydata)\n",
      "        sys.stdout.flush()\n",
      "        if event.key == \"r\":\n",
      "            print \"EndInteract: redraw\"\n",
      "            self.reset()\n",
      "            self.ax.cla()\n",
      "            self.ax.imshow(self.img)\n",
      "            self.ax.figure.canvas.draw()\n",
      "        elif event.key == \"a\":\n",
      "            print \"EndInteract: accept and quit interaction\"\n",
      "            self.disconnect()\n",
      "            plt.close()\n",
      "        sys.stdout.flush() #safety\n",
      "    def disconnect(self):\n",
      "        'disconnect all the stored connection ids'\n",
      "        self.fig.canvas.mpl_disconnect(self.ClickId)\n",
      "        self.fig.canvas.mpl_disconnect(self.KeyId)"
     ],
     "language": "python",
     "metadata": {},
     "outputs": [],
     "prompt_number": 3
    },
    {
     "cell_type": "code",
     "collapsed": false,
     "input": [
      "plt.close('all') #safety\n",
      "sys.stdout.flush()\n",
      "fig, ax = plt.subplots()\n",
      "ax.imshow(img)\n",
      "box= drawMyBox(fig,ax,img,\"e\")\n",
      "box.connect()"
     ],
     "language": "python",
     "metadata": {},
     "outputs": [
      {
       "output_type": "stream",
       "stream": "stdout",
       "text": [
        "INSTRUCTIONS:\n",
        "1.shape=\"b\" for box, \"e\" for ellipse\n",
        "2.type 'a' to accept region OR 'r' to redraw region\n",
        "Click 4 times, for width and heigth of ellipse\n"
       ]
      },
      {
       "output_type": "stream",
       "stream": "stdout",
       "text": [
        "EndClicking: key=a, xdata=129.515625, ydata=14.734375\n"
       ]
      },
      {
       "output_type": "stream",
       "stream": "stdout",
       "text": [
        "EndInteract: accept and quit interaction\n"
       ]
      }
     ],
     "prompt_number": 13
    },
    {
     "cell_type": "code",
     "collapsed": false,
     "input": [
      "inv = box.ax.transData.inverted() #MUST convert dispay units to data units!\n",
      "if box.shape == \"b\":\n",
      "    dataVerts= inv.transform(box.rect.get_verts())\n",
      "elif box.shape == \"e\":\n",
      "    dataVerts= inv.transform(box.el.get_verts())\n",
      "dataVerts[0:10]"
     ],
     "language": "python",
     "metadata": {},
     "outputs": [
      {
       "metadata": {},
       "output_type": "pyout",
       "prompt_number": 14,
       "text": [
        "array([[ 135.        ,   14.        ],\n",
        "       [ 140.41086906,   14.02757634],\n",
        "       [ 151.10463357,   14.35393737],\n",
        "       [ 161.58042456,   14.99754939],\n",
        "       [ 171.76668074,   15.94930234],\n",
        "       [ 181.59184078,   17.20008617],\n",
        "       [ 190.98434339,   18.74079082],\n",
        "       [ 199.87262726,   20.56230625],\n",
        "       [ 208.18513108,   22.65552239],\n",
        "       [ 212.07463915,   23.81192283]])"
       ]
      }
     ],
     "prompt_number": 14
    },
    {
     "cell_type": "code",
     "collapsed": false,
     "input": [
      "pts=[]  #pixel locations in image\n",
      "for x in range(img[:,:,0].shape[0]): #plt.imshow(img) shows shape[0] is y\n",
      "    for y in range(img[:,:,0].shape[1]):\n",
      "        pts.append( [y,x] )  #order of y,x is IMPORTANT\n",
      "pts=np.array(pts).astype(np.float)"
     ],
     "language": "python",
     "metadata": {},
     "outputs": [],
     "prompt_number": 15
    },
    {
     "cell_type": "code",
     "collapsed": false,
     "input": [
      "#see https://github.com/newville/wxmplot/issues/11\n",
      "path = Path( dataVerts ) \n",
      "mask=path.contains_points(pts) #TRUE where pts are inside box or ellipse vertices\n",
      "\n",
      "mask2D= np.reshape(mask,img[:,:,0].shape) #try shape[::-1] if mask in wrong location \n",
      "iSkin2D= np.where(mask2D == True)\n",
      "iNotSkin2D= np.where(mask2D != True)\n",
      "np.shape(iSkin2D), np.shape(iNotSkin2D)"
     ],
     "language": "python",
     "metadata": {},
     "outputs": [
      {
       "metadata": {},
       "output_type": "pyout",
       "prompt_number": 16,
       "text": [
        "((2, 11443), (2, 73237))"
       ]
      }
     ],
     "prompt_number": 16
    },
    {
     "cell_type": "code",
     "collapsed": false,
     "input": [
      "im2= img[:,:,0].copy()\n",
      "im3= img[:,:,0].copy()\n",
      "im2[iSkin2D]=0.\n",
      "im3[iNotSkin2D]=0.\n",
      "f,ax= plt.subplots(1,3)\n",
      "ax[0].imshow(img)\n",
      "ax[1].imshow(im2)\n",
      "ax[2].imshow(im3)"
     ],
     "language": "python",
     "metadata": {},
     "outputs": [
      {
       "metadata": {},
       "output_type": "pyout",
       "prompt_number": 17,
       "text": [
        "<matplotlib.image.AxesImage at 0x10f044e50>"
       ]
      }
     ],
     "prompt_number": 17
    },
    {
     "cell_type": "code",
     "collapsed": false,
     "input": [
      "#Note, could apply 1D mask to flattened image array, but possibly harder than \n",
      "#what did above\n",
      "# iSkin= np.where(mask == True)[0]\n",
      "# iNotSkin= np.where(mask != True)[0]\n",
      "# iSkin.shape,iNotSkin.shape,iSkin[0:10]\n"
     ],
     "language": "python",
     "metadata": {},
     "outputs": [
      {
       "metadata": {},
       "output_type": "pyout",
       "prompt_number": 203,
       "text": [
        "(array([[ 0.,  0.],\n",
        "        [ 0.,  1.],\n",
        "        [ 0.,  2.],\n",
        "        [ 0.,  3.],\n",
        "        [ 0.,  4.],\n",
        "        [ 0.,  5.],\n",
        "        [ 0.,  6.],\n",
        "        [ 0.,  7.],\n",
        "        [ 0.,  8.],\n",
        "        [ 0.,  9.]]), array([[ 291.,  280.],\n",
        "        [ 291.,  281.],\n",
        "        [ 291.,  282.],\n",
        "        [ 291.,  283.],\n",
        "        [ 291.,  284.],\n",
        "        [ 291.,  285.],\n",
        "        [ 291.,  286.],\n",
        "        [ 291.,  287.],\n",
        "        [ 291.,  288.]]))"
       ]
      }
     ],
     "prompt_number": 203
    }
   ],
   "metadata": {}
  }
 ]
}