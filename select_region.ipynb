{
 "metadata": {
  "name": "",
  "signature": "sha256:2dae58c38e1bb25bd73181d777006dc8c2c4a688d882b67891b4eaf3996e334e"
 },
 "nbformat": 3,
 "nbformat_minor": 0,
 "worksheets": [
  {
   "cells": [
    {
     "cell_type": "heading",
     "level": 1,
     "metadata": {},
     "source": [
      "Purpose: Create training data set of skin, not skin, face, hand, etc. images for Machine Learning"
     ]
    },
    {
     "cell_type": "heading",
     "level": 3,
     "metadata": {},
     "source": [
      "How: upload image, draw a box or ellipse around skin containing pixels, extract regions for analysis.  "
     ]
    },
    {
     "cell_type": "markdown",
     "metadata": {},
     "source": [
      "general modules"
     ]
    },
    {
     "cell_type": "code",
     "collapsed": true,
     "input": [
      "#%matplotlib inline\n",
      "%matplotlib\n",
      "import matplotlib.pyplot as plt\n",
      "from matplotlib import cm\n",
      "import numpy as np\n",
      "import sys\n",
      "#plt.rcParams['figure.figsize'] = (8, 8)"
     ],
     "language": "python",
     "metadata": {},
     "outputs": [
      {
       "output_type": "stream",
       "stream": "stdout",
       "text": [
        "Using matplotlib backend: MacOSX\n"
       ]
      }
     ],
     "prompt_number": 7
    },
    {
     "cell_type": "markdown",
     "metadata": {},
     "source": [
      "modules dealing with patch objects"
     ]
    },
    {
     "cell_type": "code",
     "collapsed": false,
     "input": [
      "import matplotlib.patches\n",
      "from matplotlib.path import Path"
     ],
     "language": "python",
     "metadata": {},
     "outputs": [],
     "prompt_number": 8
    },
    {
     "cell_type": "markdown",
     "metadata": {},
     "source": [
      "Load and check out our image"
     ]
    },
    {
     "cell_type": "code",
     "collapsed": true,
     "input": [
      "fname='images/blog_img2.png'\n",
      "img = plt.imread(fname)\n",
      "plt.imshow(img)\n"
     ],
     "language": "python",
     "metadata": {},
     "outputs": [
      {
       "metadata": {},
       "output_type": "pyout",
       "prompt_number": 11,
       "text": [
        "<matplotlib.image.AxesImage at 0x10e110750>"
       ]
      }
     ],
     "prompt_number": 11
    },
    {
     "cell_type": "code",
     "collapsed": false,
     "input": [
      "plt.close()"
     ],
     "language": "python",
     "metadata": {},
     "outputs": [],
     "prompt_number": 12
    },
    {
     "cell_type": "markdown",
     "metadata": {},
     "source": [
      "matplotlib event handling: http://matplotlib.org/users/event_handling.html \n"
     ]
    },
    {
     "cell_type": "code",
     "collapsed": false,
     "input": [
      "class drawMyBox:\n",
      "    '''uses matplotlib event handling to allow user to select region from image\n",
      "    for analysis. \n",
      "    Inputs: \n",
      "        fig: plotting figure object\n",
      "        ax: plotting axis object\n",
      "        img: image\n",
      "        shape: \"b\" to extract box shape from image, \"e\" for ellipse (usually best)\n",
      "    Returns: two version of image, one with pixels of region(s) set to zero and \n",
      "        one with pixels outside of region set to zero.\n",
      "    Instructions: type \"a\" to accept regoin or type \"r\" to redraw.\n",
      "        box: mouse click 2 times, for lower/upper corner and upper/lower corner\n",
      "        ellipse: mouse click 4 times, first 2 clicks for width, last 2 clicks for height\n",
      "    '''\n",
      "    def __init__(self, fig,ax,img,shape):\n",
      "        self.fig = fig\n",
      "        self.ax = ax\n",
      "        self.img = img\n",
      "        self.shape= shape  #'b': box, 'e': ellipse\n",
      "        self.x= []\n",
      "        self.y=[]\n",
      "        self.ClickCnt=0\n",
      "        self.rect=0 #will get rect patch object\n",
      "        self.el=0 #will get ellipse patch object\n",
      "        print 'INSTRUCTIONS:\\n1.shape=\"b\" for box, \"e\" for ellipse'\n",
      "        print \"2.type 'a' to accept region OR 'r' to redraw region\"\n",
      "    def reset(self):\n",
      "        self.x= []\n",
      "        self.y=[]\n",
      "        self.ClickCnt=0\n",
      "        self.rect=0\n",
      "        self.el=0\n",
      "    def convert(self):\n",
      "        self.x = np.array(self.x)\n",
      "        self.y = np.array(self.y)\n",
      "    def connect(self):\n",
      "        'connect to all the events we need'\n",
      "        self.KeyId = self.fig.canvas.mpl_connect(\\\n",
      "                    'key_press_event', self.EndInteract) \n",
      "        if self.shape == \"b\": #draw box\n",
      "            print \"Click 2 times, for lower and upper corners of box\"\n",
      "            self.ClickId = self.fig.canvas.mpl_connect(\\\n",
      "                    'button_press_event', self.ClickBox)\n",
      "        elif self.shape == \"e\": #draw ellipse\n",
      "            print \"Click 4 times, for width and heigth of ellipse\" \n",
      "            self.ClickId = self.fig.canvas.mpl_connect(\\\n",
      "                    'button_press_event', self.ClickEllipse)\n",
      "        else:\n",
      "            print \"aborting: shape must be 'b' or 'e'\"\n",
      "            plt.close()\n",
      "    def ClickBox(self, event):\n",
      "        print 'Clicked at x,y = %f,%f' % (event.xdata,event.ydata)\n",
      "        self.x.append( int(event.xdata) )\n",
      "        self.y.append( int(event.ydata) )\n",
      "        self.ax.vlines(event.xdata,0,img.shape[0],\\\n",
      "                  colors=\"b\",linestyles=\"solid\",linewidth=2.)\n",
      "        self.ax.hlines(event.ydata,0,img.shape[1],\\\n",
      "                    colors=\"b\",linestyles=\"solid\",linewidth=2.)\n",
      "        self.ax.figure.canvas.draw()\n",
      "        \n",
      "        self.ClickCnt+=1\n",
      "        if self.ClickCnt ==2:\n",
      "            xmin=np.array(self.x).min()\n",
      "            ymin=np.array(self.y).min()\n",
      "            wid= np.array(self.x).max()-np.array(self.x).min()\n",
      "            ht= np.array(self.y).max()-np.array(self.y).min()\n",
      "            print \"xmin,ymin,wid,ht: \", xmin,ymin,wid,ht\n",
      "            self.rect=matplotlib.patches.Rectangle([xmin,ymin],wid,ht, alpha=0.5,color=\"b\",fill=True)\n",
      "            self.ax.add_patch(self.rect)\n",
      "            self.ax.figure.canvas.draw()\n",
      "        elif self.ClickCnt > 2:\n",
      "            print \"stopping interaction, Error: to many clicks\"\n",
      "            self.disconnect()  \n",
      "        sys.stdout.flush() #safety\n",
      "    def ClickEllipse(self, event):\n",
      "        print 'Clicked at x,y = %f,%f' % (event.xdata,event.ydata)\n",
      "        self.x.append( int(event.xdata) )\n",
      "        self.y.append( int(event.ydata) )\n",
      "        self.ax.vlines(event.xdata,0,img.shape[0],\\\n",
      "                  colors=\"b\",linestyles=\"solid\",linewidth=2.)\n",
      "        self.ax.hlines(event.ydata,0,img.shape[1],\\\n",
      "                    colors=\"b\",linestyles=\"solid\",linewidth=2.)\n",
      "        self.ax.figure.canvas.draw()\n",
      "        \n",
      "        self.ClickCnt+=1\n",
      "        if self.ClickCnt ==4:\n",
      "            wid= np.abs(self.x[0]-self.x[1])\n",
      "            ht= np.abs(self.y[2]-self.y[3])\n",
      "            xc= np.min(self.x[0:2])+wid/2.\n",
      "            yc= np.min(self.y[2:])+ ht/2.\n",
      "            self.el= matplotlib.patches.Ellipse([xc,yc],wid,ht,alpha=0.5,\\\n",
      "                        color=\"b\",fill=True,transform=self.ax.transData)\n",
      "            self.ax.add_patch(self.el)\n",
      "            self.ax.figure.canvas.draw()\n",
      "        elif self.ClickCnt > 4:\n",
      "            print \"stopping interaction, Error: to many clicks\"\n",
      "            self.disconnect()  \n",
      "        sys.stdout.flush() #safety\n",
      "    def EndInteract(self,event):\n",
      "        print 'Typed key: %s' % event.key\n",
      "        sys.stdout.flush() #safety\n",
      "        if event.key == \"r\":\n",
      "            print \"redraw\"\n",
      "            self.reset()\n",
      "            self.ax.cla()\n",
      "            self.ax.imshow(self.img)\n",
      "            self.ax.figure.canvas.draw()\n",
      "        elif event.key == \"a\":\n",
      "            print \"accept and quit\"\n",
      "            self.disconnect()\n",
      "            plt.close()\n",
      "        else:\n",
      "            print \"unrecognized key\"\n",
      "        sys.stdout.flush() #safety\n",
      "    def disconnect(self):\n",
      "        'disconnect all the stored connection ids'\n",
      "        self.fig.canvas.mpl_disconnect(self.ClickId)\n",
      "        self.fig.canvas.mpl_disconnect(self.KeyId)"
     ],
     "language": "python",
     "metadata": {},
     "outputs": [],
     "prompt_number": 13
    },
    {
     "cell_type": "markdown",
     "metadata": {},
     "source": [
      "Run our event handling class, save fig,ax, and selected region (box.rect or box.el) in \"box\" instance"
     ]
    },
    {
     "cell_type": "heading",
     "level": 1,
     "metadata": {},
     "source": [
      "Instructions: "
     ]
    },
    {
     "cell_type": "markdown",
     "metadata": {},
     "source": [
      "- type \"a\" to accept regoin or type \"r\" to redraw.\n",
      "- box (\"b\"): mouse click 2 times, for lower/upper corner and upper/lower corner\n",
      "- ellipse (\"e\"): mouse click 4 times, first 2 clicks for width, last 2 clicks for height"
     ]
    },
    {
     "cell_type": "code",
     "collapsed": false,
     "input": [
      "plt.close('all') #safety\n",
      "sys.stdout.flush() #safety\n",
      "fig, ax = plt.subplots()\n",
      "ax.imshow(img)    #plot first, then enable events\n",
      "box= drawMyBox(fig,ax,img,\"e\")\n",
      "box.connect()"
     ],
     "language": "python",
     "metadata": {},
     "outputs": [
      {
       "output_type": "stream",
       "stream": "stdout",
       "text": [
        "INSTRUCTIONS:\n",
        "1.shape=\"b\" for box, \"e\" for ellipse\n",
        "2.type 'a' to accept region OR 'r' to redraw region\n",
        "Click 4 times, for width and heigth of ellipse\n"
       ]
      },
      {
       "output_type": "stream",
       "stream": "stdout",
       "text": [
        "Clicked at x,y = 228.145833,209.375000\n"
       ]
      },
      {
       "output_type": "stream",
       "stream": "stdout",
       "text": [
        "Clicked at x,y = 93.714844,63.484375\n"
       ]
      },
      {
       "output_type": "stream",
       "stream": "stdout",
       "text": [
        "Clicked at x,y = 127.992188,197.546875\n"
       ]
      },
      {
       "output_type": "stream",
       "stream": "stdout",
       "text": [
        "Clicked at x,y = 158.460938,53.582031\n"
       ]
      },
      {
       "output_type": "stream",
       "stream": "stdout",
       "text": [
        "Typed key: a\n"
       ]
      },
      {
       "output_type": "stream",
       "stream": "stdout",
       "text": [
        "accept and quit\n"
       ]
      }
     ],
     "prompt_number": 15
    },
    {
     "cell_type": "markdown",
     "metadata": {},
     "source": [
      "Get vertices of selected region(s). Dealing with Axes,Data,Canvas,etc. coordinates: http://matplotlib.org/users/transforms_tutorial.html"
     ]
    },
    {
     "cell_type": "code",
     "collapsed": false,
     "input": [
      "inv = box.ax.transData.inverted() #MUST convert dispay units to data units!\n",
      "if box.shape == \"b\":\n",
      "    dataVerts= inv.transform(box.rect.get_verts())\n",
      "elif box.shape == \"e\":\n",
      "    dataVerts= inv.transform(box.el.get_verts())\n",
      "dataVerts[0:10]"
     ],
     "language": "python",
     "metadata": {},
     "outputs": [
      {
       "metadata": {},
       "output_type": "pyout",
       "prompt_number": 16,
       "text": [
        "array([[ 160.5       ,   53.        ],\n",
        "       [ 163.85076754,   53.05926855],\n",
        "       [ 170.4730529 ,   53.76070122],\n",
        "       [ 176.96035466,   55.14398676],\n",
        "       [ 183.26835734,   57.18954534],\n",
        "       [ 189.35274544,   59.87779714],\n",
        "       [ 195.16920348,   63.18916237],\n",
        "       [ 200.67341597,   67.10406119],\n",
        "       [ 205.82106741,   71.6029138 ],\n",
        "       [ 208.22970773,   74.08831175]])"
       ]
      }
     ],
     "prompt_number": 16
    },
    {
     "cell_type": "markdown",
     "metadata": {},
     "source": [
      "have list of [x,y] coords of region vertices, no need list of [x,y] coords for our image pixels"
     ]
    },
    {
     "cell_type": "code",
     "collapsed": false,
     "input": [
      "pts=[]  #pixel locations in image\n",
      "for x in range(img[:,:,0].shape[0]): #plt.imshow(img) shows shape[0] is y\n",
      "    for y in range(img[:,:,0].shape[1]):\n",
      "        pts.append( [y,x] )  #order of y,x is IMPORTANT\n",
      "pts=np.array(pts).astype(np.float)"
     ],
     "language": "python",
     "metadata": {},
     "outputs": [],
     "prompt_number": 17
    },
    {
     "cell_type": "markdown",
     "metadata": {},
     "source": [
      "Make masks for whether image pixels inside or outside of selected region(s)\n",
      "Doc: http://matplotlib.org/1.3.0/api/path_api.html#matplotlib.path.Path.contains_point Aslo helpful: https://github.com/newville/wxmplot/issues/11"
     ]
    },
    {
     "cell_type": "code",
     "collapsed": false,
     "input": [
      "path = Path( dataVerts ) \n",
      "mask=path.contains_points(pts) #TRUE where pts are inside box or ellipse vertices\n",
      "\n",
      "mask2D= np.reshape(mask,img[:,:,0].shape) #try shape[::-1] if mask in wrong location \n",
      "iSkin2D= np.where(mask2D == True)\n",
      "iNotSkin2D= np.where(mask2D != True)\n",
      "np.shape(iSkin2D), np.shape(iNotSkin2D)"
     ],
     "language": "python",
     "metadata": {},
     "outputs": [
      {
       "metadata": {},
       "output_type": "pyout",
       "prompt_number": 18,
       "text": [
        "((2, 15243), (2, 69437))"
       ]
      }
     ],
     "prompt_number": 18
    },
    {
     "cell_type": "heading",
     "level": 1,
     "metadata": {},
     "source": [
      "RESULT: Skin and NoSkin numpy arrays!"
     ]
    },
    {
     "cell_type": "code",
     "collapsed": false,
     "input": [
      "Skin= img[:,:,0].copy()\n",
      "NoSkin= img[:,:,0].copy()\n",
      "Skin[iNotSkin2D]=0.\n",
      "NoSkin[iSkin2D]=0.\n",
      "f,ax= plt.subplots(1,3)\n",
      "ax[0].imshow(img)\n",
      "ax[1].imshow(Skin)\n",
      "ax[2].imshow(NoSkin)"
     ],
     "language": "python",
     "metadata": {},
     "outputs": [
      {
       "metadata": {},
       "output_type": "pyout",
       "prompt_number": 19,
       "text": [
        "<matplotlib.image.AxesImage at 0x10f460b50>"
       ]
      }
     ],
     "prompt_number": 19
    },
    {
     "cell_type": "markdown",
     "metadata": {},
     "source": [
      "Note, could have created 1D instead of 2D masks, and applied to flattened images, something like this"
     ]
    },
    {
     "cell_type": "code",
     "collapsed": false,
     "input": [
      "iSkin= np.where(mask == True)[0]\n",
      "iNotSkin= np.where(mask != True)[0]\n"
     ],
     "language": "python",
     "metadata": {},
     "outputs": [
      {
       "ename": "NameError",
       "evalue": "name 'mask' is not defined",
       "output_type": "pyerr",
       "traceback": [
        "\u001b[0;31m---------------------------------------------------------------------------\u001b[0m\n\u001b[0;31mNameError\u001b[0m                                 Traceback (most recent call last)",
        "\u001b[0;32m<ipython-input-5-83c7c5ab3d6d>\u001b[0m in \u001b[0;36m<module>\u001b[0;34m()\u001b[0m\n\u001b[0;32m----> 1\u001b[0;31m \u001b[0miSkin\u001b[0m\u001b[0;34m=\u001b[0m \u001b[0mnp\u001b[0m\u001b[0;34m.\u001b[0m\u001b[0mwhere\u001b[0m\u001b[0;34m(\u001b[0m\u001b[0mmask\u001b[0m \u001b[0;34m==\u001b[0m \u001b[0mTrue\u001b[0m\u001b[0;34m)\u001b[0m\u001b[0;34m[\u001b[0m\u001b[0;36m0\u001b[0m\u001b[0;34m]\u001b[0m\u001b[0;34m\u001b[0m\u001b[0m\n\u001b[0m\u001b[1;32m      2\u001b[0m \u001b[0miNotSkin\u001b[0m\u001b[0;34m=\u001b[0m \u001b[0mnp\u001b[0m\u001b[0;34m.\u001b[0m\u001b[0mwhere\u001b[0m\u001b[0;34m(\u001b[0m\u001b[0mmask\u001b[0m \u001b[0;34m!=\u001b[0m \u001b[0mTrue\u001b[0m\u001b[0;34m)\u001b[0m\u001b[0;34m[\u001b[0m\u001b[0;36m0\u001b[0m\u001b[0;34m]\u001b[0m\u001b[0;34m\u001b[0m\u001b[0m\n",
        "\u001b[0;31mNameError\u001b[0m: name 'mask' is not defined"
       ]
      }
     ],
     "prompt_number": 5
    },
    {
     "cell_type": "code",
     "collapsed": false,
     "input": [],
     "language": "python",
     "metadata": {},
     "outputs": []
    }
   ],
   "metadata": {}
  }
 ]
}