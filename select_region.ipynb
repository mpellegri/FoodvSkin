{
 "metadata": {
  "name": "",
  "signature": "sha256:c96cbc12b6c5c556f835258eda61629d881140aa9ef31c032704b448ad68f3d0"
 },
 "nbformat": 3,
 "nbformat_minor": 0,
 "worksheets": [
  {
   "cells": [
    {
     "cell_type": "heading",
     "level": 1,
     "metadata": {},
     "source": [
      "Purpose: Create training data set of skin, not skin, face, hand, etc. images for Machine Learning"
     ]
    },
    {
     "cell_type": "heading",
     "level": 3,
     "metadata": {},
     "source": [
      "How: upload image, draw a box or ellipse around skin containing pixels, extract regions for analysis.  "
     ]
    },
    {
     "cell_type": "markdown",
     "metadata": {},
     "source": [
      "general modules"
     ]
    },
    {
     "cell_type": "code",
     "collapsed": true,
     "input": [
      "#%matplotlib inline\n",
      "%matplotlib\n",
      "import matplotlib.pyplot as plt\n",
      "from matplotlib import cm\n",
      "import numpy as np\n",
      "import sys\n",
      "#plt.rcParams['figure.figsize'] = (8, 8)"
     ],
     "language": "python",
     "metadata": {},
     "outputs": [
      {
       "output_type": "stream",
       "stream": "stdout",
       "text": [
        "Using matplotlib backend: MacOSX\n"
       ]
      }
     ],
     "prompt_number": 1
    },
    {
     "cell_type": "markdown",
     "metadata": {},
     "source": [
      "modules dealing with patch objects"
     ]
    },
    {
     "cell_type": "code",
     "collapsed": false,
     "input": [
      "import matplotlib.patches\n",
      "from matplotlib.path import Path"
     ],
     "language": "python",
     "metadata": {},
     "outputs": [],
     "prompt_number": 2
    },
    {
     "cell_type": "markdown",
     "metadata": {},
     "source": [
      "Load and check out our image"
     ]
    },
    {
     "cell_type": "code",
     "collapsed": true,
     "input": [
      "fname='images/blog_img2.png'\n",
      "img = plt.imread(fname)\n",
      "plt.imshow(img)\n"
     ],
     "language": "python",
     "metadata": {},
     "outputs": [
      {
       "metadata": {},
       "output_type": "pyout",
       "prompt_number": 7,
       "text": [
        "<matplotlib.image.AxesImage at 0x109be20d0>"
       ]
      }
     ],
     "prompt_number": 7
    },
    {
     "cell_type": "code",
     "collapsed": false,
     "input": [
      "plt.close()"
     ],
     "language": "python",
     "metadata": {},
     "outputs": [],
     "prompt_number": 23
    },
    {
     "cell_type": "markdown",
     "metadata": {},
     "source": [
      "matplotlib event handling: http://matplotlib.org/users/event_handling.html \n"
     ]
    },
    {
     "cell_type": "code",
     "collapsed": false,
     "input": [
      "class drawMyBox:\n",
      "    '''uses matplotlib event handling to allow user to select region from image\n",
      "    for analysis. \n",
      "    Inputs: \n",
      "        fig: plotting figure object\n",
      "        ax: plotting axis object\n",
      "        img: image\n",
      "        draw: \"b\" for box, \"e\" for ellipse (e usually best)\n",
      "    Returns: two version of image, one with pixels of region(s) set to zero and \n",
      "        one with pixels outside of region set to zero.\n",
      "    Instructions: \n",
      "        1.click 4 times to select region\n",
      "        2.type 'a' to accept OR 'r' to redraw\n",
      "    '''\n",
      "    def __init__(self, fig,ax,img,draw):\n",
      "        self.fig = fig\n",
      "        self.ax = ax\n",
      "        self.img = img\n",
      "        self.draw= draw  #'b': box, 'e': ellipse\n",
      "        self.x= []\n",
      "        self.y=[]\n",
      "        self.ClickCnt=0\n",
      "        self.MyShape=0 #rect or ellipse patch object\n",
      "        print \"%s \\n%s \\n%s \\n\" % (\"INSTRUCTIONS:\",\n",
      "                                   \"1.click 4 times to select region\",\n",
      "                                   \"2.type 'a' to accept OR 'r' to redraw\")\n",
      "    def reset(self):\n",
      "        self.x= []\n",
      "        self.y=[]\n",
      "        self.ClickCnt=0\n",
      "        self.MyShape=0\n",
      "    def convert(self):\n",
      "        self.x = np.array(self.x)\n",
      "        self.y = np.array(self.y)\n",
      "    def connect(self):\n",
      "        'connect to all the events we need'\n",
      "        self.KeyId = self.fig.canvas.mpl_connect('key_press_event', self.OnKey)\n",
      "        self.ClickId = self.fig.canvas.mpl_connect('button_press_event', self.OnClick)\n",
      "    def disconnect(self):\n",
      "        'disconnect all the stored connection ids'\n",
      "        self.fig.canvas.mpl_disconnect(self.ClickId)\n",
      "        self.fig.canvas.mpl_disconnect(self.KeyId)\n",
      "    def OnClick(self, event):\n",
      "        print 'Clicked at x,y = %f,%f' % (event.xdata,event.ydata)\n",
      "        self.x.append( int(event.xdata) )\n",
      "        self.y.append( int(event.ydata) )\n",
      "        self.ax.plot(event.xdata,event.ydata,\"b+\",ms=0.05*np.max(img.shape),mew=2.)\n",
      "        self.ax.axis('off')\n",
      "        self.ax.figure.canvas.draw()\n",
      "        \n",
      "        self.ClickCnt+=1\n",
      "        if self.ClickCnt ==4:\n",
      "            self.convert()\n",
      "            wid= np.abs(self.x.min()-self.x.max())\n",
      "            ht= np.abs(self.y.min()-self.y.max())\n",
      "            if self.draw == \"b\":\n",
      "                print \"Drawing box\" #need bottom left x,y\n",
      "                xl= self.x.min()\n",
      "                yb= self.y.min()\n",
      "                self.MyShape=matplotlib.patches.Rectangle([xl,yb],wid,ht, \\\n",
      "                                                alpha=0.5,color=\"b\",fill=True)\n",
      "            elif self.draw == \"e\":\n",
      "                print \"Drawing ellipse\" #need center x,y \n",
      "                xc= self.x.min() + wid/2.\n",
      "                yc= self.y.min()+ ht/2.\n",
      "                self.MyShape= matplotlib.patches.Ellipse([xc,yc],wid,ht,alpha=0.5,\\\n",
      "                        color=\"b\",fill=True,transform=self.ax.transData)\n",
      "            else:\n",
      "                print \"aborting: draw must be 'b' or 'e'\"\n",
      "                plt.close()\n",
      "            self.ax.add_patch(self.MyShape)\n",
      "            self.ax.figure.canvas.draw()\n",
      "        elif self.ClickCnt > 4:\n",
      "            print \"stopping interaction, Error: to many clicks\"\n",
      "            self.disconnect()  \n",
      "        sys.stdout.flush() #safety\n",
      "    def OnKey(self,event):\n",
      "        print 'Typed key: %s' % event.key\n",
      "        sys.stdout.flush() #safety\n",
      "        if event.key == \"r\":\n",
      "            print \"redraw\"\n",
      "            self.reset()\n",
      "            self.ax.cla()\n",
      "            self.ax.imshow(self.img)\n",
      "            self.ax.figure.canvas.draw()\n",
      "        elif event.key == \"a\":\n",
      "            print \"accept and quit\"\n",
      "            self.disconnect()\n",
      "            plt.close()\n",
      "        else:\n",
      "            print \"unrecognized key\"\n",
      "        sys.stdout.flush() #safety"
     ],
     "language": "python",
     "metadata": {},
     "outputs": [],
     "prompt_number": 4
    },
    {
     "cell_type": "code",
     "collapsed": false,
     "input": [
      "matplotlib.patches.Rectangle?"
     ],
     "language": "python",
     "metadata": {},
     "outputs": [],
     "prompt_number": 55
    },
    {
     "cell_type": "markdown",
     "metadata": {},
     "source": [
      "Run our event handling class, save fig,ax, and selected region (box.rect or box.el) in \"box\" instance"
     ]
    },
    {
     "cell_type": "heading",
     "level": 1,
     "metadata": {},
     "source": [
      "Instructions: "
     ]
    },
    {
     "cell_type": "markdown",
     "metadata": {},
     "source": [
      "- type \"a\" to accept regoin or type \"r\" to redraw.\n",
      "- box (\"b\"): mouse click 2 times, for lower/upper corner and upper/lower corner\n",
      "- ellipse (\"e\"): mouse click 4 times, first 2 clicks for width, last 2 clicks for height"
     ]
    },
    {
     "cell_type": "code",
     "collapsed": false,
     "input": [
      "plt.close('all') #safety\n",
      "sys.stdout.flush() #safety\n",
      "fig, ax = plt.subplots()\n",
      "ax.imshow(img)    #plot first, then enable events\n",
      "box= drawMyBox(fig,ax,img,\"b\")\n",
      "box.connect()"
     ],
     "language": "python",
     "metadata": {},
     "outputs": [
      {
       "output_type": "stream",
       "stream": "stdout",
       "text": [
        "INSTRUCTIONS: \n",
        "1.click 4 times to select region \n",
        "2.type 'a' to accept OR 'r' to redraw \n",
        "\n"
       ]
      },
      {
       "output_type": "stream",
       "stream": "stdout",
       "text": [
        "Clicked at x,y = 83.666667,93.791667\n"
       ]
      },
      {
       "output_type": "stream",
       "stream": "stdout",
       "text": [
        "Clicked at x,y = 178.776042,96.744792\n"
       ]
      },
      {
       "output_type": "stream",
       "stream": "stdout",
       "text": [
        "Clicked at x,y = 114.973958,186.979167\n"
       ]
      },
      {
       "output_type": "stream",
       "stream": "stdout",
       "text": [
        "Clicked at x,y = 125.911458,28.385417\n",
        "Drawing box\n"
       ]
      },
      {
       "output_type": "stream",
       "stream": "stdout",
       "text": [
        "Typed key: a\n"
       ]
      },
      {
       "output_type": "stream",
       "stream": "stdout",
       "text": [
        "accept and quit\n"
       ]
      }
     ],
     "prompt_number": 5
    },
    {
     "cell_type": "markdown",
     "metadata": {},
     "source": [
      "Get vertices of selected region(s). Dealing with Axes,Data,Canvas,etc. coordinates: http://matplotlib.org/users/transforms_tutorial.html"
     ]
    },
    {
     "cell_type": "code",
     "collapsed": false,
     "input": [
      "inv = box.ax.transData.inverted() #MUST convert dispay units to data units!\n",
      "dataVerts= inv.transform(box.MyShape.get_verts())\n",
      "dataVerts[0:10]"
     ],
     "language": "python",
     "metadata": {},
     "outputs": [
      {
       "metadata": {},
       "output_type": "pyout",
       "prompt_number": 6,
       "text": [
        "array([[  83.,   28.],\n",
        "       [ 178.,   28.],\n",
        "       [ 178.,  186.],\n",
        "       [  83.,  186.],\n",
        "       [  83.,   28.]])"
       ]
      }
     ],
     "prompt_number": 6
    },
    {
     "cell_type": "markdown",
     "metadata": {},
     "source": [
      "have list of [x,y] coords of region vertices, no need list of [x,y] coords for our image pixels"
     ]
    },
    {
     "cell_type": "code",
     "collapsed": false,
     "input": [
      "pts=[]  #pixel locations in image\n",
      "for x in range(img[:,:,0].shape[0]): #plt.imshow(img) shows shape[0] is y\n",
      "    for y in range(img[:,:,0].shape[1]):\n",
      "        pts.append( [y,x] )  #order of y,x is IMPORTANT\n",
      "pts=np.array(pts).astype(np.float)"
     ],
     "language": "python",
     "metadata": {},
     "outputs": [],
     "prompt_number": 58
    },
    {
     "cell_type": "markdown",
     "metadata": {},
     "source": [
      "Make masks for whether image pixels inside or outside of selected region(s)\n",
      "Doc: http://matplotlib.org/1.3.0/api/path_api.html#matplotlib.path.Path.contains_point Aslo helpful: https://github.com/newville/wxmplot/issues/11"
     ]
    },
    {
     "cell_type": "code",
     "collapsed": false,
     "input": [
      "path = Path( dataVerts ) \n",
      "mask=path.contains_points(pts) #TRUE where pts are inside box or ellipse vertices\n",
      "\n",
      "mask2D= np.reshape(mask,img[:,:,0].shape) #try shape[::-1] if mask in wrong location \n",
      "iSkin2D= np.where(mask2D == True)\n",
      "iNotSkin2D= np.where(mask2D != True)\n",
      "np.shape(iSkin2D), np.shape(iNotSkin2D)"
     ],
     "language": "python",
     "metadata": {},
     "outputs": [
      {
       "metadata": {},
       "output_type": "pyout",
       "prompt_number": 59,
       "text": [
        "((2, 25480), (2, 59200))"
       ]
      }
     ],
     "prompt_number": 59
    },
    {
     "cell_type": "heading",
     "level": 1,
     "metadata": {},
     "source": [
      "RESULT: Skin and NoSkin numpy arrays"
     ]
    },
    {
     "cell_type": "markdown",
     "metadata": {},
     "source": [
      "Use MaskedArrays!"
     ]
    },
    {
     "cell_type": "code",
     "collapsed": false,
     "input": [
      "import numpy.ma as ma\n",
      "Skin= ma.masked_array(img[:,:,0].copy(), mask=~mask2D)\n",
      "NoSkin= ma.masked_array(img[:,:,1].copy(), mask=mask2D)\n",
      "f,ax= plt.subplots(1,3)\n",
      "ax[0].imshow(img)\n",
      "ax[1].imshow(Skin)\n",
      "ax[2].imshow(NoSkin)"
     ],
     "language": "python",
     "metadata": {},
     "outputs": [
      {
       "metadata": {},
       "output_type": "pyout",
       "prompt_number": 60,
       "text": [
        "<matplotlib.image.AxesImage at 0x10f0b6d90>"
       ]
      }
     ],
     "prompt_number": 60
    },
    {
     "cell_type": "heading",
     "level": 1,
     "metadata": {},
     "source": [
      "Define classes for holding image data, masks, RGB etc.\n"
     ]
    },
    {
     "cell_type": "code",
     "collapsed": false,
     "input": [
      "class RgbSet:\n",
      "    def __init__(self,image,mask2D):\n",
      "        self.R= ma.masked_array(image[:,:,0].copy(), mask=~mask2D)\n",
      "        self.G= ma.masked_array(image[:,:,1].copy(), mask=~mask2D)\n",
      "        self.B= ma.masked_array(image[:,:,2].copy(), mask=~mask2D)\n",
      "\n",
      "class FilteredImage():\n",
      "    def __init__(self,image,mask2D,url):\n",
      "        self.image=image\n",
      "        self.mask2D=mask2D\n",
      "        self.url=url\n",
      "        self.SkinOnly= RgbSet(image,mask2D)\n",
      "        self.NoSkinOnly = RgbSet(image,~mask2D)\n",
      "    def plot(self):\n",
      "        f,axis=plt.subplots(2,3)\n",
      "        ax=axis.flatten()\n",
      "        ax[0].imshow(self.SkinOnly.R)\n",
      "        ax[1].imshow(self.SkinOnly.G)\n",
      "        ax[2].imshow(self.SkinOnly.B)\n",
      "        ax[3].imshow(self.NoSkinOnly.R)\n",
      "        ax[4].imshow(self.NoSkinOnly.G)\n",
      "        ax[5].imshow(self.NoSkinOnly.B)\n",
      "        titles=[\"R\",\"G\",\"B\",\"R\",\"G\",\"B\"]\n",
      "        for cnt,a in enumerate(ax):\n",
      "            a.set_title(titles[cnt])\n",
      "        plt.show()"
     ],
     "language": "python",
     "metadata": {},
     "outputs": [],
     "prompt_number": 61
    },
    {
     "cell_type": "heading",
     "level": 1,
     "metadata": {},
     "source": [
      "Pickle to save arrays \"as is\", then load them from disk later!"
     ]
    },
    {
     "cell_type": "code",
     "collapsed": false,
     "input": [
      "fw = open(\"a1\", 'w') \n",
      "pickle.dump((R,G,B), fw)\n",
      "fw.close()"
     ],
     "language": "python",
     "metadata": {},
     "outputs": []
    },
    {
     "cell_type": "code",
     "collapsed": false,
     "input": [
      "fr=open(\"a1\",\"r\")\n",
      "tup = pickle.load(fr)\n",
      "fr.close()"
     ],
     "language": "python",
     "metadata": {},
     "outputs": []
    },
    {
     "cell_type": "heading",
     "level": 1,
     "metadata": {},
     "source": [
      "testing pixel dn selection from image"
     ]
    },
    {
     "cell_type": "code",
     "collapsed": false,
     "input": [
      "import glob\n",
      "path=\"/Users/kburleigh/GradSchool/Programming/DataSciShop_CDIPS/SkinPix/MainRepo/images/TestSet/\"\n",
      "patt = \"*.jpeg\"\n",
      "files=glob.glob(path+patt)\n",
      "img = plt.imread(files[2])"
     ],
     "language": "python",
     "metadata": {},
     "outputs": [],
     "prompt_number": 8
    },
    {
     "cell_type": "code",
     "collapsed": false,
     "input": [
      "from scipy import fftpack\n",
      "image=img[:,:,1]\n",
      "# Take the fourier transform of the image.\n",
      "F1 = fftpack.fft2(image)\n",
      "\n",
      "# Now shift the quadrants around so that low spatial frequencies are in\n",
      "# the center of the 2D fourier transformed image.\n",
      "F2 = fftpack.fftshift( F1 )\n",
      "\n",
      "# Calculate a 2D power spectrum\n",
      "ps2D = np.abs( F2 )**2\n",
      "\n",
      "f,ax= plt.subplots(1,2)\n",
      "ax[1].imshow(np.log10(ps2D))\n",
      "ax[0].imshow(image,cmap=\"gray\")\n",
      "plt.show()"
     ],
     "language": "python",
     "metadata": {},
     "outputs": [],
     "prompt_number": 9
    },
    {
     "cell_type": "code",
     "collapsed": false,
     "input": [
      "import scipy.ndimage\n",
      "gauss = scipy.ndimage.gaussian_filter(np.log10(ps2D),2)\n",
      "f,ax=plt.subplots(1,2)\n",
      "ax[0].imshow(np.log10(ps2D))\n",
      "ax[1].imshow(gauss)\n"
     ],
     "language": "python",
     "metadata": {},
     "outputs": [
      {
       "metadata": {},
       "output_type": "pyout",
       "prompt_number": 10,
       "text": [
        "<matplotlib.image.AxesImage at 0x10fd810d0>"
       ]
      }
     ],
     "prompt_number": 10
    },
    {
     "cell_type": "code",
     "collapsed": false,
     "input": [
      "n,bins,patches=plt.hist(gauss.flatten(),bins=100)"
     ],
     "language": "python",
     "metadata": {},
     "outputs": [
      {
       "output_type": "stream",
       "stream": "stdout",
       "text": [
        "\n"
       ]
      }
     ],
     "prompt_number": 13
    },
    {
     "cell_type": "code",
     "collapsed": false,
     "input": [
      "def OnClick(event):\n",
      "    print 'x,y,xdata,ydata = %f,%f,%f,%f' % (event.x,event.y,event.xdata,event.ydata)\n",
      "    print \"dn value= %f\" % gauss[int(event.ydata),int(event.xdata)]\n",
      "\n",
      "fig,ax=plt.subplots()\n",
      "ax.imshow(gauss)\n",
      "ClickId = fig.canvas.mpl_connect('button_press_event', OnClick)"
     ],
     "language": "python",
     "metadata": {},
     "outputs": [
      {
       "output_type": "stream",
       "stream": "stdout",
       "text": [
        "\n",
        "dn value= 7.060872\n"
       ]
      },
      {
       "output_type": "stream",
       "stream": "stdout",
       "text": [
        "x,y,xdata,ydata = 480.000000,241.000000,221.274194,90.445565\n",
        "dn value= 7.240177\n",
        "x,y,xdata,ydata = 480.000000,241.000000,221.274194,90.445565"
       ]
      },
      {
       "output_type": "stream",
       "stream": "stdout",
       "text": [
        "\n",
        "dn value= 7.240177\n",
        "x,y,xdata,ydata = 480.000000,241.000000,221.274194,90.445565"
       ]
      },
      {
       "output_type": "stream",
       "stream": "stdout",
       "text": [
        "\n",
        "dn value= 7.240177\n",
        "x,y,xdata,ydata = 560.000000,238.000000,265.629032,92.108871"
       ]
      },
      {
       "output_type": "stream",
       "stream": "stdout",
       "text": [
        "\n",
        "dn value= 6.929096\n",
        "x,y,xdata,ydata = 560.000000,238.000000,265.629032,92.108871"
       ]
      },
      {
       "output_type": "stream",
       "stream": "stdout",
       "text": [
        "\n",
        "dn value= 6.929096\n",
        "x,y,xdata,ydata = 541.000000,239.000000,255.094758,91.554435"
       ]
      },
      {
       "output_type": "stream",
       "stream": "stdout",
       "text": [
        "\n",
        "dn value= 7.013743\n",
        "x,y,xdata,ydata = 541.000000,239.000000,255.094758,91.554435"
       ]
      },
      {
       "output_type": "stream",
       "stream": "stdout",
       "text": [
        "\n",
        "dn value= 7.013743\n",
        "x,y,xdata,ydata = 541.000000,239.000000,255.094758,91.554435"
       ]
      },
      {
       "output_type": "stream",
       "stream": "stdout",
       "text": [
        "\n",
        "dn value= 7.013743\n",
        "x,y,xdata,ydata = 522.000000,240.000000,244.560484,91.000000"
       ]
      },
      {
       "output_type": "stream",
       "stream": "stdout",
       "text": [
        "\n",
        "dn value= 7.126606\n",
        "x,y,xdata,ydata = 522.000000,240.000000,244.560484,91.000000"
       ]
      }
     ],
     "prompt_number": 18
    },
    {
     "cell_type": "code",
     "collapsed": false,
     "input": [],
     "language": "python",
     "metadata": {},
     "outputs": []
    }
   ],
   "metadata": {}
  }
 ]
}